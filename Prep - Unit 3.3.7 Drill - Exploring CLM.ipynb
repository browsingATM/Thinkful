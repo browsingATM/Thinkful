{
 "cells": [
  {
   "cell_type": "code",
   "execution_count": 10,
   "metadata": {},
   "outputs": [
    {
     "data": {
      "image/png": "[encoded data removed]",
      "text/plain": [
       "<matplotlib.figure.Figure at 0x1058c4940>"
      ]
     },
     "metadata": {},
     "output_type": "display_data"
    }
   ],
   "source": [
    "import numpy as np\n",
    "import pandas as pd\n",
    "import matplotlib.pyplot as plt\n",
    "%matplotlib inline\n",
    "\n",
    "var1 = np.random.binomial(10, .2, 100)\n",
    "var2 = np.random.binomial(10, .5, 100)\n",
    "\n",
    "plt.axvline(var1.mean(), color='r', linestyle='solid', linewidth=2)\n",
    "plt.axvline(var1.mean() + var1.std(), color='r', linestyle='dashed', linewidth=1)\n",
    "plt.axvline(var1.mean() - var1.std(), color='r', linestyle='dashed', linewidth=1)\n",
    "\n",
    "plt.axvline(var2.mean(), color='black', linestyle='solid', linewidth=2)\n",
    "plt.axvline(var2.mean() + var2.std(), color='black', linestyle='dashed', linewidth=1)\n",
    "plt.axvline(var2.mean() - var2.std(), color='black', linestyle='dashed', linewidth=1)\n",
    "\n",
    "plt.hist(var1)\n",
    "plt.hist(var2, color = \"purple\")\n",
    "plt.show()"
   ]
  },
  {
   "cell_type": "code",
   "execution_count": 11,
   "metadata": {
    "collapsed": true
   },
   "outputs": [],
   "source": [
    "#1 i predict that as the sample size grows the st dev will get more precise and account for less space in the graph"
   ]
  },
  {
   "cell_type": "code",
   "execution_count": 13,
   "metadata": {},
   "outputs": [
    {
     "data": {
      "image/png": "[encoded data removed]",
      "text/plain": [
       "<matplotlib.figure.Figure at 0x10e25c8d0>"
      ]
     },
     "metadata": {},
     "output_type": "display_data"
    }
   ],
   "source": [
    "import numpy as np\n",
    "import pandas as pd\n",
    "import matplotlib.pyplot as plt\n",
    "%matplotlib inline\n",
    "\n",
    "var1 = np.random.binomial(10, .2, 20)\n",
    "var2 = np.random.binomial(10, .5, 20)\n",
    "\n",
    "plt.axvline(var1.mean(), color='r', linestyle='solid', linewidth=2)\n",
    "plt.axvline(var1.mean() + var1.std(), color='r', linestyle='dashed', linewidth=1)\n",
    "plt.axvline(var1.mean() - var1.std(), color='r', linestyle='dashed', linewidth=1)\n",
    "\n",
    "plt.axvline(var2.mean(), color='black', linestyle='solid', linewidth=2)\n",
    "plt.axvline(var2.mean() + var2.std(), color='black', linestyle='dashed', linewidth=1)\n",
    "plt.axvline(var2.mean() - var2.std(), color='black', linestyle='dashed', linewidth=1)\n",
    "\n",
    "plt.hist(var1)\n",
    "plt.hist(var2, color = \"purple\")\n",
    "plt.show()"
   ]
  },
  {
   "cell_type": "code",
   "execution_count": 14,
   "metadata": {
    "collapsed": true
   },
   "outputs": [],
   "source": [
    "#what changed was not the deviation but the range of values"
   ]
  },
  {
   "cell_type": "code",
   "execution_count": 16,
   "metadata": {},
   "outputs": [
    {
     "data": {
      "image/png": "[encoded data removed]",
      "text/plain": [
       "<matplotlib.figure.Figure at 0x10e2cb2b0>"
      ]
     },
     "metadata": {},
     "output_type": "display_data"
    }
   ],
   "source": [
    "import numpy as np\n",
    "import pandas as pd\n",
    "import matplotlib.pyplot as plt\n",
    "%matplotlib inline\n",
    "\n",
    "var1 = np.random.binomial(10, .4, 100)\n",
    "var2 = np.random.binomial(10, .5, 100)\n",
    "\n",
    "plt.axvline(var1.mean(), color='r', linestyle='solid', linewidth=2)\n",
    "plt.axvline(var1.mean() + var1.std(), color='r', linestyle='dashed', linewidth=1)\n",
    "plt.axvline(var1.mean() - var1.std(), color='r', linestyle='dashed', linewidth=1)\n",
    "\n",
    "plt.axvline(var2.mean(), color='black', linestyle='solid', linewidth=2)\n",
    "plt.axvline(var2.mean() + var2.std(), color='black', linestyle='dashed', linewidth=1)\n",
    "plt.axvline(var2.mean() - var2.std(), color='black', linestyle='dashed', linewidth=1)\n",
    "\n",
    "plt.hist(var1)\n",
    "plt.hist(var2, color = \"purple\")\n",
    "plt.show()"
   ]
  },
  {
   "cell_type": "code",
   "execution_count": 17,
   "metadata": {
    "collapsed": true
   },
   "outputs": [],
   "source": [
    "#the data starts to overlap since the p values for 1 are getting closer to value 2 that has an evely distributed p value"
   ]
  },
  {
   "cell_type": "code",
   "execution_count": 19,
   "metadata": {},
   "outputs": [
    {
     "data": {
      "image/png": "[encoded data removed]",
      "text/plain": [
       "<matplotlib.figure.Figure at 0x10edb5d30>"
      ]
     },
     "metadata": {},
     "output_type": "display_data"
    }
   ],
   "source": [
    "#poisson edit\n",
    "import numpy as np\n",
    "import pandas as pd\n",
    "import matplotlib.pyplot as plt\n",
    "%matplotlib inline\n",
    "\n",
    "var1 = np.random.gamma(10, .2, 100)\n",
    "var2 = np.random.gamma(10, .5, 100)\n",
    "\n",
    "plt.axvline(var1.mean(), color='r', linestyle='solid', linewidth=2)\n",
    "plt.axvline(var1.mean() + var1.std(), color='r', linestyle='dashed', linewidth=1)\n",
    "plt.axvline(var1.mean() - var1.std(), color='r', linestyle='dashed', linewidth=1)\n",
    "\n",
    "plt.axvline(var2.mean(), color='black', linestyle='solid', linewidth=2)\n",
    "plt.axvline(var2.mean() + var2.std(), color='black', linestyle='dashed', linewidth=1)\n",
    "plt.axvline(var2.mean() - var2.std(), color='black', linestyle='dashed', linewidth=1)\n",
    "\n",
    "plt.hist(var1)\n",
    "plt.hist(var2, color = \"purple\")\n",
    "plt.show()"
   ]
  },
  {
   "cell_type": "code",
   "execution_count": null,
   "metadata": {
    "collapsed": true
   },
   "outputs": [],
   "source": [
    "#yes, in a gamma distributiont the means are stll an accurate protrayal of the data"
   ]
  }
 ],
 "metadata": {
  "kernelspec": {
   "display_name": "Python 3",
   "language": "python",
   "name": "python3"
  },
  "language_info": {
   "codemirror_mode": {
    "name": "ipython",
    "version": 3
   },
   "file_extension": ".py",
   "mimetype": "text/x-python",
   "name": "python",
   "nbconvert_exporter": "python",
   "pygments_lexer": "ipython3",
   "version": "3.6.3"
  }
 },
 "nbformat": 4,
 "nbformat_minor": 2
}
