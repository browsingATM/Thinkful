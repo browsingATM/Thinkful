{
 "cells": [
  {
   "cell_type": "code",
   "execution_count": 3,
   "metadata": {
    "collapsed": true
   },
   "outputs": [],
   "source": [
    "import pandas as pd\n",
    "import numpy as np"
   ]
  },
  {
   "cell_type": "code",
   "execution_count": 4,
   "metadata": {
    "collapsed": true
   },
   "outputs": [],
   "source": [
    "ds = pd.read_csv(\"wellcome.csv\", encoding='latin')"
   ]
  },
  {
   "cell_type": "markdown",
   "metadata": {},
   "source": [
    "Cleaning To Do:\n",
    "- Pound & Dollar issue in \"Cost\" column - filter?\n",
    "- outlier data in \"Cost\" - 999999 or 0's\n"
   ]
  },
  {
   "cell_type": "markdown",
   "metadata": {},
   "source": [
    "## Goals:\n",
    "- 5 most common journals\n",
    "- total articles of each journal\n",
    "- calculate the mean of the open-access cost per article for each journal . \n",
    "- calculate the median of the open-access cost per article for each journal . \n",
    "- calculate the standard deviation of the open-access cost per article for each journal . "
   ]
  },
  {
   "cell_type": "markdown",
   "metadata": {},
   "source": [
    "5 Most Common Journals & Total Articles"
   ]
  },
  {
   "cell_type": "code",
   "execution_count": 5,
   "metadata": {},
   "outputs": [
    {
     "data": {
      "text/plain": [
       "PLoS One                                                   190\n",
       "Journal of Biological Chemistry                             53\n",
       "NeuroImage                                                  29\n",
       "Nucleic Acids Research                                      24\n",
       "Proceedings of the National Academy of Sciences             22\n",
       "Human Molecular Genetics                                    18\n",
       "PLoS Neglected Tropical Diseases                            18\n",
       "Nature Communications                                       17\n",
       "PLoS Genetics                                               15\n",
       "PLoS Pathogens                                              15\n",
       "Brain                                                       14\n",
       "BMC Public Health                                           14\n",
       "Movement Disorders                                          13\n",
       "Journal of Neuroscience                                     12\n",
       "Developmental Cell                                          12\n",
       "Biochemical Journal                                         12\n",
       "Journal of General Virology                                 11\n",
       "BMJ                                                         10\n",
       "Current Biology                                             10\n",
       "Cell Reports                                                 9\n",
       "Neuron                                                       9\n",
       "Proceedings of the Royal Society B: Biological Sciences      8\n",
       "Journal of Virology                                          8\n",
       "Journal of Clinical Endocrinology and Metabolism             8\n",
       "Malaria Journal                                              8\n",
       "Journal of Structural Biology                                8\n",
       "Development                                                  8\n",
       "Molecular Microbiology                                       8\n",
       "European Journal of Immunology                               8\n",
       "Journal of Cell Science                                      8\n",
       "                                                          ... \n",
       "Immunological Reviews                                        1\n",
       "BMC Microbiology                                             1\n",
       "Journal of Neurochemistry                                    1\n",
       "European Child and Adolescent Psychiatry                     1\n",
       "Clinical and Experimental Allergy                            1\n",
       "Journal od Clinical Endocrinology                            1\n",
       "Health Promotion International                               1\n",
       "Molecular Genetics & Genomic Medicine                        1\n",
       "Journal of Neural Transmission                               1\n",
       "Cytoskeleton                                                 1\n",
       "Journal of Inherited Metabolic                               1\n",
       "Plos Genetics                                                1\n",
       "Journal of Biomedical Graphics and Computing                 1\n",
       "British Journal for the History of Science                   1\n",
       "British Journal of Haematology                               1\n",
       "Annals of Science                                            1\n",
       "Journal of Anthropological Archaeology                       1\n",
       "Lancet Infect Dis                                            1\n",
       "Seminars in Immunopathology                                  1\n",
       "Child Neuropsychology                                        1\n",
       "Pyschological Medicine                                       1\n",
       "Current Opinion in Neurobiology                              1\n",
       "Journal of Clinical Endocrinology                            1\n",
       "Clinical Neurology and Neurosurgery                          1\n",
       "PLOS Computational Biology                                   1\n",
       "Springer                                                     1\n",
       "Molecular Phylogenetics and Evolution                        1\n",
       "Experimental Hematology                                      1\n",
       "Acta Physiol                                                 1\n",
       "Int Journal for Parasitology                                 1\n",
       "Name: Journal title, Length: 967, dtype: int64"
      ]
     },
     "execution_count": 5,
     "metadata": {},
     "output_type": "execute_result"
    }
   ],
   "source": [
    "ds[\"Journal title\"] = ds[\"Journal title\"].str.replace('PLoS ONE', 'PLoS One', case = False)\n",
    "ds[\"Journal title\"] = ds[\"Journal title\"].str.replace('PLOS ONE', 'PLoS One', case = False)\n",
    "#two versions of PLoS\n",
    "ds[\"Journal title\"] = ds[\"Journal title\"].str.replace('JOURNAL OF BIOLOGICAL CHEMISTRY', \n",
    "                                                      'Journal of Biological Chemistry', case = False)\n",
    "#3 are in All Caps\n",
    "ds[\"Journal title\"] = ds[\"Journal title\"].str.replace('Neuroimage', 'NeuroImage', case = False)\n",
    "#one alternative of NeuroImage\n",
    "ds[\"Journal title\"] = ds[\"Journal title\"].str.replace('Nucleic Acid Research', 'Nucleic Acids Research', case = False)\n",
    "ds[\"Journal title\"] = ds[\"Journal title\"].str.replace('NUCLEIC ACIDS RESEACH', 'Nucleic Acids Research', case = False)\n",
    "ds[\"Journal title\"] = ds[\"Journal title\"].str.replace('Proceedings of the National Academy of Sciences (PNAS)', \n",
    "                                                      'Proceedings of the National Academy of Sciences', case = False)\n",
    "ds[\"Journal title\"] = ds[\"Journal title\"].str.replace('Proceedings of the National Academy of Sciences of the United States of America', \n",
    "                                                      'Proceedings of the National Academy of Sciences', case = False)\n",
    "ds[\"Journal title\"] = ds[\"Journal title\"].str.replace('Proceedings of the National Academy of Sciences of the USA', \n",
    "                                                      'Proceedings of the National Academy of Sciences', case = False)\n",
    "#\n",
    "#can't get 3 missing 'Nucleic Acids', 5 missing PNAS, \n",
    "ds[\"Journal title\"].value_counts()\n",
    "\n"
   ]
  },
  {
   "cell_type": "markdown",
   "metadata": {
    "collapsed": true
   },
   "source": [
    "## Mean, median, and st Deviation of the Journal's articles"
   ]
  },
  {
   "cell_type": "code",
   "execution_count": 17,
   "metadata": {},
   "outputs": [],
   "source": [
    "#change that absurdly long column name to just 'Cost'\n",
    "#ds['COST (£) charged to Wellcome (inc VAT when charged)'] = ds['COST (£) charged to Wellcome (inc VAT when charged)'].str.replace(\n",
    "#'COST (£) charged to Wellcome (inc VAT when charged)', 'Cost', case=False)\n",
    "\n",
    "ds.rename(columns={'COST (£) charged to Wellcome (inc VAT when charged)':'Cost'}, inplace=True)\n",
    "ds.columns = ['PMID/PMCID', 'Publisher', 'Journal Title', 'Article Title', 'Cost']"
   ]
  },
  {
   "cell_type": "code",
   "execution_count": 18,
   "metadata": {},
   "outputs": [],
   "source": [
    "#eliminate currency symbols\n",
    "ds['Cost'] = ds['Cost'].str.replace('$','')\n",
    "ds['Cost'] = ds['Cost'].str.replace('£','')"
   ]
  },
  {
   "cell_type": "markdown",
   "metadata": {},
   "source": [
    "Mean"
   ]
  },
  {
   "cell_type": "code",
   "execution_count": 26,
   "metadata": {},
   "outputs": [
    {
     "ename": "DataError",
     "evalue": "No numeric types to aggregate",
     "output_type": "error",
     "traceback": [
      "\u001b[0;31m---------------------------------------------------------------------------\u001b[0m",
      "\u001b[0;31mDataError\u001b[0m                                 Traceback (most recent call last)",
      "\u001b[0;32m<ipython-input-26-90a22e906e02>\u001b[0m in \u001b[0;36m<module>\u001b[0;34m()\u001b[0m\n\u001b[0;32m----> 1\u001b[0;31m \u001b[0mds_mean\u001b[0m \u001b[0;34m=\u001b[0m \u001b[0mds\u001b[0m\u001b[0;34m.\u001b[0m\u001b[0mgroupby\u001b[0m\u001b[0;34m(\u001b[0m\u001b[0;34m'Journal Title'\u001b[0m\u001b[0;34m)\u001b[0m\u001b[0;34m[\u001b[0m\u001b[0;34m'Cost'\u001b[0m\u001b[0;34m]\u001b[0m\u001b[0;34m.\u001b[0m\u001b[0mmean\u001b[0m\u001b[0;34m(\u001b[0m\u001b[0;34m)\u001b[0m\u001b[0;34m\u001b[0m\u001b[0m\n\u001b[0m\u001b[1;32m      2\u001b[0m \u001b[0mds_median\u001b[0m \u001b[0;34m=\u001b[0m \u001b[0mds\u001b[0m\u001b[0;34m.\u001b[0m\u001b[0mgroupby\u001b[0m\u001b[0;34m(\u001b[0m\u001b[0;34m'Journal title'\u001b[0m\u001b[0;34m)\u001b[0m\u001b[0;34m[\u001b[0m\u001b[0;34m'Cost'\u001b[0m\u001b[0;34m]\u001b[0m\u001b[0;34m.\u001b[0m\u001b[0mmedian\u001b[0m\u001b[0;34m(\u001b[0m\u001b[0;34m)\u001b[0m\u001b[0;34m\u001b[0m\u001b[0m\n\u001b[1;32m      3\u001b[0m \u001b[0mds_std\u001b[0m \u001b[0;34m=\u001b[0m \u001b[0mds\u001b[0m\u001b[0;34m.\u001b[0m\u001b[0mgroupby\u001b[0m\u001b[0;34m(\u001b[0m\u001b[0;34m'Journal title'\u001b[0m\u001b[0;34m)\u001b[0m\u001b[0;34m[\u001b[0m\u001b[0;34m'Cost'\u001b[0m\u001b[0;34m]\u001b[0m\u001b[0;34m.\u001b[0m\u001b[0mstd\u001b[0m\u001b[0;34m(\u001b[0m\u001b[0;34m)\u001b[0m\u001b[0;34m\u001b[0m\u001b[0m\n\u001b[1;32m      4\u001b[0m \u001b[0;34m\u001b[0m\u001b[0m\n\u001b[1;32m      5\u001b[0m \u001b[0mprint\u001b[0m\u001b[0;34m(\u001b[0m\u001b[0mds_mean\u001b[0m\u001b[0;34m)\u001b[0m\u001b[0;34m\u001b[0m\u001b[0m\n",
      "\u001b[0;32m~/anaconda3/lib/python3.6/site-packages/pandas/core/groupby.py\u001b[0m in \u001b[0;36mmean\u001b[0;34m(self, *args, **kwargs)\u001b[0m\n\u001b[1;32m   1035\u001b[0m         \u001b[0mnv\u001b[0m\u001b[0;34m.\u001b[0m\u001b[0mvalidate_groupby_func\u001b[0m\u001b[0;34m(\u001b[0m\u001b[0;34m'mean'\u001b[0m\u001b[0;34m,\u001b[0m \u001b[0margs\u001b[0m\u001b[0;34m,\u001b[0m \u001b[0mkwargs\u001b[0m\u001b[0;34m,\u001b[0m \u001b[0;34m[\u001b[0m\u001b[0;34m'numeric_only'\u001b[0m\u001b[0;34m]\u001b[0m\u001b[0;34m)\u001b[0m\u001b[0;34m\u001b[0m\u001b[0m\n\u001b[1;32m   1036\u001b[0m         \u001b[0;32mtry\u001b[0m\u001b[0;34m:\u001b[0m\u001b[0;34m\u001b[0m\u001b[0m\n\u001b[0;32m-> 1037\u001b[0;31m             \u001b[0;32mreturn\u001b[0m \u001b[0mself\u001b[0m\u001b[0;34m.\u001b[0m\u001b[0m_cython_agg_general\u001b[0m\u001b[0;34m(\u001b[0m\u001b[0;34m'mean'\u001b[0m\u001b[0;34m,\u001b[0m \u001b[0;34m**\u001b[0m\u001b[0mkwargs\u001b[0m\u001b[0;34m)\u001b[0m\u001b[0;34m\u001b[0m\u001b[0m\n\u001b[0m\u001b[1;32m   1038\u001b[0m         \u001b[0;32mexcept\u001b[0m \u001b[0mGroupByError\u001b[0m\u001b[0;34m:\u001b[0m\u001b[0;34m\u001b[0m\u001b[0m\n\u001b[1;32m   1039\u001b[0m             \u001b[0;32mraise\u001b[0m\u001b[0;34m\u001b[0m\u001b[0m\n",
      "\u001b[0;32m~/anaconda3/lib/python3.6/site-packages/pandas/core/groupby.py\u001b[0m in \u001b[0;36m_cython_agg_general\u001b[0;34m(self, how, alt, numeric_only)\u001b[0m\n\u001b[1;32m    834\u001b[0m \u001b[0;34m\u001b[0m\u001b[0m\n\u001b[1;32m    835\u001b[0m         \u001b[0;32mif\u001b[0m \u001b[0mlen\u001b[0m\u001b[0;34m(\u001b[0m\u001b[0moutput\u001b[0m\u001b[0;34m)\u001b[0m \u001b[0;34m==\u001b[0m \u001b[0;36m0\u001b[0m\u001b[0;34m:\u001b[0m\u001b[0;34m\u001b[0m\u001b[0m\n\u001b[0;32m--> 836\u001b[0;31m             \u001b[0;32mraise\u001b[0m \u001b[0mDataError\u001b[0m\u001b[0;34m(\u001b[0m\u001b[0;34m'No numeric types to aggregate'\u001b[0m\u001b[0;34m)\u001b[0m\u001b[0;34m\u001b[0m\u001b[0m\n\u001b[0m\u001b[1;32m    837\u001b[0m \u001b[0;34m\u001b[0m\u001b[0m\n\u001b[1;32m    838\u001b[0m         \u001b[0;32mreturn\u001b[0m \u001b[0mself\u001b[0m\u001b[0;34m.\u001b[0m\u001b[0m_wrap_aggregated_output\u001b[0m\u001b[0;34m(\u001b[0m\u001b[0moutput\u001b[0m\u001b[0;34m,\u001b[0m \u001b[0mnames\u001b[0m\u001b[0;34m)\u001b[0m\u001b[0;34m\u001b[0m\u001b[0m\n",
      "\u001b[0;31mDataError\u001b[0m: No numeric types to aggregate"
     ]
    }
   ],
   "source": [
    "ds_mean = ds.groupby('Journal Title')['Cost'].mean()\n",
    "ds_median = ds.groupby('Journal title')['Cost'].median()\n",
    "ds_std = ds.groupby('Journal title')['Cost'].std()\n",
    "\n",
    "print(ds_mean)\n",
    "print(ds_median)\n",
    "print(ds_std)"
   ]
  },
  {
   "cell_type": "code",
   "execution_count": null,
   "metadata": {
    "collapsed": true
   },
   "outputs": [],
   "source": []
  }
 ],
 "metadata": {
  "kernelspec": {
   "display_name": "Python 3",
   "language": "python",
   "name": "python3"
  },
  "language_info": {
   "codemirror_mode": {
    "name": "ipython",
    "version": 3
   },
   "file_extension": ".py",
   "mimetype": "text/x-python",
   "name": "python",
   "nbconvert_exporter": "python",
   "pygments_lexer": "ipython3",
   "version": "3.6.3"
  }
 },
 "nbformat": 4,
 "nbformat_minor": 2
}
