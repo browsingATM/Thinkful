{
 "cells": [
  {
   "cell_type": "code",
   "execution_count": 1,
   "metadata": {
    "collapsed": true
   },
   "outputs": [],
   "source": [
    "#Import libraries\n",
    "from sklearn import preprocessing\n",
    "%matplotlib inline\n",
    "import pandas as pd\n",
    "import numpy as np\n",
    "import scipy\n",
    "import matplotlib.pyplot as plt\n",
    "import pandas as pd\n",
    "import numpy as np\n",
    "import math\n",
    "import operator\n",
    "import seaborn as sns\n",
    "sns.set_style('white')\n",
    "\n",
    "#ml algos\n",
    "from sklearn.model_selection import train_test_split\n",
    "from sklearn.metrics import accuracy_score\n",
    "\n",
    "pd.options.display.max_rows = 30"
   ]
  },
  {
   "cell_type": "code",
   "execution_count": 2,
   "metadata": {},
   "outputs": [
    {
     "name": "stderr",
     "output_type": "stream",
     "text": [
      "/Users/jakegrosek/anaconda3/lib/python3.6/site-packages/IPython/core/interactiveshell.py:2698: DtypeWarning: Columns (2) have mixed types. Specify dtype option on import or set low_memory=False.\n",
      "  interactivity=interactivity, compiler=compiler, result=result)\n",
      "/Users/jakegrosek/anaconda3/lib/python3.6/site-packages/IPython/core/interactiveshell.py:2698: DtypeWarning: Columns (14,15) have mixed types. Specify dtype option on import or set low_memory=False.\n",
      "  interactivity=interactivity, compiler=compiler, result=result)\n"
     ]
    }
   ],
   "source": [
    "#import csv for Austin B-Cycle Trip data\n",
    "bcycle = pd.read_csv('Austin_B-Cycle_Trips.csv', encoding='latin1')\n",
    "\n",
    "#import csv for private dockless rideshare co's\n",
    "dockless = pd.read_csv('Dockless_Vehicle_Trips.csv', encoding='latin1')"
   ]
  },
  {
   "cell_type": "code",
   "execution_count": 3,
   "metadata": {},
   "outputs": [
    {
     "name": "stdout",
     "output_type": "stream",
     "text": [
      "There are 1171610 trips in this dataset\n"
     ]
    }
   ],
   "source": [
    "num_trips = len(bcycle)\n",
    "print(\"There are {} trips in this dataset\".format(num_trips))"
   ]
  },
  {
   "cell_type": "code",
   "execution_count": 4,
   "metadata": {
    "collapsed": true
   },
   "outputs": [],
   "source": [
    "# data clean columns: \n",
    "bcycle.columns = bcycle.columns.str.strip().str.lower().str.replace(' ', '_').str.replace('(', '').str.replace(')', '')"
   ]
  },
  {
   "cell_type": "markdown",
   "metadata": {},
   "source": [
    "## We can drop Year and Month since ~50% of the values in both colummns are NaN while the Checkout Date are 100% filled."
   ]
  },
  {
   "cell_type": "code",
   "execution_count": 5,
   "metadata": {
    "collapsed": true
   },
   "outputs": [],
   "source": [
    "bcycle.drop(['month', 'year'], 1, inplace=True)"
   ]
  },
  {
   "cell_type": "code",
   "execution_count": 7,
   "metadata": {},
   "outputs": [
    {
     "data": {
      "text/html": [
       "<div>\n",
       "<style>\n",
       "    .dataframe thead tr:only-child th {\n",
       "        text-align: right;\n",
       "    }\n",
       "\n",
       "    .dataframe thead th {\n",
       "        text-align: left;\n",
       "    }\n",
       "\n",
       "    .dataframe tbody tr th {\n",
       "        vertical-align: top;\n",
       "    }\n",
       "</style>\n",
       "<table border=\"1\" class=\"dataframe\">\n",
       "  <thead>\n",
       "    <tr style=\"text-align: right;\">\n",
       "      <th></th>\n",
       "      <th>trip_id</th>\n",
       "      <th>membership_type</th>\n",
       "      <th>bicycle_id</th>\n",
       "      <th>checkout_date</th>\n",
       "      <th>checkout_time</th>\n",
       "      <th>checkout_kiosk_id</th>\n",
       "      <th>checkout_kiosk</th>\n",
       "      <th>return_kiosk_id</th>\n",
       "      <th>return_kiosk</th>\n",
       "      <th>trip_duration_minutes</th>\n",
       "    </tr>\n",
       "  </thead>\n",
       "  <tbody>\n",
       "    <tr>\n",
       "      <th>0</th>\n",
       "      <td>9900285854</td>\n",
       "      <td>Annual (San Antonio B-cycle)</td>\n",
       "      <td>207</td>\n",
       "      <td>10/26/2014</td>\n",
       "      <td>13:12:00</td>\n",
       "      <td>2537.0</td>\n",
       "      <td>West &amp; 6th St.</td>\n",
       "      <td>2707.0</td>\n",
       "      <td>Rainey St @ Cummings</td>\n",
       "      <td>76</td>\n",
       "    </tr>\n",
       "  </tbody>\n",
       "</table>\n",
       "</div>"
      ],
      "text/plain": [
       "      trip_id               membership_type bicycle_id checkout_date  \\\n",
       "0  9900285854  Annual (San Antonio B-cycle)        207    10/26/2014   \n",
       "\n",
       "  checkout_time  checkout_kiosk_id  checkout_kiosk  return_kiosk_id  \\\n",
       "0      13:12:00             2537.0  West & 6th St.           2707.0   \n",
       "\n",
       "           return_kiosk  trip_duration_minutes  \n",
       "0  Rainey St @ Cummings                     76  "
      ]
     },
     "execution_count": 7,
     "metadata": {},
     "output_type": "execute_result"
    }
   ],
   "source": [
    "bcycle.head(1)"
   ]
  },
  {
   "cell_type": "markdown",
   "metadata": {},
   "source": [
    "## bicycle_id column cleaning section"
   ]
  },
  {
   "cell_type": "code",
   "execution_count": 9,
   "metadata": {},
   "outputs": [
    {
     "data": {
      "text/plain": [
       "trip_id                                 19000898\n",
       "membership_type          U.T. Student Membership\n",
       "bicycle_id                                  303G\n",
       "checkout_date                         11/18/2018\n",
       "checkout_time                           22:35:50\n",
       "checkout_kiosk_id                           2547\n",
       "checkout_kiosk                  Guadalupe & 21st\n",
       "return_kiosk_id                             3838\n",
       "return_kiosk                       Nueces & 26th\n",
       "trip_duration_minutes                          7\n",
       "Name: 1077930, dtype: object"
      ]
     },
     "execution_count": 9,
     "metadata": {},
     "output_type": "execute_result"
    }
   ],
   "source": [
    "bcycle.loc[1077930]"
   ]
  },
  {
   "cell_type": "code",
   "execution_count": 43,
   "metadata": {},
   "outputs": [
    {
     "data": {
      "text/plain": [
       "225"
      ]
     },
     "execution_count": 43,
     "metadata": {},
     "output_type": "execute_result"
    }
   ],
   "source": [
    "bcycle.loc[bcycle.bicycle_id == '303G', 'bicycle_id'].count()"
   ]
  },
  {
   "cell_type": "code",
   "execution_count": 51,
   "metadata": {},
   "outputs": [
    {
     "data": {
      "text/plain": [
       "225"
      ]
     },
     "execution_count": 51,
     "metadata": {},
     "output_type": "execute_result"
    }
   ],
   "source": [
    "bcycle.loc[bcycle.bicycle_id == '303', 'bicycle_id'].count()"
   ]
  },
  {
   "cell_type": "code",
   "execution_count": 45,
   "metadata": {},
   "outputs": [
    {
     "data": {
      "text/plain": [
       "377"
      ]
     },
     "execution_count": 45,
     "metadata": {},
     "output_type": "execute_result"
    }
   ],
   "source": [
    "bcycle.loc[bcycle.bicycle_id == '134G', 'bicycle_id'].count()"
   ]
  },
  {
   "cell_type": "code",
   "execution_count": 46,
   "metadata": {},
   "outputs": [
    {
     "data": {
      "text/plain": [
       "227"
      ]
     },
     "execution_count": 46,
     "metadata": {},
     "output_type": "execute_result"
    }
   ],
   "source": [
    "bcycle.loc[bcycle.bicycle_id == '134', 'bicycle_id'].count()"
   ]
  },
  {
   "cell_type": "code",
   "execution_count": 109,
   "metadata": {},
   "outputs": [
    {
     "ename": "IndexError",
     "evalue": "bicycle_id",
     "output_type": "error",
     "traceback": [
      "\u001b[0;31m---------------------------------------------------------------------------\u001b[0m",
      "\u001b[0;31mTypeError\u001b[0m                                 Traceback (most recent call last)",
      "\u001b[0;32m~/anaconda3/lib/python3.6/site-packages/pandas/core/indexes/base.py\u001b[0m in \u001b[0;36mget_value\u001b[0;34m(self, series, key)\u001b[0m\n\u001b[1;32m   2476\u001b[0m             return self._engine.get_value(s, k,\n\u001b[0;32m-> 2477\u001b[0;31m                                           tz=getattr(series.dtype, 'tz', None))\n\u001b[0m\u001b[1;32m   2478\u001b[0m         \u001b[0;32mexcept\u001b[0m \u001b[0mKeyError\u001b[0m \u001b[0;32mas\u001b[0m \u001b[0me1\u001b[0m\u001b[0;34m:\u001b[0m\u001b[0;34m\u001b[0m\u001b[0m\n",
      "\u001b[0;32mpandas/_libs/index.pyx\u001b[0m in \u001b[0;36mpandas._libs.index.IndexEngine.get_value\u001b[0;34m()\u001b[0m\n",
      "\u001b[0;32mpandas/_libs/index.pyx\u001b[0m in \u001b[0;36mpandas._libs.index.IndexEngine.get_value\u001b[0;34m()\u001b[0m\n",
      "\u001b[0;32mpandas/_libs/index.pyx\u001b[0m in \u001b[0;36mpandas._libs.index.IndexEngine.get_loc\u001b[0;34m()\u001b[0m\n",
      "\u001b[0;32mpandas/_libs/index.pyx\u001b[0m in \u001b[0;36mpandas._libs.index._bin_search\u001b[0;34m()\u001b[0m\n",
      "\u001b[0;31mTypeError\u001b[0m: '<' not supported between instances of 'numpy.ndarray' and 'str'",
      "\nDuring handling of the above exception, another exception occurred:\n",
      "\u001b[0;31mIndexError\u001b[0m                                Traceback (most recent call last)",
      "\u001b[0;32m<ipython-input-109-b3077a67d853>\u001b[0m in \u001b[0;36m<module>\u001b[0;34m()\u001b[0m\n\u001b[0;32m----> 1\u001b[0;31m \u001b[0mbcycle\u001b[0m \u001b[0;34m=\u001b[0m \u001b[0;34m(\u001b[0m\u001b[0mbcycle\u001b[0m\u001b[0;34m[\u001b[0m\u001b[0;34m'bicycle_id'\u001b[0m\u001b[0;34m]\u001b[0m \u001b[0;34m!=\u001b[0m \u001b[0;34m'303G'\u001b[0m\u001b[0;34m)\u001b[0m\u001b[0;34m\u001b[0m\u001b[0m\n\u001b[0m",
      "\u001b[0;32m~/anaconda3/lib/python3.6/site-packages/pandas/core/series.py\u001b[0m in \u001b[0;36m__getitem__\u001b[0;34m(self, key)\u001b[0m\n\u001b[1;32m    599\u001b[0m         \u001b[0mkey\u001b[0m \u001b[0;34m=\u001b[0m \u001b[0mcom\u001b[0m\u001b[0;34m.\u001b[0m\u001b[0m_apply_if_callable\u001b[0m\u001b[0;34m(\u001b[0m\u001b[0mkey\u001b[0m\u001b[0;34m,\u001b[0m \u001b[0mself\u001b[0m\u001b[0;34m)\u001b[0m\u001b[0;34m\u001b[0m\u001b[0m\n\u001b[1;32m    600\u001b[0m         \u001b[0;32mtry\u001b[0m\u001b[0;34m:\u001b[0m\u001b[0;34m\u001b[0m\u001b[0m\n\u001b[0;32m--> 601\u001b[0;31m             \u001b[0mresult\u001b[0m \u001b[0;34m=\u001b[0m \u001b[0mself\u001b[0m\u001b[0;34m.\u001b[0m\u001b[0mindex\u001b[0m\u001b[0;34m.\u001b[0m\u001b[0mget_value\u001b[0m\u001b[0;34m(\u001b[0m\u001b[0mself\u001b[0m\u001b[0;34m,\u001b[0m \u001b[0mkey\u001b[0m\u001b[0;34m)\u001b[0m\u001b[0;34m\u001b[0m\u001b[0m\n\u001b[0m\u001b[1;32m    602\u001b[0m \u001b[0;34m\u001b[0m\u001b[0m\n\u001b[1;32m    603\u001b[0m             \u001b[0;32mif\u001b[0m \u001b[0;32mnot\u001b[0m \u001b[0mis_scalar\u001b[0m\u001b[0;34m(\u001b[0m\u001b[0mresult\u001b[0m\u001b[0;34m)\u001b[0m\u001b[0;34m:\u001b[0m\u001b[0;34m\u001b[0m\u001b[0m\n",
      "\u001b[0;32m~/anaconda3/lib/python3.6/site-packages/pandas/core/indexes/base.py\u001b[0m in \u001b[0;36mget_value\u001b[0;34m(self, series, key)\u001b[0m\n\u001b[1;32m   2495\u001b[0m             \u001b[0;31m# python 3\u001b[0m\u001b[0;34m\u001b[0m\u001b[0;34m\u001b[0m\u001b[0m\n\u001b[1;32m   2496\u001b[0m             \u001b[0;32mif\u001b[0m \u001b[0mis_scalar\u001b[0m\u001b[0;34m(\u001b[0m\u001b[0mkey\u001b[0m\u001b[0;34m)\u001b[0m\u001b[0;34m:\u001b[0m  \u001b[0;31m# pragma: no cover\u001b[0m\u001b[0;34m\u001b[0m\u001b[0m\n\u001b[0;32m-> 2497\u001b[0;31m                 \u001b[0;32mraise\u001b[0m \u001b[0mIndexError\u001b[0m\u001b[0;34m(\u001b[0m\u001b[0mkey\u001b[0m\u001b[0;34m)\u001b[0m\u001b[0;34m\u001b[0m\u001b[0m\n\u001b[0m\u001b[1;32m   2498\u001b[0m             \u001b[0;32mraise\u001b[0m \u001b[0mInvalidIndexError\u001b[0m\u001b[0;34m(\u001b[0m\u001b[0mkey\u001b[0m\u001b[0;34m)\u001b[0m\u001b[0;34m\u001b[0m\u001b[0m\n\u001b[1;32m   2499\u001b[0m \u001b[0;34m\u001b[0m\u001b[0m\n",
      "\u001b[0;31mIndexError\u001b[0m: bicycle_id"
     ]
    }
   ],
   "source": [
    "bcycle = bcycle['bicycle_id'] != '303G')"
   ]
  },
  {
   "cell_type": "code",
   "execution_count": 39,
   "metadata": {},
   "outputs": [
    {
     "ename": "ValueError",
     "evalue": "Unable to parse string \"303G\" at position 1077930",
     "output_type": "error",
     "traceback": [
      "\u001b[0;31m---------------------------------------------------------------------------\u001b[0m",
      "\u001b[0;31mValueError\u001b[0m                                Traceback (most recent call last)",
      "\u001b[0;32mpandas/_libs/src/inference.pyx\u001b[0m in \u001b[0;36mpandas._libs.lib.maybe_convert_numeric\u001b[0;34m()\u001b[0m\n",
      "\u001b[0;31mValueError\u001b[0m: Unable to parse string \"303G\"",
      "\nDuring handling of the above exception, another exception occurred:\n",
      "\u001b[0;31mValueError\u001b[0m                                Traceback (most recent call last)",
      "\u001b[0;32m<ipython-input-39-d750fe818a1d>\u001b[0m in \u001b[0;36m<module>\u001b[0;34m()\u001b[0m\n\u001b[0;32m----> 1\u001b[0;31m \u001b[0mpd\u001b[0m\u001b[0;34m.\u001b[0m\u001b[0mto_numeric\u001b[0m\u001b[0;34m(\u001b[0m\u001b[0mbcycle\u001b[0m\u001b[0;34m[\u001b[0m\u001b[0;34m'bicycle_id'\u001b[0m\u001b[0;34m]\u001b[0m\u001b[0;34m,\u001b[0m \u001b[0mdowncast\u001b[0m\u001b[0;34m=\u001b[0m\u001b[0;34m'integer'\u001b[0m\u001b[0;34m)\u001b[0m\u001b[0;34m\u001b[0m\u001b[0m\n\u001b[0m",
      "\u001b[0;32m~/anaconda3/lib/python3.6/site-packages/pandas/core/tools/numeric.py\u001b[0m in \u001b[0;36mto_numeric\u001b[0;34m(arg, errors, downcast)\u001b[0m\n\u001b[1;32m    124\u001b[0m             \u001b[0mcoerce_numeric\u001b[0m \u001b[0;34m=\u001b[0m \u001b[0;32mFalse\u001b[0m \u001b[0;32mif\u001b[0m \u001b[0merrors\u001b[0m \u001b[0;32min\u001b[0m \u001b[0;34m(\u001b[0m\u001b[0;34m'ignore'\u001b[0m\u001b[0;34m,\u001b[0m \u001b[0;34m'raise'\u001b[0m\u001b[0;34m)\u001b[0m \u001b[0;32melse\u001b[0m \u001b[0;32mTrue\u001b[0m\u001b[0;34m\u001b[0m\u001b[0m\n\u001b[1;32m    125\u001b[0m             values = lib.maybe_convert_numeric(values, set(),\n\u001b[0;32m--> 126\u001b[0;31m                                                coerce_numeric=coerce_numeric)\n\u001b[0m\u001b[1;32m    127\u001b[0m \u001b[0;34m\u001b[0m\u001b[0m\n\u001b[1;32m    128\u001b[0m     \u001b[0;32mexcept\u001b[0m \u001b[0mException\u001b[0m\u001b[0;34m:\u001b[0m\u001b[0;34m\u001b[0m\u001b[0m\n",
      "\u001b[0;32mpandas/_libs/src/inference.pyx\u001b[0m in \u001b[0;36mpandas._libs.lib.maybe_convert_numeric\u001b[0;34m()\u001b[0m\n",
      "\u001b[0;31mValueError\u001b[0m: Unable to parse string \"303G\" at position 1077930"
     ]
    }
   ],
   "source": [
    "pd.to_numeric(bcycle['bicycle_id'], downcast='integer')"
   ]
  },
  {
   "cell_type": "markdown",
   "metadata": {},
   "source": [
    "## return_ and checkout_kiosk_id column cleaning section\n",
    "\n",
    "# inplace wont work?"
   ]
  },
  {
   "cell_type": "code",
   "execution_count": 82,
   "metadata": {},
   "outputs": [
    {
     "data": {
      "text/plain": [
       "trip_id                      0\n",
       "membership_type           6463\n",
       "bicycle_id                 723\n",
       "checkout_date                0\n",
       "checkout_time                0\n",
       "checkout_kiosk_id        23154\n",
       "checkout_kiosk               0\n",
       "return_kiosk_id          24423\n",
       "return_kiosk                 0\n",
       "trip_duration_minutes        0\n",
       "dtype: int64"
      ]
     },
     "execution_count": 82,
     "metadata": {},
     "output_type": "execute_result"
    }
   ],
   "source": [
    "bcycle.isnull().sum()"
   ]
  },
  {
   "cell_type": "code",
   "execution_count": 95,
   "metadata": {
    "collapsed": true
   },
   "outputs": [],
   "source": [
    "bcycle['bicycle_id'].dropna(inplace=True)"
   ]
  },
  {
   "cell_type": "code",
   "execution_count": 96,
   "metadata": {
    "collapsed": true
   },
   "outputs": [],
   "source": [
    "bcycle['membership_type'].dropna(inplace=True)"
   ]
  },
  {
   "cell_type": "code",
   "execution_count": 97,
   "metadata": {},
   "outputs": [
    {
     "data": {
      "text/plain": [
       "trip_id                      0\n",
       "membership_type           6463\n",
       "bicycle_id                 723\n",
       "checkout_date                0\n",
       "checkout_time                0\n",
       "checkout_kiosk_id        23154\n",
       "checkout_kiosk               0\n",
       "return_kiosk_id          24423\n",
       "return_kiosk                 0\n",
       "trip_duration_minutes        0\n",
       "dtype: int64"
      ]
     },
     "execution_count": 97,
     "metadata": {},
     "output_type": "execute_result"
    }
   ],
   "source": [
    "bcycle.isnull().sum()"
   ]
  },
  {
   "cell_type": "code",
   "execution_count": 79,
   "metadata": {},
   "outputs": [
    {
     "data": {
      "text/html": [
       "<div>\n",
       "<style>\n",
       "    .dataframe thead tr:only-child th {\n",
       "        text-align: right;\n",
       "    }\n",
       "\n",
       "    .dataframe thead th {\n",
       "        text-align: left;\n",
       "    }\n",
       "\n",
       "    .dataframe tbody tr th {\n",
       "        vertical-align: top;\n",
       "    }\n",
       "</style>\n",
       "<table border=\"1\" class=\"dataframe\">\n",
       "  <thead>\n",
       "    <tr style=\"text-align: right;\">\n",
       "      <th></th>\n",
       "      <th>checkout_kiosk_id</th>\n",
       "      <th>return_kiosk_id</th>\n",
       "    </tr>\n",
       "  </thead>\n",
       "  <tbody>\n",
       "    <tr>\n",
       "      <th>0</th>\n",
       "      <td>2537.0</td>\n",
       "      <td>2707.0</td>\n",
       "    </tr>\n",
       "    <tr>\n",
       "      <th>1</th>\n",
       "      <td>2498.0</td>\n",
       "      <td>2566.0</td>\n",
       "    </tr>\n",
       "    <tr>\n",
       "      <th>2</th>\n",
       "      <td>2537.0</td>\n",
       "      <td>2496.0</td>\n",
       "    </tr>\n",
       "    <tr>\n",
       "      <th>6</th>\n",
       "      <td>2496.0</td>\n",
       "      <td>2561.0</td>\n",
       "    </tr>\n",
       "    <tr>\n",
       "      <th>7</th>\n",
       "      <td>2569.0</td>\n",
       "      <td>2499.0</td>\n",
       "    </tr>\n",
       "    <tr>\n",
       "      <th>8</th>\n",
       "      <td>2496.0</td>\n",
       "      <td>2496.0</td>\n",
       "    </tr>\n",
       "    <tr>\n",
       "      <th>10</th>\n",
       "      <td>2504.0</td>\n",
       "      <td>2496.0</td>\n",
       "    </tr>\n",
       "    <tr>\n",
       "      <th>12</th>\n",
       "      <td>2575.0</td>\n",
       "      <td>2575.0</td>\n",
       "    </tr>\n",
       "    <tr>\n",
       "      <th>13</th>\n",
       "      <td>2494.0</td>\n",
       "      <td>2570.0</td>\n",
       "    </tr>\n",
       "    <tr>\n",
       "      <th>14</th>\n",
       "      <td>2504.0</td>\n",
       "      <td>2540.0</td>\n",
       "    </tr>\n",
       "    <tr>\n",
       "      <th>15</th>\n",
       "      <td>2504.0</td>\n",
       "      <td>2540.0</td>\n",
       "    </tr>\n",
       "    <tr>\n",
       "      <th>16</th>\n",
       "      <td>2575.0</td>\n",
       "      <td>2575.0</td>\n",
       "    </tr>\n",
       "    <tr>\n",
       "      <th>17</th>\n",
       "      <td>2575.0</td>\n",
       "      <td>2575.0</td>\n",
       "    </tr>\n",
       "    <tr>\n",
       "      <th>19</th>\n",
       "      <td>2822.0</td>\n",
       "      <td>2544.0</td>\n",
       "    </tr>\n",
       "    <tr>\n",
       "      <th>20</th>\n",
       "      <td>2544.0</td>\n",
       "      <td>2822.0</td>\n",
       "    </tr>\n",
       "    <tr>\n",
       "      <th>...</th>\n",
       "      <td>...</td>\n",
       "      <td>...</td>\n",
       "    </tr>\n",
       "    <tr>\n",
       "      <th>1171595</th>\n",
       "      <td>2574.0</td>\n",
       "      <td>2574.0</td>\n",
       "    </tr>\n",
       "    <tr>\n",
       "      <th>1171596</th>\n",
       "      <td>3798.0</td>\n",
       "      <td>3792.0</td>\n",
       "    </tr>\n",
       "    <tr>\n",
       "      <th>1171597</th>\n",
       "      <td>3377.0</td>\n",
       "      <td>2566.0</td>\n",
       "    </tr>\n",
       "    <tr>\n",
       "      <th>1171598</th>\n",
       "      <td>3635.0</td>\n",
       "      <td>2552.0</td>\n",
       "    </tr>\n",
       "    <tr>\n",
       "      <th>1171599</th>\n",
       "      <td>3793.0</td>\n",
       "      <td>3841.0</td>\n",
       "    </tr>\n",
       "    <tr>\n",
       "      <th>1171600</th>\n",
       "      <td>2572.0</td>\n",
       "      <td>2572.0</td>\n",
       "    </tr>\n",
       "    <tr>\n",
       "      <th>1171601</th>\n",
       "      <td>3793.0</td>\n",
       "      <td>3797.0</td>\n",
       "    </tr>\n",
       "    <tr>\n",
       "      <th>1171602</th>\n",
       "      <td>3793.0</td>\n",
       "      <td>3793.0</td>\n",
       "    </tr>\n",
       "    <tr>\n",
       "      <th>1171603</th>\n",
       "      <td>3621.0</td>\n",
       "      <td>4061.0</td>\n",
       "    </tr>\n",
       "    <tr>\n",
       "      <th>1171604</th>\n",
       "      <td>2547.0</td>\n",
       "      <td>3792.0</td>\n",
       "    </tr>\n",
       "    <tr>\n",
       "      <th>1171605</th>\n",
       "      <td>2501.0</td>\n",
       "      <td>3660.0</td>\n",
       "    </tr>\n",
       "    <tr>\n",
       "      <th>1171606</th>\n",
       "      <td>2707.0</td>\n",
       "      <td>2707.0</td>\n",
       "    </tr>\n",
       "    <tr>\n",
       "      <th>1171607</th>\n",
       "      <td>3684.0</td>\n",
       "      <td>3684.0</td>\n",
       "    </tr>\n",
       "    <tr>\n",
       "      <th>1171608</th>\n",
       "      <td>2547.0</td>\n",
       "      <td>2540.0</td>\n",
       "    </tr>\n",
       "    <tr>\n",
       "      <th>1171609</th>\n",
       "      <td>4048.0</td>\n",
       "      <td>2542.0</td>\n",
       "    </tr>\n",
       "  </tbody>\n",
       "</table>\n",
       "<p>1129129 rows × 2 columns</p>\n",
       "</div>"
      ],
      "text/plain": [
       "         checkout_kiosk_id  return_kiosk_id\n",
       "0                   2537.0           2707.0\n",
       "1                   2498.0           2566.0\n",
       "2                   2537.0           2496.0\n",
       "6                   2496.0           2561.0\n",
       "7                   2569.0           2499.0\n",
       "8                   2496.0           2496.0\n",
       "10                  2504.0           2496.0\n",
       "12                  2575.0           2575.0\n",
       "13                  2494.0           2570.0\n",
       "14                  2504.0           2540.0\n",
       "15                  2504.0           2540.0\n",
       "16                  2575.0           2575.0\n",
       "17                  2575.0           2575.0\n",
       "19                  2822.0           2544.0\n",
       "20                  2544.0           2822.0\n",
       "...                    ...              ...\n",
       "1171595             2574.0           2574.0\n",
       "1171596             3798.0           3792.0\n",
       "1171597             3377.0           2566.0\n",
       "1171598             3635.0           2552.0\n",
       "1171599             3793.0           3841.0\n",
       "1171600             2572.0           2572.0\n",
       "1171601             3793.0           3797.0\n",
       "1171602             3793.0           3793.0\n",
       "1171603             3621.0           4061.0\n",
       "1171604             2547.0           3792.0\n",
       "1171605             2501.0           3660.0\n",
       "1171606             2707.0           2707.0\n",
       "1171607             3684.0           3684.0\n",
       "1171608             2547.0           2540.0\n",
       "1171609             4048.0           2542.0\n",
       "\n",
       "[1129129 rows x 2 columns]"
      ]
     },
     "execution_count": 79,
     "metadata": {},
     "output_type": "execute_result"
    }
   ],
   "source": [
    "bcycle_test = bcycle[['checkout_kiosk_id', 'return_kiosk_id', ]].dropna(axis=0, how='any',inplace=False)"
   ]
  },
  {
   "cell_type": "code",
   "execution_count": null,
   "metadata": {
    "collapsed": true
   },
   "outputs": [],
   "source": []
  },
  {
   "cell_type": "code",
   "execution_count": 76,
   "metadata": {},
   "outputs": [
    {
     "ename": "ValueError",
     "evalue": "Cannot convert non-finite values (NA or inf) to integer",
     "output_type": "error",
     "traceback": [
      "\u001b[0;31m---------------------------------------------------------------------------\u001b[0m",
      "\u001b[0;31mValueError\u001b[0m                                Traceback (most recent call last)",
      "\u001b[0;32m<ipython-input-76-bdfd28d95d35>\u001b[0m in \u001b[0;36m<module>\u001b[0;34m()\u001b[0m\n\u001b[0;32m----> 1\u001b[0;31m \u001b[0mbcycle\u001b[0m\u001b[0;34m[\u001b[0m\u001b[0;34m'checkout_kiosk_id'\u001b[0m\u001b[0;34m]\u001b[0m \u001b[0;34m=\u001b[0m \u001b[0mbcycle\u001b[0m\u001b[0;34m[\u001b[0m\u001b[0;34m'checkout_kiosk_id'\u001b[0m\u001b[0;34m]\u001b[0m\u001b[0;34m.\u001b[0m\u001b[0mastype\u001b[0m\u001b[0;34m(\u001b[0m\u001b[0mint\u001b[0m\u001b[0;34m)\u001b[0m\u001b[0;34m\u001b[0m\u001b[0m\n\u001b[0m\u001b[1;32m      2\u001b[0m \u001b[0;34m\u001b[0m\u001b[0m\n",
      "\u001b[0;32m~/anaconda3/lib/python3.6/site-packages/pandas/util/_decorators.py\u001b[0m in \u001b[0;36mwrapper\u001b[0;34m(*args, **kwargs)\u001b[0m\n\u001b[1;32m     89\u001b[0m                 \u001b[0;32melse\u001b[0m\u001b[0;34m:\u001b[0m\u001b[0;34m\u001b[0m\u001b[0m\n\u001b[1;32m     90\u001b[0m                     \u001b[0mkwargs\u001b[0m\u001b[0;34m[\u001b[0m\u001b[0mnew_arg_name\u001b[0m\u001b[0;34m]\u001b[0m \u001b[0;34m=\u001b[0m \u001b[0mnew_arg_value\u001b[0m\u001b[0;34m\u001b[0m\u001b[0m\n\u001b[0;32m---> 91\u001b[0;31m             \u001b[0;32mreturn\u001b[0m \u001b[0mfunc\u001b[0m\u001b[0;34m(\u001b[0m\u001b[0;34m*\u001b[0m\u001b[0margs\u001b[0m\u001b[0;34m,\u001b[0m \u001b[0;34m**\u001b[0m\u001b[0mkwargs\u001b[0m\u001b[0;34m)\u001b[0m\u001b[0;34m\u001b[0m\u001b[0m\n\u001b[0m\u001b[1;32m     92\u001b[0m         \u001b[0;32mreturn\u001b[0m \u001b[0mwrapper\u001b[0m\u001b[0;34m\u001b[0m\u001b[0m\n\u001b[1;32m     93\u001b[0m     \u001b[0;32mreturn\u001b[0m \u001b[0m_deprecate_kwarg\u001b[0m\u001b[0;34m\u001b[0m\u001b[0m\n",
      "\u001b[0;32m~/anaconda3/lib/python3.6/site-packages/pandas/core/generic.py\u001b[0m in \u001b[0;36mastype\u001b[0;34m(self, dtype, copy, errors, **kwargs)\u001b[0m\n\u001b[1;32m   3408\u001b[0m         \u001b[0;31m# else, only a single dtype is given\u001b[0m\u001b[0;34m\u001b[0m\u001b[0;34m\u001b[0m\u001b[0m\n\u001b[1;32m   3409\u001b[0m         new_data = self._data.astype(dtype=dtype, copy=copy, errors=errors,\n\u001b[0;32m-> 3410\u001b[0;31m                                      **kwargs)\n\u001b[0m\u001b[1;32m   3411\u001b[0m         \u001b[0;32mreturn\u001b[0m \u001b[0mself\u001b[0m\u001b[0;34m.\u001b[0m\u001b[0m_constructor\u001b[0m\u001b[0;34m(\u001b[0m\u001b[0mnew_data\u001b[0m\u001b[0;34m)\u001b[0m\u001b[0;34m.\u001b[0m\u001b[0m__finalize__\u001b[0m\u001b[0;34m(\u001b[0m\u001b[0mself\u001b[0m\u001b[0;34m)\u001b[0m\u001b[0;34m\u001b[0m\u001b[0m\n\u001b[1;32m   3412\u001b[0m \u001b[0;34m\u001b[0m\u001b[0m\n",
      "\u001b[0;32m~/anaconda3/lib/python3.6/site-packages/pandas/core/internals.py\u001b[0m in \u001b[0;36mastype\u001b[0;34m(self, dtype, **kwargs)\u001b[0m\n\u001b[1;32m   3222\u001b[0m \u001b[0;34m\u001b[0m\u001b[0m\n\u001b[1;32m   3223\u001b[0m     \u001b[0;32mdef\u001b[0m \u001b[0mastype\u001b[0m\u001b[0;34m(\u001b[0m\u001b[0mself\u001b[0m\u001b[0;34m,\u001b[0m \u001b[0mdtype\u001b[0m\u001b[0;34m,\u001b[0m \u001b[0;34m**\u001b[0m\u001b[0mkwargs\u001b[0m\u001b[0;34m)\u001b[0m\u001b[0;34m:\u001b[0m\u001b[0;34m\u001b[0m\u001b[0m\n\u001b[0;32m-> 3224\u001b[0;31m         \u001b[0;32mreturn\u001b[0m \u001b[0mself\u001b[0m\u001b[0;34m.\u001b[0m\u001b[0mapply\u001b[0m\u001b[0;34m(\u001b[0m\u001b[0;34m'astype'\u001b[0m\u001b[0;34m,\u001b[0m \u001b[0mdtype\u001b[0m\u001b[0;34m=\u001b[0m\u001b[0mdtype\u001b[0m\u001b[0;34m,\u001b[0m \u001b[0;34m**\u001b[0m\u001b[0mkwargs\u001b[0m\u001b[0;34m)\u001b[0m\u001b[0;34m\u001b[0m\u001b[0m\n\u001b[0m\u001b[1;32m   3225\u001b[0m \u001b[0;34m\u001b[0m\u001b[0m\n\u001b[1;32m   3226\u001b[0m     \u001b[0;32mdef\u001b[0m \u001b[0mconvert\u001b[0m\u001b[0;34m(\u001b[0m\u001b[0mself\u001b[0m\u001b[0;34m,\u001b[0m \u001b[0;34m**\u001b[0m\u001b[0mkwargs\u001b[0m\u001b[0;34m)\u001b[0m\u001b[0;34m:\u001b[0m\u001b[0;34m\u001b[0m\u001b[0m\n",
      "\u001b[0;32m~/anaconda3/lib/python3.6/site-packages/pandas/core/internals.py\u001b[0m in \u001b[0;36mapply\u001b[0;34m(self, f, axes, filter, do_integrity_check, consolidate, **kwargs)\u001b[0m\n\u001b[1;32m   3089\u001b[0m \u001b[0;34m\u001b[0m\u001b[0m\n\u001b[1;32m   3090\u001b[0m             \u001b[0mkwargs\u001b[0m\u001b[0;34m[\u001b[0m\u001b[0;34m'mgr'\u001b[0m\u001b[0;34m]\u001b[0m \u001b[0;34m=\u001b[0m \u001b[0mself\u001b[0m\u001b[0;34m\u001b[0m\u001b[0m\n\u001b[0;32m-> 3091\u001b[0;31m             \u001b[0mapplied\u001b[0m \u001b[0;34m=\u001b[0m \u001b[0mgetattr\u001b[0m\u001b[0;34m(\u001b[0m\u001b[0mb\u001b[0m\u001b[0;34m,\u001b[0m \u001b[0mf\u001b[0m\u001b[0;34m)\u001b[0m\u001b[0;34m(\u001b[0m\u001b[0;34m**\u001b[0m\u001b[0mkwargs\u001b[0m\u001b[0;34m)\u001b[0m\u001b[0;34m\u001b[0m\u001b[0m\n\u001b[0m\u001b[1;32m   3092\u001b[0m             \u001b[0mresult_blocks\u001b[0m \u001b[0;34m=\u001b[0m \u001b[0m_extend_blocks\u001b[0m\u001b[0;34m(\u001b[0m\u001b[0mapplied\u001b[0m\u001b[0;34m,\u001b[0m \u001b[0mresult_blocks\u001b[0m\u001b[0;34m)\u001b[0m\u001b[0;34m\u001b[0m\u001b[0m\n\u001b[1;32m   3093\u001b[0m \u001b[0;34m\u001b[0m\u001b[0m\n",
      "\u001b[0;32m~/anaconda3/lib/python3.6/site-packages/pandas/core/internals.py\u001b[0m in \u001b[0;36mastype\u001b[0;34m(self, dtype, copy, errors, values, **kwargs)\u001b[0m\n\u001b[1;32m    469\u001b[0m     \u001b[0;32mdef\u001b[0m \u001b[0mastype\u001b[0m\u001b[0;34m(\u001b[0m\u001b[0mself\u001b[0m\u001b[0;34m,\u001b[0m \u001b[0mdtype\u001b[0m\u001b[0;34m,\u001b[0m \u001b[0mcopy\u001b[0m\u001b[0;34m=\u001b[0m\u001b[0;32mFalse\u001b[0m\u001b[0;34m,\u001b[0m \u001b[0merrors\u001b[0m\u001b[0;34m=\u001b[0m\u001b[0;34m'raise'\u001b[0m\u001b[0;34m,\u001b[0m \u001b[0mvalues\u001b[0m\u001b[0;34m=\u001b[0m\u001b[0;32mNone\u001b[0m\u001b[0;34m,\u001b[0m \u001b[0;34m**\u001b[0m\u001b[0mkwargs\u001b[0m\u001b[0;34m)\u001b[0m\u001b[0;34m:\u001b[0m\u001b[0;34m\u001b[0m\u001b[0m\n\u001b[1;32m    470\u001b[0m         return self._astype(dtype, copy=copy, errors=errors, values=values,\n\u001b[0;32m--> 471\u001b[0;31m                             **kwargs)\n\u001b[0m\u001b[1;32m    472\u001b[0m \u001b[0;34m\u001b[0m\u001b[0m\n\u001b[1;32m    473\u001b[0m     def _astype(self, dtype, copy=False, errors='raise', values=None,\n",
      "\u001b[0;32m~/anaconda3/lib/python3.6/site-packages/pandas/core/internals.py\u001b[0m in \u001b[0;36m_astype\u001b[0;34m(self, dtype, copy, errors, values, klass, mgr, raise_on_error, **kwargs)\u001b[0m\n\u001b[1;32m    519\u001b[0m \u001b[0;34m\u001b[0m\u001b[0m\n\u001b[1;32m    520\u001b[0m                 \u001b[0;31m# _astype_nansafe works fine with 1-d only\u001b[0m\u001b[0;34m\u001b[0m\u001b[0;34m\u001b[0m\u001b[0m\n\u001b[0;32m--> 521\u001b[0;31m                 \u001b[0mvalues\u001b[0m \u001b[0;34m=\u001b[0m \u001b[0mastype_nansafe\u001b[0m\u001b[0;34m(\u001b[0m\u001b[0mvalues\u001b[0m\u001b[0;34m.\u001b[0m\u001b[0mravel\u001b[0m\u001b[0;34m(\u001b[0m\u001b[0;34m)\u001b[0m\u001b[0;34m,\u001b[0m \u001b[0mdtype\u001b[0m\u001b[0;34m,\u001b[0m \u001b[0mcopy\u001b[0m\u001b[0;34m=\u001b[0m\u001b[0;32mTrue\u001b[0m\u001b[0;34m)\u001b[0m\u001b[0;34m\u001b[0m\u001b[0m\n\u001b[0m\u001b[1;32m    522\u001b[0m                 \u001b[0mvalues\u001b[0m \u001b[0;34m=\u001b[0m \u001b[0mvalues\u001b[0m\u001b[0;34m.\u001b[0m\u001b[0mreshape\u001b[0m\u001b[0;34m(\u001b[0m\u001b[0mself\u001b[0m\u001b[0;34m.\u001b[0m\u001b[0mshape\u001b[0m\u001b[0;34m)\u001b[0m\u001b[0;34m\u001b[0m\u001b[0m\n\u001b[1;32m    523\u001b[0m \u001b[0;34m\u001b[0m\u001b[0m\n",
      "\u001b[0;32m~/anaconda3/lib/python3.6/site-packages/pandas/core/dtypes/cast.py\u001b[0m in \u001b[0;36mastype_nansafe\u001b[0;34m(arr, dtype, copy)\u001b[0m\n\u001b[1;32m    618\u001b[0m \u001b[0;34m\u001b[0m\u001b[0m\n\u001b[1;32m    619\u001b[0m         \u001b[0;32mif\u001b[0m \u001b[0;32mnot\u001b[0m \u001b[0mnp\u001b[0m\u001b[0;34m.\u001b[0m\u001b[0misfinite\u001b[0m\u001b[0;34m(\u001b[0m\u001b[0marr\u001b[0m\u001b[0;34m)\u001b[0m\u001b[0;34m.\u001b[0m\u001b[0mall\u001b[0m\u001b[0;34m(\u001b[0m\u001b[0;34m)\u001b[0m\u001b[0;34m:\u001b[0m\u001b[0;34m\u001b[0m\u001b[0m\n\u001b[0;32m--> 620\u001b[0;31m             raise ValueError('Cannot convert non-finite values (NA or inf) to '\n\u001b[0m\u001b[1;32m    621\u001b[0m                              'integer')\n\u001b[1;32m    622\u001b[0m \u001b[0;34m\u001b[0m\u001b[0m\n",
      "\u001b[0;31mValueError\u001b[0m: Cannot convert non-finite values (NA or inf) to integer"
     ]
    }
   ],
   "source": [
    "bcycle['checkout_kiosk_id'] = bcycle['checkout_kiosk_id'].astype(int)\n",
    "\n"
   ]
  },
  {
   "cell_type": "code",
   "execution_count": 72,
   "metadata": {},
   "outputs": [
    {
     "data": {
      "text/plain": [
       "0          2707.0\n",
       "1          2566.0\n",
       "2          2496.0\n",
       "3             NaN\n",
       "4             NaN\n",
       "5          2545.0\n",
       "6          2561.0\n",
       "7          2499.0\n",
       "8          2496.0\n",
       "9          2545.0\n",
       "10         2496.0\n",
       "11            NaN\n",
       "12         2575.0\n",
       "13         2570.0\n",
       "14         2540.0\n",
       "            ...  \n",
       "1171595    2574.0\n",
       "1171596    3792.0\n",
       "1171597    2566.0\n",
       "1171598    2552.0\n",
       "1171599    3841.0\n",
       "1171600    2572.0\n",
       "1171601    3797.0\n",
       "1171602    3793.0\n",
       "1171603    4061.0\n",
       "1171604    3792.0\n",
       "1171605    3660.0\n",
       "1171606    2707.0\n",
       "1171607    3684.0\n",
       "1171608    2540.0\n",
       "1171609    2542.0\n",
       "Name: return_kiosk_id, Length: 1171610, dtype: float64"
      ]
     },
     "execution_count": 72,
     "metadata": {},
     "output_type": "execute_result"
    }
   ],
   "source": [
    "pd.to_numeric(bcycle['return_kiosk_id'], downcast='integer')\n"
   ]
  },
  {
   "cell_type": "code",
   "execution_count": 73,
   "metadata": {},
   "outputs": [
    {
     "data": {
      "text/plain": [
       "trip_id                           int64\n",
       "membership_type                  object\n",
       "bicycle_id                       object\n",
       "checkout_date            datetime64[ns]\n",
       "checkout_time                    object\n",
       "checkout_kiosk_id               float64\n",
       "checkout_kiosk                   object\n",
       "return_kiosk_id                 float64\n",
       "return_kiosk                     object\n",
       "trip_duration_minutes             int64\n",
       "dtype: object"
      ]
     },
     "execution_count": 73,
     "metadata": {},
     "output_type": "execute_result"
    }
   ],
   "source": [
    "bcycle.dtypes"
   ]
  },
  {
   "cell_type": "code",
   "execution_count": null,
   "metadata": {
    "collapsed": true
   },
   "outputs": [],
   "source": []
  },
  {
   "cell_type": "code",
   "execution_count": null,
   "metadata": {
    "collapsed": true
   },
   "outputs": [],
   "source": []
  },
  {
   "cell_type": "code",
   "execution_count": 25,
   "metadata": {},
   "outputs": [
    {
     "data": {
      "text/plain": [
       "trip_id                           int64\n",
       "membership_type                  object\n",
       "bicycle_id                       object\n",
       "checkout_date            datetime64[ns]\n",
       "checkout_time                    object\n",
       "checkout_kiosk_id               float64\n",
       "checkout_kiosk                   object\n",
       "return_kiosk_id                 float64\n",
       "return_kiosk                     object\n",
       "trip_duration_minutes             int64\n",
       "dtype: object"
      ]
     },
     "execution_count": 25,
     "metadata": {},
     "output_type": "execute_result"
    }
   ],
   "source": [
    "bcycle.dtypes"
   ]
  },
  {
   "cell_type": "code",
   "execution_count": 13,
   "metadata": {
    "collapsed": true
   },
   "outputs": [],
   "source": [
    "bcycle['checkout_date'] = pd.to_datetime(bcycle['checkout_date'])"
   ]
  },
  {
   "cell_type": "markdown",
   "metadata": {},
   "source": [
    "## There is also a mismatch betweent the number of unique Return & Checkout Kiosk and the corresponding ID's"
   ]
  },
  {
   "cell_type": "code",
   "execution_count": 14,
   "metadata": {},
   "outputs": [
    {
     "data": {
      "text/plain": [
       "96"
      ]
     },
     "execution_count": 14,
     "metadata": {},
     "output_type": "execute_result"
    }
   ],
   "source": [
    "bcycle['checkout_kiosk_id'].nunique()"
   ]
  },
  {
   "cell_type": "code",
   "execution_count": 15,
   "metadata": {},
   "outputs": [
    {
     "data": {
      "text/plain": [
       "120"
      ]
     },
     "execution_count": 15,
     "metadata": {},
     "output_type": "execute_result"
    }
   ],
   "source": [
    "bcycle['checkout_kiosk'].nunique()"
   ]
  },
  {
   "cell_type": "code",
   "execution_count": 17,
   "metadata": {},
   "outputs": [
    {
     "data": {
      "text/plain": [
       "96"
      ]
     },
     "execution_count": 17,
     "metadata": {},
     "output_type": "execute_result"
    }
   ],
   "source": [
    "bcycle['return_kiosk_id'].nunique()"
   ]
  },
  {
   "cell_type": "code",
   "execution_count": 18,
   "metadata": {},
   "outputs": [
    {
     "data": {
      "text/plain": [
       "123"
      ]
     },
     "execution_count": 18,
     "metadata": {},
     "output_type": "execute_result"
    }
   ],
   "source": [
    "bcycle['return_kiosk'].nunique()"
   ]
  },
  {
   "cell_type": "code",
   "execution_count": null,
   "metadata": {
    "collapsed": true
   },
   "outputs": [],
   "source": [
    "return_k = bcycle['Return Kiosk'].value_counts()\n",
    "len(return_k)"
   ]
  },
  {
   "cell_type": "markdown",
   "metadata": {},
   "source": [
    "## While half of the Months and Years are missing, fortunately none of the values are missing in Checkout Date--we can replace"
   ]
  },
  {
   "cell_type": "code",
   "execution_count": null,
   "metadata": {
    "collapsed": true
   },
   "outputs": [],
   "source": []
  },
  {
   "cell_type": "code",
   "execution_count": 111,
   "metadata": {},
   "outputs": [
    {
     "data": {
      "text/plain": [
       "0    True\n",
       "1    True\n",
       "2    True\n",
       "3    True\n",
       "4    True\n",
       "Name: bicycle_id, dtype: bool"
      ]
     },
     "execution_count": 111,
     "metadata": {},
     "output_type": "execute_result"
    }
   ],
   "source": [
    "bcycle.head()"
   ]
  },
  {
   "cell_type": "code",
   "execution_count": 4,
   "metadata": {},
   "outputs": [
    {
     "name": "stdout",
     "output_type": "stream",
     "text": [
      "<class 'pandas.core.frame.DataFrame'>\n",
      "RangeIndex: 1171610 entries, 0 to 1171609\n",
      "Data columns (total 12 columns):\n",
      "Trip ID                  1171610 non-null int64\n",
      "Membership Type          1165147 non-null object\n",
      "Bicycle ID               1170887 non-null object\n",
      "Checkout Date            1171610 non-null object\n",
      "Checkout Time            1171610 non-null object\n",
      "Checkout Kiosk ID        1148456 non-null float64\n",
      "Checkout Kiosk           1171610 non-null object\n",
      "Return Kiosk ID          1147187 non-null float64\n",
      "Return Kiosk             1171610 non-null object\n",
      "Trip Duration Minutes    1171610 non-null int64\n",
      "Month                    618479 non-null float64\n",
      "Year                     618479 non-null float64\n",
      "dtypes: float64(4), int64(2), object(6)\n",
      "memory usage: 498.6 MB\n"
     ]
    }
   ],
   "source": [
    "bcycle.info(memory_usage='deep')"
   ]
  },
  {
   "cell_type": "markdown",
   "metadata": {},
   "source": [
    "things to reduce\n",
    "bicycle id-> int 8\n",
    "checkout ID-> int 16\n",
    "return ID-> int 16\n",
    "trip duration-> int 16\n",
    "month-> int 8\n",
    "year-> int 16\n",
    "\n",
    "get dummies\n",
    "membership\n",
    "checkout kiosk\n",
    "return kiosk"
   ]
  },
  {
   "cell_type": "code",
   "execution_count": 27,
   "metadata": {},
   "outputs": [
    {
     "data": {
      "text/html": [
       "<div>\n",
       "<style>\n",
       "    .dataframe thead tr:only-child th {\n",
       "        text-align: right;\n",
       "    }\n",
       "\n",
       "    .dataframe thead th {\n",
       "        text-align: left;\n",
       "    }\n",
       "\n",
       "    .dataframe tbody tr th {\n",
       "        vertical-align: top;\n",
       "    }\n",
       "</style>\n",
       "<table border=\"1\" class=\"dataframe\">\n",
       "  <thead>\n",
       "    <tr style=\"text-align: right;\">\n",
       "      <th></th>\n",
       "      <th>id</th>\n",
       "      <th>device_id</th>\n",
       "      <th>vehicle_type</th>\n",
       "      <th>trip_duration</th>\n",
       "      <th>trip_distance</th>\n",
       "      <th>start_time</th>\n",
       "      <th>end_time</th>\n",
       "      <th>modified_date</th>\n",
       "      <th>month</th>\n",
       "      <th>hour</th>\n",
       "      <th>day_of_week</th>\n",
       "      <th>council_district_start</th>\n",
       "      <th>council_district_end</th>\n",
       "      <th>year</th>\n",
       "      <th>census_tract_start</th>\n",
       "      <th>census_tract_end</th>\n",
       "    </tr>\n",
       "  </thead>\n",
       "  <tbody>\n",
       "    <tr>\n",
       "      <th>0</th>\n",
       "      <td>6865731e-5e4b-4819-9435-4e62e09a652d</td>\n",
       "      <td>08c8c852-257c-49ad-a14f-727bfc79626d</td>\n",
       "      <td>NaN</td>\n",
       "      <td>NaN</td>\n",
       "      <td>NaN</td>\n",
       "      <td>NaN</td>\n",
       "      <td>NaN</td>\n",
       "      <td>12/13/2018 03:36:12 PM</td>\n",
       "      <td>NaN</td>\n",
       "      <td>NaN</td>\n",
       "      <td>NaN</td>\n",
       "      <td>0.0</td>\n",
       "      <td>0.0</td>\n",
       "      <td>NaN</td>\n",
       "      <td>NaN</td>\n",
       "      <td>NaN</td>\n",
       "    </tr>\n",
       "    <tr>\n",
       "      <th>1</th>\n",
       "      <td>08dc0d9c-735e-4006-b9af-60011509e469</td>\n",
       "      <td>255716b5-4a9f-4efc-9967-7a65b3521bac</td>\n",
       "      <td>bicycle</td>\n",
       "      <td>11491603.0</td>\n",
       "      <td>1658.0</td>\n",
       "      <td>11/30/2018 11:00:00 AM</td>\n",
       "      <td>04/12/2019 12:00:00 PM</td>\n",
       "      <td>12/21/2018 12:41:42 AM</td>\n",
       "      <td>11.0</td>\n",
       "      <td>11.0</td>\n",
       "      <td>5.0</td>\n",
       "      <td>9.0</td>\n",
       "      <td>0.0</td>\n",
       "      <td>2018.0</td>\n",
       "      <td>NaN</td>\n",
       "      <td>NaN</td>\n",
       "    </tr>\n",
       "    <tr>\n",
       "      <th>2</th>\n",
       "      <td>aa27d854-9f27-456e-ae49-f268a9b2b533</td>\n",
       "      <td>6b90a827-60a1-47ad-94a4-d33654dbd50d</td>\n",
       "      <td>scooter</td>\n",
       "      <td>170.0</td>\n",
       "      <td>0.0</td>\n",
       "      <td>04/29/2019 05:30:00 PM</td>\n",
       "      <td>04/29/2019 05:30:00 PM</td>\n",
       "      <td>04/30/2019 06:45:17 AM</td>\n",
       "      <td>4.0</td>\n",
       "      <td>17.0</td>\n",
       "      <td>1.0</td>\n",
       "      <td>9.0</td>\n",
       "      <td>9.0</td>\n",
       "      <td>2019.0</td>\n",
       "      <td>4.8453e+10</td>\n",
       "      <td>48453000601</td>\n",
       "    </tr>\n",
       "    <tr>\n",
       "      <th>3</th>\n",
       "      <td>b7c9f133-966b-46f1-91ce-2682ce7fcf50</td>\n",
       "      <td>1e5234a3-e86b-41e1-a1ad-e98310f3a71c</td>\n",
       "      <td>scooter</td>\n",
       "      <td>90.0</td>\n",
       "      <td>0.0</td>\n",
       "      <td>04/29/2019 05:30:00 PM</td>\n",
       "      <td>04/29/2019 05:30:00 PM</td>\n",
       "      <td>04/30/2019 06:45:17 AM</td>\n",
       "      <td>4.0</td>\n",
       "      <td>17.0</td>\n",
       "      <td>1.0</td>\n",
       "      <td>9.0</td>\n",
       "      <td>9.0</td>\n",
       "      <td>2019.0</td>\n",
       "      <td>4.8453e+10</td>\n",
       "      <td>48453000601</td>\n",
       "    </tr>\n",
       "    <tr>\n",
       "      <th>4</th>\n",
       "      <td>1d4f5d89-c044-46cb-8674-80d37fa0371f</td>\n",
       "      <td>caa0325c-7c0b-4909-a573-d83126ecc953</td>\n",
       "      <td>scooter</td>\n",
       "      <td>570.0</td>\n",
       "      <td>826.0</td>\n",
       "      <td>04/29/2019 05:15:00 PM</td>\n",
       "      <td>04/29/2019 05:15:00 PM</td>\n",
       "      <td>04/30/2019 06:45:17 AM</td>\n",
       "      <td>4.0</td>\n",
       "      <td>17.0</td>\n",
       "      <td>1.0</td>\n",
       "      <td>9.0</td>\n",
       "      <td>9.0</td>\n",
       "      <td>2019.0</td>\n",
       "      <td>4.8453e+10</td>\n",
       "      <td>48453001100</td>\n",
       "    </tr>\n",
       "    <tr>\n",
       "      <th>5</th>\n",
       "      <td>cd442fb9-058f-46a7-af90-b4adb56fd163</td>\n",
       "      <td>1653cf10-75f5-4934-a9d9-c8d43ade67a9</td>\n",
       "      <td>scooter</td>\n",
       "      <td>438.0</td>\n",
       "      <td>1815.0</td>\n",
       "      <td>04/29/2019 05:30:00 PM</td>\n",
       "      <td>04/29/2019 05:45:00 PM</td>\n",
       "      <td>04/30/2019 06:45:17 AM</td>\n",
       "      <td>4.0</td>\n",
       "      <td>17.0</td>\n",
       "      <td>1.0</td>\n",
       "      <td>9.0</td>\n",
       "      <td>9.0</td>\n",
       "      <td>2019.0</td>\n",
       "      <td>4.8453e+10</td>\n",
       "      <td>48453000500</td>\n",
       "    </tr>\n",
       "    <tr>\n",
       "      <th>6</th>\n",
       "      <td>e1ac0e42-ab2d-4eac-b019-f085169c1d38</td>\n",
       "      <td>1d89f9e2-d01a-4736-b7d8-258cb9a2108c</td>\n",
       "      <td>scooter</td>\n",
       "      <td>391.0</td>\n",
       "      <td>1519.0</td>\n",
       "      <td>04/29/2019 05:30:00 PM</td>\n",
       "      <td>04/29/2019 05:30:00 PM</td>\n",
       "      <td>04/30/2019 06:45:17 AM</td>\n",
       "      <td>4.0</td>\n",
       "      <td>17.0</td>\n",
       "      <td>1.0</td>\n",
       "      <td>9.0</td>\n",
       "      <td>9.0</td>\n",
       "      <td>2019.0</td>\n",
       "      <td>4.8453e+10</td>\n",
       "      <td>48453000307</td>\n",
       "    </tr>\n",
       "    <tr>\n",
       "      <th>7</th>\n",
       "      <td>b7df9ed5-61ae-40ca-9b7e-0ffa1d092b79</td>\n",
       "      <td>09b2c7b8-6631-4999-85d5-4273b4c98f3a</td>\n",
       "      <td>scooter</td>\n",
       "      <td>153.0</td>\n",
       "      <td>0.0</td>\n",
       "      <td>04/29/2019 05:00:00 PM</td>\n",
       "      <td>04/29/2019 05:00:00 PM</td>\n",
       "      <td>04/30/2019 06:45:17 AM</td>\n",
       "      <td>4.0</td>\n",
       "      <td>17.0</td>\n",
       "      <td>1.0</td>\n",
       "      <td>9.0</td>\n",
       "      <td>9.0</td>\n",
       "      <td>2019.0</td>\n",
       "      <td>4.8453e+10</td>\n",
       "      <td>48453000604</td>\n",
       "    </tr>\n",
       "    <tr>\n",
       "      <th>8</th>\n",
       "      <td>1c8b3eab-6aed-4b69-8eca-6b5e0b70a45f</td>\n",
       "      <td>ab262134-2421-49b7-a97f-fadde23e71db</td>\n",
       "      <td>scooter</td>\n",
       "      <td>570.0</td>\n",
       "      <td>1843.0</td>\n",
       "      <td>04/29/2019 05:30:00 PM</td>\n",
       "      <td>04/29/2019 05:45:00 PM</td>\n",
       "      <td>04/30/2019 06:45:17 AM</td>\n",
       "      <td>4.0</td>\n",
       "      <td>17.0</td>\n",
       "      <td>1.0</td>\n",
       "      <td>9.0</td>\n",
       "      <td>9.0</td>\n",
       "      <td>2019.0</td>\n",
       "      <td>4.8453e+10</td>\n",
       "      <td>48453001100</td>\n",
       "    </tr>\n",
       "    <tr>\n",
       "      <th>9</th>\n",
       "      <td>f9174176-9d16-431d-af21-ebcab226da31</td>\n",
       "      <td>73e8b0bf-3aae-4f80-8683-c5d7c3b3989a</td>\n",
       "      <td>scooter</td>\n",
       "      <td>668.0</td>\n",
       "      <td>2829.0</td>\n",
       "      <td>04/29/2019 05:15:00 PM</td>\n",
       "      <td>04/29/2019 05:30:00 PM</td>\n",
       "      <td>04/30/2019 06:45:17 AM</td>\n",
       "      <td>4.0</td>\n",
       "      <td>17.0</td>\n",
       "      <td>1.0</td>\n",
       "      <td>9.0</td>\n",
       "      <td>9.0</td>\n",
       "      <td>2019.0</td>\n",
       "      <td>4.8453e+10</td>\n",
       "      <td>48453001200</td>\n",
       "    </tr>\n",
       "  </tbody>\n",
       "</table>\n",
       "</div>"
      ],
      "text/plain": [
       "                                     id                             device_id  \\\n",
       "0  6865731e-5e4b-4819-9435-4e62e09a652d  08c8c852-257c-49ad-a14f-727bfc79626d   \n",
       "1  08dc0d9c-735e-4006-b9af-60011509e469  255716b5-4a9f-4efc-9967-7a65b3521bac   \n",
       "2  aa27d854-9f27-456e-ae49-f268a9b2b533  6b90a827-60a1-47ad-94a4-d33654dbd50d   \n",
       "3  b7c9f133-966b-46f1-91ce-2682ce7fcf50  1e5234a3-e86b-41e1-a1ad-e98310f3a71c   \n",
       "4  1d4f5d89-c044-46cb-8674-80d37fa0371f  caa0325c-7c0b-4909-a573-d83126ecc953   \n",
       "5  cd442fb9-058f-46a7-af90-b4adb56fd163  1653cf10-75f5-4934-a9d9-c8d43ade67a9   \n",
       "6  e1ac0e42-ab2d-4eac-b019-f085169c1d38  1d89f9e2-d01a-4736-b7d8-258cb9a2108c   \n",
       "7  b7df9ed5-61ae-40ca-9b7e-0ffa1d092b79  09b2c7b8-6631-4999-85d5-4273b4c98f3a   \n",
       "8  1c8b3eab-6aed-4b69-8eca-6b5e0b70a45f  ab262134-2421-49b7-a97f-fadde23e71db   \n",
       "9  f9174176-9d16-431d-af21-ebcab226da31  73e8b0bf-3aae-4f80-8683-c5d7c3b3989a   \n",
       "\n",
       "  vehicle_type  trip_duration  trip_distance              start_time  \\\n",
       "0          NaN            NaN            NaN                     NaN   \n",
       "1      bicycle     11491603.0         1658.0  11/30/2018 11:00:00 AM   \n",
       "2      scooter          170.0            0.0  04/29/2019 05:30:00 PM   \n",
       "3      scooter           90.0            0.0  04/29/2019 05:30:00 PM   \n",
       "4      scooter          570.0          826.0  04/29/2019 05:15:00 PM   \n",
       "5      scooter          438.0         1815.0  04/29/2019 05:30:00 PM   \n",
       "6      scooter          391.0         1519.0  04/29/2019 05:30:00 PM   \n",
       "7      scooter          153.0            0.0  04/29/2019 05:00:00 PM   \n",
       "8      scooter          570.0         1843.0  04/29/2019 05:30:00 PM   \n",
       "9      scooter          668.0         2829.0  04/29/2019 05:15:00 PM   \n",
       "\n",
       "                 end_time           modified_date  month  hour  day_of_week  \\\n",
       "0                     NaN  12/13/2018 03:36:12 PM    NaN   NaN          NaN   \n",
       "1  04/12/2019 12:00:00 PM  12/21/2018 12:41:42 AM   11.0  11.0          5.0   \n",
       "2  04/29/2019 05:30:00 PM  04/30/2019 06:45:17 AM    4.0  17.0          1.0   \n",
       "3  04/29/2019 05:30:00 PM  04/30/2019 06:45:17 AM    4.0  17.0          1.0   \n",
       "4  04/29/2019 05:15:00 PM  04/30/2019 06:45:17 AM    4.0  17.0          1.0   \n",
       "5  04/29/2019 05:45:00 PM  04/30/2019 06:45:17 AM    4.0  17.0          1.0   \n",
       "6  04/29/2019 05:30:00 PM  04/30/2019 06:45:17 AM    4.0  17.0          1.0   \n",
       "7  04/29/2019 05:00:00 PM  04/30/2019 06:45:17 AM    4.0  17.0          1.0   \n",
       "8  04/29/2019 05:45:00 PM  04/30/2019 06:45:17 AM    4.0  17.0          1.0   \n",
       "9  04/29/2019 05:30:00 PM  04/30/2019 06:45:17 AM    4.0  17.0          1.0   \n",
       "\n",
       "   council_district_start  council_district_end    year census_tract_start  \\\n",
       "0                     0.0                   0.0     NaN                NaN   \n",
       "1                     9.0                   0.0  2018.0                NaN   \n",
       "2                     9.0                   9.0  2019.0         4.8453e+10   \n",
       "3                     9.0                   9.0  2019.0         4.8453e+10   \n",
       "4                     9.0                   9.0  2019.0         4.8453e+10   \n",
       "5                     9.0                   9.0  2019.0         4.8453e+10   \n",
       "6                     9.0                   9.0  2019.0         4.8453e+10   \n",
       "7                     9.0                   9.0  2019.0         4.8453e+10   \n",
       "8                     9.0                   9.0  2019.0         4.8453e+10   \n",
       "9                     9.0                   9.0  2019.0         4.8453e+10   \n",
       "\n",
       "  census_tract_end  \n",
       "0              NaN  \n",
       "1              NaN  \n",
       "2      48453000601  \n",
       "3      48453000601  \n",
       "4      48453001100  \n",
       "5      48453000500  \n",
       "6      48453000307  \n",
       "7      48453000604  \n",
       "8      48453001100  \n",
       "9      48453001200  "
      ]
     },
     "execution_count": 27,
     "metadata": {},
     "output_type": "execute_result"
    }
   ],
   "source": [
    "dockless.head(10)"
   ]
  },
  {
   "cell_type": "code",
   "execution_count": 7,
   "metadata": {},
   "outputs": [
    {
     "name": "stdout",
     "output_type": "stream",
     "text": [
      "<class 'pandas.core.frame.DataFrame'>\n",
      "RangeIndex: 5442039 entries, 0 to 5442038\n",
      "Data columns (total 16 columns):\n",
      "ID                          object\n",
      "Device ID                   object\n",
      "Vehicle Type                object\n",
      "Trip Duration               float64\n",
      "Trip Distance               float64\n",
      "Start Time                  object\n",
      "End Time                    object\n",
      "Modified Date               object\n",
      "Month                       float64\n",
      "Hour                        float64\n",
      "Day of Week                 float64\n",
      "Council District (Start)    float64\n",
      "Council District (End)      float64\n",
      "Year                        float64\n",
      "Census Tract Start          object\n",
      "Census Tract End            object\n",
      "dtypes: float64(8), object(8)\n",
      "memory usage: 3.5 GB\n"
     ]
    }
   ],
   "source": [
    "dockless.info(memory_usage='deep')"
   ]
  },
  {
   "cell_type": "markdown",
   "metadata": {},
   "source": [
    "## I did a quick calculation of the average memory usage per column to verify...and it's a lot"
   ]
  },
  {
   "cell_type": "code",
   "execution_count": 10,
   "metadata": {},
   "outputs": [
    {
     "name": "stdout",
     "output_type": "stream",
     "text": [
      "Average memory usage for object columns: 63.57MB\n"
     ]
    }
   ],
   "source": [
    "# memory calc for B cycles data set\n",
    "for dtype in ['float','int','object']:\n",
    "    selected_dtype = bcycle.select_dtypes(include=[dtype])\n",
    "    mean_usage_b = selected_dtype.memory_usage(deep=True).mean()\n",
    "    mean_usage_mb = mean_usage_b / 1024 ** 2\n",
    "print(\"Average memory usage for {} columns: {:03.2f}MB\".format(dtype,mean_usage_mb))"
   ]
  },
  {
   "cell_type": "code",
   "execution_count": 11,
   "metadata": {},
   "outputs": [
    {
     "name": "stdout",
     "output_type": "stream",
     "text": [
      "Average memory usage for object columns: 356.86MB\n"
     ]
    }
   ],
   "source": [
    "# memory calc for dockless data set\n",
    "for dtype in ['float','int','object']:\n",
    "    selected_dtype = dockless.select_dtypes(include=[dtype])\n",
    "    mean_usage_b = selected_dtype.memory_usage(deep=True).mean()\n",
    "    mean_usage_mb = mean_usage_b / 1024 ** 2\n",
    "print(\"Average memory usage for {} columns: {:03.2f}MB\".format(dtype,mean_usage_mb))"
   ]
  },
  {
   "cell_type": "code",
   "execution_count": 13,
   "metadata": {},
   "outputs": [
    {
     "name": "stdout",
     "output_type": "stream",
     "text": [
      "Machine parameters for uint8\n",
      "---------------------------------------------------------------\n",
      "min = 0\n",
      "max = 255\n",
      "---------------------------------------------------------------\n",
      "\n",
      "Machine parameters for int8\n",
      "---------------------------------------------------------------\n",
      "min = -128\n",
      "max = 127\n",
      "---------------------------------------------------------------\n",
      "\n",
      "Machine parameters for int16\n",
      "---------------------------------------------------------------\n",
      "min = -32768\n",
      "max = 32767\n",
      "---------------------------------------------------------------\n",
      "\n"
     ]
    }
   ],
   "source": [
    "int_types = [\"uint8\", \"int8\", \"int16\"]\n",
    "for it in int_types:\n",
    "    print(np.iinfo(it))"
   ]
  },
  {
   "cell_type": "code",
   "execution_count": 38,
   "metadata": {
    "collapsed": true
   },
   "outputs": [],
   "source": [
    "# Created a function to save time\n",
    " \n",
    "def mem_usage(pandas_obj):\n",
    "    if isinstance(pandas_obj,pd.DataFrame):\n",
    "        usage_b = pandas_obj.memory_usage(deep=True).sum()\n",
    "    else: # we assume if not a df it's a series \n",
    "        usage_b = pandas_obj.memory_usage(deep=True)\n",
    "        # convert bytes to megabytes\n",
    "    usage_mb = usage_b / 1024 ** 2\n",
    "    return usage_mb"
   ]
  },
  {
   "cell_type": "code",
   "execution_count": 39,
   "metadata": {},
   "outputs": [
    {
     "name": "stdout",
     "output_type": "stream",
     "text": [
      "26.65155029296875\n",
      "19.988662719726562\n"
     ]
    },
    {
     "data": {
      "text/html": [
       "<div>\n",
       "<style>\n",
       "    .dataframe thead tr:only-child th {\n",
       "        text-align: right;\n",
       "    }\n",
       "\n",
       "    .dataframe thead th {\n",
       "        text-align: left;\n",
       "    }\n",
       "\n",
       "    .dataframe tbody tr th {\n",
       "        vertical-align: top;\n",
       "    }\n",
       "</style>\n",
       "<table border=\"1\" class=\"dataframe\">\n",
       "  <thead>\n",
       "    <tr style=\"text-align: right;\">\n",
       "      <th></th>\n",
       "      <th>before</th>\n",
       "      <th>after</th>\n",
       "    </tr>\n",
       "  </thead>\n",
       "  <tbody>\n",
       "    <tr>\n",
       "      <th>uint16</th>\n",
       "      <td>NaN</td>\n",
       "      <td>1.0</td>\n",
       "    </tr>\n",
       "    <tr>\n",
       "      <th>int64</th>\n",
       "      <td>2.0</td>\n",
       "      <td>NaN</td>\n",
       "    </tr>\n",
       "    <tr>\n",
       "      <th>uint64</th>\n",
       "      <td>NaN</td>\n",
       "      <td>1.0</td>\n",
       "    </tr>\n",
       "  </tbody>\n",
       "</table>\n",
       "</div>"
      ],
      "text/plain": [
       "        before  after\n",
       "uint16     NaN    1.0\n",
       "int64      2.0    NaN\n",
       "uint64     NaN    1.0"
      ]
     },
     "execution_count": 39,
     "metadata": {},
     "output_type": "execute_result"
    }
   ],
   "source": [
    "bcycle_int = bcycle.select_dtypes(include=['int'])\n",
    "converted_int = bcycle_int.apply(pd.to_numeric,downcast='unsigned')\n",
    "print(mem_usage(bcycle_int))\n",
    "print(mem_usage(converted_int))\n",
    "compare_ints = pd.concat([bcycle_int.dtypes,converted_int.dtypes],axis=1)\n",
    "compare_ints.columns = ['before','after']\n",
    "compare_ints.apply(pd.Series.value_counts)"
   ]
  },
  {
   "cell_type": "code",
   "execution_count": 42,
   "metadata": {
    "collapsed": true
   },
   "outputs": [],
   "source": [
    "bcycle_int?"
   ]
  },
  {
   "cell_type": "code",
   "execution_count": 40,
   "metadata": {},
   "outputs": [
    {
     "data": {
      "text/plain": [
       "trip_id                           int64\n",
       "membership_type                  object\n",
       "bicycle_id                       object\n",
       "checkout_date            datetime64[ns]\n",
       "checkout_time                    object\n",
       "checkout_kiosk                   object\n",
       "return_kiosk                     object\n",
       "trip_duration_minutes             int64\n",
       "dtype: object"
      ]
     },
     "execution_count": 40,
     "metadata": {},
     "output_type": "execute_result"
    }
   ],
   "source": [
    "bcycle.dtypes"
   ]
  },
  {
   "cell_type": "code",
   "execution_count": null,
   "metadata": {
    "collapsed": true
   },
   "outputs": [],
   "source": []
  },
  {
   "cell_type": "code",
   "execution_count": 24,
   "metadata": {},
   "outputs": [
    {
     "ename": "UnboundLocalError",
     "evalue": "local variable 'usage_mb' referenced before assignment",
     "output_type": "error",
     "traceback": [
      "\u001b[0;31m---------------------------------------------------------------------------\u001b[0m",
      "\u001b[0;31mUnboundLocalError\u001b[0m                         Traceback (most recent call last)",
      "\u001b[0;32m<ipython-input-24-cd40d8aa887a>\u001b[0m in \u001b[0;36m<module>\u001b[0;34m()\u001b[0m\n\u001b[1;32m      1\u001b[0m \u001b[0mbcycle_float\u001b[0m \u001b[0;34m=\u001b[0m \u001b[0mbcycle\u001b[0m\u001b[0;34m.\u001b[0m\u001b[0mselect_dtypes\u001b[0m\u001b[0;34m(\u001b[0m\u001b[0minclude\u001b[0m\u001b[0;34m=\u001b[0m\u001b[0;34m[\u001b[0m\u001b[0;34m'float'\u001b[0m\u001b[0;34m]\u001b[0m\u001b[0;34m)\u001b[0m\u001b[0;34m\u001b[0m\u001b[0m\n\u001b[1;32m      2\u001b[0m \u001b[0mconverted_float\u001b[0m \u001b[0;34m=\u001b[0m \u001b[0mbcycle_float\u001b[0m\u001b[0;34m.\u001b[0m\u001b[0mapply\u001b[0m\u001b[0;34m(\u001b[0m\u001b[0mpd\u001b[0m\u001b[0;34m.\u001b[0m\u001b[0mto_numeric\u001b[0m\u001b[0;34m,\u001b[0m\u001b[0mdowncast\u001b[0m\u001b[0;34m=\u001b[0m\u001b[0;34m'float'\u001b[0m\u001b[0;34m)\u001b[0m\u001b[0;34m\u001b[0m\u001b[0m\n\u001b[0;32m----> 3\u001b[0;31m \u001b[0mprint\u001b[0m\u001b[0;34m(\u001b[0m\u001b[0mmem_usage\u001b[0m\u001b[0;34m(\u001b[0m\u001b[0mbcycle_float\u001b[0m\u001b[0;34m)\u001b[0m\u001b[0;34m)\u001b[0m\u001b[0;34m\u001b[0m\u001b[0m\n\u001b[0m\u001b[1;32m      4\u001b[0m \u001b[0mprint\u001b[0m\u001b[0;34m(\u001b[0m\u001b[0mmem_usage\u001b[0m\u001b[0;34m(\u001b[0m\u001b[0mconverted_float\u001b[0m\u001b[0;34m)\u001b[0m\u001b[0;34m)\u001b[0m\u001b[0;34m\u001b[0m\u001b[0m\n\u001b[1;32m      5\u001b[0m \u001b[0mcompare_floats\u001b[0m \u001b[0;34m=\u001b[0m \u001b[0mpd\u001b[0m\u001b[0;34m.\u001b[0m\u001b[0mconcat\u001b[0m\u001b[0;34m(\u001b[0m\u001b[0;34m[\u001b[0m\u001b[0mbcycle_float\u001b[0m\u001b[0;34m.\u001b[0m\u001b[0mdtypes\u001b[0m\u001b[0;34m,\u001b[0m\u001b[0mconverted_float\u001b[0m\u001b[0;34m.\u001b[0m\u001b[0mdtypes\u001b[0m\u001b[0;34m]\u001b[0m\u001b[0;34m,\u001b[0m\u001b[0maxis\u001b[0m\u001b[0;34m=\u001b[0m\u001b[0;36m1\u001b[0m\u001b[0;34m)\u001b[0m\u001b[0;34m\u001b[0m\u001b[0m\n",
      "\u001b[0;32m<ipython-input-23-9a954976ff38>\u001b[0m in \u001b[0;36mmem_usage\u001b[0;34m(pandas_obj)\u001b[0m\n\u001b[1;32m      6\u001b[0m         \u001b[0musage_mb\u001b[0m \u001b[0;34m=\u001b[0m \u001b[0musage_b\u001b[0m \u001b[0;34m/\u001b[0m \u001b[0;36m1024\u001b[0m \u001b[0;34m**\u001b[0m \u001b[0;36m2\u001b[0m\u001b[0;34m\u001b[0m\u001b[0m\n\u001b[1;32m      7\u001b[0m         \u001b[0;31m# convert bytes to megabytes\u001b[0m\u001b[0;34m\u001b[0m\u001b[0;34m\u001b[0m\u001b[0m\n\u001b[0;32m----> 8\u001b[0;31m     \u001b[0;32mreturn\u001b[0m \u001b[0;34m\"{:03.2f} MB\"\u001b[0m\u001b[0;34m.\u001b[0m\u001b[0mformat\u001b[0m\u001b[0;34m(\u001b[0m\u001b[0musage_mb\u001b[0m\u001b[0;34m)\u001b[0m\u001b[0;34m\u001b[0m\u001b[0m\n\u001b[0m\u001b[1;32m      9\u001b[0m \u001b[0;34m\u001b[0m\u001b[0m\n\u001b[1;32m     10\u001b[0m \u001b[0mbcycle_int\u001b[0m \u001b[0;34m=\u001b[0m \u001b[0mbcycle\u001b[0m\u001b[0;34m.\u001b[0m\u001b[0mselect_dtypes\u001b[0m\u001b[0;34m(\u001b[0m\u001b[0minclude\u001b[0m\u001b[0;34m=\u001b[0m\u001b[0;34m[\u001b[0m\u001b[0;34m'int'\u001b[0m\u001b[0;34m]\u001b[0m\u001b[0;34m)\u001b[0m\u001b[0;34m\u001b[0m\u001b[0m\n",
      "\u001b[0;31mUnboundLocalError\u001b[0m: local variable 'usage_mb' referenced before assignment"
     ]
    }
   ],
   "source": [
    "bcycle_float = bcycle.select_dtypes(include=['float'])\n",
    "converted_float = bcycle_float.apply(pd.to_numeric,downcast='float')\n",
    "print(mem_usage(bcycle_float))\n",
    "print(mem_usage(converted_float))\n",
    "compare_floats = pd.concat([bcycle_float.dtypes,converted_float.dtypes],axis=1)\n",
    "compare_floats.columns = ['before','after']\n",
    "compare_floats.apply(pd.Series.value_counts)"
   ]
  },
  {
   "cell_type": "markdown",
   "metadata": {},
   "source": [
    "# Dockless Section"
   ]
  },
  {
   "cell_type": "markdown",
   "metadata": {},
   "source": [
    "ID - arbitrary, per website\n",
    "Device ID - arbitrary, per website\n",
    "trip - seconds and in meters\n",
    "month - jan = 1, etc\n",
    "day - sunday = 0, etc\n",
    "council district - \n"
   ]
  },
  {
   "cell_type": "markdown",
   "metadata": {},
   "source": [
    "to do:\n",
    "- get dummies/recode ID and Device ID for easier management?\n",
    "- get dummies on cehicle type\n",
    "- convert trip to minutes?\n",
    "- drop two census columns and modified date\n",
    "- covert duration?, distance, year to int 16 \n",
    "- convert month, hour, day, council start/finish,  to int 8\n",
    "- what to do w/ start/end time?"
   ]
  },
  {
   "cell_type": "code",
   "execution_count": 67,
   "metadata": {},
   "outputs": [
    {
     "name": "stdout",
     "output_type": "stream",
     "text": [
      "There are 5442039 trips in this dataset\n"
     ]
    }
   ],
   "source": [
    "num_trips = len(dockless)\n",
    "print(\"There are {} trips in this dataset\".format(num_trips))"
   ]
  },
  {
   "cell_type": "code",
   "execution_count": 24,
   "metadata": {
    "collapsed": true
   },
   "outputs": [],
   "source": [
    "# data clean columns: \n",
    "dockless.columns = dockless.columns.str.strip().str.lower().str.replace(' ', '_').str.replace('(', '').str.replace(')', '')"
   ]
  },
  {
   "cell_type": "code",
   "execution_count": 25,
   "metadata": {},
   "outputs": [
    {
     "data": {
      "text/html": [
       "<div>\n",
       "<style>\n",
       "    .dataframe thead tr:only-child th {\n",
       "        text-align: right;\n",
       "    }\n",
       "\n",
       "    .dataframe thead th {\n",
       "        text-align: left;\n",
       "    }\n",
       "\n",
       "    .dataframe tbody tr th {\n",
       "        vertical-align: top;\n",
       "    }\n",
       "</style>\n",
       "<table border=\"1\" class=\"dataframe\">\n",
       "  <thead>\n",
       "    <tr style=\"text-align: right;\">\n",
       "      <th></th>\n",
       "      <th>id</th>\n",
       "      <th>device_id</th>\n",
       "      <th>vehicle_type</th>\n",
       "      <th>trip_duration</th>\n",
       "      <th>trip_distance</th>\n",
       "      <th>start_time</th>\n",
       "      <th>end_time</th>\n",
       "      <th>modified_date</th>\n",
       "      <th>month</th>\n",
       "      <th>hour</th>\n",
       "      <th>day_of_week</th>\n",
       "      <th>council_district_start</th>\n",
       "      <th>council_district_end</th>\n",
       "      <th>year</th>\n",
       "      <th>census_tract_start</th>\n",
       "      <th>census_tract_end</th>\n",
       "    </tr>\n",
       "  </thead>\n",
       "  <tbody>\n",
       "    <tr>\n",
       "      <th>1909719</th>\n",
       "      <td>12a6f192-5ae4-41ce-90b6-158b8b6c283f</td>\n",
       "      <td>23d6137d-fbbc-4139-a96e-db4af628c581</td>\n",
       "      <td>scooter</td>\n",
       "      <td>200.0</td>\n",
       "      <td>338.0</td>\n",
       "      <td>09/27/2018 09:30:00 AM</td>\n",
       "      <td>09/27/2018 09:45:00 AM</td>\n",
       "      <td>04/17/2019 07:02:28 AM</td>\n",
       "      <td>9.0</td>\n",
       "      <td>9.0</td>\n",
       "      <td>4.0</td>\n",
       "      <td>9.0</td>\n",
       "      <td>9.0</td>\n",
       "      <td>2018.0</td>\n",
       "      <td>48453001100</td>\n",
       "      <td>48453001100</td>\n",
       "    </tr>\n",
       "    <tr>\n",
       "      <th>2834537</th>\n",
       "      <td>d715bc93-cb77-4066-b4e9-e54986342970</td>\n",
       "      <td>d56a12f8-3a6d-42d4-a475-9f40e7355216</td>\n",
       "      <td>scooter</td>\n",
       "      <td>700.0</td>\n",
       "      <td>0.0</td>\n",
       "      <td>11/09/2018 04:15:00 PM</td>\n",
       "      <td>11/09/2018 04:30:00 PM</td>\n",
       "      <td>04/17/2019 02:34:24 AM</td>\n",
       "      <td>11.0</td>\n",
       "      <td>16.0</td>\n",
       "      <td>5.0</td>\n",
       "      <td>9.0</td>\n",
       "      <td>9.0</td>\n",
       "      <td>2018.0</td>\n",
       "      <td>48453001100</td>\n",
       "      <td>48453001401</td>\n",
       "    </tr>\n",
       "    <tr>\n",
       "      <th>3278795</th>\n",
       "      <td>bc1b6c28-27d0-4ad3-a1a6-06f0718776a9</td>\n",
       "      <td>e3eb3352-748e-4e74-9958-69d2d5e27b41</td>\n",
       "      <td>scooter</td>\n",
       "      <td>449.0</td>\n",
       "      <td>1823.0</td>\n",
       "      <td>04/23/2019 03:00:00 PM</td>\n",
       "      <td>04/23/2019 03:15:00 PM</td>\n",
       "      <td>04/24/2019 10:38:04 PM</td>\n",
       "      <td>4.0</td>\n",
       "      <td>15.0</td>\n",
       "      <td>2.0</td>\n",
       "      <td>9.0</td>\n",
       "      <td>9.0</td>\n",
       "      <td>2019.0</td>\n",
       "      <td>48453000601</td>\n",
       "      <td>48453000401</td>\n",
       "    </tr>\n",
       "    <tr>\n",
       "      <th>2855068</th>\n",
       "      <td>b59c11cf-7b4d-47fe-89a6-1cc2f560c465</td>\n",
       "      <td>988f68c6-d18c-4c1a-8bd8-0136c6fbd396</td>\n",
       "      <td>scooter</td>\n",
       "      <td>445.0</td>\n",
       "      <td>2381.0</td>\n",
       "      <td>04/09/2019 08:00:00 AM</td>\n",
       "      <td>04/09/2019 08:15:00 AM</td>\n",
       "      <td>04/17/2019 02:36:31 AM</td>\n",
       "      <td>4.0</td>\n",
       "      <td>8.0</td>\n",
       "      <td>2.0</td>\n",
       "      <td>7.0</td>\n",
       "      <td>10.0</td>\n",
       "      <td>2019.0</td>\n",
       "      <td>48453000205</td>\n",
       "      <td>48453000204</td>\n",
       "    </tr>\n",
       "    <tr>\n",
       "      <th>4066781</th>\n",
       "      <td>2d03782c-f4b7-428d-815c-e0bc0f8fc056</td>\n",
       "      <td>418f89a6-0289-4bf1-a194-2ee59153d447</td>\n",
       "      <td>scooter</td>\n",
       "      <td>726.0</td>\n",
       "      <td>2012.0</td>\n",
       "      <td>11/04/2018 09:15:00 AM</td>\n",
       "      <td>11/04/2018 09:30:00 AM</td>\n",
       "      <td>04/17/2019 05:18:42 AM</td>\n",
       "      <td>11.0</td>\n",
       "      <td>9.0</td>\n",
       "      <td>0.0</td>\n",
       "      <td>3.0</td>\n",
       "      <td>3.0</td>\n",
       "      <td>2018.0</td>\n",
       "      <td>48453001000</td>\n",
       "      <td>48453000902</td>\n",
       "    </tr>\n",
       "  </tbody>\n",
       "</table>\n",
       "</div>"
      ],
      "text/plain": [
       "                                           id  \\\n",
       "1909719  12a6f192-5ae4-41ce-90b6-158b8b6c283f   \n",
       "2834537  d715bc93-cb77-4066-b4e9-e54986342970   \n",
       "3278795  bc1b6c28-27d0-4ad3-a1a6-06f0718776a9   \n",
       "2855068  b59c11cf-7b4d-47fe-89a6-1cc2f560c465   \n",
       "4066781  2d03782c-f4b7-428d-815c-e0bc0f8fc056   \n",
       "\n",
       "                                    device_id vehicle_type  trip_duration  \\\n",
       "1909719  23d6137d-fbbc-4139-a96e-db4af628c581      scooter          200.0   \n",
       "2834537  d56a12f8-3a6d-42d4-a475-9f40e7355216      scooter          700.0   \n",
       "3278795  e3eb3352-748e-4e74-9958-69d2d5e27b41      scooter          449.0   \n",
       "2855068  988f68c6-d18c-4c1a-8bd8-0136c6fbd396      scooter          445.0   \n",
       "4066781  418f89a6-0289-4bf1-a194-2ee59153d447      scooter          726.0   \n",
       "\n",
       "         trip_distance              start_time                end_time  \\\n",
       "1909719          338.0  09/27/2018 09:30:00 AM  09/27/2018 09:45:00 AM   \n",
       "2834537            0.0  11/09/2018 04:15:00 PM  11/09/2018 04:30:00 PM   \n",
       "3278795         1823.0  04/23/2019 03:00:00 PM  04/23/2019 03:15:00 PM   \n",
       "2855068         2381.0  04/09/2019 08:00:00 AM  04/09/2019 08:15:00 AM   \n",
       "4066781         2012.0  11/04/2018 09:15:00 AM  11/04/2018 09:30:00 AM   \n",
       "\n",
       "                  modified_date  month  hour  day_of_week  \\\n",
       "1909719  04/17/2019 07:02:28 AM    9.0   9.0          4.0   \n",
       "2834537  04/17/2019 02:34:24 AM   11.0  16.0          5.0   \n",
       "3278795  04/24/2019 10:38:04 PM    4.0  15.0          2.0   \n",
       "2855068  04/17/2019 02:36:31 AM    4.0   8.0          2.0   \n",
       "4066781  04/17/2019 05:18:42 AM   11.0   9.0          0.0   \n",
       "\n",
       "         council_district_start  council_district_end    year  \\\n",
       "1909719                     9.0                   9.0  2018.0   \n",
       "2834537                     9.0                   9.0  2018.0   \n",
       "3278795                     9.0                   9.0  2019.0   \n",
       "2855068                     7.0                  10.0  2019.0   \n",
       "4066781                     3.0                   3.0  2018.0   \n",
       "\n",
       "        census_tract_start census_tract_end  \n",
       "1909719        48453001100      48453001100  \n",
       "2834537        48453001100      48453001401  \n",
       "3278795        48453000601      48453000401  \n",
       "2855068        48453000205      48453000204  \n",
       "4066781        48453001000      48453000902  "
      ]
     },
     "execution_count": 25,
     "metadata": {},
     "output_type": "execute_result"
    }
   ],
   "source": [
    "dockless.sample(5)"
   ]
  },
  {
   "cell_type": "code",
   "execution_count": 69,
   "metadata": {},
   "outputs": [
    {
     "data": {
      "text/plain": [
       "ID                            0\n",
       "Device ID                     0\n",
       "Vehicle Type                  1\n",
       "Trip Duration                 1\n",
       "Trip Distance                 1\n",
       "Start Time                    1\n",
       "End Time                      1\n",
       "Modified Date                 0\n",
       "Month                         1\n",
       "Hour                          1\n",
       "Day of Week                   1\n",
       "Council District (Start)    186\n",
       "Council District (End)      186\n",
       "Year                          1\n",
       "Census Tract Start          188\n",
       "Census Tract End            188\n",
       "dtype: int64"
      ]
     },
     "execution_count": 69,
     "metadata": {},
     "output_type": "execute_result"
    }
   ],
   "source": [
    "dockless.isnull().sum()"
   ]
  },
  {
   "cell_type": "markdown",
   "metadata": {},
   "source": [
    "## For the most part, all the trips start and end in the same Council District, with the exception being zone Zero starting at 5th place but ending at 8th."
   ]
  },
  {
   "cell_type": "code",
   "execution_count": 70,
   "metadata": {},
   "outputs": [
    {
     "data": {
      "text/plain": [
       "9.0     4262556\n",
       "3.0      498504\n",
       "1.0      327468\n",
       "5.0      189368\n",
       "0.0       41657\n",
       "7.0       37811\n",
       "8.0       33117\n",
       "10.0      28544\n",
       "4.0       16669\n",
       "2.0        5672\n",
       "6.0         487\n",
       "Name: Council District (Start), dtype: int64"
      ]
     },
     "execution_count": 70,
     "metadata": {},
     "output_type": "execute_result"
    }
   ],
   "source": [
    "dockless['Council District (Start)'].value_counts()"
   ]
  },
  {
   "cell_type": "code",
   "execution_count": 71,
   "metadata": {},
   "outputs": [
    {
     "data": {
      "text/plain": [
       "9.0     4191987\n",
       "3.0      514803\n",
       "1.0      362081\n",
       "5.0      203877\n",
       "7.0       38961\n",
       "8.0       38768\n",
       "10.0      32538\n",
       "0.0       31676\n",
       "4.0       19330\n",
       "2.0        7348\n",
       "6.0         484\n",
       "Name: Council District (End), dtype: int64"
      ]
     },
     "execution_count": 71,
     "metadata": {},
     "output_type": "execute_result"
    }
   ],
   "source": [
    "dockless['Council District (End)'].value_counts()"
   ]
  },
  {
   "cell_type": "code",
   "execution_count": null,
   "metadata": {
    "collapsed": true
   },
   "outputs": [],
   "source": []
  }
 ],
 "metadata": {
  "kernelspec": {
   "display_name": "Python 3",
   "language": "python",
   "name": "python3"
  },
  "language_info": {
   "codemirror_mode": {
    "name": "ipython",
    "version": 3
   },
   "file_extension": ".py",
   "mimetype": "text/x-python",
   "name": "python",
   "nbconvert_exporter": "python",
   "pygments_lexer": "ipython3",
   "version": "3.6.3"
  }
 },
 "nbformat": 4,
 "nbformat_minor": 2
}
