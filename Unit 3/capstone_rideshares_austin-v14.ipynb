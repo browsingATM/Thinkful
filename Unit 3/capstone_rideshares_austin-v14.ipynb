{
 "cells": [
  {
   "cell_type": "markdown",
   "metadata": {},
   "source": [
    "future project:\n",
    "- don't drop GEOID's in dockless; figure out how they work for more accurate analysis\n",
    "- add kiosk location by council district in bcycle to match dockless\n"
   ]
  },
  {
   "cell_type": "markdown",
   "metadata": {},
   "source": [
    "links: \n",
    "- bcycle data: https://data.austintexas.gov/Transportation-and-Mobility/Austin-B-Cycle-Trips/tyfh-5r8s\n",
    "- dockless data: https://data.austintexas.gov/Transportation-and-Mobility/Dockless-Vehicle-Trips/7d8e-dm7r \n",
    "- dockless city council map w/ numbers: http://www.austintexas.gov/GIS/CouncilDistrictMap/\n",
    "- COA micromobility landing page: https://austintexas.gov/micromobility\n",
    "- City of Austin District Representatives: https://www.austintexas.gov/government\n",
    "- battery life, source 1: https://www.cnet.com/news/electric-scooters-bikes-dockless-ride-share-bird-lime-jump-spin-scoot/\n",
    "- battery life, source 2: https://www.washingtonpost.com/local/trafficandcommuting/scooters-we-answer-your-questions-about-this-latest-transportation-trend/2018/11/10/a94b7d94-de03-11e8-85df-7a6b4d25cfbb_story.html?utm_term=.05c93aa0f747\n",
    "- ojo/scoot vespa info: https://electrek.co/2019/01/22/ojo-electric-scooters/ \n",
    "veoride range info: https://news.uark.edu/articles/46123/veoride-bikeshare-program-adds-150-new-e-assist-bikes "
   ]
  },
  {
   "cell_type": "code",
   "execution_count": 1,
   "metadata": {
    "collapsed": true
   },
   "outputs": [],
   "source": [
    "#Import libraries\n",
    "from sklearn import preprocessing\n",
    "%matplotlib inline\n",
    "import pandas as pd\n",
    "import numpy as np\n",
    "import scipy\n",
    "import matplotlib.pyplot as plt\n",
    "import pandas as pd\n",
    "import numpy as np\n",
    "import math\n",
    "import operator\n",
    "import seaborn as sns\n",
    "sns.set_style('white')\n",
    "\n",
    "#ml algos\n",
    "from sklearn.model_selection import train_test_split\n",
    "from sklearn.metrics import accuracy_score\n",
    "\n",
    "pd.options.display.max_rows = 30"
   ]
  },
  {
   "cell_type": "code",
   "execution_count": 2,
   "metadata": {},
   "outputs": [
    {
     "data": {
      "application/javascript": [
       "IPython.notebook.set_autosave_interval(180000)"
      ]
     },
     "metadata": {},
     "output_type": "display_data"
    },
    {
     "name": "stdout",
     "output_type": "stream",
     "text": [
      "Autosaving every 180 seconds\n"
     ]
    }
   ],
   "source": [
    "%autosave 180"
   ]
  },
  {
   "cell_type": "code",
   "execution_count": null,
   "metadata": {
    "collapsed": true
   },
   "outputs": [],
   "source": []
  },
  {
   "cell_type": "code",
   "execution_count": 3,
   "metadata": {},
   "outputs": [
    {
     "name": "stderr",
     "output_type": "stream",
     "text": [
      "/Users/jakegrosek/anaconda3/lib/python3.6/site-packages/IPython/core/interactiveshell.py:2698: DtypeWarning: Columns (2) have mixed types. Specify dtype option on import or set low_memory=False.\n",
      "  interactivity=interactivity, compiler=compiler, result=result)\n",
      "/Users/jakegrosek/anaconda3/lib/python3.6/site-packages/IPython/core/interactiveshell.py:2698: DtypeWarning: Columns (14,15) have mixed types. Specify dtype option on import or set low_memory=False.\n",
      "  interactivity=interactivity, compiler=compiler, result=result)\n"
     ]
    }
   ],
   "source": [
    "#import csv for Austin B-Cycle Trip data\n",
    "bcycle = pd.read_csv('Austin_B-Cycle_Trips.csv', encoding='latin1')\n",
    "bcycle.to_csv('Austin_B-Cycle_Trips.csv.xz', compression='xz')\n",
    "\n",
    "#import csv for private dockless rideshare co's\n",
    "dockless = pd.read_csv('Dockless_Vehicle_Trips.csv', encoding='latin1')"
   ]
  },
  {
   "cell_type": "markdown",
   "metadata": {},
   "source": [
    "# 1. DATA CLEANING SECTION"
   ]
  },
  {
   "cell_type": "markdown",
   "metadata": {},
   "source": [
    "# Austin B-Cycle Docked Bikes"
   ]
  },
  {
   "cell_type": "markdown",
   "metadata": {},
   "source": [
    "## Before the dataset is altered, there are 1,171,610 recorded trips. This value will be used to calculate just how many of the rows dropped after the dataset is cleaned. "
   ]
  },
  {
   "cell_type": "code",
   "execution_count": 4,
   "metadata": {},
   "outputs": [
    {
     "name": "stdout",
     "output_type": "stream",
     "text": [
      "There are 1171610 trips in this dataset\n"
     ]
    }
   ],
   "source": [
    "# original number of trips\n",
    "num_trips = len(bcycle)\n",
    "print(\"There are {} trips in this dataset\".format(num_trips))"
   ]
  },
  {
   "cell_type": "code",
   "execution_count": 5,
   "metadata": {
    "collapsed": true
   },
   "outputs": [],
   "source": [
    "# data clean columns: \n",
    "bcycle.columns = bcycle.columns.str.strip().str.lower().str.replace(' ', '_').str.replace('(', '').str.replace(')', '')"
   ]
  },
  {
   "cell_type": "markdown",
   "metadata": {},
   "source": [
    "## We can drop Year and Month since ~50% of the values in both colummns are NaN while the Checkout Date are 100% filled."
   ]
  },
  {
   "cell_type": "code",
   "execution_count": 6,
   "metadata": {
    "collapsed": true
   },
   "outputs": [],
   "source": [
    "bcycle.drop(['month', 'year'], 1, inplace=True)"
   ]
  },
  {
   "cell_type": "code",
   "execution_count": 7,
   "metadata": {},
   "outputs": [
    {
     "data": {
      "text/html": [
       "<div>\n",
       "<style>\n",
       "    .dataframe thead tr:only-child th {\n",
       "        text-align: right;\n",
       "    }\n",
       "\n",
       "    .dataframe thead th {\n",
       "        text-align: left;\n",
       "    }\n",
       "\n",
       "    .dataframe tbody tr th {\n",
       "        vertical-align: top;\n",
       "    }\n",
       "</style>\n",
       "<table border=\"1\" class=\"dataframe\">\n",
       "  <thead>\n",
       "    <tr style=\"text-align: right;\">\n",
       "      <th></th>\n",
       "      <th>trip_id</th>\n",
       "      <th>membership_type</th>\n",
       "      <th>bicycle_id</th>\n",
       "      <th>checkout_date</th>\n",
       "      <th>checkout_time</th>\n",
       "      <th>checkout_kiosk_id</th>\n",
       "      <th>checkout_kiosk</th>\n",
       "      <th>return_kiosk_id</th>\n",
       "      <th>return_kiosk</th>\n",
       "      <th>trip_duration_minutes</th>\n",
       "    </tr>\n",
       "  </thead>\n",
       "  <tbody>\n",
       "    <tr>\n",
       "      <th>0</th>\n",
       "      <td>9900285854</td>\n",
       "      <td>Annual (San Antonio B-cycle)</td>\n",
       "      <td>207</td>\n",
       "      <td>10/26/2014</td>\n",
       "      <td>13:12:00</td>\n",
       "      <td>2537.0</td>\n",
       "      <td>West &amp; 6th St.</td>\n",
       "      <td>2707.0</td>\n",
       "      <td>Rainey St @ Cummings</td>\n",
       "      <td>76</td>\n",
       "    </tr>\n",
       "  </tbody>\n",
       "</table>\n",
       "</div>"
      ],
      "text/plain": [
       "      trip_id               membership_type bicycle_id checkout_date  \\\n",
       "0  9900285854  Annual (San Antonio B-cycle)        207    10/26/2014   \n",
       "\n",
       "  checkout_time  checkout_kiosk_id  checkout_kiosk  return_kiosk_id  \\\n",
       "0      13:12:00             2537.0  West & 6th St.           2707.0   \n",
       "\n",
       "           return_kiosk  trip_duration_minutes  \n",
       "0  Rainey St @ Cummings                     76  "
      ]
     },
     "execution_count": 7,
     "metadata": {},
     "output_type": "execute_result"
    }
   ],
   "source": [
    "bcycle.head(1)"
   ]
  },
  {
   "cell_type": "markdown",
   "metadata": {},
   "source": [
    "## Cleanup -  bicycle_id"
   ]
  },
  {
   "cell_type": "code",
   "execution_count": 8,
   "metadata": {},
   "outputs": [
    {
     "data": {
      "text/plain": [
       "trip_id                                 19000898\n",
       "membership_type          U.T. Student Membership\n",
       "bicycle_id                                  303G\n",
       "checkout_date                         11/18/2018\n",
       "checkout_time                           22:35:50\n",
       "checkout_kiosk_id                           2547\n",
       "checkout_kiosk                  Guadalupe & 21st\n",
       "return_kiosk_id                             3838\n",
       "return_kiosk                       Nueces & 26th\n",
       "trip_duration_minutes                          7\n",
       "Name: 1077930, dtype: object"
      ]
     },
     "execution_count": 8,
     "metadata": {},
     "output_type": "execute_result"
    }
   ],
   "source": [
    "bcycle.loc[1077930]"
   ]
  },
  {
   "cell_type": "code",
   "execution_count": 9,
   "metadata": {},
   "outputs": [
    {
     "data": {
      "text/plain": [
       "0"
      ]
     },
     "execution_count": 9,
     "metadata": {},
     "output_type": "execute_result"
    }
   ],
   "source": [
    "bcycle.loc[bcycle.bicycle_id == '318', 'bicycle_id'].count()"
   ]
  },
  {
   "cell_type": "code",
   "execution_count": 10,
   "metadata": {
    "collapsed": true
   },
   "outputs": [],
   "source": [
    "bcycle['bicycle_id'] = bcycle.bicycle_id.astype(str)"
   ]
  },
  {
   "cell_type": "code",
   "execution_count": 11,
   "metadata": {},
   "outputs": [
    {
     "data": {
      "text/plain": [
       "<class 'str'>    1171610\n",
       "Name: bicycle_id, dtype: int64"
      ]
     },
     "execution_count": 11,
     "metadata": {},
     "output_type": "execute_result"
    }
   ],
   "source": [
    "bcycle.bicycle_id.apply(lambda x: type(x)).value_counts()"
   ]
  },
  {
   "cell_type": "code",
   "execution_count": 12,
   "metadata": {
    "collapsed": true
   },
   "outputs": [],
   "source": [
    "bcycle['bicycle_id'] = bcycle['bicycle_id'].str.replace('G', '')"
   ]
  },
  {
   "cell_type": "code",
   "execution_count": 13,
   "metadata": {
    "collapsed": true
   },
   "outputs": [],
   "source": [
    "bcycle['bicycle_id'] = bcycle['bicycle_id'].str.replace('B', '')"
   ]
  },
  {
   "cell_type": "code",
   "execution_count": 14,
   "metadata": {},
   "outputs": [
    {
     "data": {
      "text/plain": [
       "951.0    1896\n",
       "387.0    1861\n",
       "885.0    1855\n",
       "925.0    1852\n",
       "80.0     1844\n",
       "696.0    1841\n",
       "839.0    1840\n",
       "969.0    1831\n",
       "60.0     1829\n",
       "281      1826\n",
       "660.0    1822\n",
       "37.0     1810\n",
       "75.0     1808\n",
       "185.0    1793\n",
       "661.0    1790\n",
       "         ... \n",
       "988.0      58\n",
       "14190      49\n",
       "987.0      17\n",
       "579         5\n",
       "15          5\n",
       "933         5\n",
       "483         4\n",
       "393         4\n",
       "459         4\n",
       "195         3\n",
       "176         3\n",
       "805         2\n",
       "165         2\n",
       "974         1\n",
       "980         1\n",
       "Name: bicycle_id, Length: 1008, dtype: int64"
      ]
     },
     "execution_count": 14,
     "metadata": {},
     "output_type": "execute_result"
    }
   ],
   "source": [
    "bcycle['bicycle_id'] = bcycle['bicycle_id'].str.replace('E', '')\n",
    "bcycle.bicycle_id.value_counts()"
   ]
  },
  {
   "cell_type": "code",
   "execution_count": 15,
   "metadata": {
    "collapsed": true
   },
   "outputs": [],
   "source": [
    "bcycle['bicycle_id'] = bcycle.bicycle_id.astype(float)"
   ]
  },
  {
   "cell_type": "code",
   "execution_count": 16,
   "metadata": {},
   "outputs": [
    {
     "data": {
      "text/plain": [
       "<bound method IndexOpsMixin.value_counts of 0           207.0\n",
       "1           969.0\n",
       "2           214.0\n",
       "3           745.0\n",
       "4           164.0\n",
       "5            37.0\n",
       "6           517.0\n",
       "7           996.0\n",
       "8           517.0\n",
       "9           385.0\n",
       "10          133.0\n",
       "11           52.0\n",
       "12          206.0\n",
       "13          241.0\n",
       "14          478.0\n",
       "            ...  \n",
       "1171595     509.0\n",
       "1171596     575.0\n",
       "1171597     166.0\n",
       "1171598      19.0\n",
       "1171599     287.0\n",
       "1171600     157.0\n",
       "1171601     370.0\n",
       "1171602     203.0\n",
       "1171603     281.0\n",
       "1171604     745.0\n",
       "1171605     451.0\n",
       "1171606      62.0\n",
       "1171607     473.0\n",
       "1171608     461.0\n",
       "1171609    2197.0\n",
       "Name: bicycle_id, Length: 1171610, dtype: float64>"
      ]
     },
     "execution_count": 16,
     "metadata": {},
     "output_type": "execute_result"
    }
   ],
   "source": [
    "bcycle['bicycle_id'].value_counts"
   ]
  },
  {
   "cell_type": "code",
   "execution_count": 17,
   "metadata": {},
   "outputs": [
    {
     "name": "stdout",
     "output_type": "stream",
     "text": [
      "There are 723 rides with NaN values out of 1171610 total rides, which is equal to 0.0006170995467775113.\n"
     ]
    }
   ],
   "source": [
    "#confirmed there are 723 NaN values out of 1.17 M\n",
    "nan_bicycle_id = bcycle.bicycle_id.isnull().sum(axis=0)\n",
    "nan_bicycle_id_percent = nan_bicycle_id / num_trips\n",
    "print(\"There are {} rides with NaN values out of {} total rides, which is equal to {}.\"\n",
    "      .format(nan_bicycle_id, num_trips, nan_bicycle_id_percent))"
   ]
  },
  {
   "cell_type": "markdown",
   "metadata": {},
   "source": [
    "## It is safe to say that we can drop the NaN's in these column."
   ]
  },
  {
   "cell_type": "code",
   "execution_count": 18,
   "metadata": {
    "collapsed": true
   },
   "outputs": [],
   "source": [
    "bcycle = bcycle.dropna(axis=0, subset=['bicycle_id'])"
   ]
  },
  {
   "cell_type": "markdown",
   "metadata": {},
   "source": [
    "## I'm also creating a new dataframe to store the number of drops rows for future reference"
   ]
  },
  {
   "cell_type": "code",
   "execution_count": 19,
   "metadata": {
    "collapsed": true
   },
   "outputs": [],
   "source": [
    "dropped_rows = [nan_bicycle_id]"
   ]
  },
  {
   "cell_type": "code",
   "execution_count": 20,
   "metadata": {},
   "outputs": [
    {
     "data": {
      "text/plain": [
       "trip_id                      0\n",
       "membership_type           6463\n",
       "bicycle_id                   0\n",
       "checkout_date                0\n",
       "checkout_time                0\n",
       "checkout_kiosk_id        23131\n",
       "checkout_kiosk               0\n",
       "return_kiosk_id          24390\n",
       "return_kiosk                 0\n",
       "trip_duration_minutes        0\n",
       "dtype: int64"
      ]
     },
     "execution_count": 20,
     "metadata": {},
     "output_type": "execute_result"
    }
   ],
   "source": [
    "bcycle.isnull().sum()"
   ]
  },
  {
   "cell_type": "code",
   "execution_count": 21,
   "metadata": {
    "collapsed": true
   },
   "outputs": [],
   "source": [
    "bcycle['bicycle_id'] = bcycle.bicycle_id.astype(float)"
   ]
  },
  {
   "cell_type": "code",
   "execution_count": 22,
   "metadata": {},
   "outputs": [
    {
     "data": {
      "text/plain": [
       "<class 'float'>    1170887\n",
       "Name: bicycle_id, dtype: int64"
      ]
     },
     "execution_count": 22,
     "metadata": {},
     "output_type": "execute_result"
    }
   ],
   "source": [
    "bcycle.bicycle_id.apply(lambda x: type(x)).value_counts()"
   ]
  },
  {
   "cell_type": "code",
   "execution_count": 23,
   "metadata": {},
   "outputs": [
    {
     "data": {
      "text/plain": [
       "0           207.0\n",
       "1           969.0\n",
       "2           214.0\n",
       "3           745.0\n",
       "4           164.0\n",
       "5            37.0\n",
       "6           517.0\n",
       "7           996.0\n",
       "8           517.0\n",
       "9           385.0\n",
       "10          133.0\n",
       "11           52.0\n",
       "12          206.0\n",
       "13          241.0\n",
       "14          478.0\n",
       "            ...  \n",
       "1171595     509.0\n",
       "1171596     575.0\n",
       "1171597     166.0\n",
       "1171598      19.0\n",
       "1171599     287.0\n",
       "1171600     157.0\n",
       "1171601     370.0\n",
       "1171602     203.0\n",
       "1171603     281.0\n",
       "1171604     745.0\n",
       "1171605     451.0\n",
       "1171606      62.0\n",
       "1171607     473.0\n",
       "1171608     461.0\n",
       "1171609    2197.0\n",
       "Name: bicycle_id, Length: 1170887, dtype: float32"
      ]
     },
     "execution_count": 23,
     "metadata": {},
     "output_type": "execute_result"
    }
   ],
   "source": [
    "pd.to_numeric(bcycle['bicycle_id'], downcast='float')"
   ]
  },
  {
   "cell_type": "code",
   "execution_count": 24,
   "metadata": {},
   "outputs": [
    {
     "data": {
      "text/plain": [
       "trip_id                    int64\n",
       "membership_type           object\n",
       "bicycle_id               float64\n",
       "checkout_date             object\n",
       "checkout_time             object\n",
       "checkout_kiosk_id        float64\n",
       "checkout_kiosk            object\n",
       "return_kiosk_id          float64\n",
       "return_kiosk              object\n",
       "trip_duration_minutes      int64\n",
       "dtype: object"
      ]
     },
     "execution_count": 24,
     "metadata": {},
     "output_type": "execute_result"
    }
   ],
   "source": [
    "bcycle.dtypes"
   ]
  },
  {
   "cell_type": "markdown",
   "metadata": {},
   "source": [
    "## Cleanup -  return and checkout kiosk ID's"
   ]
  },
  {
   "cell_type": "markdown",
   "metadata": {},
   "source": [
    "## i need to see list of all columns with NaNs"
   ]
  },
  {
   "cell_type": "code",
   "execution_count": 25,
   "metadata": {},
   "outputs": [
    {
     "data": {
      "text/plain": [
       "trip_id                      0\n",
       "membership_type           6463\n",
       "bicycle_id                   0\n",
       "checkout_date                0\n",
       "checkout_time                0\n",
       "checkout_kiosk_id        23131\n",
       "checkout_kiosk               0\n",
       "return_kiosk_id          24390\n",
       "return_kiosk                 0\n",
       "trip_duration_minutes        0\n",
       "dtype: int64"
      ]
     },
     "execution_count": 25,
     "metadata": {},
     "output_type": "execute_result"
    }
   ],
   "source": [
    "bcycle.isnull().sum()"
   ]
  },
  {
   "cell_type": "code",
   "execution_count": 26,
   "metadata": {},
   "outputs": [
    {
     "name": "stdout",
     "output_type": "stream",
     "text": [
      "There are 23131 rides with NaN values out of 1171610 total rides, which is equal to 0.019742917865159908.\n"
     ]
    }
   ],
   "source": [
    "\n",
    "nan_checkout_k = bcycle.checkout_kiosk_id.isnull().sum(axis=0)\n",
    "nan_checkout_kiosk_id_percent = nan_checkout_k / num_trips\n",
    "print(\"There are {} rides with NaN values out of {} total rides, which is equal to {}.\"\n",
    "      .format(nan_checkout_k, num_trips, nan_checkout_kiosk_id_percent))"
   ]
  },
  {
   "cell_type": "code",
   "execution_count": 27,
   "metadata": {},
   "outputs": [
    {
     "name": "stdout",
     "output_type": "stream",
     "text": [
      "There are 24390 rides with NaN values out of 1171610 total rides, which is equal to 0.020817507532369987 percent of the dataframe.\n"
     ]
    }
   ],
   "source": [
    "nan_return_k = bcycle.return_kiosk_id.isnull().sum(axis=0)\n",
    "nan_return_kiosk_id_percent = nan_return_k / num_trips\n",
    "print(\"There are {} rides with NaN values out of {} total rides, which is equal to {} percent of the dataframe.\"\n",
    "      .format(nan_return_k, num_trips, nan_return_kiosk_id_percent))"
   ]
  },
  {
   "cell_type": "code",
   "execution_count": 28,
   "metadata": {
    "collapsed": true
   },
   "outputs": [],
   "source": [
    "nan_sum_ids = bcycle.apply(lambda row: True if pd.isnull(row['checkout_kiosk_id'])\n",
    "             or pd.isnull(row['return_kiosk_id']) else False, axis='columns')\n",
    "nan_sum_ids.sum()\n",
    "var_sum_ids = nan_sum_ids.sum()"
   ]
  },
  {
   "cell_type": "markdown",
   "metadata": {},
   "source": [
    "## Altogether, only 3.6% of the dataframe's rows have NaN's values in either the checkout or return kiosk ID, so I'm dropping them. "
   ]
  },
  {
   "cell_type": "code",
   "execution_count": 29,
   "metadata": {},
   "outputs": [
    {
     "name": "stdout",
     "output_type": "stream",
     "text": [
      "There are 42430 uniquw rows dropped from a total of 1171610, which is 0.036215122779764596 percent of the dataset.\n"
     ]
    }
   ],
   "source": [
    "percent_kiosks_dropped = var_sum_ids / num_trips\n",
    "print(\"There are {} uniquw rows dropped from a total of {}, which is {} percent of the dataset.\"\n",
    "      .format(var_sum_ids, num_trips, percent_kiosks_dropped))"
   ]
  },
  {
   "cell_type": "code",
   "execution_count": 30,
   "metadata": {},
   "outputs": [
    {
     "name": "stdout",
     "output_type": "stream",
     "text": [
      "[23131, 24390]\n"
     ]
    }
   ],
   "source": [
    "dropped_rows = [nan_checkout_k, nan_return_k]\n",
    "print(dropped_rows)"
   ]
  },
  {
   "cell_type": "code",
   "execution_count": 31,
   "metadata": {
    "collapsed": true
   },
   "outputs": [],
   "source": [
    "bcycle = bcycle.dropna(axis=0, subset=['checkout_kiosk_id', 'return_kiosk_id'])"
   ]
  },
  {
   "cell_type": "code",
   "execution_count": 32,
   "metadata": {},
   "outputs": [
    {
     "data": {
      "text/plain": [
       "trip_id                     0\n",
       "membership_type          6366\n",
       "bicycle_id                  0\n",
       "checkout_date               0\n",
       "checkout_time               0\n",
       "checkout_kiosk_id           0\n",
       "checkout_kiosk              0\n",
       "return_kiosk_id             0\n",
       "return_kiosk                0\n",
       "trip_duration_minutes       0\n",
       "dtype: int64"
      ]
     },
     "execution_count": 32,
     "metadata": {},
     "output_type": "execute_result"
    }
   ],
   "source": [
    "bcycle.isnull().sum()"
   ]
  },
  {
   "cell_type": "code",
   "execution_count": 33,
   "metadata": {},
   "outputs": [
    {
     "data": {
      "text/plain": [
       "trip_id                    int64\n",
       "membership_type           object\n",
       "bicycle_id               float64\n",
       "checkout_date             object\n",
       "checkout_time             object\n",
       "checkout_kiosk_id        float64\n",
       "checkout_kiosk            object\n",
       "return_kiosk_id          float64\n",
       "return_kiosk              object\n",
       "trip_duration_minutes      int64\n",
       "dtype: object"
      ]
     },
     "execution_count": 33,
     "metadata": {},
     "output_type": "execute_result"
    }
   ],
   "source": [
    "bcycle.dtypes"
   ]
  },
  {
   "cell_type": "markdown",
   "metadata": {
    "collapsed": true
   },
   "source": [
    "## Cleanup - membership_type"
   ]
  },
  {
   "cell_type": "code",
   "execution_count": 34,
   "metadata": {},
   "outputs": [
    {
     "name": "stdout",
     "output_type": "stream",
     "text": [
      "There are 6366 rides with NaN values out of 1171610 total rides, which is equal to 0.019742917865159908.\n"
     ]
    }
   ],
   "source": [
    "nan_membership_type = bcycle.membership_type.isnull().sum(axis=0)\n",
    "nan_membership_type_percent = nan_checkout_k / num_trips\n",
    "print(\"There are {} rides with NaN values out of {} total rides, which is equal to {}.\"\n",
    "      .format(nan_membership_type, num_trips, nan_membership_type_percent))"
   ]
  },
  {
   "cell_type": "code",
   "execution_count": 35,
   "metadata": {
    "collapsed": true
   },
   "outputs": [],
   "source": [
    "\n",
    "\n",
    "bcycle = bcycle.dropna(axis=0, subset=['membership_type'])"
   ]
  },
  {
   "cell_type": "markdown",
   "metadata": {
    "collapsed": true
   },
   "source": [
    "## Convert checkout_date to a standardized to_datetime"
   ]
  },
  {
   "cell_type": "code",
   "execution_count": 36,
   "metadata": {
    "collapsed": true
   },
   "outputs": [],
   "source": [
    "bcycle['checkout_date'] = pd.to_datetime(bcycle['checkout_date'])"
   ]
  },
  {
   "cell_type": "markdown",
   "metadata": {},
   "source": [
    "## There is also a mismatch betweent the number of unique Return & Checkout Kiosk and the corresponding ID's"
   ]
  },
  {
   "cell_type": "code",
   "execution_count": 37,
   "metadata": {},
   "outputs": [
    {
     "data": {
      "text/plain": [
       "96"
      ]
     },
     "execution_count": 37,
     "metadata": {},
     "output_type": "execute_result"
    }
   ],
   "source": [
    "bcycle['checkout_kiosk_id'].nunique()"
   ]
  },
  {
   "cell_type": "code",
   "execution_count": 38,
   "metadata": {},
   "outputs": [
    {
     "data": {
      "text/plain": [
       "100"
      ]
     },
     "execution_count": 38,
     "metadata": {},
     "output_type": "execute_result"
    }
   ],
   "source": [
    "bcycle['checkout_kiosk'].nunique()"
   ]
  },
  {
   "cell_type": "code",
   "execution_count": 39,
   "metadata": {},
   "outputs": [
    {
     "data": {
      "text/plain": [
       "96"
      ]
     },
     "execution_count": 39,
     "metadata": {},
     "output_type": "execute_result"
    }
   ],
   "source": [
    "bcycle['return_kiosk_id'].nunique()"
   ]
  },
  {
   "cell_type": "code",
   "execution_count": 40,
   "metadata": {},
   "outputs": [
    {
     "data": {
      "text/plain": [
       "99"
      ]
     },
     "execution_count": 40,
     "metadata": {},
     "output_type": "execute_result"
    }
   ],
   "source": [
    "bcycle['return_kiosk'].nunique()"
   ]
  },
  {
   "cell_type": "markdown",
   "metadata": {},
   "source": [
    "## Memory"
   ]
  },
  {
   "cell_type": "code",
   "execution_count": 41,
   "metadata": {},
   "outputs": [
    {
     "name": "stdout",
     "output_type": "stream",
     "text": [
      "<class 'pandas.core.frame.DataFrame'>\n",
      "Int64Index: 1122091 entries, 0 to 1171609\n",
      "Data columns (total 10 columns):\n",
      "trip_id                  1122091 non-null int64\n",
      "membership_type          1122091 non-null object\n",
      "bicycle_id               1122091 non-null float64\n",
      "checkout_date            1122091 non-null datetime64[ns]\n",
      "checkout_time            1122091 non-null object\n",
      "checkout_kiosk_id        1122091 non-null float64\n",
      "checkout_kiosk           1122091 non-null object\n",
      "return_kiosk_id          1122091 non-null float64\n",
      "return_kiosk             1122091 non-null object\n",
      "trip_duration_minutes    1122091 non-null int64\n",
      "dtypes: datetime64[ns](1), float64(3), int64(2), object(4)\n",
      "memory usage: 374.5 MB\n"
     ]
    }
   ],
   "source": [
    "bcycle.info(memory_usage='deep')"
   ]
  },
  {
   "cell_type": "markdown",
   "metadata": {},
   "source": [
    "things to reduce\n",
    "bicycle id-> int 8\n",
    "checkout ID-> int 16\n",
    "return ID-> int 16\n",
    "trip duration-> int 16\n",
    "month-> int 8\n",
    "year-> int 16\n",
    "\n",
    "get dummies\n",
    "membership\n",
    "checkout kiosk\n",
    "return kiosk"
   ]
  },
  {
   "cell_type": "markdown",
   "metadata": {},
   "source": [
    "## I did a quick calculation of the average memory usage per column to verify...and it's a lot"
   ]
  },
  {
   "cell_type": "code",
   "execution_count": 42,
   "metadata": {},
   "outputs": [
    {
     "name": "stdout",
     "output_type": "stream",
     "text": [
      "Average memory usage for object columns: 64.63MB\n"
     ]
    }
   ],
   "source": [
    "# memory calc for B cycles data set\n",
    "for dtype in ['float','int','object']:\n",
    "    selected_dtype = bcycle.select_dtypes(include=[dtype])\n",
    "    mean_usage_b = selected_dtype.memory_usage(deep=True).mean()\n",
    "    mean_usage_mb = mean_usage_b / 1024 ** 2\n",
    "print(\"Average memory usage for {} columns: {:03.2f}MB\".format(dtype,mean_usage_mb))"
   ]
  },
  {
   "cell_type": "code",
   "execution_count": 43,
   "metadata": {},
   "outputs": [
    {
     "name": "stdout",
     "output_type": "stream",
     "text": [
      "Machine parameters for uint8\n",
      "---------------------------------------------------------------\n",
      "min = 0\n",
      "max = 255\n",
      "---------------------------------------------------------------\n",
      "\n",
      "Machine parameters for int8\n",
      "---------------------------------------------------------------\n",
      "min = -128\n",
      "max = 127\n",
      "---------------------------------------------------------------\n",
      "\n",
      "Machine parameters for int16\n",
      "---------------------------------------------------------------\n",
      "min = -32768\n",
      "max = 32767\n",
      "---------------------------------------------------------------\n",
      "\n"
     ]
    }
   ],
   "source": [
    "int_types = [\"uint8\", \"int8\", \"int16\"]\n",
    "for it in int_types:\n",
    "    print(np.iinfo(it))"
   ]
  },
  {
   "cell_type": "code",
   "execution_count": 44,
   "metadata": {
    "collapsed": true
   },
   "outputs": [],
   "source": [
    "# Created a function to save time\n",
    " \n",
    "def mem_usage(pandas_obj):\n",
    "    if isinstance(pandas_obj,pd.DataFrame):\n",
    "        usage_b = pandas_obj.memory_usage(deep=True).sum()\n",
    "    else: # we assume if not a df it's a series \n",
    "        usage_b = pandas_obj.memory_usage(deep=True)\n",
    "        # convert bytes to megabytes\n",
    "    usage_mb = usage_b / 1024 ** 2\n",
    "    return usage_mb"
   ]
  },
  {
   "cell_type": "code",
   "execution_count": 45,
   "metadata": {},
   "outputs": [
    {
     "name": "stdout",
     "output_type": "stream",
     "text": [
      "25.68262481689453\n",
      "19.2619686126709\n"
     ]
    },
    {
     "data": {
      "text/html": [
       "<div>\n",
       "<style>\n",
       "    .dataframe thead tr:only-child th {\n",
       "        text-align: right;\n",
       "    }\n",
       "\n",
       "    .dataframe thead th {\n",
       "        text-align: left;\n",
       "    }\n",
       "\n",
       "    .dataframe tbody tr th {\n",
       "        vertical-align: top;\n",
       "    }\n",
       "</style>\n",
       "<table border=\"1\" class=\"dataframe\">\n",
       "  <thead>\n",
       "    <tr style=\"text-align: right;\">\n",
       "      <th></th>\n",
       "      <th>before</th>\n",
       "      <th>after</th>\n",
       "    </tr>\n",
       "  </thead>\n",
       "  <tbody>\n",
       "    <tr>\n",
       "      <th>uint16</th>\n",
       "      <td>NaN</td>\n",
       "      <td>1.0</td>\n",
       "    </tr>\n",
       "    <tr>\n",
       "      <th>int64</th>\n",
       "      <td>2.0</td>\n",
       "      <td>NaN</td>\n",
       "    </tr>\n",
       "    <tr>\n",
       "      <th>uint64</th>\n",
       "      <td>NaN</td>\n",
       "      <td>1.0</td>\n",
       "    </tr>\n",
       "  </tbody>\n",
       "</table>\n",
       "</div>"
      ],
      "text/plain": [
       "        before  after\n",
       "uint16     NaN    1.0\n",
       "int64      2.0    NaN\n",
       "uint64     NaN    1.0"
      ]
     },
     "execution_count": 45,
     "metadata": {},
     "output_type": "execute_result"
    }
   ],
   "source": [
    "bcycle_int = bcycle.select_dtypes(include=['int'])\n",
    "converted_int = bcycle_int.apply(pd.to_numeric,downcast='unsigned')\n",
    "print(mem_usage(bcycle_int))\n",
    "print(mem_usage(converted_int))\n",
    "compare_ints = pd.concat([bcycle_int.dtypes,converted_int.dtypes],axis=1)\n",
    "compare_ints.columns = ['before','after']\n",
    "compare_ints.apply(pd.Series.value_counts)"
   ]
  },
  {
   "cell_type": "markdown",
   "metadata": {},
   "source": [
    "## Downcast columns"
   ]
  },
  {
   "cell_type": "code",
   "execution_count": 46,
   "metadata": {},
   "outputs": [
    {
     "data": {
      "text/html": [
       "<div>\n",
       "<style>\n",
       "    .dataframe thead tr:only-child th {\n",
       "        text-align: right;\n",
       "    }\n",
       "\n",
       "    .dataframe thead th {\n",
       "        text-align: left;\n",
       "    }\n",
       "\n",
       "    .dataframe tbody tr th {\n",
       "        vertical-align: top;\n",
       "    }\n",
       "</style>\n",
       "<table border=\"1\" class=\"dataframe\">\n",
       "  <thead>\n",
       "    <tr style=\"text-align: right;\">\n",
       "      <th></th>\n",
       "      <th>trip_id</th>\n",
       "      <th>membership_type</th>\n",
       "      <th>bicycle_id</th>\n",
       "      <th>checkout_date</th>\n",
       "      <th>checkout_time</th>\n",
       "      <th>checkout_kiosk_id</th>\n",
       "      <th>checkout_kiosk</th>\n",
       "      <th>return_kiosk_id</th>\n",
       "      <th>return_kiosk</th>\n",
       "      <th>trip_duration_minutes</th>\n",
       "    </tr>\n",
       "  </thead>\n",
       "  <tbody>\n",
       "    <tr>\n",
       "      <th>0</th>\n",
       "      <td>9900285854</td>\n",
       "      <td>Annual (San Antonio B-cycle)</td>\n",
       "      <td>207.0</td>\n",
       "      <td>2014-10-26</td>\n",
       "      <td>13:12:00</td>\n",
       "      <td>2537.0</td>\n",
       "      <td>West &amp; 6th St.</td>\n",
       "      <td>2707.0</td>\n",
       "      <td>Rainey St @ Cummings</td>\n",
       "      <td>76</td>\n",
       "    </tr>\n",
       "    <tr>\n",
       "      <th>1</th>\n",
       "      <td>9900285855</td>\n",
       "      <td>24-Hour Kiosk (Austin B-cycle)</td>\n",
       "      <td>969.0</td>\n",
       "      <td>2014-10-26</td>\n",
       "      <td>13:12:00</td>\n",
       "      <td>2498.0</td>\n",
       "      <td>Convention Center / 4th St. @ MetroRail</td>\n",
       "      <td>2566.0</td>\n",
       "      <td>Pfluger Bridge @ W 2nd Street</td>\n",
       "      <td>58</td>\n",
       "    </tr>\n",
       "    <tr>\n",
       "      <th>2</th>\n",
       "      <td>9900285856</td>\n",
       "      <td>Annual Membership (Austin B-cycle)</td>\n",
       "      <td>214.0</td>\n",
       "      <td>2014-10-26</td>\n",
       "      <td>13:12:00</td>\n",
       "      <td>2537.0</td>\n",
       "      <td>West &amp; 6th St.</td>\n",
       "      <td>2496.0</td>\n",
       "      <td>8th &amp; Congress</td>\n",
       "      <td>8</td>\n",
       "    </tr>\n",
       "    <tr>\n",
       "      <th>6</th>\n",
       "      <td>9900285860</td>\n",
       "      <td>Annual Membership (Austin B-cycle)</td>\n",
       "      <td>517.0</td>\n",
       "      <td>2014-10-26</td>\n",
       "      <td>13:12:00</td>\n",
       "      <td>2496.0</td>\n",
       "      <td>8th &amp; Congress</td>\n",
       "      <td>2561.0</td>\n",
       "      <td>State Capitol Visitors Garage @ San Jacinto &amp; ...</td>\n",
       "      <td>35</td>\n",
       "    </tr>\n",
       "    <tr>\n",
       "      <th>7</th>\n",
       "      <td>9900285861</td>\n",
       "      <td>Annual Membership (Austin B-cycle)</td>\n",
       "      <td>996.0</td>\n",
       "      <td>2014-10-26</td>\n",
       "      <td>13:12:00</td>\n",
       "      <td>2569.0</td>\n",
       "      <td>East 11th St. &amp; San Marcos</td>\n",
       "      <td>2499.0</td>\n",
       "      <td>City Hall / Lavaca &amp; 2nd</td>\n",
       "      <td>11</td>\n",
       "    </tr>\n",
       "  </tbody>\n",
       "</table>\n",
       "</div>"
      ],
      "text/plain": [
       "      trip_id                     membership_type  bicycle_id checkout_date  \\\n",
       "0  9900285854        Annual (San Antonio B-cycle)       207.0    2014-10-26   \n",
       "1  9900285855      24-Hour Kiosk (Austin B-cycle)       969.0    2014-10-26   \n",
       "2  9900285856  Annual Membership (Austin B-cycle)       214.0    2014-10-26   \n",
       "6  9900285860  Annual Membership (Austin B-cycle)       517.0    2014-10-26   \n",
       "7  9900285861  Annual Membership (Austin B-cycle)       996.0    2014-10-26   \n",
       "\n",
       "  checkout_time  checkout_kiosk_id                           checkout_kiosk  \\\n",
       "0      13:12:00             2537.0                           West & 6th St.   \n",
       "1      13:12:00             2498.0  Convention Center / 4th St. @ MetroRail   \n",
       "2      13:12:00             2537.0                           West & 6th St.   \n",
       "6      13:12:00             2496.0                           8th & Congress   \n",
       "7      13:12:00             2569.0               East 11th St. & San Marcos   \n",
       "\n",
       "   return_kiosk_id                                       return_kiosk  \\\n",
       "0           2707.0                               Rainey St @ Cummings   \n",
       "1           2566.0                      Pfluger Bridge @ W 2nd Street   \n",
       "2           2496.0                                     8th & Congress   \n",
       "6           2561.0  State Capitol Visitors Garage @ San Jacinto & ...   \n",
       "7           2499.0                           City Hall / Lavaca & 2nd   \n",
       "\n",
       "   trip_duration_minutes  \n",
       "0                     76  \n",
       "1                     58  \n",
       "2                      8  \n",
       "6                     35  \n",
       "7                     11  "
      ]
     },
     "execution_count": 46,
     "metadata": {},
     "output_type": "execute_result"
    }
   ],
   "source": [
    "bcycle.head(5)"
   ]
  },
  {
   "cell_type": "code",
   "execution_count": 47,
   "metadata": {},
   "outputs": [
    {
     "data": {
      "text/plain": [
       "trip_id                           int64\n",
       "membership_type                  object\n",
       "bicycle_id                      float64\n",
       "checkout_date            datetime64[ns]\n",
       "checkout_time                    object\n",
       "checkout_kiosk_id               float64\n",
       "checkout_kiosk                   object\n",
       "return_kiosk_id                 float64\n",
       "return_kiosk                     object\n",
       "trip_duration_minutes             int64\n",
       "dtype: object"
      ]
     },
     "execution_count": 47,
     "metadata": {},
     "output_type": "execute_result"
    }
   ],
   "source": [
    "bcycle.dtypes"
   ]
  },
  {
   "cell_type": "code",
   "execution_count": 48,
   "metadata": {
    "collapsed": true
   },
   "outputs": [],
   "source": [
    "bcycle['trip_id'] = pd.to_numeric(bcycle['trip_id'], errors='ignore', downcast='integer')"
   ]
  },
  {
   "cell_type": "code",
   "execution_count": 49,
   "metadata": {
    "collapsed": true
   },
   "outputs": [],
   "source": [
    "bcycle['bicycle_id'] = pd.to_numeric(bcycle['bicycle_id'], errors='ignore', downcast='integer')"
   ]
  },
  {
   "cell_type": "code",
   "execution_count": 50,
   "metadata": {
    "collapsed": true
   },
   "outputs": [],
   "source": [
    "bcycle['checkout_kiosk_id'] = pd.to_numeric(bcycle['checkout_kiosk_id'], errors='ignore', downcast='integer')"
   ]
  },
  {
   "cell_type": "code",
   "execution_count": 51,
   "metadata": {
    "collapsed": true
   },
   "outputs": [],
   "source": [
    "bcycle['return_kiosk_id'] = pd.to_numeric(bcycle['return_kiosk_id'], errors='ignore', downcast='integer')"
   ]
  },
  {
   "cell_type": "code",
   "execution_count": 52,
   "metadata": {
    "collapsed": true
   },
   "outputs": [],
   "source": [
    "bcycle['trip_duration_minutes'] = pd.to_numeric(bcycle['trip_duration_minutes'], errors='ignore', downcast='integer')"
   ]
  },
  {
   "cell_type": "code",
   "execution_count": 53,
   "metadata": {},
   "outputs": [
    {
     "data": {
      "text/plain": [
       "trip_id                           int64\n",
       "membership_type                  object\n",
       "bicycle_id                        int16\n",
       "checkout_date            datetime64[ns]\n",
       "checkout_time                    object\n",
       "checkout_kiosk_id                 int16\n",
       "checkout_kiosk                   object\n",
       "return_kiosk_id                   int16\n",
       "return_kiosk                     object\n",
       "trip_duration_minutes             int16\n",
       "dtype: object"
      ]
     },
     "execution_count": 53,
     "metadata": {},
     "output_type": "execute_result"
    }
   ],
   "source": [
    "bcycle.dtypes"
   ]
  },
  {
   "cell_type": "markdown",
   "metadata": {},
   "source": [
    "## Add column measuring time in seconds to match Dockless dataset"
   ]
  },
  {
   "cell_type": "code",
   "execution_count": 54,
   "metadata": {},
   "outputs": [
    {
     "data": {
      "text/html": [
       "<div>\n",
       "<style>\n",
       "    .dataframe thead tr:only-child th {\n",
       "        text-align: right;\n",
       "    }\n",
       "\n",
       "    .dataframe thead th {\n",
       "        text-align: left;\n",
       "    }\n",
       "\n",
       "    .dataframe tbody tr th {\n",
       "        vertical-align: top;\n",
       "    }\n",
       "</style>\n",
       "<table border=\"1\" class=\"dataframe\">\n",
       "  <thead>\n",
       "    <tr style=\"text-align: right;\">\n",
       "      <th></th>\n",
       "      <th>trip_id</th>\n",
       "      <th>membership_type</th>\n",
       "      <th>bicycle_id</th>\n",
       "      <th>checkout_date</th>\n",
       "      <th>checkout_time</th>\n",
       "      <th>checkout_kiosk_id</th>\n",
       "      <th>checkout_kiosk</th>\n",
       "      <th>return_kiosk_id</th>\n",
       "      <th>return_kiosk</th>\n",
       "      <th>trip_duration_minutes</th>\n",
       "    </tr>\n",
       "  </thead>\n",
       "  <tbody>\n",
       "    <tr>\n",
       "      <th>0</th>\n",
       "      <td>9900285854</td>\n",
       "      <td>Annual (San Antonio B-cycle)</td>\n",
       "      <td>207</td>\n",
       "      <td>2014-10-26</td>\n",
       "      <td>13:12:00</td>\n",
       "      <td>2537</td>\n",
       "      <td>West &amp; 6th St.</td>\n",
       "      <td>2707</td>\n",
       "      <td>Rainey St @ Cummings</td>\n",
       "      <td>76</td>\n",
       "    </tr>\n",
       "    <tr>\n",
       "      <th>1</th>\n",
       "      <td>9900285855</td>\n",
       "      <td>24-Hour Kiosk (Austin B-cycle)</td>\n",
       "      <td>969</td>\n",
       "      <td>2014-10-26</td>\n",
       "      <td>13:12:00</td>\n",
       "      <td>2498</td>\n",
       "      <td>Convention Center / 4th St. @ MetroRail</td>\n",
       "      <td>2566</td>\n",
       "      <td>Pfluger Bridge @ W 2nd Street</td>\n",
       "      <td>58</td>\n",
       "    </tr>\n",
       "    <tr>\n",
       "      <th>2</th>\n",
       "      <td>9900285856</td>\n",
       "      <td>Annual Membership (Austin B-cycle)</td>\n",
       "      <td>214</td>\n",
       "      <td>2014-10-26</td>\n",
       "      <td>13:12:00</td>\n",
       "      <td>2537</td>\n",
       "      <td>West &amp; 6th St.</td>\n",
       "      <td>2496</td>\n",
       "      <td>8th &amp; Congress</td>\n",
       "      <td>8</td>\n",
       "    </tr>\n",
       "    <tr>\n",
       "      <th>6</th>\n",
       "      <td>9900285860</td>\n",
       "      <td>Annual Membership (Austin B-cycle)</td>\n",
       "      <td>517</td>\n",
       "      <td>2014-10-26</td>\n",
       "      <td>13:12:00</td>\n",
       "      <td>2496</td>\n",
       "      <td>8th &amp; Congress</td>\n",
       "      <td>2561</td>\n",
       "      <td>State Capitol Visitors Garage @ San Jacinto &amp; ...</td>\n",
       "      <td>35</td>\n",
       "    </tr>\n",
       "    <tr>\n",
       "      <th>7</th>\n",
       "      <td>9900285861</td>\n",
       "      <td>Annual Membership (Austin B-cycle)</td>\n",
       "      <td>996</td>\n",
       "      <td>2014-10-26</td>\n",
       "      <td>13:12:00</td>\n",
       "      <td>2569</td>\n",
       "      <td>East 11th St. &amp; San Marcos</td>\n",
       "      <td>2499</td>\n",
       "      <td>City Hall / Lavaca &amp; 2nd</td>\n",
       "      <td>11</td>\n",
       "    </tr>\n",
       "    <tr>\n",
       "      <th>8</th>\n",
       "      <td>9900285862</td>\n",
       "      <td>Annual Membership (Austin B-cycle)</td>\n",
       "      <td>517</td>\n",
       "      <td>2014-10-26</td>\n",
       "      <td>13:12:00</td>\n",
       "      <td>2496</td>\n",
       "      <td>8th &amp; Congress</td>\n",
       "      <td>2496</td>\n",
       "      <td>8th &amp; Congress</td>\n",
       "      <td>0</td>\n",
       "    </tr>\n",
       "    <tr>\n",
       "      <th>10</th>\n",
       "      <td>9900285864</td>\n",
       "      <td>Annual Membership (Austin B-cycle)</td>\n",
       "      <td>133</td>\n",
       "      <td>2014-10-26</td>\n",
       "      <td>13:12:00</td>\n",
       "      <td>2504</td>\n",
       "      <td>South Congress &amp; Elizabeth</td>\n",
       "      <td>2496</td>\n",
       "      <td>8th &amp; Congress</td>\n",
       "      <td>10</td>\n",
       "    </tr>\n",
       "    <tr>\n",
       "      <th>12</th>\n",
       "      <td>9900285866</td>\n",
       "      <td>24-Hour Kiosk (Austin B-cycle)</td>\n",
       "      <td>206</td>\n",
       "      <td>2014-10-26</td>\n",
       "      <td>13:12:00</td>\n",
       "      <td>2575</td>\n",
       "      <td>Riverside @ S. Lamar</td>\n",
       "      <td>2575</td>\n",
       "      <td>Riverside @ S. Lamar</td>\n",
       "      <td>34</td>\n",
       "    </tr>\n",
       "    <tr>\n",
       "      <th>13</th>\n",
       "      <td>9900285867</td>\n",
       "      <td>24-Hour Kiosk (Austin B-cycle)</td>\n",
       "      <td>241</td>\n",
       "      <td>2014-10-26</td>\n",
       "      <td>13:12:00</td>\n",
       "      <td>2494</td>\n",
       "      <td>2nd &amp; Congress</td>\n",
       "      <td>2570</td>\n",
       "      <td>South Congress &amp; Academy</td>\n",
       "      <td>12</td>\n",
       "    </tr>\n",
       "    <tr>\n",
       "      <th>14</th>\n",
       "      <td>9900285868</td>\n",
       "      <td>24-Hour Kiosk (Austin B-cycle)</td>\n",
       "      <td>478</td>\n",
       "      <td>2014-10-26</td>\n",
       "      <td>13:12:00</td>\n",
       "      <td>2504</td>\n",
       "      <td>South Congress &amp; Elizabeth</td>\n",
       "      <td>2540</td>\n",
       "      <td>17th &amp; Guadalupe</td>\n",
       "      <td>37</td>\n",
       "    </tr>\n",
       "  </tbody>\n",
       "</table>\n",
       "</div>"
      ],
      "text/plain": [
       "       trip_id                     membership_type  bicycle_id checkout_date  \\\n",
       "0   9900285854        Annual (San Antonio B-cycle)         207    2014-10-26   \n",
       "1   9900285855      24-Hour Kiosk (Austin B-cycle)         969    2014-10-26   \n",
       "2   9900285856  Annual Membership (Austin B-cycle)         214    2014-10-26   \n",
       "6   9900285860  Annual Membership (Austin B-cycle)         517    2014-10-26   \n",
       "7   9900285861  Annual Membership (Austin B-cycle)         996    2014-10-26   \n",
       "8   9900285862  Annual Membership (Austin B-cycle)         517    2014-10-26   \n",
       "10  9900285864  Annual Membership (Austin B-cycle)         133    2014-10-26   \n",
       "12  9900285866      24-Hour Kiosk (Austin B-cycle)         206    2014-10-26   \n",
       "13  9900285867      24-Hour Kiosk (Austin B-cycle)         241    2014-10-26   \n",
       "14  9900285868      24-Hour Kiosk (Austin B-cycle)         478    2014-10-26   \n",
       "\n",
       "   checkout_time  checkout_kiosk_id                           checkout_kiosk  \\\n",
       "0       13:12:00               2537                           West & 6th St.   \n",
       "1       13:12:00               2498  Convention Center / 4th St. @ MetroRail   \n",
       "2       13:12:00               2537                           West & 6th St.   \n",
       "6       13:12:00               2496                           8th & Congress   \n",
       "7       13:12:00               2569               East 11th St. & San Marcos   \n",
       "8       13:12:00               2496                           8th & Congress   \n",
       "10      13:12:00               2504               South Congress & Elizabeth   \n",
       "12      13:12:00               2575                     Riverside @ S. Lamar   \n",
       "13      13:12:00               2494                           2nd & Congress   \n",
       "14      13:12:00               2504               South Congress & Elizabeth   \n",
       "\n",
       "    return_kiosk_id                                       return_kiosk  \\\n",
       "0              2707                               Rainey St @ Cummings   \n",
       "1              2566                      Pfluger Bridge @ W 2nd Street   \n",
       "2              2496                                     8th & Congress   \n",
       "6              2561  State Capitol Visitors Garage @ San Jacinto & ...   \n",
       "7              2499                           City Hall / Lavaca & 2nd   \n",
       "8              2496                                     8th & Congress   \n",
       "10             2496                                     8th & Congress   \n",
       "12             2575                               Riverside @ S. Lamar   \n",
       "13             2570                           South Congress & Academy   \n",
       "14             2540                                   17th & Guadalupe   \n",
       "\n",
       "    trip_duration_minutes  \n",
       "0                      76  \n",
       "1                      58  \n",
       "2                       8  \n",
       "6                      35  \n",
       "7                      11  \n",
       "8                       0  \n",
       "10                     10  \n",
       "12                     34  \n",
       "13                     12  \n",
       "14                     37  "
      ]
     },
     "execution_count": 54,
     "metadata": {},
     "output_type": "execute_result"
    }
   ],
   "source": [
    "bcycle.head(10)"
   ]
  },
  {
   "cell_type": "code",
   "execution_count": 55,
   "metadata": {
    "collapsed": true
   },
   "outputs": [],
   "source": [
    "bcycle['trip_duration_seconds'] = bcycle['trip_duration_minutes'] * 60"
   ]
  },
  {
   "cell_type": "code",
   "execution_count": 56,
   "metadata": {},
   "outputs": [
    {
     "data": {
      "text/html": [
       "<div>\n",
       "<style>\n",
       "    .dataframe thead tr:only-child th {\n",
       "        text-align: right;\n",
       "    }\n",
       "\n",
       "    .dataframe thead th {\n",
       "        text-align: left;\n",
       "    }\n",
       "\n",
       "    .dataframe tbody tr th {\n",
       "        vertical-align: top;\n",
       "    }\n",
       "</style>\n",
       "<table border=\"1\" class=\"dataframe\">\n",
       "  <thead>\n",
       "    <tr style=\"text-align: right;\">\n",
       "      <th></th>\n",
       "      <th>trip_id</th>\n",
       "      <th>membership_type</th>\n",
       "      <th>bicycle_id</th>\n",
       "      <th>checkout_date</th>\n",
       "      <th>checkout_time</th>\n",
       "      <th>checkout_kiosk_id</th>\n",
       "      <th>checkout_kiosk</th>\n",
       "      <th>return_kiosk_id</th>\n",
       "      <th>return_kiosk</th>\n",
       "      <th>trip_duration_minutes</th>\n",
       "      <th>trip_duration_seconds</th>\n",
       "    </tr>\n",
       "  </thead>\n",
       "  <tbody>\n",
       "    <tr>\n",
       "      <th>0</th>\n",
       "      <td>9900285854</td>\n",
       "      <td>Annual (San Antonio B-cycle)</td>\n",
       "      <td>207</td>\n",
       "      <td>2014-10-26</td>\n",
       "      <td>13:12:00</td>\n",
       "      <td>2537</td>\n",
       "      <td>West &amp; 6th St.</td>\n",
       "      <td>2707</td>\n",
       "      <td>Rainey St @ Cummings</td>\n",
       "      <td>76</td>\n",
       "      <td>4560</td>\n",
       "    </tr>\n",
       "    <tr>\n",
       "      <th>1</th>\n",
       "      <td>9900285855</td>\n",
       "      <td>24-Hour Kiosk (Austin B-cycle)</td>\n",
       "      <td>969</td>\n",
       "      <td>2014-10-26</td>\n",
       "      <td>13:12:00</td>\n",
       "      <td>2498</td>\n",
       "      <td>Convention Center / 4th St. @ MetroRail</td>\n",
       "      <td>2566</td>\n",
       "      <td>Pfluger Bridge @ W 2nd Street</td>\n",
       "      <td>58</td>\n",
       "      <td>3480</td>\n",
       "    </tr>\n",
       "  </tbody>\n",
       "</table>\n",
       "</div>"
      ],
      "text/plain": [
       "      trip_id                 membership_type  bicycle_id checkout_date  \\\n",
       "0  9900285854    Annual (San Antonio B-cycle)         207    2014-10-26   \n",
       "1  9900285855  24-Hour Kiosk (Austin B-cycle)         969    2014-10-26   \n",
       "\n",
       "  checkout_time  checkout_kiosk_id                           checkout_kiosk  \\\n",
       "0      13:12:00               2537                           West & 6th St.   \n",
       "1      13:12:00               2498  Convention Center / 4th St. @ MetroRail   \n",
       "\n",
       "   return_kiosk_id                   return_kiosk  trip_duration_minutes  \\\n",
       "0             2707           Rainey St @ Cummings                     76   \n",
       "1             2566  Pfluger Bridge @ W 2nd Street                     58   \n",
       "\n",
       "   trip_duration_seconds  \n",
       "0                   4560  \n",
       "1                   3480  "
      ]
     },
     "execution_count": 56,
     "metadata": {},
     "output_type": "execute_result"
    }
   ],
   "source": [
    "bcycle.head(2)"
   ]
  },
  {
   "cell_type": "markdown",
   "metadata": {},
   "source": [
    "## Convert to positive time to eliminate negative time errors"
   ]
  },
  {
   "cell_type": "code",
   "execution_count": 57,
   "metadata": {
    "collapsed": true
   },
   "outputs": [],
   "source": [
    "bcycle['trip_duration_seconds'] = bcycle['trip_duration_seconds'].abs()"
   ]
  },
  {
   "cell_type": "code",
   "execution_count": 58,
   "metadata": {
    "collapsed": true
   },
   "outputs": [],
   "source": [
    "bcycle['trip_duration_minutes'] = bcycle['trip_duration_minutes'].abs()"
   ]
  },
  {
   "cell_type": "markdown",
   "metadata": {
    "collapsed": true
   },
   "source": [
    "## Save the new cleaned dataframe to csv for easier use."
   ]
  },
  {
   "cell_type": "code",
   "execution_count": 59,
   "metadata": {
    "collapsed": true
   },
   "outputs": [],
   "source": [
    "bcycle.to_csv('bcycle_cleaned')"
   ]
  },
  {
   "cell_type": "code",
   "execution_count": null,
   "metadata": {
    "collapsed": true
   },
   "outputs": [],
   "source": []
  },
  {
   "cell_type": "markdown",
   "metadata": {},
   "source": [
    "## There does seem to be a number of extremely long rides.."
   ]
  },
  {
   "cell_type": "code",
   "execution_count": 60,
   "metadata": {},
   "outputs": [
    {
     "data": {
      "text/plain": [
       "5       71378\n",
       "6       68857\n",
       "4       63819\n",
       "7       59775\n",
       "8       52744\n",
       "9       45871\n",
       "3       45813\n",
       "10      40063\n",
       "11      36135\n",
       "12      32354\n",
       "13      29470\n",
       "14      27370\n",
       "15      25010\n",
       "16      23186\n",
       "2       22915\n",
       "        ...  \n",
       "1320        1\n",
       "2345        1\n",
       "1319        1\n",
       "1318        1\n",
       "2834        1\n",
       "1316        1\n",
       "3355        1\n",
       "1812        1\n",
       "1315        1\n",
       "1814        1\n",
       "4891        1\n",
       "1308        1\n",
       "1307        1\n",
       "1818        1\n",
       "1272        1\n",
       "Name: trip_duration_minutes, Length: 1728, dtype: int64"
      ]
     },
     "execution_count": 60,
     "metadata": {},
     "output_type": "execute_result"
    }
   ],
   "source": [
    "bcycle['trip_duration_minutes'].value_counts(ascending=False)"
   ]
  },
  {
   "cell_type": "code",
   "execution_count": 61,
   "metadata": {},
   "outputs": [
    {
     "data": {
      "text/plain": [
       "<matplotlib.axes._subplots.AxesSubplot at 0x1a3c008390>"
      ]
     },
     "execution_count": 61,
     "metadata": {},
     "output_type": "execute_result"
    },
    {
     "data": {
      "image/png": "[encoded data removed]",
      "text/plain": [
       "<matplotlib.figure.Figure at 0x1a3c014cc0>"
      ]
     },
     "metadata": {},
     "output_type": "display_data"
    }
   ],
   "source": [
    "sns.distplot(bcycle['trip_duration_minutes'], hist=True)"
   ]
  },
  {
   "cell_type": "code",
   "execution_count": 62,
   "metadata": {
    "collapsed": true
   },
   "outputs": [],
   "source": [
    "bcycle['<1000_mins'] = np.where(bcycle['trip_duration_minutes']<1000, True, False)"
   ]
  },
  {
   "cell_type": "code",
   "execution_count": 63,
   "metadata": {
    "collapsed": true
   },
   "outputs": [],
   "source": [
    "bcycle_1_day = bcycle.loc[(bcycle['trip_duration_minutes'] <= 1000)]"
   ]
  },
  {
   "cell_type": "code",
   "execution_count": 64,
   "metadata": {},
   "outputs": [
    {
     "data": {
      "text/plain": [
       "<matplotlib.axes._subplots.AxesSubplot at 0x10e3710b8>"
      ]
     },
     "execution_count": 64,
     "metadata": {},
     "output_type": "execute_result"
    },
    {
     "data": {
      "image/png": "[encoded data removed]",
      "text/plain": [
       "<matplotlib.figure.Figure at 0x1a3c014ef0>"
      ]
     },
     "metadata": {},
     "output_type": "display_data"
    }
   ],
   "source": [
    "sns.distplot(bcycle_1_day['trip_duration_minutes'], hist=True)"
   ]
  },
  {
   "cell_type": "code",
   "execution_count": 65,
   "metadata": {
    "collapsed": true
   },
   "outputs": [],
   "source": [
    "bcycle['<=200_mins'] = np.where(bcycle['trip_duration_minutes']<=200, True, False)"
   ]
  },
  {
   "cell_type": "code",
   "execution_count": 66,
   "metadata": {
    "collapsed": true
   },
   "outputs": [],
   "source": [
    "bcycle_200_mins = bcycle.loc[(bcycle['trip_duration_minutes'] <= 200)]"
   ]
  },
  {
   "cell_type": "code",
   "execution_count": 67,
   "metadata": {},
   "outputs": [
    {
     "data": {
      "text/plain": [
       "<matplotlib.axes._subplots.AxesSubplot at 0x114626da0>"
      ]
     },
     "execution_count": 67,
     "metadata": {},
     "output_type": "execute_result"
    },
    {
     "data": {
      "image/png": "[encoded data removed]",
      "text/plain": [
       "<matplotlib.figure.Figure at 0x1a376ba080>"
      ]
     },
     "metadata": {},
     "output_type": "display_data"
    }
   ],
   "source": [
    "sns.distplot(bcycle_200_mins['trip_duration_minutes'], hist=True, kde = False)"
   ]
  },
  {
   "cell_type": "code",
   "execution_count": 68,
   "metadata": {
    "collapsed": true
   },
   "outputs": [],
   "source": [
    "bcycle['<=20_mins'] = np.where(bcycle['trip_duration_minutes']<=20, True, False)"
   ]
  },
  {
   "cell_type": "code",
   "execution_count": 69,
   "metadata": {
    "collapsed": true
   },
   "outputs": [],
   "source": [
    "bcycle_20_mins = bcycle.loc[(bcycle['trip_duration_minutes'] <= 20)]"
   ]
  },
  {
   "cell_type": "code",
   "execution_count": 70,
   "metadata": {},
   "outputs": [
    {
     "data": {
      "text/plain": [
       "<matplotlib.axes._subplots.AxesSubplot at 0x114a0fcf8>"
      ]
     },
     "execution_count": 70,
     "metadata": {},
     "output_type": "execute_result"
    },
    {
     "data": {
      "image/png": "[encoded data removed]",
      "text/plain": [
       "<matplotlib.figure.Figure at 0x117fbc828>"
      ]
     },
     "metadata": {},
     "output_type": "display_data"
    }
   ],
   "source": [
    "sns.distplot(bcycle_20_mins['trip_duration_minutes'], hist=True, kde = False)"
   ]
  },
  {
   "cell_type": "code",
   "execution_count": 71,
   "metadata": {},
   "outputs": [
    {
     "data": {
      "text/plain": [
       "1108173"
      ]
     },
     "execution_count": 71,
     "metadata": {},
     "output_type": "execute_result"
    }
   ],
   "source": [
    "bcycle_200_mins['trip_duration_minutes'].count()"
   ]
  },
  {
   "cell_type": "code",
   "execution_count": 72,
   "metadata": {},
   "outputs": [
    {
     "data": {
      "text/plain": [
       "1122091"
      ]
     },
     "execution_count": 72,
     "metadata": {},
     "output_type": "execute_result"
    }
   ],
   "source": [
    "bcycle['trip_duration_minutes'].count()"
   ]
  },
  {
   "cell_type": "code",
   "execution_count": 73,
   "metadata": {},
   "outputs": [
    {
     "data": {
      "text/plain": [
       "5       71378\n",
       "6       68857\n",
       "4       63819\n",
       "7       59775\n",
       "8       52744\n",
       "9       45871\n",
       "3       45813\n",
       "10      40063\n",
       "11      36135\n",
       "12      32354\n",
       "13      29470\n",
       "14      27370\n",
       "15      25010\n",
       "16      23186\n",
       "2       22915\n",
       "        ...  \n",
       "1320        1\n",
       "2345        1\n",
       "1319        1\n",
       "1318        1\n",
       "2834        1\n",
       "1316        1\n",
       "3355        1\n",
       "1812        1\n",
       "1315        1\n",
       "1814        1\n",
       "4891        1\n",
       "1308        1\n",
       "1307        1\n",
       "1818        1\n",
       "1272        1\n",
       "Name: trip_duration_minutes, Length: 1728, dtype: int64"
      ]
     },
     "execution_count": 73,
     "metadata": {},
     "output_type": "execute_result"
    }
   ],
   "source": [
    "bcycle['trip_duration_minutes'].value_counts()"
   ]
  },
  {
   "cell_type": "markdown",
   "metadata": {},
   "source": [
    "______________________________________________________________________________________________________________________\n",
    "\n",
    "______________________________________________________________________________________________________________________\n",
    "\n",
    "______________________________________________________________________________________________________________________\n"
   ]
  },
  {
   "cell_type": "markdown",
   "metadata": {},
   "source": [
    "# Dockless Section"
   ]
  },
  {
   "cell_type": "markdown",
   "metadata": {},
   "source": [
    "## There are 5.44 millions dockless rides and a very small amount of rows with NaN's"
   ]
  },
  {
   "cell_type": "code",
   "execution_count": 74,
   "metadata": {},
   "outputs": [
    {
     "data": {
      "text/plain": [
       "ID                            0\n",
       "Device ID                     0\n",
       "Vehicle Type                  1\n",
       "Trip Duration                 1\n",
       "Trip Distance                 1\n",
       "Start Time                    1\n",
       "End Time                      1\n",
       "Modified Date                 0\n",
       "Month                         1\n",
       "Hour                          1\n",
       "Day of Week                   1\n",
       "Council District (Start)    186\n",
       "Council District (End)      186\n",
       "Year                          1\n",
       "Census Tract Start          188\n",
       "Census Tract End            188\n",
       "dtype: int64"
      ]
     },
     "execution_count": 74,
     "metadata": {},
     "output_type": "execute_result"
    }
   ],
   "source": [
    "#visual aid for the rows with NaN's\n",
    "dockless.isnull().sum()"
   ]
  },
  {
   "cell_type": "code",
   "execution_count": 75,
   "metadata": {},
   "outputs": [
    {
     "name": "stdout",
     "output_type": "stream",
     "text": [
      "5442039\n"
     ]
    }
   ],
   "source": [
    "# creating and printing the variable for the original number of rides in the dataset (including NaN's)\n",
    "dockless_rides = len(dockless)\n",
    "print(dockless_rides)"
   ]
  },
  {
   "cell_type": "markdown",
   "metadata": {},
   "source": [
    "## How many unique rows have NaN's ?"
   ]
  },
  {
   "cell_type": "code",
   "execution_count": 76,
   "metadata": {
    "collapsed": true
   },
   "outputs": [],
   "source": [
    "# drop rows with NaN's\n",
    "dockless = dockless.dropna(axis=0)"
   ]
  },
  {
   "cell_type": "code",
   "execution_count": 77,
   "metadata": {},
   "outputs": [
    {
     "data": {
      "text/plain": [
       "ID                          0\n",
       "Device ID                   0\n",
       "Vehicle Type                0\n",
       "Trip Duration               0\n",
       "Trip Distance               0\n",
       "Start Time                  0\n",
       "End Time                    0\n",
       "Modified Date               0\n",
       "Month                       0\n",
       "Hour                        0\n",
       "Day of Week                 0\n",
       "Council District (Start)    0\n",
       "Council District (End)      0\n",
       "Year                        0\n",
       "Census Tract Start          0\n",
       "Census Tract End            0\n",
       "dtype: int64"
      ]
     },
     "execution_count": 77,
     "metadata": {},
     "output_type": "execute_result"
    }
   ],
   "source": [
    "# confirmation all rows with NaN's are dropped\n",
    "dockless.isnull().sum()"
   ]
  },
  {
   "cell_type": "code",
   "execution_count": 78,
   "metadata": {},
   "outputs": [
    {
     "name": "stdout",
     "output_type": "stream",
     "text": [
      "5441851\n"
     ]
    }
   ],
   "source": [
    "# creating and printing the variable for the number of rides in the dataset without NaN's\n",
    "dockless_no_nans = len(dockless)\n",
    "print(dockless_no_nans)"
   ]
  },
  {
   "cell_type": "markdown",
   "metadata": {},
   "source": [
    "## 99.99% of the rides in this dataset don't have NaN values so we can safely drop the rows with NaN's."
   ]
  },
  {
   "cell_type": "code",
   "execution_count": 79,
   "metadata": {},
   "outputs": [
    {
     "name": "stdout",
     "output_type": "stream",
     "text": [
      "There are 5441851 rides without NaN values out of 5442039 total rides, which is equal to 0.9999654541248234.\n"
     ]
    }
   ],
   "source": [
    "nan_dockless_percent = dockless_no_nans / dockless_rides\n",
    "print(\"There are {} rides without NaN values out of {} total rides, which is equal to {}.\"\n",
    "      .format(dockless_no_nans, dockless_rides, nan_dockless_percent))"
   ]
  },
  {
   "cell_type": "markdown",
   "metadata": {},
   "source": [
    "# Cleaning up columns"
   ]
  },
  {
   "cell_type": "code",
   "execution_count": 80,
   "metadata": {
    "collapsed": true
   },
   "outputs": [],
   "source": [
    "# data clean columns: \n",
    "dockless.columns = dockless.columns.str.strip().str.lower().str.replace(' ', '_').str.replace('(', '').str.replace(')', '')"
   ]
  },
  {
   "cell_type": "markdown",
   "metadata": {
    "collapsed": true
   },
   "source": [
    "## We can drop the modified_date columnsince it is just the date that, according to the AustinTexas.gov website:\n",
    "## \"The [modified_date is when]...the record was last modified (typically the date the data was extracted/loaded from the data provider), in local time (US/Central).\""
   ]
  },
  {
   "cell_type": "code",
   "execution_count": 81,
   "metadata": {
    "collapsed": true
   },
   "outputs": [],
   "source": [
    "dockless.drop(['modified_date'], axis=1, errors='coerce', inplace=True)"
   ]
  },
  {
   "cell_type": "markdown",
   "metadata": {},
   "source": [
    "## Convert start/end time using to_datetime into a Unix timestamp"
   ]
  },
  {
   "cell_type": "code",
   "execution_count": 82,
   "metadata": {},
   "outputs": [
    {
     "data": {
      "text/html": [
       "<div>\n",
       "<style>\n",
       "    .dataframe thead tr:only-child th {\n",
       "        text-align: right;\n",
       "    }\n",
       "\n",
       "    .dataframe thead th {\n",
       "        text-align: left;\n",
       "    }\n",
       "\n",
       "    .dataframe tbody tr th {\n",
       "        vertical-align: top;\n",
       "    }\n",
       "</style>\n",
       "<table border=\"1\" class=\"dataframe\">\n",
       "  <thead>\n",
       "    <tr style=\"text-align: right;\">\n",
       "      <th></th>\n",
       "      <th>id</th>\n",
       "      <th>device_id</th>\n",
       "      <th>vehicle_type</th>\n",
       "      <th>trip_duration</th>\n",
       "      <th>trip_distance</th>\n",
       "      <th>start_time</th>\n",
       "      <th>end_time</th>\n",
       "      <th>month</th>\n",
       "      <th>hour</th>\n",
       "      <th>day_of_week</th>\n",
       "      <th>council_district_start</th>\n",
       "      <th>council_district_end</th>\n",
       "      <th>year</th>\n",
       "      <th>census_tract_start</th>\n",
       "      <th>census_tract_end</th>\n",
       "    </tr>\n",
       "  </thead>\n",
       "  <tbody>\n",
       "    <tr>\n",
       "      <th>2</th>\n",
       "      <td>aa27d854-9f27-456e-ae49-f268a9b2b533</td>\n",
       "      <td>6b90a827-60a1-47ad-94a4-d33654dbd50d</td>\n",
       "      <td>scooter</td>\n",
       "      <td>170.0</td>\n",
       "      <td>0.0</td>\n",
       "      <td>04/29/2019 05:30:00 PM</td>\n",
       "      <td>04/29/2019 05:30:00 PM</td>\n",
       "      <td>4.0</td>\n",
       "      <td>17.0</td>\n",
       "      <td>1.0</td>\n",
       "      <td>9.0</td>\n",
       "      <td>9.0</td>\n",
       "      <td>2019.0</td>\n",
       "      <td>4.8453e+10</td>\n",
       "      <td>48453000601</td>\n",
       "    </tr>\n",
       "  </tbody>\n",
       "</table>\n",
       "</div>"
      ],
      "text/plain": [
       "                                     id                             device_id  \\\n",
       "2  aa27d854-9f27-456e-ae49-f268a9b2b533  6b90a827-60a1-47ad-94a4-d33654dbd50d   \n",
       "\n",
       "  vehicle_type  trip_duration  trip_distance              start_time  \\\n",
       "2      scooter          170.0            0.0  04/29/2019 05:30:00 PM   \n",
       "\n",
       "                 end_time  month  hour  day_of_week  council_district_start  \\\n",
       "2  04/29/2019 05:30:00 PM    4.0  17.0          1.0                     9.0   \n",
       "\n",
       "   council_district_end    year census_tract_start census_tract_end  \n",
       "2                   9.0  2019.0         4.8453e+10      48453000601  "
      ]
     },
     "execution_count": 82,
     "metadata": {},
     "output_type": "execute_result"
    }
   ],
   "source": [
    "dockless.head(1)"
   ]
  },
  {
   "cell_type": "code",
   "execution_count": 83,
   "metadata": {},
   "outputs": [
    {
     "data": {
      "text/plain": [
       "'04/29/2019 05:30:00 PM'"
      ]
     },
     "execution_count": 83,
     "metadata": {},
     "output_type": "execute_result"
    }
   ],
   "source": [
    "dockless.iloc[0].start_time"
   ]
  },
  {
   "cell_type": "code",
   "execution_count": 84,
   "metadata": {},
   "outputs": [
    {
     "data": {
      "text/plain": [
       "str"
      ]
     },
     "execution_count": 84,
     "metadata": {},
     "output_type": "execute_result"
    }
   ],
   "source": [
    "type(dockless.iloc[0].start_time)"
   ]
  },
  {
   "cell_type": "code",
   "execution_count": 85,
   "metadata": {},
   "outputs": [
    {
     "data": {
      "text/plain": [
       "'1556577000'"
      ]
     },
     "execution_count": 85,
     "metadata": {},
     "output_type": "execute_result"
    }
   ],
   "source": [
    "from datetime import datetime\n",
    "d = datetime.strptime('04/29/2019 05:30:00 PM', '%m/%d/%Y %I:%M:%S %p')\n",
    "type(d)\n",
    "d.strftime('%s')"
   ]
  },
  {
   "cell_type": "code",
   "execution_count": 86,
   "metadata": {
    "collapsed": true
   },
   "outputs": [],
   "source": [
    "def str_to_timestamp(str):\n",
    "    d = datetime.strptime(str, '%m/%d/%Y %I:%M:%S %p')\n",
    "    return d.strftime('%s')"
   ]
  },
  {
   "cell_type": "code",
   "execution_count": 87,
   "metadata": {},
   "outputs": [
    {
     "data": {
      "text/plain": [
       "'1556577000'"
      ]
     },
     "execution_count": 87,
     "metadata": {},
     "output_type": "execute_result"
    }
   ],
   "source": [
    "str_to_timestamp('04/29/2019 05:30:00 PM')"
   ]
  },
  {
   "cell_type": "code",
   "execution_count": 88,
   "metadata": {},
   "outputs": [
    {
     "data": {
      "text/plain": [
       "2          1556577000\n",
       "3          1556577000\n",
       "4          1556576100\n",
       "5          1556577000\n",
       "6          1556577000\n",
       "7          1556575200\n",
       "8          1556577000\n",
       "9          1556576100\n",
       "10         1556577000\n",
       "11         1556577000\n",
       "12         1556576100\n",
       "13         1556576100\n",
       "14         1556577000\n",
       "15         1556577900\n",
       "16         1556578800\n",
       "              ...    \n",
       "5442024    1548538200\n",
       "5442025    1548538200\n",
       "5442026    1548538200\n",
       "5442027    1548538200\n",
       "5442028    1548538200\n",
       "5442029    1548538200\n",
       "5442030    1548538200\n",
       "5442031    1548538200\n",
       "5442032    1548538200\n",
       "5442033    1547764200\n",
       "5442034    1552418100\n",
       "5442035    1547764200\n",
       "5442036    1551221100\n",
       "5442037    1551221100\n",
       "5442038    1552196700\n",
       "Name: start_time, Length: 5441851, dtype: object"
      ]
     },
     "execution_count": 88,
     "metadata": {},
     "output_type": "execute_result"
    }
   ],
   "source": [
    "#convert start time to unix timestamp\n",
    "dockless.start_time.apply(str_to_timestamp)"
   ]
  },
  {
   "cell_type": "code",
   "execution_count": 89,
   "metadata": {},
   "outputs": [
    {
     "data": {
      "text/plain": [
       "2          1556577000\n",
       "3          1556577000\n",
       "4          1556576100\n",
       "5          1556577900\n",
       "6          1556577000\n",
       "7          1556575200\n",
       "8          1556577900\n",
       "9          1556577000\n",
       "10         1556577900\n",
       "11         1556577000\n",
       "12         1556577000\n",
       "13         1556577000\n",
       "14         1556578800\n",
       "15         1556577900\n",
       "16         1556578800\n",
       "              ...    \n",
       "5442024    1548538200\n",
       "5442025    1548538200\n",
       "5442026    1548538200\n",
       "5442027    1548538200\n",
       "5442028    1548538200\n",
       "5442029    1548538200\n",
       "5442030    1548538200\n",
       "5442031    1548538200\n",
       "5442032    1548538200\n",
       "5442033    1547766900\n",
       "5442034    1552419000\n",
       "5442035    1547767800\n",
       "5442036    1551221100\n",
       "5442037    1551221100\n",
       "5442038    1552197600\n",
       "Name: end_time, Length: 5441851, dtype: object"
      ]
     },
     "execution_count": 89,
     "metadata": {},
     "output_type": "execute_result"
    }
   ],
   "source": [
    "#convert end time to unix timestamp\n",
    "dockless.end_time.apply(str_to_timestamp)"
   ]
  },
  {
   "cell_type": "code",
   "execution_count": 90,
   "metadata": {},
   "outputs": [
    {
     "name": "stdout",
     "output_type": "stream",
     "text": [
      "Average memory usage for object columns: 375.39MB\n"
     ]
    }
   ],
   "source": [
    "# memory calc for dockless data set\n",
    "for dtype in ['float','int','object']:\n",
    "    selected_dtype = dockless.select_dtypes(include=[dtype])\n",
    "    mean_usage_b = selected_dtype.memory_usage(deep=True).mean()\n",
    "    mean_usage_mb = mean_usage_b / 1024 ** 2\n",
    "print(\"Average memory usage for {} columns: {:03.2f}MB\".format(dtype,mean_usage_mb))"
   ]
  },
  {
   "cell_type": "code",
   "execution_count": 91,
   "metadata": {},
   "outputs": [
    {
     "name": "stdout",
     "output_type": "stream",
     "text": [
      "<class 'pandas.core.frame.DataFrame'>\n",
      "Int64Index: 5441851 entries, 2 to 5442038\n",
      "Data columns (total 15 columns):\n",
      "id                        object\n",
      "device_id                 object\n",
      "vehicle_type              object\n",
      "trip_duration             float64\n",
      "trip_distance             float64\n",
      "start_time                object\n",
      "end_time                  object\n",
      "month                     float64\n",
      "hour                      float64\n",
      "day_of_week               float64\n",
      "council_district_start    float64\n",
      "council_district_end      float64\n",
      "year                      float64\n",
      "census_tract_start        object\n",
      "census_tract_end          object\n",
      "dtypes: float64(8), object(7)\n",
      "memory usage: 3.3 GB\n"
     ]
    }
   ],
   "source": [
    "dockless.info(memory_usage='deep')"
   ]
  },
  {
   "cell_type": "markdown",
   "metadata": {},
   "source": [
    "## For the most part, all the trips start and end in the same Council District, with the exception being zone Zero starting at 5th place but ending at 8th."
   ]
  },
  {
   "cell_type": "code",
   "execution_count": 92,
   "metadata": {},
   "outputs": [
    {
     "data": {
      "text/plain": [
       "5441851"
      ]
     },
     "execution_count": 92,
     "metadata": {},
     "output_type": "execute_result"
    }
   ],
   "source": [
    "len(dockless)"
   ]
  },
  {
   "cell_type": "code",
   "execution_count": 93,
   "metadata": {},
   "outputs": [
    {
     "data": {
      "text/plain": [
       "9.0     4262555\n",
       "3.0      498504\n",
       "1.0      327468\n",
       "5.0      189368\n",
       "0.0       41656\n",
       "7.0       37811\n",
       "8.0       33117\n",
       "10.0      28544\n",
       "4.0       16669\n",
       "2.0        5672\n",
       "6.0         487\n",
       "Name: council_district_start, dtype: int64"
      ]
     },
     "execution_count": 93,
     "metadata": {},
     "output_type": "execute_result"
    }
   ],
   "source": [
    "dockless['council_district_start'].value_counts()"
   ]
  },
  {
   "cell_type": "code",
   "execution_count": 94,
   "metadata": {},
   "outputs": [
    {
     "data": {
      "text/plain": [
       "9.0     4191987\n",
       "3.0      514803\n",
       "1.0      362081\n",
       "5.0      203877\n",
       "7.0       38961\n",
       "8.0       38768\n",
       "10.0      32538\n",
       "0.0       31674\n",
       "4.0       19330\n",
       "2.0        7348\n",
       "6.0         484\n",
       "Name: council_district_end, dtype: int64"
      ]
     },
     "execution_count": 94,
     "metadata": {},
     "output_type": "execute_result"
    }
   ],
   "source": [
    "dockless['council_district_end'].value_counts()"
   ]
  },
  {
   "cell_type": "markdown",
   "metadata": {},
   "source": [
    "## Masking"
   ]
  },
  {
   "cell_type": "code",
   "execution_count": 95,
   "metadata": {
    "collapsed": true
   },
   "outputs": [],
   "source": [
    "mask = dockless['council_district_start'] == 0.0"
   ]
  },
  {
   "cell_type": "code",
   "execution_count": 96,
   "metadata": {},
   "outputs": [
    {
     "data": {
      "text/html": [
       "<div>\n",
       "<style>\n",
       "    .dataframe thead tr:only-child th {\n",
       "        text-align: right;\n",
       "    }\n",
       "\n",
       "    .dataframe thead th {\n",
       "        text-align: left;\n",
       "    }\n",
       "\n",
       "    .dataframe tbody tr th {\n",
       "        vertical-align: top;\n",
       "    }\n",
       "</style>\n",
       "<table border=\"1\" class=\"dataframe\">\n",
       "  <thead>\n",
       "    <tr style=\"text-align: right;\">\n",
       "      <th></th>\n",
       "      <th>id</th>\n",
       "      <th>device_id</th>\n",
       "      <th>vehicle_type</th>\n",
       "      <th>trip_duration</th>\n",
       "      <th>trip_distance</th>\n",
       "      <th>start_time</th>\n",
       "      <th>end_time</th>\n",
       "      <th>month</th>\n",
       "      <th>hour</th>\n",
       "      <th>day_of_week</th>\n",
       "      <th>council_district_start</th>\n",
       "      <th>council_district_end</th>\n",
       "      <th>year</th>\n",
       "      <th>census_tract_start</th>\n",
       "      <th>census_tract_end</th>\n",
       "    </tr>\n",
       "  </thead>\n",
       "  <tbody>\n",
       "    <tr>\n",
       "      <th>28378</th>\n",
       "      <td>3a3a83a2-afba-4985-89d1-526b12d13b48</td>\n",
       "      <td>629d8f0e-2327-4b0f-aa0c-32e2ae56824a</td>\n",
       "      <td>scooter</td>\n",
       "      <td>1201.0</td>\n",
       "      <td>5297.0</td>\n",
       "      <td>06/11/2019 12:45:00 PM</td>\n",
       "      <td>06/11/2019 01:00:00 PM</td>\n",
       "      <td>6.0</td>\n",
       "      <td>12.0</td>\n",
       "      <td>2.0</td>\n",
       "      <td>0.0</td>\n",
       "      <td>5.0</td>\n",
       "      <td>2019.0</td>\n",
       "      <td>4.8453e+10</td>\n",
       "      <td>48453002004</td>\n",
       "    </tr>\n",
       "    <tr>\n",
       "      <th>47930</th>\n",
       "      <td>fff229c0-b275-4fc0-8632-c83849e8ab59</td>\n",
       "      <td>cfad9625-bac7-4a26-a4c7-2462972ae7f1</td>\n",
       "      <td>scooter</td>\n",
       "      <td>758.0</td>\n",
       "      <td>33443.0</td>\n",
       "      <td>05/05/2019 10:30:00 AM</td>\n",
       "      <td>05/05/2019 10:45:00 AM</td>\n",
       "      <td>5.0</td>\n",
       "      <td>10.0</td>\n",
       "      <td>0.0</td>\n",
       "      <td>0.0</td>\n",
       "      <td>9.0</td>\n",
       "      <td>2019.0</td>\n",
       "      <td>48055960101</td>\n",
       "      <td>48453001100</td>\n",
       "    </tr>\n",
       "    <tr>\n",
       "      <th>64771</th>\n",
       "      <td>049cbca1-49dd-4a24-94b1-a64965e94c50</td>\n",
       "      <td>cf621c46-e694-473e-9e19-e54978cb4aa0</td>\n",
       "      <td>scooter</td>\n",
       "      <td>84.0</td>\n",
       "      <td>62.0</td>\n",
       "      <td>04/27/2019 08:45:00 PM</td>\n",
       "      <td>04/27/2019 08:45:00 PM</td>\n",
       "      <td>4.0</td>\n",
       "      <td>20.0</td>\n",
       "      <td>6.0</td>\n",
       "      <td>0.0</td>\n",
       "      <td>0.0</td>\n",
       "      <td>2019.0</td>\n",
       "      <td>48453001917</td>\n",
       "      <td>48453001914</td>\n",
       "    </tr>\n",
       "    <tr>\n",
       "      <th>65245</th>\n",
       "      <td>6ea7c070-23d2-4f2d-8d9c-d765aa605df0</td>\n",
       "      <td>8796adb0-e212-4faa-b4a5-2391fad02921</td>\n",
       "      <td>scooter</td>\n",
       "      <td>210.0</td>\n",
       "      <td>17354.0</td>\n",
       "      <td>05/05/2019 11:15:00 AM</td>\n",
       "      <td>05/05/2019 11:15:00 AM</td>\n",
       "      <td>5.0</td>\n",
       "      <td>11.0</td>\n",
       "      <td>0.0</td>\n",
       "      <td>0.0</td>\n",
       "      <td>9.0</td>\n",
       "      <td>2019.0</td>\n",
       "      <td>48453002207</td>\n",
       "      <td>48453001100</td>\n",
       "    </tr>\n",
       "    <tr>\n",
       "      <th>65371</th>\n",
       "      <td>c7a49b0f-1dd9-4e3a-a7d3-5da4ba33b11a</td>\n",
       "      <td>d39c5f09-cd06-4a75-8d02-8acab89d0d57</td>\n",
       "      <td>scooter</td>\n",
       "      <td>1175.0</td>\n",
       "      <td>19138.0</td>\n",
       "      <td>05/05/2019 11:15:00 AM</td>\n",
       "      <td>05/05/2019 11:30:00 AM</td>\n",
       "      <td>5.0</td>\n",
       "      <td>11.0</td>\n",
       "      <td>0.0</td>\n",
       "      <td>0.0</td>\n",
       "      <td>1.0</td>\n",
       "      <td>2019.0</td>\n",
       "      <td>48453002207</td>\n",
       "      <td>48453001100</td>\n",
       "    </tr>\n",
       "    <tr>\n",
       "      <th>88064</th>\n",
       "      <td>10e289c1-d513-4dbb-8fba-7412677daec0</td>\n",
       "      <td>3cac4ce8-a6b2-4b20-8835-d04f8909643a</td>\n",
       "      <td>scooter</td>\n",
       "      <td>345.0</td>\n",
       "      <td>1080.0</td>\n",
       "      <td>05/19/2019 08:30:00 PM</td>\n",
       "      <td>05/19/2019 08:45:00 PM</td>\n",
       "      <td>5.0</td>\n",
       "      <td>20.0</td>\n",
       "      <td>0.0</td>\n",
       "      <td>0.0</td>\n",
       "      <td>8.0</td>\n",
       "      <td>2019.0</td>\n",
       "      <td>48453001910</td>\n",
       "      <td>48453001910</td>\n",
       "    </tr>\n",
       "    <tr>\n",
       "      <th>94633</th>\n",
       "      <td>724b0d29-1704-4bdd-be57-6bb39ef55d0f</td>\n",
       "      <td>b49165de-56d0-43ad-bdb9-9f58bb1f9036</td>\n",
       "      <td>scooter</td>\n",
       "      <td>242.0</td>\n",
       "      <td>83979.0</td>\n",
       "      <td>04/30/2019 02:15:00 PM</td>\n",
       "      <td>04/30/2019 02:15:00 PM</td>\n",
       "      <td>4.0</td>\n",
       "      <td>14.0</td>\n",
       "      <td>2.0</td>\n",
       "      <td>0.0</td>\n",
       "      <td>9.0</td>\n",
       "      <td>2019.0</td>\n",
       "      <td>OUT_OF_BOUNDS</td>\n",
       "      <td>48453000604</td>\n",
       "    </tr>\n",
       "    <tr>\n",
       "      <th>97619</th>\n",
       "      <td>7acb679f-3c44-4407-8053-a2002a1421b6</td>\n",
       "      <td>c9524668-d706-4e4b-afb1-3e6ed61b5401</td>\n",
       "      <td>scooter</td>\n",
       "      <td>81.0</td>\n",
       "      <td>399.0</td>\n",
       "      <td>06/11/2019 02:15:00 PM</td>\n",
       "      <td>06/11/2019 02:15:00 PM</td>\n",
       "      <td>6.0</td>\n",
       "      <td>14.0</td>\n",
       "      <td>2.0</td>\n",
       "      <td>0.0</td>\n",
       "      <td>0.0</td>\n",
       "      <td>2019.0</td>\n",
       "      <td>48453001919</td>\n",
       "      <td>48453001919</td>\n",
       "    </tr>\n",
       "    <tr>\n",
       "      <th>99012</th>\n",
       "      <td>8a071edc-a3fa-4f43-9e30-10494dc626a2</td>\n",
       "      <td>2cbb3fed-1494-4095-b9db-f31a29b64bdf</td>\n",
       "      <td>scooter</td>\n",
       "      <td>362.0</td>\n",
       "      <td>30986.0</td>\n",
       "      <td>05/05/2019 01:30:00 PM</td>\n",
       "      <td>05/05/2019 01:45:00 PM</td>\n",
       "      <td>5.0</td>\n",
       "      <td>13.0</td>\n",
       "      <td>0.0</td>\n",
       "      <td>0.0</td>\n",
       "      <td>9.0</td>\n",
       "      <td>2019.0</td>\n",
       "      <td>48021950802</td>\n",
       "      <td>48453000603</td>\n",
       "    </tr>\n",
       "    <tr>\n",
       "      <th>113666</th>\n",
       "      <td>e2688917-5ef7-475c-97bd-a9dc83a60b74</td>\n",
       "      <td>d49d7246-2fbb-4eb7-a8a5-5c142cedba39</td>\n",
       "      <td>scooter</td>\n",
       "      <td>209.0</td>\n",
       "      <td>101.0</td>\n",
       "      <td>04/25/2019 05:30:00 PM</td>\n",
       "      <td>04/25/2019 05:30:00 PM</td>\n",
       "      <td>4.0</td>\n",
       "      <td>17.0</td>\n",
       "      <td>4.0</td>\n",
       "      <td>0.0</td>\n",
       "      <td>0.0</td>\n",
       "      <td>2019.0</td>\n",
       "      <td>48453001919</td>\n",
       "      <td>48453001919</td>\n",
       "    </tr>\n",
       "    <tr>\n",
       "      <th>113809</th>\n",
       "      <td>cf92f8f6-f80b-49a7-8fc6-e90edae8ecda</td>\n",
       "      <td>d49d7246-2fbb-4eb7-a8a5-5c142cedba39</td>\n",
       "      <td>scooter</td>\n",
       "      <td>2148.0</td>\n",
       "      <td>680.0</td>\n",
       "      <td>04/25/2019 04:45:00 PM</td>\n",
       "      <td>04/25/2019 05:30:00 PM</td>\n",
       "      <td>4.0</td>\n",
       "      <td>16.0</td>\n",
       "      <td>4.0</td>\n",
       "      <td>0.0</td>\n",
       "      <td>0.0</td>\n",
       "      <td>2019.0</td>\n",
       "      <td>48453001919</td>\n",
       "      <td>48453001919</td>\n",
       "    </tr>\n",
       "    <tr>\n",
       "      <th>136977</th>\n",
       "      <td>bdd40093-865f-4238-8c22-f97cddc3c30d</td>\n",
       "      <td>7817ad36-bb14-45a6-9ff3-adff25602766</td>\n",
       "      <td>scooter</td>\n",
       "      <td>1980.0</td>\n",
       "      <td>5655.0</td>\n",
       "      <td>04/06/2019 08:15:00 PM</td>\n",
       "      <td>04/06/2019 08:45:00 PM</td>\n",
       "      <td>4.0</td>\n",
       "      <td>20.0</td>\n",
       "      <td>6.0</td>\n",
       "      <td>0.0</td>\n",
       "      <td>0.0</td>\n",
       "      <td>2019.0</td>\n",
       "      <td>48491020318</td>\n",
       "      <td>48491020318</td>\n",
       "    </tr>\n",
       "    <tr>\n",
       "      <th>170047</th>\n",
       "      <td>5a042654-66b4-4cde-a839-c29c15da5f18</td>\n",
       "      <td>b2f8c0b4-9cff-43a2-97af-2fff5c4bb0fa</td>\n",
       "      <td>scooter</td>\n",
       "      <td>628.0</td>\n",
       "      <td>892.0</td>\n",
       "      <td>04/28/2019 04:30:00 PM</td>\n",
       "      <td>04/28/2019 04:30:00 PM</td>\n",
       "      <td>4.0</td>\n",
       "      <td>16.0</td>\n",
       "      <td>0.0</td>\n",
       "      <td>0.0</td>\n",
       "      <td>0.0</td>\n",
       "      <td>2019.0</td>\n",
       "      <td>48453001912</td>\n",
       "      <td>48453001912</td>\n",
       "    </tr>\n",
       "    <tr>\n",
       "      <th>181162</th>\n",
       "      <td>ce44cb1f-8096-42b1-a514-cf722b5e1d03</td>\n",
       "      <td>240a2a08-e4c6-418f-aeb4-6a25e10e2a71</td>\n",
       "      <td>scooter</td>\n",
       "      <td>383.0</td>\n",
       "      <td>133468.0</td>\n",
       "      <td>04/28/2019 01:15:00 PM</td>\n",
       "      <td>04/28/2019 01:30:00 PM</td>\n",
       "      <td>4.0</td>\n",
       "      <td>13.0</td>\n",
       "      <td>0.0</td>\n",
       "      <td>0.0</td>\n",
       "      <td>9.0</td>\n",
       "      <td>2019.0</td>\n",
       "      <td>OUT_OF_BOUNDS</td>\n",
       "      <td>48453001100</td>\n",
       "    </tr>\n",
       "    <tr>\n",
       "      <th>187673</th>\n",
       "      <td>4fbdafee-2f88-4c7c-aa2d-0c45fb032bbe</td>\n",
       "      <td>5846158a-7cf8-4c37-a61b-6adc2c40e73a</td>\n",
       "      <td>scooter</td>\n",
       "      <td>650.0</td>\n",
       "      <td>40400.0</td>\n",
       "      <td>04/27/2019 03:45:00 PM</td>\n",
       "      <td>04/27/2019 04:00:00 PM</td>\n",
       "      <td>4.0</td>\n",
       "      <td>15.0</td>\n",
       "      <td>6.0</td>\n",
       "      <td>0.0</td>\n",
       "      <td>9.0</td>\n",
       "      <td>2019.0</td>\n",
       "      <td>OUT_OF_BOUNDS</td>\n",
       "      <td>48453001100</td>\n",
       "    </tr>\n",
       "    <tr>\n",
       "      <th>...</th>\n",
       "      <td>...</td>\n",
       "      <td>...</td>\n",
       "      <td>...</td>\n",
       "      <td>...</td>\n",
       "      <td>...</td>\n",
       "      <td>...</td>\n",
       "      <td>...</td>\n",
       "      <td>...</td>\n",
       "      <td>...</td>\n",
       "      <td>...</td>\n",
       "      <td>...</td>\n",
       "      <td>...</td>\n",
       "      <td>...</td>\n",
       "      <td>...</td>\n",
       "      <td>...</td>\n",
       "    </tr>\n",
       "    <tr>\n",
       "      <th>5438154</th>\n",
       "      <td>66bfe9e9-4c5a-46ae-9d59-9e36aea90e04</td>\n",
       "      <td>16755e40-1495-4f1f-9532-2c95c0e44660</td>\n",
       "      <td>scooter</td>\n",
       "      <td>325.0</td>\n",
       "      <td>500.0</td>\n",
       "      <td>12/04/2018 04:45:00 PM</td>\n",
       "      <td>12/04/2018 04:45:00 PM</td>\n",
       "      <td>12.0</td>\n",
       "      <td>16.0</td>\n",
       "      <td>2.0</td>\n",
       "      <td>0.0</td>\n",
       "      <td>9.0</td>\n",
       "      <td>2018.0</td>\n",
       "      <td>OUT_OF_BOUNDS</td>\n",
       "      <td>48453000601</td>\n",
       "    </tr>\n",
       "    <tr>\n",
       "      <th>5438217</th>\n",
       "      <td>a16cefa3-9ee4-48e9-b108-22819ae5c507</td>\n",
       "      <td>e71d2eb7-0273-4552-abb6-08580526a31a</td>\n",
       "      <td>scooter</td>\n",
       "      <td>468.0</td>\n",
       "      <td>0.0</td>\n",
       "      <td>10/28/2018 06:30:00 PM</td>\n",
       "      <td>10/28/2018 06:45:00 PM</td>\n",
       "      <td>10.0</td>\n",
       "      <td>18.0</td>\n",
       "      <td>0.0</td>\n",
       "      <td>0.0</td>\n",
       "      <td>0.0</td>\n",
       "      <td>2018.0</td>\n",
       "      <td>OUT_OF_BOUNDS</td>\n",
       "      <td>OUT_OF_BOUNDS</td>\n",
       "    </tr>\n",
       "    <tr>\n",
       "      <th>5438223</th>\n",
       "      <td>e47e610b-5f88-4424-b06b-7d6794b31911</td>\n",
       "      <td>4ac494c6-6f5d-4c14-a045-d639702bb4c4</td>\n",
       "      <td>scooter</td>\n",
       "      <td>539.0</td>\n",
       "      <td>1300.0</td>\n",
       "      <td>10/30/2018 06:30:00 PM</td>\n",
       "      <td>10/30/2018 06:45:00 PM</td>\n",
       "      <td>10.0</td>\n",
       "      <td>18.0</td>\n",
       "      <td>2.0</td>\n",
       "      <td>0.0</td>\n",
       "      <td>9.0</td>\n",
       "      <td>2018.0</td>\n",
       "      <td>OUT_OF_BOUNDS</td>\n",
       "      <td>48453001100</td>\n",
       "    </tr>\n",
       "    <tr>\n",
       "      <th>5438293</th>\n",
       "      <td>74cced9c-e76a-4a67-b95f-bc421896f938</td>\n",
       "      <td>400a49ca-672c-4689-a0ae-feb7eb14c37c</td>\n",
       "      <td>scooter</td>\n",
       "      <td>915.0</td>\n",
       "      <td>2105.0</td>\n",
       "      <td>09/24/2018 08:15:00 PM</td>\n",
       "      <td>09/24/2018 08:30:00 PM</td>\n",
       "      <td>9.0</td>\n",
       "      <td>20.0</td>\n",
       "      <td>1.0</td>\n",
       "      <td>0.0</td>\n",
       "      <td>0.0</td>\n",
       "      <td>2018.0</td>\n",
       "      <td>OUT_OF_BOUNDS</td>\n",
       "      <td>OUT_OF_BOUNDS</td>\n",
       "    </tr>\n",
       "    <tr>\n",
       "      <th>5440609</th>\n",
       "      <td>f1602354-b583-49cd-993e-624a0edeb361</td>\n",
       "      <td>34865633-108c-46d9-85cb-99019d68aa0f</td>\n",
       "      <td>scooter</td>\n",
       "      <td>325.0</td>\n",
       "      <td>821.0</td>\n",
       "      <td>11/04/2018 12:00:00 PM</td>\n",
       "      <td>11/04/2018 12:15:00 PM</td>\n",
       "      <td>11.0</td>\n",
       "      <td>12.0</td>\n",
       "      <td>0.0</td>\n",
       "      <td>0.0</td>\n",
       "      <td>9.0</td>\n",
       "      <td>2018.0</td>\n",
       "      <td>OUT_OF_BOUNDS</td>\n",
       "      <td>48453001100</td>\n",
       "    </tr>\n",
       "    <tr>\n",
       "      <th>5440627</th>\n",
       "      <td>c06896d3-a8a4-466e-b981-57407e1564b3</td>\n",
       "      <td>5de9ecd9-976c-4800-a0ee-c31ab784cd32</td>\n",
       "      <td>scooter</td>\n",
       "      <td>618.0</td>\n",
       "      <td>595.0</td>\n",
       "      <td>11/04/2018 12:15:00 PM</td>\n",
       "      <td>11/04/2018 12:30:00 PM</td>\n",
       "      <td>11.0</td>\n",
       "      <td>12.0</td>\n",
       "      <td>0.0</td>\n",
       "      <td>0.0</td>\n",
       "      <td>9.0</td>\n",
       "      <td>2018.0</td>\n",
       "      <td>OUT_OF_BOUNDS</td>\n",
       "      <td>48453001305</td>\n",
       "    </tr>\n",
       "    <tr>\n",
       "      <th>5440635</th>\n",
       "      <td>8c75beb1-2edb-4186-86ce-82ba7b3fa123</td>\n",
       "      <td>77578728-d6fc-4817-b7e4-63f14d912401</td>\n",
       "      <td>scooter</td>\n",
       "      <td>1840.0</td>\n",
       "      <td>3557.0</td>\n",
       "      <td>11/04/2018 12:15:00 PM</td>\n",
       "      <td>11/04/2018 12:45:00 PM</td>\n",
       "      <td>11.0</td>\n",
       "      <td>12.0</td>\n",
       "      <td>0.0</td>\n",
       "      <td>0.0</td>\n",
       "      <td>9.0</td>\n",
       "      <td>2018.0</td>\n",
       "      <td>OUT_OF_BOUNDS</td>\n",
       "      <td>48453001305</td>\n",
       "    </tr>\n",
       "    <tr>\n",
       "      <th>5440638</th>\n",
       "      <td>2e6831a7-0b90-49c6-825a-80af8cd59b8c</td>\n",
       "      <td>76b6d1ec-ac00-4cb4-bd78-0e33465f24f6</td>\n",
       "      <td>scooter</td>\n",
       "      <td>379.0</td>\n",
       "      <td>515.0</td>\n",
       "      <td>11/04/2018 12:15:00 PM</td>\n",
       "      <td>11/04/2018 12:30:00 PM</td>\n",
       "      <td>11.0</td>\n",
       "      <td>12.0</td>\n",
       "      <td>0.0</td>\n",
       "      <td>0.0</td>\n",
       "      <td>9.0</td>\n",
       "      <td>2018.0</td>\n",
       "      <td>OUT_OF_BOUNDS</td>\n",
       "      <td>48453001100</td>\n",
       "    </tr>\n",
       "    <tr>\n",
       "      <th>5440639</th>\n",
       "      <td>03183cc6-54d1-48af-a4cf-2a80fa4bdbaf</td>\n",
       "      <td>8f30e9da-e90e-45ed-af26-76091971be0a</td>\n",
       "      <td>scooter</td>\n",
       "      <td>1713.0</td>\n",
       "      <td>4989.0</td>\n",
       "      <td>11/04/2018 12:15:00 PM</td>\n",
       "      <td>11/04/2018 12:45:00 PM</td>\n",
       "      <td>11.0</td>\n",
       "      <td>12.0</td>\n",
       "      <td>0.0</td>\n",
       "      <td>0.0</td>\n",
       "      <td>9.0</td>\n",
       "      <td>2018.0</td>\n",
       "      <td>OUT_OF_BOUNDS</td>\n",
       "      <td>48453001402</td>\n",
       "    </tr>\n",
       "    <tr>\n",
       "      <th>5440642</th>\n",
       "      <td>b8fd15d9-0299-4b4a-b8e5-8e6f351ab77c</td>\n",
       "      <td>a2e2931b-fb7e-4ddd-9753-e162dcbec4d6</td>\n",
       "      <td>scooter</td>\n",
       "      <td>1972.0</td>\n",
       "      <td>6759.0</td>\n",
       "      <td>11/04/2018 12:15:00 PM</td>\n",
       "      <td>11/04/2018 01:00:00 PM</td>\n",
       "      <td>11.0</td>\n",
       "      <td>12.0</td>\n",
       "      <td>0.0</td>\n",
       "      <td>0.0</td>\n",
       "      <td>9.0</td>\n",
       "      <td>2018.0</td>\n",
       "      <td>OUT_OF_BOUNDS</td>\n",
       "      <td>48453000604</td>\n",
       "    </tr>\n",
       "    <tr>\n",
       "      <th>5440666</th>\n",
       "      <td>7038d679-56d2-4220-ba2a-f15ca7f92e50</td>\n",
       "      <td>5002344e-b0a5-4040-b38c-b4990a914dc1</td>\n",
       "      <td>scooter</td>\n",
       "      <td>193.0</td>\n",
       "      <td>676.0</td>\n",
       "      <td>11/04/2018 12:30:00 PM</td>\n",
       "      <td>11/04/2018 12:45:00 PM</td>\n",
       "      <td>11.0</td>\n",
       "      <td>12.0</td>\n",
       "      <td>0.0</td>\n",
       "      <td>0.0</td>\n",
       "      <td>5.0</td>\n",
       "      <td>2018.0</td>\n",
       "      <td>OUT_OF_BOUNDS</td>\n",
       "      <td>48453001303</td>\n",
       "    </tr>\n",
       "    <tr>\n",
       "      <th>5440673</th>\n",
       "      <td>db4226d2-48b4-4a69-b477-e1af9981400d</td>\n",
       "      <td>31fd930e-2abb-4481-9559-629061b88e20</td>\n",
       "      <td>scooter</td>\n",
       "      <td>5372.0</td>\n",
       "      <td>3492.0</td>\n",
       "      <td>11/04/2018 12:45:00 PM</td>\n",
       "      <td>11/04/2018 02:15:00 PM</td>\n",
       "      <td>11.0</td>\n",
       "      <td>12.0</td>\n",
       "      <td>0.0</td>\n",
       "      <td>0.0</td>\n",
       "      <td>9.0</td>\n",
       "      <td>2018.0</td>\n",
       "      <td>OUT_OF_BOUNDS</td>\n",
       "      <td>48453001100</td>\n",
       "    </tr>\n",
       "    <tr>\n",
       "      <th>5440742</th>\n",
       "      <td>c95bf78e-2b40-4de0-87a6-6718c3486957</td>\n",
       "      <td>5d4eae6c-b044-4cf0-befc-a213ca238acb</td>\n",
       "      <td>scooter</td>\n",
       "      <td>572.0</td>\n",
       "      <td>2500.0</td>\n",
       "      <td>10/30/2018 08:45:00 PM</td>\n",
       "      <td>10/30/2018 09:00:00 PM</td>\n",
       "      <td>10.0</td>\n",
       "      <td>20.0</td>\n",
       "      <td>2.0</td>\n",
       "      <td>0.0</td>\n",
       "      <td>3.0</td>\n",
       "      <td>2018.0</td>\n",
       "      <td>OUT_OF_BOUNDS</td>\n",
       "      <td>48453000902</td>\n",
       "    </tr>\n",
       "    <tr>\n",
       "      <th>5441110</th>\n",
       "      <td>a16246d4-ecdd-455a-8a87-52ffcca89822</td>\n",
       "      <td>fed8b18e-dcb8-4f9a-9207-f31386763fed</td>\n",
       "      <td>scooter</td>\n",
       "      <td>155.0</td>\n",
       "      <td>500.0</td>\n",
       "      <td>10/29/2018 06:15:00 AM</td>\n",
       "      <td>10/29/2018 06:30:00 AM</td>\n",
       "      <td>10.0</td>\n",
       "      <td>6.0</td>\n",
       "      <td>1.0</td>\n",
       "      <td>0.0</td>\n",
       "      <td>0.0</td>\n",
       "      <td>2018.0</td>\n",
       "      <td>OUT_OF_BOUNDS</td>\n",
       "      <td>OUT_OF_BOUNDS</td>\n",
       "    </tr>\n",
       "    <tr>\n",
       "      <th>5441501</th>\n",
       "      <td>af0d6f4f-f33a-40a4-b9e3-6bf1194d4949</td>\n",
       "      <td>dbbaf047-34c9-47b5-aa40-4b3e2bf57d23</td>\n",
       "      <td>scooter</td>\n",
       "      <td>400.0</td>\n",
       "      <td>925.0</td>\n",
       "      <td>09/11/2018 05:15:00 PM</td>\n",
       "      <td>09/11/2018 05:15:00 PM</td>\n",
       "      <td>9.0</td>\n",
       "      <td>17.0</td>\n",
       "      <td>2.0</td>\n",
       "      <td>0.0</td>\n",
       "      <td>0.0</td>\n",
       "      <td>2018.0</td>\n",
       "      <td>OUT_OF_BOUNDS</td>\n",
       "      <td>OUT_OF_BOUNDS</td>\n",
       "    </tr>\n",
       "  </tbody>\n",
       "</table>\n",
       "<p>41656 rows × 15 columns</p>\n",
       "</div>"
      ],
      "text/plain": [
       "                                           id  \\\n",
       "28378    3a3a83a2-afba-4985-89d1-526b12d13b48   \n",
       "47930    fff229c0-b275-4fc0-8632-c83849e8ab59   \n",
       "64771    049cbca1-49dd-4a24-94b1-a64965e94c50   \n",
       "65245    6ea7c070-23d2-4f2d-8d9c-d765aa605df0   \n",
       "65371    c7a49b0f-1dd9-4e3a-a7d3-5da4ba33b11a   \n",
       "88064    10e289c1-d513-4dbb-8fba-7412677daec0   \n",
       "94633    724b0d29-1704-4bdd-be57-6bb39ef55d0f   \n",
       "97619    7acb679f-3c44-4407-8053-a2002a1421b6   \n",
       "99012    8a071edc-a3fa-4f43-9e30-10494dc626a2   \n",
       "113666   e2688917-5ef7-475c-97bd-a9dc83a60b74   \n",
       "113809   cf92f8f6-f80b-49a7-8fc6-e90edae8ecda   \n",
       "136977   bdd40093-865f-4238-8c22-f97cddc3c30d   \n",
       "170047   5a042654-66b4-4cde-a839-c29c15da5f18   \n",
       "181162   ce44cb1f-8096-42b1-a514-cf722b5e1d03   \n",
       "187673   4fbdafee-2f88-4c7c-aa2d-0c45fb032bbe   \n",
       "...                                       ...   \n",
       "5438154  66bfe9e9-4c5a-46ae-9d59-9e36aea90e04   \n",
       "5438217  a16cefa3-9ee4-48e9-b108-22819ae5c507   \n",
       "5438223  e47e610b-5f88-4424-b06b-7d6794b31911   \n",
       "5438293  74cced9c-e76a-4a67-b95f-bc421896f938   \n",
       "5440609  f1602354-b583-49cd-993e-624a0edeb361   \n",
       "5440627  c06896d3-a8a4-466e-b981-57407e1564b3   \n",
       "5440635  8c75beb1-2edb-4186-86ce-82ba7b3fa123   \n",
       "5440638  2e6831a7-0b90-49c6-825a-80af8cd59b8c   \n",
       "5440639  03183cc6-54d1-48af-a4cf-2a80fa4bdbaf   \n",
       "5440642  b8fd15d9-0299-4b4a-b8e5-8e6f351ab77c   \n",
       "5440666  7038d679-56d2-4220-ba2a-f15ca7f92e50   \n",
       "5440673  db4226d2-48b4-4a69-b477-e1af9981400d   \n",
       "5440742  c95bf78e-2b40-4de0-87a6-6718c3486957   \n",
       "5441110  a16246d4-ecdd-455a-8a87-52ffcca89822   \n",
       "5441501  af0d6f4f-f33a-40a4-b9e3-6bf1194d4949   \n",
       "\n",
       "                                    device_id vehicle_type  trip_duration  \\\n",
       "28378    629d8f0e-2327-4b0f-aa0c-32e2ae56824a      scooter         1201.0   \n",
       "47930    cfad9625-bac7-4a26-a4c7-2462972ae7f1      scooter          758.0   \n",
       "64771    cf621c46-e694-473e-9e19-e54978cb4aa0      scooter           84.0   \n",
       "65245    8796adb0-e212-4faa-b4a5-2391fad02921      scooter          210.0   \n",
       "65371    d39c5f09-cd06-4a75-8d02-8acab89d0d57      scooter         1175.0   \n",
       "88064    3cac4ce8-a6b2-4b20-8835-d04f8909643a      scooter          345.0   \n",
       "94633    b49165de-56d0-43ad-bdb9-9f58bb1f9036      scooter          242.0   \n",
       "97619    c9524668-d706-4e4b-afb1-3e6ed61b5401      scooter           81.0   \n",
       "99012    2cbb3fed-1494-4095-b9db-f31a29b64bdf      scooter          362.0   \n",
       "113666   d49d7246-2fbb-4eb7-a8a5-5c142cedba39      scooter          209.0   \n",
       "113809   d49d7246-2fbb-4eb7-a8a5-5c142cedba39      scooter         2148.0   \n",
       "136977   7817ad36-bb14-45a6-9ff3-adff25602766      scooter         1980.0   \n",
       "170047   b2f8c0b4-9cff-43a2-97af-2fff5c4bb0fa      scooter          628.0   \n",
       "181162   240a2a08-e4c6-418f-aeb4-6a25e10e2a71      scooter          383.0   \n",
       "187673   5846158a-7cf8-4c37-a61b-6adc2c40e73a      scooter          650.0   \n",
       "...                                       ...          ...            ...   \n",
       "5438154  16755e40-1495-4f1f-9532-2c95c0e44660      scooter          325.0   \n",
       "5438217  e71d2eb7-0273-4552-abb6-08580526a31a      scooter          468.0   \n",
       "5438223  4ac494c6-6f5d-4c14-a045-d639702bb4c4      scooter          539.0   \n",
       "5438293  400a49ca-672c-4689-a0ae-feb7eb14c37c      scooter          915.0   \n",
       "5440609  34865633-108c-46d9-85cb-99019d68aa0f      scooter          325.0   \n",
       "5440627  5de9ecd9-976c-4800-a0ee-c31ab784cd32      scooter          618.0   \n",
       "5440635  77578728-d6fc-4817-b7e4-63f14d912401      scooter         1840.0   \n",
       "5440638  76b6d1ec-ac00-4cb4-bd78-0e33465f24f6      scooter          379.0   \n",
       "5440639  8f30e9da-e90e-45ed-af26-76091971be0a      scooter         1713.0   \n",
       "5440642  a2e2931b-fb7e-4ddd-9753-e162dcbec4d6      scooter         1972.0   \n",
       "5440666  5002344e-b0a5-4040-b38c-b4990a914dc1      scooter          193.0   \n",
       "5440673  31fd930e-2abb-4481-9559-629061b88e20      scooter         5372.0   \n",
       "5440742  5d4eae6c-b044-4cf0-befc-a213ca238acb      scooter          572.0   \n",
       "5441110  fed8b18e-dcb8-4f9a-9207-f31386763fed      scooter          155.0   \n",
       "5441501  dbbaf047-34c9-47b5-aa40-4b3e2bf57d23      scooter          400.0   \n",
       "\n",
       "         trip_distance              start_time                end_time  month  \\\n",
       "28378           5297.0  06/11/2019 12:45:00 PM  06/11/2019 01:00:00 PM    6.0   \n",
       "47930          33443.0  05/05/2019 10:30:00 AM  05/05/2019 10:45:00 AM    5.0   \n",
       "64771             62.0  04/27/2019 08:45:00 PM  04/27/2019 08:45:00 PM    4.0   \n",
       "65245          17354.0  05/05/2019 11:15:00 AM  05/05/2019 11:15:00 AM    5.0   \n",
       "65371          19138.0  05/05/2019 11:15:00 AM  05/05/2019 11:30:00 AM    5.0   \n",
       "88064           1080.0  05/19/2019 08:30:00 PM  05/19/2019 08:45:00 PM    5.0   \n",
       "94633          83979.0  04/30/2019 02:15:00 PM  04/30/2019 02:15:00 PM    4.0   \n",
       "97619            399.0  06/11/2019 02:15:00 PM  06/11/2019 02:15:00 PM    6.0   \n",
       "99012          30986.0  05/05/2019 01:30:00 PM  05/05/2019 01:45:00 PM    5.0   \n",
       "113666           101.0  04/25/2019 05:30:00 PM  04/25/2019 05:30:00 PM    4.0   \n",
       "113809           680.0  04/25/2019 04:45:00 PM  04/25/2019 05:30:00 PM    4.0   \n",
       "136977          5655.0  04/06/2019 08:15:00 PM  04/06/2019 08:45:00 PM    4.0   \n",
       "170047           892.0  04/28/2019 04:30:00 PM  04/28/2019 04:30:00 PM    4.0   \n",
       "181162        133468.0  04/28/2019 01:15:00 PM  04/28/2019 01:30:00 PM    4.0   \n",
       "187673         40400.0  04/27/2019 03:45:00 PM  04/27/2019 04:00:00 PM    4.0   \n",
       "...                ...                     ...                     ...    ...   \n",
       "5438154          500.0  12/04/2018 04:45:00 PM  12/04/2018 04:45:00 PM   12.0   \n",
       "5438217            0.0  10/28/2018 06:30:00 PM  10/28/2018 06:45:00 PM   10.0   \n",
       "5438223         1300.0  10/30/2018 06:30:00 PM  10/30/2018 06:45:00 PM   10.0   \n",
       "5438293         2105.0  09/24/2018 08:15:00 PM  09/24/2018 08:30:00 PM    9.0   \n",
       "5440609          821.0  11/04/2018 12:00:00 PM  11/04/2018 12:15:00 PM   11.0   \n",
       "5440627          595.0  11/04/2018 12:15:00 PM  11/04/2018 12:30:00 PM   11.0   \n",
       "5440635         3557.0  11/04/2018 12:15:00 PM  11/04/2018 12:45:00 PM   11.0   \n",
       "5440638          515.0  11/04/2018 12:15:00 PM  11/04/2018 12:30:00 PM   11.0   \n",
       "5440639         4989.0  11/04/2018 12:15:00 PM  11/04/2018 12:45:00 PM   11.0   \n",
       "5440642         6759.0  11/04/2018 12:15:00 PM  11/04/2018 01:00:00 PM   11.0   \n",
       "5440666          676.0  11/04/2018 12:30:00 PM  11/04/2018 12:45:00 PM   11.0   \n",
       "5440673         3492.0  11/04/2018 12:45:00 PM  11/04/2018 02:15:00 PM   11.0   \n",
       "5440742         2500.0  10/30/2018 08:45:00 PM  10/30/2018 09:00:00 PM   10.0   \n",
       "5441110          500.0  10/29/2018 06:15:00 AM  10/29/2018 06:30:00 AM   10.0   \n",
       "5441501          925.0  09/11/2018 05:15:00 PM  09/11/2018 05:15:00 PM    9.0   \n",
       "\n",
       "         hour  day_of_week  council_district_start  council_district_end  \\\n",
       "28378    12.0          2.0                     0.0                   5.0   \n",
       "47930    10.0          0.0                     0.0                   9.0   \n",
       "64771    20.0          6.0                     0.0                   0.0   \n",
       "65245    11.0          0.0                     0.0                   9.0   \n",
       "65371    11.0          0.0                     0.0                   1.0   \n",
       "88064    20.0          0.0                     0.0                   8.0   \n",
       "94633    14.0          2.0                     0.0                   9.0   \n",
       "97619    14.0          2.0                     0.0                   0.0   \n",
       "99012    13.0          0.0                     0.0                   9.0   \n",
       "113666   17.0          4.0                     0.0                   0.0   \n",
       "113809   16.0          4.0                     0.0                   0.0   \n",
       "136977   20.0          6.0                     0.0                   0.0   \n",
       "170047   16.0          0.0                     0.0                   0.0   \n",
       "181162   13.0          0.0                     0.0                   9.0   \n",
       "187673   15.0          6.0                     0.0                   9.0   \n",
       "...       ...          ...                     ...                   ...   \n",
       "5438154  16.0          2.0                     0.0                   9.0   \n",
       "5438217  18.0          0.0                     0.0                   0.0   \n",
       "5438223  18.0          2.0                     0.0                   9.0   \n",
       "5438293  20.0          1.0                     0.0                   0.0   \n",
       "5440609  12.0          0.0                     0.0                   9.0   \n",
       "5440627  12.0          0.0                     0.0                   9.0   \n",
       "5440635  12.0          0.0                     0.0                   9.0   \n",
       "5440638  12.0          0.0                     0.0                   9.0   \n",
       "5440639  12.0          0.0                     0.0                   9.0   \n",
       "5440642  12.0          0.0                     0.0                   9.0   \n",
       "5440666  12.0          0.0                     0.0                   5.0   \n",
       "5440673  12.0          0.0                     0.0                   9.0   \n",
       "5440742  20.0          2.0                     0.0                   3.0   \n",
       "5441110   6.0          1.0                     0.0                   0.0   \n",
       "5441501  17.0          2.0                     0.0                   0.0   \n",
       "\n",
       "           year census_tract_start census_tract_end  \n",
       "28378    2019.0         4.8453e+10      48453002004  \n",
       "47930    2019.0        48055960101      48453001100  \n",
       "64771    2019.0        48453001917      48453001914  \n",
       "65245    2019.0        48453002207      48453001100  \n",
       "65371    2019.0        48453002207      48453001100  \n",
       "88064    2019.0        48453001910      48453001910  \n",
       "94633    2019.0      OUT_OF_BOUNDS      48453000604  \n",
       "97619    2019.0        48453001919      48453001919  \n",
       "99012    2019.0        48021950802      48453000603  \n",
       "113666   2019.0        48453001919      48453001919  \n",
       "113809   2019.0        48453001919      48453001919  \n",
       "136977   2019.0        48491020318      48491020318  \n",
       "170047   2019.0        48453001912      48453001912  \n",
       "181162   2019.0      OUT_OF_BOUNDS      48453001100  \n",
       "187673   2019.0      OUT_OF_BOUNDS      48453001100  \n",
       "...         ...                ...              ...  \n",
       "5438154  2018.0      OUT_OF_BOUNDS      48453000601  \n",
       "5438217  2018.0      OUT_OF_BOUNDS    OUT_OF_BOUNDS  \n",
       "5438223  2018.0      OUT_OF_BOUNDS      48453001100  \n",
       "5438293  2018.0      OUT_OF_BOUNDS    OUT_OF_BOUNDS  \n",
       "5440609  2018.0      OUT_OF_BOUNDS      48453001100  \n",
       "5440627  2018.0      OUT_OF_BOUNDS      48453001305  \n",
       "5440635  2018.0      OUT_OF_BOUNDS      48453001305  \n",
       "5440638  2018.0      OUT_OF_BOUNDS      48453001100  \n",
       "5440639  2018.0      OUT_OF_BOUNDS      48453001402  \n",
       "5440642  2018.0      OUT_OF_BOUNDS      48453000604  \n",
       "5440666  2018.0      OUT_OF_BOUNDS      48453001303  \n",
       "5440673  2018.0      OUT_OF_BOUNDS      48453001100  \n",
       "5440742  2018.0      OUT_OF_BOUNDS      48453000902  \n",
       "5441110  2018.0      OUT_OF_BOUNDS    OUT_OF_BOUNDS  \n",
       "5441501  2018.0      OUT_OF_BOUNDS    OUT_OF_BOUNDS  \n",
       "\n",
       "[41656 rows x 15 columns]"
      ]
     },
     "execution_count": 96,
     "metadata": {},
     "output_type": "execute_result"
    }
   ],
   "source": [
    "dockless[mask]"
   ]
  },
  {
   "cell_type": "markdown",
   "metadata": {},
   "source": [
    "## According to the maps, there are only 10 Council Districts yet there are 11 districts in the data."
   ]
  },
  {
   "cell_type": "code",
   "execution_count": 97,
   "metadata": {},
   "outputs": [
    {
     "data": {
      "text/plain": [
       "council_district_start\n",
       "0.0       41656\n",
       "1.0      327468\n",
       "2.0        5672\n",
       "3.0      498504\n",
       "4.0       16669\n",
       "5.0      189368\n",
       "6.0         487\n",
       "7.0       37811\n",
       "8.0       33117\n",
       "9.0     4262555\n",
       "10.0      28544\n",
       "dtype: int64"
      ]
     },
     "execution_count": 97,
     "metadata": {},
     "output_type": "execute_result"
    }
   ],
   "source": [
    "dockless.groupby('council_district_start').size()"
   ]
  },
  {
   "cell_type": "code",
   "execution_count": 98,
   "metadata": {},
   "outputs": [
    {
     "data": {
      "text/plain": [
       "council_district_end\n",
       "0.0       31674\n",
       "1.0      362081\n",
       "2.0        7348\n",
       "3.0      514803\n",
       "4.0       19330\n",
       "5.0      203877\n",
       "6.0         484\n",
       "7.0       38961\n",
       "8.0       38768\n",
       "9.0     4191987\n",
       "10.0      32538\n",
       "dtype: int64"
      ]
     },
     "execution_count": 98,
     "metadata": {},
     "output_type": "execute_result"
    }
   ],
   "source": [
    "dockless.groupby('council_district_end').size()"
   ]
  },
  {
   "cell_type": "markdown",
   "metadata": {},
   "source": [
    "## Since the zones 9,3,1, and 5 are either part of Downtown Austin or adjacent to it, it is safe to say that the Districts are ordered numerically and zone zero may be used as a substitute for NaN or an unknown."
   ]
  },
  {
   "cell_type": "code",
   "execution_count": 99,
   "metadata": {},
   "outputs": [
    {
     "name": "stdout",
     "output_type": "stream",
     "text": [
      "There are 5441851 rides without NaN values out of 5442039 total rides, which is equal to 0.9999654541248234.\n"
     ]
    }
   ],
   "source": [
    "zone_zero_percent = dockless_no_nans / dockless_rides\n",
    "print(\"There are {} rides without NaN values out of {} total rides, which is equal to {}.\"\n",
    "      .format(dockless_no_nans, dockless_rides, nan_dockless_percent))"
   ]
  },
  {
   "cell_type": "code",
   "execution_count": 100,
   "metadata": {
    "collapsed": true
   },
   "outputs": [],
   "source": [
    "#keeps only rows without 0.0 (drops due to more advanced requirements)\n",
    "dockless = dockless[(dockless['council_district_start'] != 0.0) & (dockless['council_district_end'] != 0.0)]"
   ]
  },
  {
   "cell_type": "code",
   "execution_count": 101,
   "metadata": {},
   "outputs": [
    {
     "name": "stdout",
     "output_type": "stream",
     "text": [
      "5385031\n"
     ]
    }
   ],
   "source": [
    "dockless_0_drop = len(dockless)\n",
    "print(dockless_0_drop)"
   ]
  },
  {
   "cell_type": "code",
   "execution_count": 102,
   "metadata": {},
   "outputs": [
    {
     "data": {
      "text/plain": [
       "9.0     4251227\n",
       "3.0      497481\n",
       "1.0      326440\n",
       "5.0      188567\n",
       "7.0       37370\n",
       "8.0       32900\n",
       "10.0      28399\n",
       "4.0       16561\n",
       "2.0        5621\n",
       "6.0         465\n",
       "Name: council_district_start, dtype: int64"
      ]
     },
     "execution_count": 102,
     "metadata": {},
     "output_type": "execute_result"
    }
   ],
   "source": [
    "# confirm new values\n",
    "dockless['council_district_start'].value_counts()"
   ]
  },
  {
   "cell_type": "code",
   "execution_count": 103,
   "metadata": {},
   "outputs": [
    {
     "data": {
      "text/plain": [
       "9.0     4173210\n",
       "3.0      512446\n",
       "1.0      360235\n",
       "5.0      202706\n",
       "8.0       38546\n",
       "7.0       38478\n",
       "10.0      32383\n",
       "4.0       19234\n",
       "2.0        7316\n",
       "6.0         477\n",
       "Name: council_district_end, dtype: int64"
      ]
     },
     "execution_count": 103,
     "metadata": {},
     "output_type": "execute_result"
    }
   ],
   "source": [
    "# confirm new values\n",
    "dockless['council_district_end'].value_counts()"
   ]
  },
  {
   "cell_type": "markdown",
   "metadata": {},
   "source": [
    "## Even without those rows, we only dropped 1.04% of the original dataframe"
   ]
  },
  {
   "cell_type": "code",
   "execution_count": 104,
   "metadata": {},
   "outputs": [
    {
     "name": "stdout",
     "output_type": "stream",
     "text": [
      "Even after dropping all the rows with 0.0, we still have 0.9895245146166721% of the original dataframe, or just a 0.010475485383327876% loss\n"
     ]
    }
   ],
   "source": [
    "dockless_0_percent = dockless_0_drop / dockless_rides\n",
    "dockless_0_minus = (1-dockless_0_percent)\n",
    "print(\"Even after dropping all the rows with 0.0, we still have {}% of the original dataframe, or just a {}% loss\"\n",
    "      .format(dockless_0_percent, dockless_0_minus))"
   ]
  },
  {
   "cell_type": "markdown",
   "metadata": {},
   "source": [
    "## Converting ID and Device_ID for consistency"
   ]
  },
  {
   "cell_type": "code",
   "execution_count": 105,
   "metadata": {
    "collapsed": true
   },
   "outputs": [],
   "source": [
    "dockless['id']= dockless['id'].astype(str)"
   ]
  },
  {
   "cell_type": "code",
   "execution_count": 106,
   "metadata": {
    "collapsed": true
   },
   "outputs": [],
   "source": [
    "dockless['device_id']= dockless['device_id'].astype(str)"
   ]
  },
  {
   "cell_type": "code",
   "execution_count": 107,
   "metadata": {},
   "outputs": [
    {
     "data": {
      "text/plain": [
       "id                         object\n",
       "device_id                  object\n",
       "vehicle_type               object\n",
       "trip_duration             float64\n",
       "trip_distance             float64\n",
       "start_time                 object\n",
       "end_time                   object\n",
       "month                     float64\n",
       "hour                      float64\n",
       "day_of_week               float64\n",
       "council_district_start    float64\n",
       "council_district_end      float64\n",
       "year                      float64\n",
       "census_tract_start         object\n",
       "census_tract_end           object\n",
       "dtype: object"
      ]
     },
     "execution_count": 107,
     "metadata": {},
     "output_type": "execute_result"
    }
   ],
   "source": [
    "dockless.dtypes"
   ]
  },
  {
   "cell_type": "markdown",
   "metadata": {
    "collapsed": true
   },
   "source": [
    "## Convert columns to integers"
   ]
  },
  {
   "cell_type": "code",
   "execution_count": 108,
   "metadata": {
    "collapsed": true
   },
   "outputs": [],
   "source": [
    "dockless['trip_duration'] = pd.to_numeric(dockless['trip_duration'], errors='ignore', downcast='integer')"
   ]
  },
  {
   "cell_type": "code",
   "execution_count": 109,
   "metadata": {
    "collapsed": true
   },
   "outputs": [],
   "source": [
    "dockless['trip_distance'] = pd.to_numeric(dockless['trip_distance'], errors='ignore', downcast='integer')"
   ]
  },
  {
   "cell_type": "code",
   "execution_count": 110,
   "metadata": {
    "collapsed": true
   },
   "outputs": [],
   "source": [
    "dockless['month'] = pd.to_numeric(dockless['month'], errors='ignore', downcast='integer')"
   ]
  },
  {
   "cell_type": "code",
   "execution_count": 111,
   "metadata": {
    "collapsed": true
   },
   "outputs": [],
   "source": [
    "dockless['hour'] = pd.to_numeric(dockless['hour'], errors='ignore', downcast='integer')"
   ]
  },
  {
   "cell_type": "code",
   "execution_count": 112,
   "metadata": {
    "collapsed": true
   },
   "outputs": [],
   "source": [
    "dockless['day_of_week'] = pd.to_numeric(dockless['day_of_week'], errors='ignore', downcast='integer')"
   ]
  },
  {
   "cell_type": "code",
   "execution_count": 113,
   "metadata": {
    "collapsed": true
   },
   "outputs": [],
   "source": [
    "dockless['council_district_start'] = pd.to_numeric(dockless['council_district_start'], errors='ignore', downcast='integer')"
   ]
  },
  {
   "cell_type": "code",
   "execution_count": 114,
   "metadata": {
    "collapsed": true
   },
   "outputs": [],
   "source": [
    "dockless['council_district_end'] = pd.to_numeric(dockless['council_district_end'], errors='ignore', downcast='integer')"
   ]
  },
  {
   "cell_type": "code",
   "execution_count": 115,
   "metadata": {
    "collapsed": true
   },
   "outputs": [],
   "source": [
    "dockless['year'] = pd.to_numeric(dockless['year'], errors='ignore', downcast='integer')"
   ]
  },
  {
   "cell_type": "code",
   "execution_count": 116,
   "metadata": {},
   "outputs": [
    {
     "data": {
      "text/html": [
       "<div>\n",
       "<style>\n",
       "    .dataframe thead tr:only-child th {\n",
       "        text-align: right;\n",
       "    }\n",
       "\n",
       "    .dataframe thead th {\n",
       "        text-align: left;\n",
       "    }\n",
       "\n",
       "    .dataframe tbody tr th {\n",
       "        vertical-align: top;\n",
       "    }\n",
       "</style>\n",
       "<table border=\"1\" class=\"dataframe\">\n",
       "  <thead>\n",
       "    <tr style=\"text-align: right;\">\n",
       "      <th></th>\n",
       "      <th>id</th>\n",
       "      <th>device_id</th>\n",
       "      <th>vehicle_type</th>\n",
       "      <th>trip_duration</th>\n",
       "      <th>trip_distance</th>\n",
       "      <th>start_time</th>\n",
       "      <th>end_time</th>\n",
       "      <th>month</th>\n",
       "      <th>hour</th>\n",
       "      <th>day_of_week</th>\n",
       "      <th>council_district_start</th>\n",
       "      <th>council_district_end</th>\n",
       "      <th>year</th>\n",
       "      <th>census_tract_start</th>\n",
       "      <th>census_tract_end</th>\n",
       "    </tr>\n",
       "  </thead>\n",
       "  <tbody>\n",
       "    <tr>\n",
       "      <th>1388134</th>\n",
       "      <td>6e500d1f-a4b5-4957-9eec-0b539a305b4d</td>\n",
       "      <td>3a6aa434-e197-4757-96f5-491943ebe879</td>\n",
       "      <td>scooter</td>\n",
       "      <td>437</td>\n",
       "      <td>0</td>\n",
       "      <td>10/13/2018 05:45:00 PM</td>\n",
       "      <td>10/13/2018 06:00:00 PM</td>\n",
       "      <td>10</td>\n",
       "      <td>17</td>\n",
       "      <td>6</td>\n",
       "      <td>5</td>\n",
       "      <td>5</td>\n",
       "      <td>2018</td>\n",
       "      <td>48453001303</td>\n",
       "      <td>48453001303</td>\n",
       "    </tr>\n",
       "    <tr>\n",
       "      <th>5157884</th>\n",
       "      <td>d6da23b6-8c21-429d-bed8-704257197640</td>\n",
       "      <td>474beff5-93f1-4639-a07d-0cad9b9cae2e</td>\n",
       "      <td>scooter</td>\n",
       "      <td>237</td>\n",
       "      <td>100</td>\n",
       "      <td>10/11/2018 12:30:00 PM</td>\n",
       "      <td>10/11/2018 12:45:00 PM</td>\n",
       "      <td>10</td>\n",
       "      <td>12</td>\n",
       "      <td>4</td>\n",
       "      <td>9</td>\n",
       "      <td>9</td>\n",
       "      <td>2018</td>\n",
       "      <td>48453000601</td>\n",
       "      <td>48453000601</td>\n",
       "    </tr>\n",
       "    <tr>\n",
       "      <th>1746758</th>\n",
       "      <td>b9fffe67-82c5-492f-8aa3-a0c0e40d3e80</td>\n",
       "      <td>5f38c92b-8616-4665-8f2d-becce272c6cb</td>\n",
       "      <td>scooter</td>\n",
       "      <td>1718</td>\n",
       "      <td>3307</td>\n",
       "      <td>01/12/2019 04:30:00 PM</td>\n",
       "      <td>01/12/2019 05:00:00 PM</td>\n",
       "      <td>1</td>\n",
       "      <td>16</td>\n",
       "      <td>6</td>\n",
       "      <td>9</td>\n",
       "      <td>9</td>\n",
       "      <td>2019</td>\n",
       "      <td>48453001100</td>\n",
       "      <td>48453001305</td>\n",
       "    </tr>\n",
       "    <tr>\n",
       "      <th>292300</th>\n",
       "      <td>16de880b-836a-4d07-babc-8df0fa062d7d</td>\n",
       "      <td>314aadf8-96e9-4956-b9fe-2fe198a671e8</td>\n",
       "      <td>scooter</td>\n",
       "      <td>1281</td>\n",
       "      <td>1299</td>\n",
       "      <td>05/17/2019 10:45:00 PM</td>\n",
       "      <td>05/17/2019 11:00:00 PM</td>\n",
       "      <td>5</td>\n",
       "      <td>22</td>\n",
       "      <td>5</td>\n",
       "      <td>9</td>\n",
       "      <td>9</td>\n",
       "      <td>2019</td>\n",
       "      <td>48453001100</td>\n",
       "      <td>48453001100</td>\n",
       "    </tr>\n",
       "    <tr>\n",
       "      <th>4066087</th>\n",
       "      <td>a1b976a3-3fae-4030-8cb0-de6f81ebcca8</td>\n",
       "      <td>563ae410-0926-4f21-9b4c-fab588a34124</td>\n",
       "      <td>scooter</td>\n",
       "      <td>486</td>\n",
       "      <td>1765</td>\n",
       "      <td>08/28/2018 09:00:00 PM</td>\n",
       "      <td>08/28/2018 09:15:00 PM</td>\n",
       "      <td>8</td>\n",
       "      <td>21</td>\n",
       "      <td>2</td>\n",
       "      <td>9</td>\n",
       "      <td>9</td>\n",
       "      <td>2018</td>\n",
       "      <td>48453001100</td>\n",
       "      <td>48453001100</td>\n",
       "    </tr>\n",
       "  </tbody>\n",
       "</table>\n",
       "</div>"
      ],
      "text/plain": [
       "                                           id  \\\n",
       "1388134  6e500d1f-a4b5-4957-9eec-0b539a305b4d   \n",
       "5157884  d6da23b6-8c21-429d-bed8-704257197640   \n",
       "1746758  b9fffe67-82c5-492f-8aa3-a0c0e40d3e80   \n",
       "292300   16de880b-836a-4d07-babc-8df0fa062d7d   \n",
       "4066087  a1b976a3-3fae-4030-8cb0-de6f81ebcca8   \n",
       "\n",
       "                                    device_id vehicle_type  trip_duration  \\\n",
       "1388134  3a6aa434-e197-4757-96f5-491943ebe879      scooter            437   \n",
       "5157884  474beff5-93f1-4639-a07d-0cad9b9cae2e      scooter            237   \n",
       "1746758  5f38c92b-8616-4665-8f2d-becce272c6cb      scooter           1718   \n",
       "292300   314aadf8-96e9-4956-b9fe-2fe198a671e8      scooter           1281   \n",
       "4066087  563ae410-0926-4f21-9b4c-fab588a34124      scooter            486   \n",
       "\n",
       "         trip_distance              start_time                end_time  month  \\\n",
       "1388134              0  10/13/2018 05:45:00 PM  10/13/2018 06:00:00 PM     10   \n",
       "5157884            100  10/11/2018 12:30:00 PM  10/11/2018 12:45:00 PM     10   \n",
       "1746758           3307  01/12/2019 04:30:00 PM  01/12/2019 05:00:00 PM      1   \n",
       "292300            1299  05/17/2019 10:45:00 PM  05/17/2019 11:00:00 PM      5   \n",
       "4066087           1765  08/28/2018 09:00:00 PM  08/28/2018 09:15:00 PM      8   \n",
       "\n",
       "         hour  day_of_week  council_district_start  council_district_end  \\\n",
       "1388134    17            6                       5                     5   \n",
       "5157884    12            4                       9                     9   \n",
       "1746758    16            6                       9                     9   \n",
       "292300     22            5                       9                     9   \n",
       "4066087    21            2                       9                     9   \n",
       "\n",
       "         year census_tract_start census_tract_end  \n",
       "1388134  2018        48453001303      48453001303  \n",
       "5157884  2018        48453000601      48453000601  \n",
       "1746758  2019        48453001100      48453001305  \n",
       "292300   2019        48453001100      48453001100  \n",
       "4066087  2018        48453001100      48453001100  "
      ]
     },
     "execution_count": 116,
     "metadata": {},
     "output_type": "execute_result"
    }
   ],
   "source": [
    "dockless.sample(5)"
   ]
  },
  {
   "cell_type": "code",
   "execution_count": 117,
   "metadata": {},
   "outputs": [
    {
     "data": {
      "text/plain": [
       "id                        object\n",
       "device_id                 object\n",
       "vehicle_type              object\n",
       "trip_duration              int32\n",
       "trip_distance              int32\n",
       "start_time                object\n",
       "end_time                  object\n",
       "month                       int8\n",
       "hour                        int8\n",
       "day_of_week                 int8\n",
       "council_district_start      int8\n",
       "council_district_end        int8\n",
       "year                       int16\n",
       "census_tract_start        object\n",
       "census_tract_end          object\n",
       "dtype: object"
      ]
     },
     "execution_count": 117,
     "metadata": {},
     "output_type": "execute_result"
    }
   ],
   "source": [
    "dockless.dtypes"
   ]
  },
  {
   "cell_type": "markdown",
   "metadata": {},
   "source": [
    "## Census GEOID cleanup"
   ]
  },
  {
   "cell_type": "code",
   "execution_count": 118,
   "metadata": {
    "collapsed": true
   },
   "outputs": [],
   "source": [
    "dockless['census_tract_end'] = dockless.census_tract_end.astype(float)"
   ]
  },
  {
   "cell_type": "code",
   "execution_count": 119,
   "metadata": {
    "collapsed": true
   },
   "outputs": [],
   "source": [
    "dockless['census_tract_start'] = dockless.census_tract_end.astype(float)"
   ]
  },
  {
   "cell_type": "code",
   "execution_count": 120,
   "metadata": {
    "collapsed": true
   },
   "outputs": [],
   "source": [
    "dockless['census_tract_start'] = pd.to_numeric(dockless['census_tract_start'], errors='ignore', downcast='integer')"
   ]
  },
  {
   "cell_type": "code",
   "execution_count": 121,
   "metadata": {
    "collapsed": true
   },
   "outputs": [],
   "source": [
    "dockless['census_tract_end'] = pd.to_numeric(dockless['census_tract_end'], errors='ignore', downcast='integer')"
   ]
  },
  {
   "cell_type": "code",
   "execution_count": 122,
   "metadata": {},
   "outputs": [
    {
     "data": {
      "text/plain": [
       "id                        object\n",
       "device_id                 object\n",
       "vehicle_type              object\n",
       "trip_duration              int32\n",
       "trip_distance              int32\n",
       "start_time                object\n",
       "end_time                  object\n",
       "month                       int8\n",
       "hour                        int8\n",
       "day_of_week                 int8\n",
       "council_district_start      int8\n",
       "council_district_end        int8\n",
       "year                       int16\n",
       "census_tract_start         int64\n",
       "census_tract_end           int64\n",
       "dtype: object"
      ]
     },
     "execution_count": 122,
     "metadata": {},
     "output_type": "execute_result"
    }
   ],
   "source": [
    "dockless.dtypes"
   ]
  },
  {
   "cell_type": "code",
   "execution_count": 123,
   "metadata": {},
   "outputs": [
    {
     "data": {
      "text/html": [
       "<div>\n",
       "<style>\n",
       "    .dataframe thead tr:only-child th {\n",
       "        text-align: right;\n",
       "    }\n",
       "\n",
       "    .dataframe thead th {\n",
       "        text-align: left;\n",
       "    }\n",
       "\n",
       "    .dataframe tbody tr th {\n",
       "        vertical-align: top;\n",
       "    }\n",
       "</style>\n",
       "<table border=\"1\" class=\"dataframe\">\n",
       "  <thead>\n",
       "    <tr style=\"text-align: right;\">\n",
       "      <th></th>\n",
       "      <th>id</th>\n",
       "      <th>device_id</th>\n",
       "      <th>vehicle_type</th>\n",
       "      <th>trip_duration</th>\n",
       "      <th>trip_distance</th>\n",
       "      <th>start_time</th>\n",
       "      <th>end_time</th>\n",
       "      <th>month</th>\n",
       "      <th>hour</th>\n",
       "      <th>day_of_week</th>\n",
       "      <th>council_district_start</th>\n",
       "      <th>council_district_end</th>\n",
       "      <th>year</th>\n",
       "      <th>census_tract_start</th>\n",
       "      <th>census_tract_end</th>\n",
       "    </tr>\n",
       "  </thead>\n",
       "  <tbody>\n",
       "    <tr>\n",
       "      <th>2907213</th>\n",
       "      <td>c26c2423-f7f6-42c0-b3f5-024fd9a00858</td>\n",
       "      <td>159a10a6-e020-4d25-841b-277eef263439</td>\n",
       "      <td>scooter</td>\n",
       "      <td>221</td>\n",
       "      <td>0</td>\n",
       "      <td>10/18/2018 12:15:00 PM</td>\n",
       "      <td>10/18/2018 12:15:00 PM</td>\n",
       "      <td>10</td>\n",
       "      <td>12</td>\n",
       "      <td>4</td>\n",
       "      <td>9</td>\n",
       "      <td>9</td>\n",
       "      <td>2018</td>\n",
       "      <td>48453000604</td>\n",
       "      <td>48453000604</td>\n",
       "    </tr>\n",
       "    <tr>\n",
       "      <th>1518249</th>\n",
       "      <td>d51bba6b-527e-4ed0-b558-1f034648ef70</td>\n",
       "      <td>9202f2f7-ce10-4ad3-9067-122f683dc1f5</td>\n",
       "      <td>scooter</td>\n",
       "      <td>298</td>\n",
       "      <td>705</td>\n",
       "      <td>08/01/2018 08:30:00 PM</td>\n",
       "      <td>08/01/2018 08:30:00 PM</td>\n",
       "      <td>8</td>\n",
       "      <td>20</td>\n",
       "      <td>3</td>\n",
       "      <td>9</td>\n",
       "      <td>9</td>\n",
       "      <td>2018</td>\n",
       "      <td>48453000700</td>\n",
       "      <td>48453000700</td>\n",
       "    </tr>\n",
       "    <tr>\n",
       "      <th>544394</th>\n",
       "      <td>99ead01a-1ba2-499f-b3cb-b5f5e6f08220</td>\n",
       "      <td>4ce8824b-2f31-4c38-b6ad-46e476a51df9</td>\n",
       "      <td>scooter</td>\n",
       "      <td>121</td>\n",
       "      <td>257</td>\n",
       "      <td>05/09/2019 04:00:00 PM</td>\n",
       "      <td>05/09/2019 04:00:00 PM</td>\n",
       "      <td>5</td>\n",
       "      <td>16</td>\n",
       "      <td>4</td>\n",
       "      <td>9</td>\n",
       "      <td>9</td>\n",
       "      <td>2019</td>\n",
       "      <td>48453000604</td>\n",
       "      <td>48453000604</td>\n",
       "    </tr>\n",
       "    <tr>\n",
       "      <th>2112399</th>\n",
       "      <td>2c901a1a-538e-4323-99cb-2d9e65fe0d12</td>\n",
       "      <td>1175bfa9-0709-4e4e-986c-d88c3155ef54</td>\n",
       "      <td>scooter</td>\n",
       "      <td>357</td>\n",
       "      <td>96</td>\n",
       "      <td>02/24/2019 09:00:00 PM</td>\n",
       "      <td>02/24/2019 09:00:00 PM</td>\n",
       "      <td>2</td>\n",
       "      <td>21</td>\n",
       "      <td>0</td>\n",
       "      <td>9</td>\n",
       "      <td>9</td>\n",
       "      <td>2019</td>\n",
       "      <td>48453000601</td>\n",
       "      <td>48453000601</td>\n",
       "    </tr>\n",
       "    <tr>\n",
       "      <th>117186</th>\n",
       "      <td>c80f352e-677b-4532-af09-2c951fb885c3</td>\n",
       "      <td>2aa0effc-cb1e-4cd0-982b-12a91eb8ec90</td>\n",
       "      <td>scooter</td>\n",
       "      <td>774</td>\n",
       "      <td>2510</td>\n",
       "      <td>04/25/2019 08:45:00 PM</td>\n",
       "      <td>04/25/2019 09:00:00 PM</td>\n",
       "      <td>4</td>\n",
       "      <td>20</td>\n",
       "      <td>4</td>\n",
       "      <td>9</td>\n",
       "      <td>1</td>\n",
       "      <td>2019</td>\n",
       "      <td>48453000901</td>\n",
       "      <td>48453000901</td>\n",
       "    </tr>\n",
       "  </tbody>\n",
       "</table>\n",
       "</div>"
      ],
      "text/plain": [
       "                                           id  \\\n",
       "2907213  c26c2423-f7f6-42c0-b3f5-024fd9a00858   \n",
       "1518249  d51bba6b-527e-4ed0-b558-1f034648ef70   \n",
       "544394   99ead01a-1ba2-499f-b3cb-b5f5e6f08220   \n",
       "2112399  2c901a1a-538e-4323-99cb-2d9e65fe0d12   \n",
       "117186   c80f352e-677b-4532-af09-2c951fb885c3   \n",
       "\n",
       "                                    device_id vehicle_type  trip_duration  \\\n",
       "2907213  159a10a6-e020-4d25-841b-277eef263439      scooter            221   \n",
       "1518249  9202f2f7-ce10-4ad3-9067-122f683dc1f5      scooter            298   \n",
       "544394   4ce8824b-2f31-4c38-b6ad-46e476a51df9      scooter            121   \n",
       "2112399  1175bfa9-0709-4e4e-986c-d88c3155ef54      scooter            357   \n",
       "117186   2aa0effc-cb1e-4cd0-982b-12a91eb8ec90      scooter            774   \n",
       "\n",
       "         trip_distance              start_time                end_time  month  \\\n",
       "2907213              0  10/18/2018 12:15:00 PM  10/18/2018 12:15:00 PM     10   \n",
       "1518249            705  08/01/2018 08:30:00 PM  08/01/2018 08:30:00 PM      8   \n",
       "544394             257  05/09/2019 04:00:00 PM  05/09/2019 04:00:00 PM      5   \n",
       "2112399             96  02/24/2019 09:00:00 PM  02/24/2019 09:00:00 PM      2   \n",
       "117186            2510  04/25/2019 08:45:00 PM  04/25/2019 09:00:00 PM      4   \n",
       "\n",
       "         hour  day_of_week  council_district_start  council_district_end  \\\n",
       "2907213    12            4                       9                     9   \n",
       "1518249    20            3                       9                     9   \n",
       "544394     16            4                       9                     9   \n",
       "2112399    21            0                       9                     9   \n",
       "117186     20            4                       9                     1   \n",
       "\n",
       "         year  census_tract_start  census_tract_end  \n",
       "2907213  2018         48453000604       48453000604  \n",
       "1518249  2018         48453000700       48453000700  \n",
       "544394   2019         48453000604       48453000604  \n",
       "2112399  2019         48453000601       48453000601  \n",
       "117186   2019         48453000901       48453000901  "
      ]
     },
     "execution_count": 123,
     "metadata": {},
     "output_type": "execute_result"
    }
   ],
   "source": [
    "dockless.sample(5)"
   ]
  },
  {
   "cell_type": "markdown",
   "metadata": {},
   "source": [
    "## Vehicle type analysis and conversion to get_dummies"
   ]
  },
  {
   "cell_type": "markdown",
   "metadata": {},
   "source": [
    "## Converted Scooter = 0 and Bike = 1"
   ]
  },
  {
   "cell_type": "code",
   "execution_count": 124,
   "metadata": {
    "collapsed": true
   },
   "outputs": [],
   "source": [
    "dockless['vehicle_type'] = pd.get_dummies(dockless['vehicle_type'])"
   ]
  },
  {
   "cell_type": "code",
   "execution_count": 125,
   "metadata": {},
   "outputs": [
    {
     "data": {
      "text/plain": [
       "0    5123501\n",
       "1     261530\n",
       "Name: vehicle_type, dtype: int64"
      ]
     },
     "execution_count": 125,
     "metadata": {},
     "output_type": "execute_result"
    }
   ],
   "source": [
    "dockless.vehicle_type.value_counts()"
   ]
  },
  {
   "cell_type": "markdown",
   "metadata": {},
   "source": [
    "## ~95% of all dockless vehicle rides are Scooters"
   ]
  },
  {
   "cell_type": "code",
   "execution_count": 126,
   "metadata": {},
   "outputs": [
    {
     "data": {
      "text/plain": [
       "0    0.951434\n",
       "1    0.048566\n",
       "Name: vehicle_type, dtype: float64"
      ]
     },
     "execution_count": 126,
     "metadata": {},
     "output_type": "execute_result"
    }
   ],
   "source": [
    "dockless.vehicle_type.value_counts(1)"
   ]
  },
  {
   "cell_type": "markdown",
   "metadata": {},
   "source": [
    "## Drop GEO-ID columns"
   ]
  },
  {
   "cell_type": "code",
   "execution_count": 127,
   "metadata": {
    "collapsed": true
   },
   "outputs": [],
   "source": [
    "dockless.drop(['census_tract_start'], axis=1, errors='coerce', inplace=True)"
   ]
  },
  {
   "cell_type": "code",
   "execution_count": 128,
   "metadata": {
    "collapsed": true
   },
   "outputs": [],
   "source": [
    "dockless.drop(['census_tract_end'], axis=1, errors='coerce', inplace=True)"
   ]
  },
  {
   "cell_type": "markdown",
   "metadata": {},
   "source": [
    "## Create a column so time values are consistent in minutes and secondsmin both datasets"
   ]
  },
  {
   "cell_type": "code",
   "execution_count": 129,
   "metadata": {
    "collapsed": true
   },
   "outputs": [],
   "source": [
    "dockless.rename(columns={'trip_duration':'trip_duration_seconds'}, inplace=True)"
   ]
  },
  {
   "cell_type": "code",
   "execution_count": 130,
   "metadata": {},
   "outputs": [
    {
     "data": {
      "text/plain": [
       "2           2.833333\n",
       "3           1.500000\n",
       "4           9.500000\n",
       "5           7.300000\n",
       "6           6.516667\n",
       "7           2.550000\n",
       "8           9.500000\n",
       "9          11.133333\n",
       "10          6.500000\n",
       "11          7.200000\n",
       "12          3.266667\n",
       "13         10.366667\n",
       "14         20.400000\n",
       "15          3.633333\n",
       "16          1.716667\n",
       "             ...    \n",
       "5442024     6.016667\n",
       "5442025     5.850000\n",
       "5442026     8.083333\n",
       "5442027     2.550000\n",
       "5442028     1.250000\n",
       "5442029     6.100000\n",
       "5442030     0.850000\n",
       "5442031     1.216667\n",
       "5442032     5.000000\n",
       "5442033    50.366667\n",
       "5442034    15.650000\n",
       "5442035    63.183333\n",
       "5442036     2.650000\n",
       "5442037     2.183333\n",
       "5442038     7.783333\n",
       "Name: trip_duration_minutes, Length: 5385031, dtype: float64"
      ]
     },
     "execution_count": 130,
     "metadata": {},
     "output_type": "execute_result"
    }
   ],
   "source": [
    "dockless['trip_duration_minutes'] = dockless['trip_duration_seconds'] / 60\n",
    "dockless['trip_duration_minutes']"
   ]
  },
  {
   "cell_type": "code",
   "execution_count": 131,
   "metadata": {},
   "outputs": [
    {
     "data": {
      "text/html": [
       "<div>\n",
       "<style>\n",
       "    .dataframe thead tr:only-child th {\n",
       "        text-align: right;\n",
       "    }\n",
       "\n",
       "    .dataframe thead th {\n",
       "        text-align: left;\n",
       "    }\n",
       "\n",
       "    .dataframe tbody tr th {\n",
       "        vertical-align: top;\n",
       "    }\n",
       "</style>\n",
       "<table border=\"1\" class=\"dataframe\">\n",
       "  <thead>\n",
       "    <tr style=\"text-align: right;\">\n",
       "      <th></th>\n",
       "      <th>id</th>\n",
       "      <th>device_id</th>\n",
       "      <th>vehicle_type</th>\n",
       "      <th>trip_duration_seconds</th>\n",
       "      <th>trip_distance</th>\n",
       "      <th>start_time</th>\n",
       "      <th>end_time</th>\n",
       "      <th>month</th>\n",
       "      <th>hour</th>\n",
       "      <th>day_of_week</th>\n",
       "      <th>council_district_start</th>\n",
       "      <th>council_district_end</th>\n",
       "      <th>year</th>\n",
       "      <th>trip_duration_minutes</th>\n",
       "    </tr>\n",
       "  </thead>\n",
       "  <tbody>\n",
       "    <tr>\n",
       "      <th>2</th>\n",
       "      <td>aa27d854-9f27-456e-ae49-f268a9b2b533</td>\n",
       "      <td>6b90a827-60a1-47ad-94a4-d33654dbd50d</td>\n",
       "      <td>0</td>\n",
       "      <td>170</td>\n",
       "      <td>0</td>\n",
       "      <td>04/29/2019 05:30:00 PM</td>\n",
       "      <td>04/29/2019 05:30:00 PM</td>\n",
       "      <td>4</td>\n",
       "      <td>17</td>\n",
       "      <td>1</td>\n",
       "      <td>9</td>\n",
       "      <td>9</td>\n",
       "      <td>2019</td>\n",
       "      <td>2.833333</td>\n",
       "    </tr>\n",
       "    <tr>\n",
       "      <th>3</th>\n",
       "      <td>b7c9f133-966b-46f1-91ce-2682ce7fcf50</td>\n",
       "      <td>1e5234a3-e86b-41e1-a1ad-e98310f3a71c</td>\n",
       "      <td>0</td>\n",
       "      <td>90</td>\n",
       "      <td>0</td>\n",
       "      <td>04/29/2019 05:30:00 PM</td>\n",
       "      <td>04/29/2019 05:30:00 PM</td>\n",
       "      <td>4</td>\n",
       "      <td>17</td>\n",
       "      <td>1</td>\n",
       "      <td>9</td>\n",
       "      <td>9</td>\n",
       "      <td>2019</td>\n",
       "      <td>1.500000</td>\n",
       "    </tr>\n",
       "    <tr>\n",
       "      <th>4</th>\n",
       "      <td>1d4f5d89-c044-46cb-8674-80d37fa0371f</td>\n",
       "      <td>caa0325c-7c0b-4909-a573-d83126ecc953</td>\n",
       "      <td>0</td>\n",
       "      <td>570</td>\n",
       "      <td>826</td>\n",
       "      <td>04/29/2019 05:15:00 PM</td>\n",
       "      <td>04/29/2019 05:15:00 PM</td>\n",
       "      <td>4</td>\n",
       "      <td>17</td>\n",
       "      <td>1</td>\n",
       "      <td>9</td>\n",
       "      <td>9</td>\n",
       "      <td>2019</td>\n",
       "      <td>9.500000</td>\n",
       "    </tr>\n",
       "    <tr>\n",
       "      <th>5</th>\n",
       "      <td>cd442fb9-058f-46a7-af90-b4adb56fd163</td>\n",
       "      <td>1653cf10-75f5-4934-a9d9-c8d43ade67a9</td>\n",
       "      <td>0</td>\n",
       "      <td>438</td>\n",
       "      <td>1815</td>\n",
       "      <td>04/29/2019 05:30:00 PM</td>\n",
       "      <td>04/29/2019 05:45:00 PM</td>\n",
       "      <td>4</td>\n",
       "      <td>17</td>\n",
       "      <td>1</td>\n",
       "      <td>9</td>\n",
       "      <td>9</td>\n",
       "      <td>2019</td>\n",
       "      <td>7.300000</td>\n",
       "    </tr>\n",
       "    <tr>\n",
       "      <th>6</th>\n",
       "      <td>e1ac0e42-ab2d-4eac-b019-f085169c1d38</td>\n",
       "      <td>1d89f9e2-d01a-4736-b7d8-258cb9a2108c</td>\n",
       "      <td>0</td>\n",
       "      <td>391</td>\n",
       "      <td>1519</td>\n",
       "      <td>04/29/2019 05:30:00 PM</td>\n",
       "      <td>04/29/2019 05:30:00 PM</td>\n",
       "      <td>4</td>\n",
       "      <td>17</td>\n",
       "      <td>1</td>\n",
       "      <td>9</td>\n",
       "      <td>9</td>\n",
       "      <td>2019</td>\n",
       "      <td>6.516667</td>\n",
       "    </tr>\n",
       "  </tbody>\n",
       "</table>\n",
       "</div>"
      ],
      "text/plain": [
       "                                     id                             device_id  \\\n",
       "2  aa27d854-9f27-456e-ae49-f268a9b2b533  6b90a827-60a1-47ad-94a4-d33654dbd50d   \n",
       "3  b7c9f133-966b-46f1-91ce-2682ce7fcf50  1e5234a3-e86b-41e1-a1ad-e98310f3a71c   \n",
       "4  1d4f5d89-c044-46cb-8674-80d37fa0371f  caa0325c-7c0b-4909-a573-d83126ecc953   \n",
       "5  cd442fb9-058f-46a7-af90-b4adb56fd163  1653cf10-75f5-4934-a9d9-c8d43ade67a9   \n",
       "6  e1ac0e42-ab2d-4eac-b019-f085169c1d38  1d89f9e2-d01a-4736-b7d8-258cb9a2108c   \n",
       "\n",
       "   vehicle_type  trip_duration_seconds  trip_distance              start_time  \\\n",
       "2             0                    170              0  04/29/2019 05:30:00 PM   \n",
       "3             0                     90              0  04/29/2019 05:30:00 PM   \n",
       "4             0                    570            826  04/29/2019 05:15:00 PM   \n",
       "5             0                    438           1815  04/29/2019 05:30:00 PM   \n",
       "6             0                    391           1519  04/29/2019 05:30:00 PM   \n",
       "\n",
       "                 end_time  month  hour  day_of_week  council_district_start  \\\n",
       "2  04/29/2019 05:30:00 PM      4    17            1                       9   \n",
       "3  04/29/2019 05:30:00 PM      4    17            1                       9   \n",
       "4  04/29/2019 05:15:00 PM      4    17            1                       9   \n",
       "5  04/29/2019 05:45:00 PM      4    17            1                       9   \n",
       "6  04/29/2019 05:30:00 PM      4    17            1                       9   \n",
       "\n",
       "   council_district_end  year  trip_duration_minutes  \n",
       "2                     9  2019               2.833333  \n",
       "3                     9  2019               1.500000  \n",
       "4                     9  2019               9.500000  \n",
       "5                     9  2019               7.300000  \n",
       "6                     9  2019               6.516667  "
      ]
     },
     "execution_count": 131,
     "metadata": {},
     "output_type": "execute_result"
    }
   ],
   "source": [
    "dockless.head()"
   ]
  },
  {
   "cell_type": "code",
   "execution_count": 132,
   "metadata": {
    "collapsed": true
   },
   "outputs": [],
   "source": [
    "dockless = dockless[['id', 'device_id', 'vehicle_type', 'trip_duration_minutes','trip_duration_seconds',\n",
    "                    'trip_distance', 'start_time', 'end_time', 'month', 'hour', 'day_of_week',\n",
    "                    'council_district_start', 'council_district_end', 'year']]"
   ]
  },
  {
   "cell_type": "markdown",
   "metadata": {},
   "source": [
    "## I have a lot of negative values that are affecting the distribution"
   ]
  },
  {
   "cell_type": "markdown",
   "metadata": {},
   "source": [
    "## Negative time"
   ]
  },
  {
   "cell_type": "code",
   "execution_count": 133,
   "metadata": {},
   "outputs": [
    {
     "data": {
      "text/plain": [
       "id                        6\n",
       "device_id                 6\n",
       "vehicle_type              6\n",
       "trip_duration_minutes     6\n",
       "trip_duration_seconds     6\n",
       "trip_distance             6\n",
       "start_time                6\n",
       "end_time                  6\n",
       "month                     6\n",
       "hour                      6\n",
       "day_of_week               6\n",
       "council_district_start    6\n",
       "council_district_end      6\n",
       "year                      6\n",
       "dtype: int64"
      ]
     },
     "execution_count": 133,
     "metadata": {},
     "output_type": "execute_result"
    }
   ],
   "source": [
    "dockless[dockless['trip_duration_seconds']<0].count()"
   ]
  },
  {
   "cell_type": "code",
   "execution_count": 134,
   "metadata": {
    "collapsed": true
   },
   "outputs": [],
   "source": [
    "indices = dockless[dockless['trip_duration_seconds']<0].index.tolist()\n",
    "dockless.drop(indices, axis=0, inplace=True)"
   ]
  },
  {
   "cell_type": "code",
   "execution_count": 135,
   "metadata": {},
   "outputs": [
    {
     "data": {
      "text/plain": [
       "id                        0\n",
       "device_id                 0\n",
       "vehicle_type              0\n",
       "trip_duration_minutes     0\n",
       "trip_duration_seconds     0\n",
       "trip_distance             0\n",
       "start_time                0\n",
       "end_time                  0\n",
       "month                     0\n",
       "hour                      0\n",
       "day_of_week               0\n",
       "council_district_start    0\n",
       "council_district_end      0\n",
       "year                      0\n",
       "dtype: int64"
      ]
     },
     "execution_count": 135,
     "metadata": {},
     "output_type": "execute_result"
    }
   ],
   "source": [
    "dockless[dockless['trip_duration_seconds']<0].count()"
   ]
  },
  {
   "cell_type": "markdown",
   "metadata": {},
   "source": [
    "## negative distance"
   ]
  },
  {
   "cell_type": "code",
   "execution_count": 207,
   "metadata": {},
   "outputs": [
    {
     "data": {
      "text/plain": [
       "id                        503\n",
       "device_id                 503\n",
       "vehicle_type              503\n",
       "trip_duration_minutes     503\n",
       "trip_duration_seconds     503\n",
       "trip_distance             503\n",
       "start_time                503\n",
       "end_time                  503\n",
       "month                     503\n",
       "hour                      503\n",
       "day_of_week               503\n",
       "council_district_start    503\n",
       "council_district_end      503\n",
       "year                      503\n",
       "<=20_distance             503\n",
       "dtype: int64"
      ]
     },
     "execution_count": 207,
     "metadata": {},
     "output_type": "execute_result"
    }
   ],
   "source": [
    "dockless[dockless['trip_distance']<0].count()"
   ]
  },
  {
   "cell_type": "code",
   "execution_count": 208,
   "metadata": {
    "collapsed": true
   },
   "outputs": [],
   "source": [
    "indices = dockless[dockless['trip_distance']<0].index.tolist()\n",
    "dockless.drop(indices, axis=0, inplace=True)"
   ]
  },
  {
   "cell_type": "code",
   "execution_count": 209,
   "metadata": {},
   "outputs": [
    {
     "data": {
      "text/plain": [
       "id                        0\n",
       "device_id                 0\n",
       "vehicle_type              0\n",
       "trip_duration_minutes     0\n",
       "trip_duration_seconds     0\n",
       "trip_distance             0\n",
       "start_time                0\n",
       "end_time                  0\n",
       "month                     0\n",
       "hour                      0\n",
       "day_of_week               0\n",
       "council_district_start    0\n",
       "council_district_end      0\n",
       "year                      0\n",
       "<=20_distance             0\n",
       "dtype: int64"
      ]
     },
     "execution_count": 209,
     "metadata": {},
     "output_type": "execute_result"
    }
   ],
   "source": [
    "dockless[dockless['trip_distance']<0].count()"
   ]
  },
  {
   "cell_type": "markdown",
   "metadata": {},
   "source": [
    "## Creating formula for avg scooter distance"
   ]
  },
  {
   "cell_type": "code",
   "execution_count": 136,
   "metadata": {},
   "outputs": [
    {
     "data": {
      "text/html": [
       "<div>\n",
       "<style>\n",
       "    .dataframe thead tr:only-child th {\n",
       "        text-align: right;\n",
       "    }\n",
       "\n",
       "    .dataframe thead th {\n",
       "        text-align: left;\n",
       "    }\n",
       "\n",
       "    .dataframe tbody tr th {\n",
       "        vertical-align: top;\n",
       "    }\n",
       "</style>\n",
       "<table border=\"1\" class=\"dataframe\">\n",
       "  <thead>\n",
       "    <tr style=\"text-align: right;\">\n",
       "      <th></th>\n",
       "      <th>id</th>\n",
       "      <th>device_id</th>\n",
       "      <th>vehicle_type</th>\n",
       "      <th>trip_duration_minutes</th>\n",
       "      <th>trip_duration_seconds</th>\n",
       "      <th>trip_distance</th>\n",
       "      <th>start_time</th>\n",
       "      <th>end_time</th>\n",
       "      <th>month</th>\n",
       "      <th>hour</th>\n",
       "      <th>day_of_week</th>\n",
       "      <th>council_district_start</th>\n",
       "      <th>council_district_end</th>\n",
       "      <th>year</th>\n",
       "    </tr>\n",
       "  </thead>\n",
       "  <tbody>\n",
       "    <tr>\n",
       "      <th>3765024</th>\n",
       "      <td>fde9749d-2062-4723-95b0-81508cf2d3b7</td>\n",
       "      <td>2b813781-02e3-4041-a6d9-d0b8b00f2317</td>\n",
       "      <td>0</td>\n",
       "      <td>10.816667</td>\n",
       "      <td>649</td>\n",
       "      <td>2010</td>\n",
       "      <td>09/30/2018 07:15:00 PM</td>\n",
       "      <td>09/30/2018 07:30:00 PM</td>\n",
       "      <td>9</td>\n",
       "      <td>19</td>\n",
       "      <td>0</td>\n",
       "      <td>9</td>\n",
       "      <td>9</td>\n",
       "      <td>2018</td>\n",
       "    </tr>\n",
       "  </tbody>\n",
       "</table>\n",
       "</div>"
      ],
      "text/plain": [
       "                                           id  \\\n",
       "3765024  fde9749d-2062-4723-95b0-81508cf2d3b7   \n",
       "\n",
       "                                    device_id  vehicle_type  \\\n",
       "3765024  2b813781-02e3-4041-a6d9-d0b8b00f2317             0   \n",
       "\n",
       "         trip_duration_minutes  trip_duration_seconds  trip_distance  \\\n",
       "3765024              10.816667                    649           2010   \n",
       "\n",
       "                     start_time                end_time  month  hour  \\\n",
       "3765024  09/30/2018 07:15:00 PM  09/30/2018 07:30:00 PM      9    19   \n",
       "\n",
       "         day_of_week  council_district_start  council_district_end  year  \n",
       "3765024            0                       9                     9  2018  "
      ]
     },
     "execution_count": 136,
     "metadata": {},
     "output_type": "execute_result"
    }
   ],
   "source": [
    "dockless.sample(1)"
   ]
  },
  {
   "cell_type": "code",
   "execution_count": 137,
   "metadata": {
    "collapsed": true
   },
   "outputs": [],
   "source": [
    "# convert meters to miles\n",
    "# https://www.metric-conversions.org/length/meters-to-miles.htm\n",
    "to_miles = 0.00062137"
   ]
  },
  {
   "cell_type": "markdown",
   "metadata": {},
   "source": [
    "## Listing the different scooter & bike manufacturers with their respectives ranges based on one full battery charge"
   ]
  },
  {
   "cell_type": "code",
   "execution_count": 138,
   "metadata": {
    "collapsed": true
   },
   "outputs": [],
   "source": [
    "# different manufactured types of scooters or bike w/ their ranges in miles based on one full battery charge\n",
    "xiaomi = 15\n",
    "jump_bike = 40\n",
    "lime_s = 37\n",
    "vespa = 50\n",
    "veo_bike = 68\n",
    "\n",
    "40 * 91% = 36.4\n",
    "68 * 9% = 6.12\n",
    "42.52"
   ]
  },
  {
   "cell_type": "markdown",
   "metadata": {},
   "source": [
    "## List of all dockless companies with permits and ranges calculated"
   ]
  },
  {
   "cell_type": "code",
   "execution_count": 140,
   "metadata": {
    "collapsed": true
   },
   "outputs": [],
   "source": [
    "# Bird permits and scooter range\n",
    "bird_permits_scooter = 1000\n",
    "bird_range_scooter = xiaomi "
   ]
  },
  {
   "cell_type": "code",
   "execution_count": 141,
   "metadata": {
    "collapsed": true
   },
   "outputs": [],
   "source": [
    "# JUMP permits and scooter/bike ranges\n",
    "jump_permits_scooter = 500\n",
    "jump_permits_bike = 500\n",
    "\n",
    "jump_range_scooter = xiaomi \n",
    "jump_range_bike = jump_bike "
   ]
  },
  {
   "cell_type": "code",
   "execution_count": 142,
   "metadata": {
    "collapsed": true
   },
   "outputs": [],
   "source": [
    "# Lime scooter permits and range\n",
    "lime_permits_scooter = 500\n",
    "lime_range_scooter = lime_s "
   ]
  },
  {
   "cell_type": "code",
   "execution_count": 143,
   "metadata": {
    "collapsed": true
   },
   "outputs": [],
   "source": [
    "# Lyft scooter permits and range\n",
    "lyft_permits_scooter = 500\n",
    "lyft_range_scooter = xiaomi"
   ]
  },
  {
   "cell_type": "code",
   "execution_count": 144,
   "metadata": {
    "collapsed": true
   },
   "outputs": [],
   "source": [
    "# OjO scooter permits and range\n",
    "ojo_permits_scooter = 100\n",
    "ojo_range_scooter = vespa "
   ]
  },
  {
   "cell_type": "code",
   "execution_count": 145,
   "metadata": {
    "collapsed": true
   },
   "outputs": [],
   "source": [
    "# Skip scooter permits and range\n",
    "skip_permits_scooter = 500\n",
    "skip_range_scooter = vespa "
   ]
  },
  {
   "cell_type": "code",
   "execution_count": 146,
   "metadata": {
    "collapsed": true
   },
   "outputs": [],
   "source": [
    "# Spin scooter permits and range\n",
    "spin_permits_scooter = 500\n",
    "skip_range_scooter = xiaomi"
   ]
  },
  {
   "cell_type": "code",
   "execution_count": 147,
   "metadata": {
    "collapsed": true
   },
   "outputs": [],
   "source": [
    "# VeoRide scooter & bike permits and range\n",
    "veo_permits_scooter = 300\n",
    "veo_permits_bike = 50\n",
    "\n",
    "veo_range_scooter = xiaomi \n",
    "veo_range_bike = veo_bike"
   ]
  },
  {
   "cell_type": "markdown",
   "metadata": {},
   "source": [
    "pap8 - stipulate how code should look (4 tabs, etc)\n",
    "all code < 80 characters"
   ]
  },
  {
   "cell_type": "markdown",
   "metadata": {},
   "source": [
    "## Permit Totals"
   ]
  },
  {
   "cell_type": "code",
   "execution_count": 174,
   "metadata": {},
   "outputs": [
    {
     "name": "stdout",
     "output_type": "stream",
     "text": [
      "3900\n"
     ]
    }
   ],
   "source": [
    "# formula for scooter permits\n",
    "total_scooter_permits = (bird_permits_scooter + \n",
    "                         jump_permits_scooter + \n",
    "                         lime_permits_scooter + \n",
    "                         lyft_permits_scooter +\n",
    "                         ojo_permits_scooter +\n",
    "                         skip_permits_scooter + \n",
    "                         spin_permits_scooter + \n",
    "                         veo_permits_scooter)\n",
    "print(total_scooter_permits)"
   ]
  },
  {
   "cell_type": "code",
   "execution_count": 175,
   "metadata": {},
   "outputs": [
    {
     "name": "stdout",
     "output_type": "stream",
     "text": [
      "550\n"
     ]
    }
   ],
   "source": [
    "#formula for bike permits\n",
    "total_bike_permits = (jump_permits_bike + veo_permits_bike)\n",
    "print(total_bike_permits)"
   ]
  },
  {
   "cell_type": "markdown",
   "metadata": {},
   "source": [
    "## Permit Percentages"
   ]
  },
  {
   "cell_type": "code",
   "execution_count": 172,
   "metadata": {
    "collapsed": true
   },
   "outputs": [],
   "source": [
    "# formulas for scooter weighted avg\n",
    "bird_s_pct = bird_permits_scooter / total_scooter_permits\n",
    "jump_s_pct = jump_permits_scooter / total_scooter_permits\n",
    "lime_s_pct = lime_permits_scooter / total_scooter_permits\n",
    "lyft_s_pct = lyft_permits_scooter / total_scooter_permits\n",
    "ojo_s_pct = ojo_permits_scooter / total_scooter_permits\n",
    "skip_s_pct = skip_permits_scooter / total_scooter_permits\n",
    "spin_s_pct = spin_permits_scooter / total_scooter_permits\n",
    "veo_s_pct = veo_permits_scooter / total_scooter_permits"
   ]
  },
  {
   "cell_type": "code",
   "execution_count": 173,
   "metadata": {},
   "outputs": [
    {
     "name": "stdout",
     "output_type": "stream",
     "text": [
      "0.9090909090909091\n",
      "0.09090909090909091\n"
     ]
    }
   ],
   "source": [
    "# formulas for bike weighted avg\n",
    "jump_b_pct = jump_permits_bike / total_bike_permits\n",
    "veo_b_pct = veo_permits_bike / total_bike_permits\n",
    "print(jump_b_pct)\n",
    "print(veo_b_pct)"
   ]
  },
  {
   "cell_type": "code",
   "execution_count": null,
   "metadata": {
    "collapsed": true
   },
   "outputs": [],
   "source": [
    "## "
   ]
  },
  {
   "cell_type": "markdown",
   "metadata": {},
   "source": [
    "## Dockless Bike Weighted Avg"
   ]
  },
  {
   "cell_type": "code",
   "execution_count": 177,
   "metadata": {},
   "outputs": [
    {
     "name": "stdout",
     "output_type": "stream",
     "text": [
      "[['veoride', 50, 68, 0.09090909090909091], ['jump', 500, 40, 0.9090909090909091]]\n"
     ]
    }
   ],
   "source": [
    "# formula for bike permits\n",
    "weighted_bike_permits = [['veoride', veo_permits_bike, veo_bike, veo_b_pct], \n",
    "                      ['jump', jump_permits_bike, jump_bike, jump_b_pct]]\n",
    "\n",
    "bike_matrix = pd.DataFrame(total_bike_permits, columns=['vendor', 'bike_permit', 'bike_manuf', 'weight'])\n",
    "print(total_bike_permits)"
   ]
  },
  {
   "cell_type": "code",
   "execution_count": null,
   "metadata": {
    "collapsed": true
   },
   "outputs": [],
   "source": [
    "# formulas for bike weighted avg"
   ]
  },
  {
   "cell_type": "code",
   "execution_count": 184,
   "metadata": {},
   "outputs": [
    {
     "data": {
      "text/html": [
       "<div>\n",
       "<style>\n",
       "    .dataframe thead tr:only-child th {\n",
       "        text-align: right;\n",
       "    }\n",
       "\n",
       "    .dataframe thead th {\n",
       "        text-align: left;\n",
       "    }\n",
       "\n",
       "    .dataframe tbody tr th {\n",
       "        vertical-align: top;\n",
       "    }\n",
       "</style>\n",
       "<table border=\"1\" class=\"dataframe\">\n",
       "  <thead>\n",
       "    <tr style=\"text-align: right;\">\n",
       "      <th></th>\n",
       "      <th>id</th>\n",
       "      <th>device_id</th>\n",
       "      <th>vehicle_type</th>\n",
       "      <th>trip_duration_minutes</th>\n",
       "      <th>trip_duration_seconds</th>\n",
       "      <th>trip_distance</th>\n",
       "      <th>start_time</th>\n",
       "      <th>end_time</th>\n",
       "      <th>month</th>\n",
       "      <th>hour</th>\n",
       "      <th>day_of_week</th>\n",
       "      <th>council_district_start</th>\n",
       "      <th>council_district_end</th>\n",
       "      <th>year</th>\n",
       "      <th>&lt;=20_distance</th>\n",
       "    </tr>\n",
       "  </thead>\n",
       "  <tbody>\n",
       "    <tr>\n",
       "      <th>2</th>\n",
       "      <td>aa27d854-9f27-456e-ae49-f268a9b2b533</td>\n",
       "      <td>6b90a827-60a1-47ad-94a4-d33654dbd50d</td>\n",
       "      <td>0</td>\n",
       "      <td>2.833333</td>\n",
       "      <td>170</td>\n",
       "      <td>0</td>\n",
       "      <td>04/29/2019 05:30:00 PM</td>\n",
       "      <td>04/29/2019 05:30:00 PM</td>\n",
       "      <td>4</td>\n",
       "      <td>17</td>\n",
       "      <td>1</td>\n",
       "      <td>9</td>\n",
       "      <td>9</td>\n",
       "      <td>2019</td>\n",
       "      <td>True</td>\n",
       "    </tr>\n",
       "    <tr>\n",
       "      <th>3</th>\n",
       "      <td>b7c9f133-966b-46f1-91ce-2682ce7fcf50</td>\n",
       "      <td>1e5234a3-e86b-41e1-a1ad-e98310f3a71c</td>\n",
       "      <td>0</td>\n",
       "      <td>1.500000</td>\n",
       "      <td>90</td>\n",
       "      <td>0</td>\n",
       "      <td>04/29/2019 05:30:00 PM</td>\n",
       "      <td>04/29/2019 05:30:00 PM</td>\n",
       "      <td>4</td>\n",
       "      <td>17</td>\n",
       "      <td>1</td>\n",
       "      <td>9</td>\n",
       "      <td>9</td>\n",
       "      <td>2019</td>\n",
       "      <td>True</td>\n",
       "    </tr>\n",
       "    <tr>\n",
       "      <th>4</th>\n",
       "      <td>1d4f5d89-c044-46cb-8674-80d37fa0371f</td>\n",
       "      <td>caa0325c-7c0b-4909-a573-d83126ecc953</td>\n",
       "      <td>0</td>\n",
       "      <td>9.500000</td>\n",
       "      <td>570</td>\n",
       "      <td>826</td>\n",
       "      <td>04/29/2019 05:15:00 PM</td>\n",
       "      <td>04/29/2019 05:15:00 PM</td>\n",
       "      <td>4</td>\n",
       "      <td>17</td>\n",
       "      <td>1</td>\n",
       "      <td>9</td>\n",
       "      <td>9</td>\n",
       "      <td>2019</td>\n",
       "      <td>True</td>\n",
       "    </tr>\n",
       "    <tr>\n",
       "      <th>5</th>\n",
       "      <td>cd442fb9-058f-46a7-af90-b4adb56fd163</td>\n",
       "      <td>1653cf10-75f5-4934-a9d9-c8d43ade67a9</td>\n",
       "      <td>0</td>\n",
       "      <td>7.300000</td>\n",
       "      <td>438</td>\n",
       "      <td>1815</td>\n",
       "      <td>04/29/2019 05:30:00 PM</td>\n",
       "      <td>04/29/2019 05:45:00 PM</td>\n",
       "      <td>4</td>\n",
       "      <td>17</td>\n",
       "      <td>1</td>\n",
       "      <td>9</td>\n",
       "      <td>9</td>\n",
       "      <td>2019</td>\n",
       "      <td>True</td>\n",
       "    </tr>\n",
       "    <tr>\n",
       "      <th>6</th>\n",
       "      <td>e1ac0e42-ab2d-4eac-b019-f085169c1d38</td>\n",
       "      <td>1d89f9e2-d01a-4736-b7d8-258cb9a2108c</td>\n",
       "      <td>0</td>\n",
       "      <td>6.516667</td>\n",
       "      <td>391</td>\n",
       "      <td>1519</td>\n",
       "      <td>04/29/2019 05:30:00 PM</td>\n",
       "      <td>04/29/2019 05:30:00 PM</td>\n",
       "      <td>4</td>\n",
       "      <td>17</td>\n",
       "      <td>1</td>\n",
       "      <td>9</td>\n",
       "      <td>9</td>\n",
       "      <td>2019</td>\n",
       "      <td>True</td>\n",
       "    </tr>\n",
       "  </tbody>\n",
       "</table>\n",
       "</div>"
      ],
      "text/plain": [
       "                                     id                             device_id  \\\n",
       "2  aa27d854-9f27-456e-ae49-f268a9b2b533  6b90a827-60a1-47ad-94a4-d33654dbd50d   \n",
       "3  b7c9f133-966b-46f1-91ce-2682ce7fcf50  1e5234a3-e86b-41e1-a1ad-e98310f3a71c   \n",
       "4  1d4f5d89-c044-46cb-8674-80d37fa0371f  caa0325c-7c0b-4909-a573-d83126ecc953   \n",
       "5  cd442fb9-058f-46a7-af90-b4adb56fd163  1653cf10-75f5-4934-a9d9-c8d43ade67a9   \n",
       "6  e1ac0e42-ab2d-4eac-b019-f085169c1d38  1d89f9e2-d01a-4736-b7d8-258cb9a2108c   \n",
       "\n",
       "   vehicle_type  trip_duration_minutes  trip_duration_seconds  trip_distance  \\\n",
       "2             0               2.833333                    170              0   \n",
       "3             0               1.500000                     90              0   \n",
       "4             0               9.500000                    570            826   \n",
       "5             0               7.300000                    438           1815   \n",
       "6             0               6.516667                    391           1519   \n",
       "\n",
       "               start_time                end_time  month  hour  day_of_week  \\\n",
       "2  04/29/2019 05:30:00 PM  04/29/2019 05:30:00 PM      4    17            1   \n",
       "3  04/29/2019 05:30:00 PM  04/29/2019 05:30:00 PM      4    17            1   \n",
       "4  04/29/2019 05:15:00 PM  04/29/2019 05:15:00 PM      4    17            1   \n",
       "5  04/29/2019 05:30:00 PM  04/29/2019 05:45:00 PM      4    17            1   \n",
       "6  04/29/2019 05:30:00 PM  04/29/2019 05:30:00 PM      4    17            1   \n",
       "\n",
       "   council_district_start  council_district_end  year  <=20_distance  \n",
       "2                       9                     9  2019           True  \n",
       "3                       9                     9  2019           True  \n",
       "4                       9                     9  2019           True  \n",
       "5                       9                     9  2019           True  \n",
       "6                       9                     9  2019           True  "
      ]
     },
     "execution_count": 184,
     "metadata": {},
     "output_type": "execute_result"
    }
   ],
   "source": [
    "dockless.head()"
   ]
  },
  {
   "cell_type": "code",
   "execution_count": null,
   "metadata": {
    "collapsed": true
   },
   "outputs": [],
   "source": []
  },
  {
   "cell_type": "code",
   "execution_count": 210,
   "metadata": {},
   "outputs": [],
   "source": [
    "dockless['<=20_distance'] = np.where(dockless['trip_distance']<=15373.8, True, False)\n",
    "bcycle_20_distances = dockless.loc[(dockless['trip_distance'] <= 15373.8)]"
   ]
  },
  {
   "cell_type": "code",
   "execution_count": 211,
   "metadata": {},
   "outputs": [
    {
     "data": {
      "text/plain": [
       "5379848"
      ]
     },
     "execution_count": 211,
     "metadata": {},
     "output_type": "execute_result"
    }
   ],
   "source": [
    "df = dockless.loc[(dockless['trip_distance'] <= 15373.8)]\n",
    "len(df)"
   ]
  },
  {
   "cell_type": "code",
   "execution_count": 212,
   "metadata": {},
   "outputs": [
    {
     "data": {
      "text/plain": [
       "5384522"
      ]
     },
     "execution_count": 212,
     "metadata": {},
     "output_type": "execute_result"
    }
   ],
   "source": [
    "len(dockless)"
   ]
  },
  {
   "cell_type": "code",
   "execution_count": 213,
   "metadata": {},
   "outputs": [
    {
     "data": {
      "text/plain": [
       "<matplotlib.axes._subplots.AxesSubplot at 0x1a9f4122e8>"
      ]
     },
     "execution_count": 213,
     "metadata": {},
     "output_type": "execute_result"
    },
    {
     "data": {
      "image/png": "[encoded data removed]",
      "text/plain": [
       "<matplotlib.figure.Figure at 0x1a9f326898>"
      ]
     },
     "metadata": {},
     "output_type": "display_data"
    }
   ],
   "source": [
    "sns.distplot(df.trip_distance, hist=True, kde = False)"
   ]
  },
  {
   "cell_type": "code",
   "execution_count": 220,
   "metadata": {},
   "outputs": [
    {
     "data": {
      "text/html": [
       "<div>\n",
       "<style>\n",
       "    .dataframe thead tr:only-child th {\n",
       "        text-align: right;\n",
       "    }\n",
       "\n",
       "    .dataframe thead th {\n",
       "        text-align: left;\n",
       "    }\n",
       "\n",
       "    .dataframe tbody tr th {\n",
       "        vertical-align: top;\n",
       "    }\n",
       "</style>\n",
       "<table border=\"1\" class=\"dataframe\">\n",
       "  <thead>\n",
       "    <tr style=\"text-align: right;\">\n",
       "      <th></th>\n",
       "      <th>id</th>\n",
       "      <th>device_id</th>\n",
       "      <th>vehicle_type</th>\n",
       "      <th>trip_duration_minutes</th>\n",
       "      <th>trip_duration_seconds</th>\n",
       "      <th>trip_distance</th>\n",
       "      <th>start_time</th>\n",
       "      <th>end_time</th>\n",
       "      <th>month</th>\n",
       "      <th>hour</th>\n",
       "      <th>day_of_week</th>\n",
       "      <th>council_district_start</th>\n",
       "      <th>council_district_end</th>\n",
       "      <th>year</th>\n",
       "      <th>&lt;=20_distance</th>\n",
       "    </tr>\n",
       "  </thead>\n",
       "  <tbody>\n",
       "    <tr>\n",
       "      <th>2</th>\n",
       "      <td>aa27d854-9f27-456e-ae49-f268a9b2b533</td>\n",
       "      <td>6b90a827-60a1-47ad-94a4-d33654dbd50d</td>\n",
       "      <td>0</td>\n",
       "      <td>2.833333</td>\n",
       "      <td>170</td>\n",
       "      <td>0</td>\n",
       "      <td>04/29/2019 05:30:00 PM</td>\n",
       "      <td>04/29/2019 05:30:00 PM</td>\n",
       "      <td>4</td>\n",
       "      <td>17</td>\n",
       "      <td>1</td>\n",
       "      <td>9</td>\n",
       "      <td>9</td>\n",
       "      <td>2019</td>\n",
       "      <td>True</td>\n",
       "    </tr>\n",
       "  </tbody>\n",
       "</table>\n",
       "</div>"
      ],
      "text/plain": [
       "                                     id                             device_id  \\\n",
       "2  aa27d854-9f27-456e-ae49-f268a9b2b533  6b90a827-60a1-47ad-94a4-d33654dbd50d   \n",
       "\n",
       "   vehicle_type  trip_duration_minutes  trip_duration_seconds  trip_distance  \\\n",
       "2             0               2.833333                    170              0   \n",
       "\n",
       "               start_time                end_time  month  hour  day_of_week  \\\n",
       "2  04/29/2019 05:30:00 PM  04/29/2019 05:30:00 PM      4    17            1   \n",
       "\n",
       "   council_district_start  council_district_end  year  <=20_distance  \n",
       "2                       9                     9  2019           True  "
      ]
     },
     "execution_count": 220,
     "metadata": {},
     "output_type": "execute_result"
    }
   ],
   "source": [
    "df.head(1)"
   ]
  },
  {
   "cell_type": "code",
   "execution_count": 242,
   "metadata": {},
   "outputs": [
    {
     "data": {
      "text/plain": [
       "<matplotlib.axes._subplots.AxesSubplot at 0x1b14742438>"
      ]
     },
     "execution_count": 242,
     "metadata": {},
     "output_type": "execute_result"
    },
    {
     "data": {
      "image/png": "[encoded data removed]",
      "text/plain": [
       "<matplotlib.figure.Figure at 0x1b14906cf8>"
      ]
     },
     "metadata": {},
     "output_type": "display_data"
    }
   ],
   "source": [
    "df.trip_distance.hist(bins=100, range=(0,8000))"
   ]
  },
  {
   "cell_type": "code",
   "execution_count": 232,
   "metadata": {},
   "outputs": [
    {
     "data": {
      "text/plain": [
       "<matplotlib.axes._subplots.AxesSubplot at 0x1b13c521d0>"
      ]
     },
     "execution_count": 232,
     "metadata": {},
     "output_type": "execute_result"
    },
    {
     "data": {
      "image/png": "[encoded data removed]",
      "text/plain": [
       "<matplotlib.figure.Figure at 0x1b13c619b0>"
      ]
     },
     "metadata": {},
     "output_type": "display_data"
    }
   ],
   "source": [
    "df.trip_distance.hist(bins=100, range=(100,8000))"
   ]
  },
  {
   "cell_type": "markdown",
   "metadata": {},
   "source": [
    "## This plot proves false start are < 1 meter"
   ]
  },
  {
   "cell_type": "code",
   "execution_count": 243,
   "metadata": {},
   "outputs": [
    {
     "data": {
      "text/plain": [
       "<matplotlib.axes._subplots.AxesSubplot at 0x1b149c4668>"
      ]
     },
     "execution_count": 243,
     "metadata": {},
     "output_type": "execute_result"
    },
    {
     "data": {
      "image/png": "[encoded data removed]",
      "text/plain": [
       "<matplotlib.figure.Figure at 0x1b14cbb7f0>"
      ]
     },
     "metadata": {},
     "output_type": "display_data"
    }
   ],
   "source": [
    "df.trip_distance.hist(bins=20, range=(0,100))"
   ]
  },
  {
   "cell_type": "markdown",
   "metadata": {},
   "source": [
    "## <1% of the data extends beyond 8000 meters (4.87 mi)"
   ]
  },
  {
   "cell_type": "code",
   "execution_count": 246,
   "metadata": {},
   "outputs": [
    {
     "data": {
      "text/plain": [
       "id                        49854\n",
       "device_id                 49854\n",
       "vehicle_type              49854\n",
       "trip_duration_minutes     49854\n",
       "trip_duration_seconds     49854\n",
       "trip_distance             49854\n",
       "start_time                49854\n",
       "end_time                  49854\n",
       "month                     49854\n",
       "hour                      49854\n",
       "day_of_week               49854\n",
       "council_district_start    49854\n",
       "council_district_end      49854\n",
       "year                      49854\n",
       "<=20_distance             49854\n",
       "dtype: int64"
      ]
     },
     "execution_count": 246,
     "metadata": {},
     "output_type": "execute_result"
    }
   ],
   "source": [
    "dockless.loc[(dockless['trip_distance'] >= 8000)].count()"
   ]
  },
  {
   "cell_type": "code",
   "execution_count": 257,
   "metadata": {},
   "outputs": [
    {
     "data": {
      "text/plain": [
       "0.009258760573361944"
      ]
     },
     "execution_count": 257,
     "metadata": {},
     "output_type": "execute_result"
    }
   ],
   "source": [
    "49854 / len(dockless)"
   ]
  },
  {
   "cell_type": "code",
   "execution_count": 255,
   "metadata": {},
   "outputs": [
    {
     "data": {
      "text/plain": [
       "<matplotlib.axes._subplots.AxesSubplot at 0x1b04d9b2b0>"
      ]
     },
     "execution_count": 255,
     "metadata": {},
     "output_type": "execute_result"
    },
    {
     "data": {
      "image/png": "[encoded data removed]",
      "text/plain": [
       "<matplotlib.figure.Figure at 0x1b050296a0>"
      ]
     },
     "metadata": {},
     "output_type": "display_data"
    }
   ],
   "source": [
    "df.trip_distance.hist(bins=50, range=(8000, 16000))"
   ]
  },
  {
   "cell_type": "code",
   "execution_count": null,
   "metadata": {
    "collapsed": true
   },
   "outputs": [],
   "source": []
  },
  {
   "cell_type": "code",
   "execution_count": 155,
   "metadata": {},
   "outputs": [
    {
     "ename": "TypeError",
     "evalue": "object of type 'int' has no len()",
     "output_type": "error",
     "traceback": [
      "\u001b[0;31m---------------------------------------------------------------------------\u001b[0m",
      "\u001b[0;31mTypeError\u001b[0m                                 Traceback (most recent call last)",
      "\u001b[0;32m<ipython-input-155-0eee2cb77a1e>\u001b[0m in \u001b[0;36m<module>\u001b[0;34m()\u001b[0m\n\u001b[1;32m      1\u001b[0m scooter_matrix = pd.DataFrame([['rideshare', 'permit_s', 'permit_b', 'manuf_s', 'manuf_b', 'weight_s', 'weight_b'],\n\u001b[1;32m      2\u001b[0m                           \u001b[0;34m'veoride'\u001b[0m\u001b[0;34m,\u001b[0m \u001b[0mveo_permits_scooter\u001b[0m\u001b[0;34m,\u001b[0m \u001b[0mveo_permits_bike\u001b[0m\u001b[0;34m,\u001b[0m \u001b[0mxiaomi\u001b[0m\u001b[0;34m,\u001b[0m \u001b[0mveo_bike\u001b[0m\u001b[0;34m,\u001b[0m \u001b[0mveo_permits_scooter\u001b[0m\u001b[0;34m/\u001b[0m\u001b[0;34m\u001b[0m\u001b[0m\n\u001b[0;32m----> 3\u001b[0;31m                           total_scooter_permits, veo_permits_bike / total_bike_permits])\n\u001b[0m\u001b[1;32m      4\u001b[0m \u001b[0mprint\u001b[0m\u001b[0;34m(\u001b[0m\u001b[0mscooter_matrix\u001b[0m\u001b[0;34m)\u001b[0m\u001b[0;34m\u001b[0m\u001b[0m\n",
      "\u001b[0;32m~/anaconda3/lib/python3.6/site-packages/pandas/core/frame.py\u001b[0m in \u001b[0;36m__init__\u001b[0;34m(self, data, index, columns, dtype, copy)\u001b[0m\n\u001b[1;32m    312\u001b[0m                     \u001b[0;32mif\u001b[0m \u001b[0mis_named_tuple\u001b[0m\u001b[0;34m(\u001b[0m\u001b[0mdata\u001b[0m\u001b[0;34m[\u001b[0m\u001b[0;36m0\u001b[0m\u001b[0;34m]\u001b[0m\u001b[0;34m)\u001b[0m \u001b[0;32mand\u001b[0m \u001b[0mcolumns\u001b[0m \u001b[0;32mis\u001b[0m \u001b[0;32mNone\u001b[0m\u001b[0;34m:\u001b[0m\u001b[0;34m\u001b[0m\u001b[0m\n\u001b[1;32m    313\u001b[0m                         \u001b[0mcolumns\u001b[0m \u001b[0;34m=\u001b[0m \u001b[0mdata\u001b[0m\u001b[0;34m[\u001b[0m\u001b[0;36m0\u001b[0m\u001b[0;34m]\u001b[0m\u001b[0;34m.\u001b[0m\u001b[0m_fields\u001b[0m\u001b[0;34m\u001b[0m\u001b[0m\n\u001b[0;32m--> 314\u001b[0;31m                     \u001b[0marrays\u001b[0m\u001b[0;34m,\u001b[0m \u001b[0mcolumns\u001b[0m \u001b[0;34m=\u001b[0m \u001b[0m_to_arrays\u001b[0m\u001b[0;34m(\u001b[0m\u001b[0mdata\u001b[0m\u001b[0;34m,\u001b[0m \u001b[0mcolumns\u001b[0m\u001b[0;34m,\u001b[0m \u001b[0mdtype\u001b[0m\u001b[0;34m=\u001b[0m\u001b[0mdtype\u001b[0m\u001b[0;34m)\u001b[0m\u001b[0;34m\u001b[0m\u001b[0m\n\u001b[0m\u001b[1;32m    315\u001b[0m                     \u001b[0mcolumns\u001b[0m \u001b[0;34m=\u001b[0m \u001b[0m_ensure_index\u001b[0m\u001b[0;34m(\u001b[0m\u001b[0mcolumns\u001b[0m\u001b[0;34m)\u001b[0m\u001b[0;34m\u001b[0m\u001b[0m\n\u001b[1;32m    316\u001b[0m \u001b[0;34m\u001b[0m\u001b[0m\n",
      "\u001b[0;32m~/anaconda3/lib/python3.6/site-packages/pandas/core/frame.py\u001b[0m in \u001b[0;36m_to_arrays\u001b[0;34m(data, columns, coerce_float, dtype)\u001b[0m\n\u001b[1;32m   5615\u001b[0m     \u001b[0;32mif\u001b[0m \u001b[0misinstance\u001b[0m\u001b[0;34m(\u001b[0m\u001b[0mdata\u001b[0m\u001b[0;34m[\u001b[0m\u001b[0;36m0\u001b[0m\u001b[0;34m]\u001b[0m\u001b[0;34m,\u001b[0m \u001b[0;34m(\u001b[0m\u001b[0mlist\u001b[0m\u001b[0;34m,\u001b[0m \u001b[0mtuple\u001b[0m\u001b[0;34m)\u001b[0m\u001b[0;34m)\u001b[0m\u001b[0;34m:\u001b[0m\u001b[0;34m\u001b[0m\u001b[0m\n\u001b[1;32m   5616\u001b[0m         return _list_to_arrays(data, columns, coerce_float=coerce_float,\n\u001b[0;32m-> 5617\u001b[0;31m                                dtype=dtype)\n\u001b[0m\u001b[1;32m   5618\u001b[0m     \u001b[0;32melif\u001b[0m \u001b[0misinstance\u001b[0m\u001b[0;34m(\u001b[0m\u001b[0mdata\u001b[0m\u001b[0;34m[\u001b[0m\u001b[0;36m0\u001b[0m\u001b[0;34m]\u001b[0m\u001b[0;34m,\u001b[0m \u001b[0mcollections\u001b[0m\u001b[0;34m.\u001b[0m\u001b[0mMapping\u001b[0m\u001b[0;34m)\u001b[0m\u001b[0;34m:\u001b[0m\u001b[0;34m\u001b[0m\u001b[0m\n\u001b[1;32m   5619\u001b[0m         return _list_of_dict_to_arrays(data, columns,\n",
      "\u001b[0;32m~/anaconda3/lib/python3.6/site-packages/pandas/core/frame.py\u001b[0m in \u001b[0;36m_list_to_arrays\u001b[0;34m(data, columns, coerce_float, dtype)\u001b[0m\n\u001b[1;32m   5692\u001b[0m     \u001b[0;32melse\u001b[0m\u001b[0;34m:\u001b[0m\u001b[0;34m\u001b[0m\u001b[0m\n\u001b[1;32m   5693\u001b[0m         \u001b[0;31m# list of lists\u001b[0m\u001b[0;34m\u001b[0m\u001b[0;34m\u001b[0m\u001b[0m\n\u001b[0;32m-> 5694\u001b[0;31m         \u001b[0mcontent\u001b[0m \u001b[0;34m=\u001b[0m \u001b[0mlist\u001b[0m\u001b[0;34m(\u001b[0m\u001b[0mlib\u001b[0m\u001b[0;34m.\u001b[0m\u001b[0mto_object_array\u001b[0m\u001b[0;34m(\u001b[0m\u001b[0mdata\u001b[0m\u001b[0;34m)\u001b[0m\u001b[0;34m.\u001b[0m\u001b[0mT\u001b[0m\u001b[0;34m)\u001b[0m\u001b[0;34m\u001b[0m\u001b[0m\n\u001b[0m\u001b[1;32m   5695\u001b[0m     return _convert_object_array(content, columns, dtype=dtype,\n\u001b[1;32m   5696\u001b[0m                                  coerce_float=coerce_float)\n",
      "\u001b[0;32mpandas/_libs/src/inference.pyx\u001b[0m in \u001b[0;36mpandas._libs.lib.to_object_array\u001b[0;34m()\u001b[0m\n",
      "\u001b[0;31mTypeError\u001b[0m: object of type 'int' has no len()"
     ]
    }
   ],
   "source": [
    "scooter_data = [['veoride', veo_permits_scooter, veo_permits_bike, xiaomi, veo_bike, veo_permits_scooter/\n",
    "                          total_scooter_permits, veo_permits_bike / total_bike_permits])\n",
    "\n",
    "\n",
    "\n",
    "scooter_matrix = pd.DataFrame([['rideshare', 'permit_s', 'permit_b', 'manuf_s', 'manuf_b', 'weight_s', 'weight_b'],\n",
    "                          'veoride', \n",
    "                               \n",
    "print(scooter_matrix)"
   ]
  },
  {
   "cell_type": "code",
   "execution_count": null,
   "metadata": {
    "collapsed": true
   },
   "outputs": [],
   "source": [
    "data = np.array([['','Col1','Col2'],\n",
    "                ['Row1',1,2],\n",
    "                ['Row2',3,4]])"
   ]
  },
  {
   "cell_type": "code",
   "execution_count": null,
   "metadata": {
    "collapsed": true
   },
   "outputs": [],
   "source": []
  },
  {
   "cell_type": "code",
   "execution_count": null,
   "metadata": {
    "collapsed": true
   },
   "outputs": [],
   "source": []
  },
  {
   "cell_type": "code",
   "execution_count": null,
   "metadata": {
    "collapsed": true
   },
   "outputs": [],
   "source": []
  },
  {
   "cell_type": "code",
   "execution_count": 177,
   "metadata": {},
   "outputs": [
    {
     "name": "stdout",
     "output_type": "stream",
     "text": [
      "0.2564102564102564\n",
      "0.1282051282051282\n",
      "0.1282051282051282\n",
      "0.1282051282051282\n",
      "0.02564102564102564\n",
      "0.1282051282051282\n",
      "0.1282051282051282\n",
      "0.07692307692307693\n"
     ]
    }
   ],
   "source": [
    "permit_totals = [bird_permits_scooter, jump_permits_scooter, lime_permits_scooter, lyft_permits_scooter,\n",
    "                        ojo_permits_scooter, skip_permits_scooter, spin_permits_scooter, veo_permits_scooter]\n",
    "\n",
    "for permit in permit_totals:\n",
    "    print(permit / total_scooter_permits)"
   ]
  },
  {
   "cell_type": "code",
   "execution_count": null,
   "metadata": {
    "collapsed": true
   },
   "outputs": [],
   "source": []
  },
  {
   "cell_type": "code",
   "execution_count": null,
   "metadata": {
    "collapsed": true
   },
   "outputs": [],
   "source": [
    "scooter_weighted_avg = [bird_range_scooter, ]\n",
    "scooter permits = [all the permit totals, 1, 3, 4]\n",
    "\n",
    "for g in range(len(rate)):\n",
    "   rate[g] = rate[g] * amount[g] / sum(amount)\n",
    "rate = sum(rate)"
   ]
  },
  {
   "cell_type": "code",
   "execution_count": null,
   "metadata": {
    "collapsed": true
   },
   "outputs": [],
   "source": []
  },
  {
   "cell_type": "code",
   "execution_count": null,
   "metadata": {
    "collapsed": true
   },
   "outputs": [],
   "source": []
  },
  {
   "cell_type": "code",
   "execution_count": null,
   "metadata": {
    "collapsed": true
   },
   "outputs": [],
   "source": []
  },
  {
   "cell_type": "code",
   "execution_count": null,
   "metadata": {
    "collapsed": true
   },
   "outputs": [],
   "source": []
  },
  {
   "cell_type": "markdown",
   "metadata": {},
   "source": [
    "# Visualization & Exploration - Austin BCycle Program"
   ]
  },
  {
   "cell_type": "code",
   "execution_count": 119,
   "metadata": {},
   "outputs": [
    {
     "data": {
      "text/html": [
       "<div>\n",
       "<style>\n",
       "    .dataframe thead tr:only-child th {\n",
       "        text-align: right;\n",
       "    }\n",
       "\n",
       "    .dataframe thead th {\n",
       "        text-align: left;\n",
       "    }\n",
       "\n",
       "    .dataframe tbody tr th {\n",
       "        vertical-align: top;\n",
       "    }\n",
       "</style>\n",
       "<table border=\"1\" class=\"dataframe\">\n",
       "  <thead>\n",
       "    <tr style=\"text-align: right;\">\n",
       "      <th></th>\n",
       "      <th>trip_id</th>\n",
       "      <th>membership_type</th>\n",
       "      <th>bicycle_id</th>\n",
       "      <th>checkout_date</th>\n",
       "      <th>checkout_time</th>\n",
       "      <th>checkout_kiosk_id</th>\n",
       "      <th>checkout_kiosk</th>\n",
       "      <th>return_kiosk_id</th>\n",
       "      <th>return_kiosk</th>\n",
       "      <th>trip_duration_minutes</th>\n",
       "      <th>trip_duration_seconds</th>\n",
       "    </tr>\n",
       "  </thead>\n",
       "  <tbody>\n",
       "    <tr>\n",
       "      <th>0</th>\n",
       "      <td>9900285854</td>\n",
       "      <td>Annual (San Antonio B-cycle)</td>\n",
       "      <td>207</td>\n",
       "      <td>2014-10-26</td>\n",
       "      <td>13:12:00</td>\n",
       "      <td>2537</td>\n",
       "      <td>West &amp; 6th St.</td>\n",
       "      <td>2707</td>\n",
       "      <td>Rainey St @ Cummings</td>\n",
       "      <td>76</td>\n",
       "      <td>4560</td>\n",
       "    </tr>\n",
       "  </tbody>\n",
       "</table>\n",
       "</div>"
      ],
      "text/plain": [
       "      trip_id               membership_type  bicycle_id checkout_date  \\\n",
       "0  9900285854  Annual (San Antonio B-cycle)         207    2014-10-26   \n",
       "\n",
       "  checkout_time  checkout_kiosk_id  checkout_kiosk  return_kiosk_id  \\\n",
       "0      13:12:00               2537  West & 6th St.             2707   \n",
       "\n",
       "           return_kiosk  trip_duration_minutes  trip_duration_seconds  \n",
       "0  Rainey St @ Cummings                     76                   4560  "
      ]
     },
     "execution_count": 119,
     "metadata": {},
     "output_type": "execute_result"
    }
   ],
   "source": [
    "bcycle.head(1)"
   ]
  },
  {
   "cell_type": "code",
   "execution_count": 118,
   "metadata": {
    "collapsed": true
   },
   "outputs": [],
   "source": [
    "bcycle_plot_prep = bcycle[['bicycle_id', 'checkout_date', 'checkout_time', 'checkout_kiosk_id', \n",
    "                           'return_kiosk_id', 'trip_duration_minutes', 'trip_duration_seconds']]"
   ]
  },
  {
   "cell_type": "code",
   "execution_count": 143,
   "metadata": {},
   "outputs": [
    {
     "data": {
      "text/plain": [
       "<seaborn.axisgrid.PairGrid at 0x1a87ab1f98>"
      ]
     },
     "execution_count": 143,
     "metadata": {},
     "output_type": "execute_result"
    },
    {
     "data": {
      "image/png": "[encoded data removed]",
      "text/plain": [
       "<matplotlib.figure.Figure at 0x1a87ab1d30>"
      ]
     },
     "metadata": {},
     "output_type": "display_data"
    }
   ],
   "source": [
    "sns.pairplot(bcycle_plot_prep)"
   ]
  },
  {
   "cell_type": "code",
   "execution_count": null,
   "metadata": {
    "collapsed": true
   },
   "outputs": [],
   "source": []
  },
  {
   "cell_type": "markdown",
   "metadata": {},
   "source": [
    "# Visualization & Exploration - Dockless Scooter & Bike Companies"
   ]
  },
  {
   "cell_type": "code",
   "execution_count": 122,
   "metadata": {},
   "outputs": [
    {
     "data": {
      "text/plain": [
       "<bound method IndexOpsMixin.value_counts of 2           170\n",
       "3            90\n",
       "4           570\n",
       "5           438\n",
       "6           391\n",
       "7           153\n",
       "8           570\n",
       "9           668\n",
       "10          390\n",
       "11          432\n",
       "12          196\n",
       "13          622\n",
       "14         1224\n",
       "15          218\n",
       "16          103\n",
       "           ... \n",
       "5442024     361\n",
       "5442025     351\n",
       "5442026     485\n",
       "5442027     153\n",
       "5442028      75\n",
       "5442029     366\n",
       "5442030      51\n",
       "5442031      73\n",
       "5442032     300\n",
       "5442033    3022\n",
       "5442034     939\n",
       "5442035    3791\n",
       "5442036     159\n",
       "5442037     131\n",
       "5442038     467\n",
       "Name: trip_duration, Length: 5385031, dtype: int32>"
      ]
     },
     "execution_count": 122,
     "metadata": {},
     "output_type": "execute_result"
    }
   ],
   "source": [
    "dockless['trip_duration'].value_counts"
   ]
  },
  {
   "cell_type": "code",
   "execution_count": 130,
   "metadata": {},
   "outputs": [
    {
     "name": "stderr",
     "output_type": "stream",
     "text": [
      "/Users/jakegrosek/anaconda3/lib/python3.6/site-packages/matplotlib/axes/_base.py:3245: UserWarning: Attempted to set non-positive ylimits for log-scale axis; invalid limits will be ignored.\n",
      "  'Attempted to set non-positive ylimits for log-scale axis; '\n"
     ]
    },
    {
     "data": {
      "image/png": "[encoded data removed]",
      "text/plain": [
       "<matplotlib.figure.Figure at 0x1a2702be10>"
      ]
     },
     "metadata": {},
     "output_type": "display_data"
    }
   ],
   "source": [
    "g = sns.distplot(dockless['trip_duration'], hist=True, hist_kws={'log':True})\n",
    "g.set_xscale(\"log\")"
   ]
  },
  {
   "cell_type": "code",
   "execution_count": null,
   "metadata": {
    "collapsed": true
   },
   "outputs": [],
   "source": [
    "sns.distplot(..., hist_kws={'log':True}"
   ]
  },
  {
   "cell_type": "code",
   "execution_count": null,
   "metadata": {
    "collapsed": true
   },
   "outputs": [],
   "source": []
  },
  {
   "cell_type": "code",
   "execution_count": 124,
   "metadata": {
    "collapsed": true
   },
   "outputs": [],
   "source": [
    "pair_prep = dockless[['vehicle_type', 'trip_distance', 'trip_duration', 'month', 'hour', 'day_of_week',\n",
    "                     'council_district_start', 'council_district_end', 'year']]"
   ]
  },
  {
   "cell_type": "code",
   "execution_count": 136,
   "metadata": {},
   "outputs": [
    {
     "data": {
      "text/plain": [
       "<seaborn.axisgrid.PairGrid at 0x1a28986c18>"
      ]
     },
     "execution_count": 136,
     "metadata": {},
     "output_type": "execute_result"
    },
    {
     "data": {
      "image/png": "[encoded data removed]",
      "text/plain": [
       "<matplotlib.figure.Figure at 0x1a28986630>"
      ]
     },
     "metadata": {},
     "output_type": "display_data"
    }
   ],
   "source": [
    "sns.pairplot(pair_prep)"
   ]
  },
  {
   "cell_type": "code",
   "execution_count": 129,
   "metadata": {},
   "outputs": [
    {
     "data": {
      "text/plain": [
       "<matplotlib.axes._subplots.AxesSubplot at 0x1a74981fd0>"
      ]
     },
     "execution_count": 129,
     "metadata": {},
     "output_type": "execute_result"
    },
    {
     "data": {
      "image/png": "[encoded data removed]",
      "text/plain": [
       "<matplotlib.figure.Figure at 0x1a806159e8>"
      ]
     },
     "metadata": {},
     "output_type": "display_data"
    }
   ],
   "source": [
    "sns.violinplot(x=\"month\",\n",
    "                   y=\"trip_duration\",\n",
    "                   hue=\"vehicle_type\",\n",
    "                   data=dockless, gridsize=1000, height=12, scale='count', split=True)"
   ]
  },
  {
   "cell_type": "code",
   "execution_count": 130,
   "metadata": {},
   "outputs": [
    {
     "data": {
      "text/plain": [
       "<matplotlib.axes._subplots.AxesSubplot at 0x1a7a8b0518>"
      ]
     },
     "execution_count": 130,
     "metadata": {},
     "output_type": "execute_result"
    },
    {
     "data": {
      "image/png": "[encoded data removed]",
      "text/plain": [
       "<matplotlib.figure.Figure at 0x1a749919b0>"
      ]
     },
     "metadata": {},
     "output_type": "display_data"
    }
   ],
   "source": [
    "sns.boxplot(x=\"month\",\n",
    "                y=\"trip_duration\",\n",
    "                hue=\"vehicle_type\",\n",
    "                data=dockless, notch=True, whis=True)"
   ]
  },
  {
   "cell_type": "code",
   "execution_count": 70,
   "metadata": {},
   "outputs": [
    {
     "ename": "KeyboardInterrupt",
     "evalue": "",
     "output_type": "error",
     "traceback": [
      "\u001b[0;31m---------------------------------------------------------------------------\u001b[0m",
      "\u001b[0;31mKeyboardInterrupt\u001b[0m                         Traceback (most recent call last)",
      "\u001b[0;32m<ipython-input-70-f5729194d947>\u001b[0m in \u001b[0;36m<module>\u001b[0;34m()\u001b[0m\n\u001b[1;32m      1\u001b[0m \u001b[0;31m#linear regression + Facetgrid\u001b[0m\u001b[0;34m\u001b[0m\u001b[0;34m\u001b[0m\u001b[0m\n\u001b[1;32m      2\u001b[0m facets = sns.lmplot(data=dockless, x=\"day_of_week\", y=\"trip_distance\", col=\"year\", \n\u001b[0;32m----> 3\u001b[0;31m                     hue=\"vehicle_type\", palette=\"Blues\", height=6)\n\u001b[0m\u001b[1;32m      4\u001b[0m \u001b[0mfacets\u001b[0m\u001b[0;34m.\u001b[0m\u001b[0madd_legend\u001b[0m\u001b[0;34m(\u001b[0m\u001b[0;34m)\u001b[0m\u001b[0;34m\u001b[0m\u001b[0m\n\u001b[1;32m      5\u001b[0m \u001b[0mfacets\u001b[0m \u001b[0;34m=\u001b[0m \u001b[0;34m(\u001b[0m\u001b[0mfacets\u001b[0m\u001b[0;34m.\u001b[0m\u001b[0mset_axis_labels\u001b[0m\u001b[0;34m(\u001b[0m\u001b[0;34m\"Trip Duration\"\u001b[0m\u001b[0;34m,\u001b[0m \u001b[0;34m\"Trip Distance\"\u001b[0m\u001b[0;34m)\u001b[0m\u001b[0;34m)\u001b[0m\u001b[0;34m\u001b[0m\u001b[0m\n",
      "\u001b[0;32m~/anaconda3/lib/python3.6/site-packages/seaborn/regression.py\u001b[0m in \u001b[0;36mlmplot\u001b[0;34m(x, y, data, hue, col, row, palette, col_wrap, height, aspect, markers, sharex, sharey, hue_order, col_order, row_order, legend, legend_out, x_estimator, x_bins, x_ci, scatter, fit_reg, ci, n_boot, units, order, logistic, lowess, robust, logx, x_partial, y_partial, truncate, x_jitter, y_jitter, scatter_kws, line_kws, size)\u001b[0m\n\u001b[1;32m    587\u001b[0m         \u001b[0mscatter_kws\u001b[0m\u001b[0;34m=\u001b[0m\u001b[0mscatter_kws\u001b[0m\u001b[0;34m,\u001b[0m \u001b[0mline_kws\u001b[0m\u001b[0;34m=\u001b[0m\u001b[0mline_kws\u001b[0m\u001b[0;34m,\u001b[0m\u001b[0;34m\u001b[0m\u001b[0m\n\u001b[1;32m    588\u001b[0m         )\n\u001b[0;32m--> 589\u001b[0;31m     \u001b[0mfacets\u001b[0m\u001b[0;34m.\u001b[0m\u001b[0mmap_dataframe\u001b[0m\u001b[0;34m(\u001b[0m\u001b[0mregplot\u001b[0m\u001b[0;34m,\u001b[0m \u001b[0mx\u001b[0m\u001b[0;34m,\u001b[0m \u001b[0my\u001b[0m\u001b[0;34m,\u001b[0m \u001b[0;34m**\u001b[0m\u001b[0mregplot_kws\u001b[0m\u001b[0;34m)\u001b[0m\u001b[0;34m\u001b[0m\u001b[0m\n\u001b[0m\u001b[1;32m    590\u001b[0m \u001b[0;34m\u001b[0m\u001b[0m\n\u001b[1;32m    591\u001b[0m     \u001b[0;31m# Add a legend\u001b[0m\u001b[0;34m\u001b[0m\u001b[0;34m\u001b[0m\u001b[0m\n",
      "\u001b[0;32m~/anaconda3/lib/python3.6/site-packages/seaborn/axisgrid.py\u001b[0m in \u001b[0;36mmap_dataframe\u001b[0;34m(self, func, *args, **kwargs)\u001b[0m\n\u001b[1;32m    818\u001b[0m \u001b[0;34m\u001b[0m\u001b[0m\n\u001b[1;32m    819\u001b[0m             \u001b[0;31m# Draw the plot\u001b[0m\u001b[0;34m\u001b[0m\u001b[0;34m\u001b[0m\u001b[0m\n\u001b[0;32m--> 820\u001b[0;31m             \u001b[0mself\u001b[0m\u001b[0;34m.\u001b[0m\u001b[0m_facet_plot\u001b[0m\u001b[0;34m(\u001b[0m\u001b[0mfunc\u001b[0m\u001b[0;34m,\u001b[0m \u001b[0max\u001b[0m\u001b[0;34m,\u001b[0m \u001b[0margs\u001b[0m\u001b[0;34m,\u001b[0m \u001b[0mkwargs\u001b[0m\u001b[0;34m)\u001b[0m\u001b[0;34m\u001b[0m\u001b[0m\n\u001b[0m\u001b[1;32m    821\u001b[0m \u001b[0;34m\u001b[0m\u001b[0m\n\u001b[1;32m    822\u001b[0m         \u001b[0;31m# Finalize the annotations and layout\u001b[0m\u001b[0;34m\u001b[0m\u001b[0;34m\u001b[0m\u001b[0m\n",
      "\u001b[0;32m~/anaconda3/lib/python3.6/site-packages/seaborn/axisgrid.py\u001b[0m in \u001b[0;36m_facet_plot\u001b[0;34m(self, func, ax, plot_args, plot_kwargs)\u001b[0m\n\u001b[1;32m    836\u001b[0m \u001b[0;34m\u001b[0m\u001b[0m\n\u001b[1;32m    837\u001b[0m         \u001b[0;31m# Draw the plot\u001b[0m\u001b[0;34m\u001b[0m\u001b[0;34m\u001b[0m\u001b[0m\n\u001b[0;32m--> 838\u001b[0;31m         \u001b[0mfunc\u001b[0m\u001b[0;34m(\u001b[0m\u001b[0;34m*\u001b[0m\u001b[0mplot_args\u001b[0m\u001b[0;34m,\u001b[0m \u001b[0;34m**\u001b[0m\u001b[0mplot_kwargs\u001b[0m\u001b[0;34m)\u001b[0m\u001b[0;34m\u001b[0m\u001b[0m\n\u001b[0m\u001b[1;32m    839\u001b[0m \u001b[0;34m\u001b[0m\u001b[0m\n\u001b[1;32m    840\u001b[0m         \u001b[0;31m# Sort out the supporting information\u001b[0m\u001b[0;34m\u001b[0m\u001b[0;34m\u001b[0m\u001b[0m\n",
      "\u001b[0;32m~/anaconda3/lib/python3.6/site-packages/seaborn/regression.py\u001b[0m in \u001b[0;36mregplot\u001b[0;34m(x, y, data, x_estimator, x_bins, x_ci, scatter, fit_reg, ci, n_boot, units, order, logistic, lowess, robust, logx, x_partial, y_partial, truncate, dropna, x_jitter, y_jitter, label, color, marker, scatter_kws, line_kws, ax)\u001b[0m\n\u001b[1;32m    787\u001b[0m     \u001b[0mscatter_kws\u001b[0m\u001b[0;34m[\u001b[0m\u001b[0;34m\"marker\"\u001b[0m\u001b[0;34m]\u001b[0m \u001b[0;34m=\u001b[0m \u001b[0mmarker\u001b[0m\u001b[0;34m\u001b[0m\u001b[0m\n\u001b[1;32m    788\u001b[0m     \u001b[0mline_kws\u001b[0m \u001b[0;34m=\u001b[0m \u001b[0;34m{\u001b[0m\u001b[0;34m}\u001b[0m \u001b[0;32mif\u001b[0m \u001b[0mline_kws\u001b[0m \u001b[0;32mis\u001b[0m \u001b[0;32mNone\u001b[0m \u001b[0;32melse\u001b[0m \u001b[0mcopy\u001b[0m\u001b[0;34m.\u001b[0m\u001b[0mcopy\u001b[0m\u001b[0;34m(\u001b[0m\u001b[0mline_kws\u001b[0m\u001b[0;34m)\u001b[0m\u001b[0;34m\u001b[0m\u001b[0m\n\u001b[0;32m--> 789\u001b[0;31m     \u001b[0mplotter\u001b[0m\u001b[0;34m.\u001b[0m\u001b[0mplot\u001b[0m\u001b[0;34m(\u001b[0m\u001b[0max\u001b[0m\u001b[0;34m,\u001b[0m \u001b[0mscatter_kws\u001b[0m\u001b[0;34m,\u001b[0m \u001b[0mline_kws\u001b[0m\u001b[0;34m)\u001b[0m\u001b[0;34m\u001b[0m\u001b[0m\n\u001b[0m\u001b[1;32m    790\u001b[0m     \u001b[0;32mreturn\u001b[0m \u001b[0max\u001b[0m\u001b[0;34m\u001b[0m\u001b[0m\n\u001b[1;32m    791\u001b[0m \u001b[0;34m\u001b[0m\u001b[0m\n",
      "\u001b[0;32m~/anaconda3/lib/python3.6/site-packages/seaborn/regression.py\u001b[0m in \u001b[0;36mplot\u001b[0;34m(self, ax, scatter_kws, line_kws)\u001b[0m\n\u001b[1;32m    342\u001b[0m             \u001b[0mself\u001b[0m\u001b[0;34m.\u001b[0m\u001b[0mscatterplot\u001b[0m\u001b[0;34m(\u001b[0m\u001b[0max\u001b[0m\u001b[0;34m,\u001b[0m \u001b[0mscatter_kws\u001b[0m\u001b[0;34m)\u001b[0m\u001b[0;34m\u001b[0m\u001b[0m\n\u001b[1;32m    343\u001b[0m         \u001b[0;32mif\u001b[0m \u001b[0mself\u001b[0m\u001b[0;34m.\u001b[0m\u001b[0mfit_reg\u001b[0m\u001b[0;34m:\u001b[0m\u001b[0;34m\u001b[0m\u001b[0m\n\u001b[0;32m--> 344\u001b[0;31m             \u001b[0mself\u001b[0m\u001b[0;34m.\u001b[0m\u001b[0mlineplot\u001b[0m\u001b[0;34m(\u001b[0m\u001b[0max\u001b[0m\u001b[0;34m,\u001b[0m \u001b[0mline_kws\u001b[0m\u001b[0;34m)\u001b[0m\u001b[0;34m\u001b[0m\u001b[0m\n\u001b[0m\u001b[1;32m    345\u001b[0m \u001b[0;34m\u001b[0m\u001b[0m\n\u001b[1;32m    346\u001b[0m         \u001b[0;31m# Label the axes\u001b[0m\u001b[0;34m\u001b[0m\u001b[0;34m\u001b[0m\u001b[0m\n",
      "\u001b[0;32m~/anaconda3/lib/python3.6/site-packages/seaborn/regression.py\u001b[0m in \u001b[0;36mlineplot\u001b[0;34m(self, ax, kws)\u001b[0m\n\u001b[1;32m    387\u001b[0m \u001b[0;34m\u001b[0m\u001b[0m\n\u001b[1;32m    388\u001b[0m         \u001b[0;31m# Fit the regression model\u001b[0m\u001b[0;34m\u001b[0m\u001b[0;34m\u001b[0m\u001b[0m\n\u001b[0;32m--> 389\u001b[0;31m         \u001b[0mgrid\u001b[0m\u001b[0;34m,\u001b[0m \u001b[0myhat\u001b[0m\u001b[0;34m,\u001b[0m \u001b[0merr_bands\u001b[0m \u001b[0;34m=\u001b[0m \u001b[0mself\u001b[0m\u001b[0;34m.\u001b[0m\u001b[0mfit_regression\u001b[0m\u001b[0;34m(\u001b[0m\u001b[0max\u001b[0m\u001b[0;34m)\u001b[0m\u001b[0;34m\u001b[0m\u001b[0m\n\u001b[0m\u001b[1;32m    390\u001b[0m \u001b[0;34m\u001b[0m\u001b[0m\n\u001b[1;32m    391\u001b[0m         \u001b[0;31m# Get set default aesthetics\u001b[0m\u001b[0;34m\u001b[0m\u001b[0;34m\u001b[0m\u001b[0m\n",
      "\u001b[0;32m~/anaconda3/lib/python3.6/site-packages/seaborn/regression.py\u001b[0m in \u001b[0;36mfit_regression\u001b[0;34m(self, ax, x_range, grid)\u001b[0m\n\u001b[1;32m    206\u001b[0m             \u001b[0myhat\u001b[0m\u001b[0;34m,\u001b[0m \u001b[0myhat_boots\u001b[0m \u001b[0;34m=\u001b[0m \u001b[0mself\u001b[0m\u001b[0;34m.\u001b[0m\u001b[0mfit_logx\u001b[0m\u001b[0;34m(\u001b[0m\u001b[0mgrid\u001b[0m\u001b[0;34m)\u001b[0m\u001b[0;34m\u001b[0m\u001b[0m\n\u001b[1;32m    207\u001b[0m         \u001b[0;32melse\u001b[0m\u001b[0;34m:\u001b[0m\u001b[0;34m\u001b[0m\u001b[0m\n\u001b[0;32m--> 208\u001b[0;31m             \u001b[0myhat\u001b[0m\u001b[0;34m,\u001b[0m \u001b[0myhat_boots\u001b[0m \u001b[0;34m=\u001b[0m \u001b[0mself\u001b[0m\u001b[0;34m.\u001b[0m\u001b[0mfit_fast\u001b[0m\u001b[0;34m(\u001b[0m\u001b[0mgrid\u001b[0m\u001b[0;34m)\u001b[0m\u001b[0;34m\u001b[0m\u001b[0m\n\u001b[0m\u001b[1;32m    209\u001b[0m \u001b[0;34m\u001b[0m\u001b[0m\n\u001b[1;32m    210\u001b[0m         \u001b[0;31m# Compute the confidence interval at each grid point\u001b[0m\u001b[0;34m\u001b[0m\u001b[0;34m\u001b[0m\u001b[0m\n",
      "\u001b[0;32m~/anaconda3/lib/python3.6/site-packages/seaborn/regression.py\u001b[0m in \u001b[0;36mfit_fast\u001b[0;34m(self, grid)\u001b[0m\n\u001b[1;32m    228\u001b[0m \u001b[0;34m\u001b[0m\u001b[0m\n\u001b[1;32m    229\u001b[0m         beta_boots = algo.bootstrap(X, y, func=reg_func,\n\u001b[0;32m--> 230\u001b[0;31m                                     n_boot=self.n_boot, units=self.units).T\n\u001b[0m\u001b[1;32m    231\u001b[0m         \u001b[0myhat_boots\u001b[0m \u001b[0;34m=\u001b[0m \u001b[0mgrid\u001b[0m\u001b[0;34m.\u001b[0m\u001b[0mdot\u001b[0m\u001b[0;34m(\u001b[0m\u001b[0mbeta_boots\u001b[0m\u001b[0;34m)\u001b[0m\u001b[0;34m.\u001b[0m\u001b[0mT\u001b[0m\u001b[0;34m\u001b[0m\u001b[0m\n\u001b[1;32m    232\u001b[0m         \u001b[0;32mreturn\u001b[0m \u001b[0myhat\u001b[0m\u001b[0;34m,\u001b[0m \u001b[0myhat_boots\u001b[0m\u001b[0;34m\u001b[0m\u001b[0m\n",
      "\u001b[0;32m~/anaconda3/lib/python3.6/site-packages/seaborn/algorithms.py\u001b[0m in \u001b[0;36mbootstrap\u001b[0;34m(*args, **kwargs)\u001b[0m\n\u001b[1;32m     86\u001b[0m         \u001b[0mresampler\u001b[0m \u001b[0;34m=\u001b[0m \u001b[0mrs\u001b[0m\u001b[0;34m.\u001b[0m\u001b[0mrandint\u001b[0m\u001b[0;34m(\u001b[0m\u001b[0;36m0\u001b[0m\u001b[0;34m,\u001b[0m \u001b[0mn\u001b[0m\u001b[0;34m,\u001b[0m \u001b[0mn\u001b[0m\u001b[0;34m)\u001b[0m\u001b[0;34m\u001b[0m\u001b[0m\n\u001b[1;32m     87\u001b[0m         \u001b[0msample\u001b[0m \u001b[0;34m=\u001b[0m \u001b[0;34m[\u001b[0m\u001b[0ma\u001b[0m\u001b[0;34m.\u001b[0m\u001b[0mtake\u001b[0m\u001b[0;34m(\u001b[0m\u001b[0mresampler\u001b[0m\u001b[0;34m,\u001b[0m \u001b[0maxis\u001b[0m\u001b[0;34m=\u001b[0m\u001b[0;36m0\u001b[0m\u001b[0;34m)\u001b[0m \u001b[0;32mfor\u001b[0m \u001b[0ma\u001b[0m \u001b[0;32min\u001b[0m \u001b[0margs\u001b[0m\u001b[0;34m]\u001b[0m\u001b[0;34m\u001b[0m\u001b[0m\n\u001b[0;32m---> 88\u001b[0;31m         \u001b[0mboot_dist\u001b[0m\u001b[0;34m.\u001b[0m\u001b[0mappend\u001b[0m\u001b[0;34m(\u001b[0m\u001b[0mf\u001b[0m\u001b[0;34m(\u001b[0m\u001b[0;34m*\u001b[0m\u001b[0msample\u001b[0m\u001b[0;34m,\u001b[0m \u001b[0;34m**\u001b[0m\u001b[0mfunc_kwargs\u001b[0m\u001b[0;34m)\u001b[0m\u001b[0;34m)\u001b[0m\u001b[0;34m\u001b[0m\u001b[0m\n\u001b[0m\u001b[1;32m     89\u001b[0m     \u001b[0;32mreturn\u001b[0m \u001b[0mnp\u001b[0m\u001b[0;34m.\u001b[0m\u001b[0marray\u001b[0m\u001b[0;34m(\u001b[0m\u001b[0mboot_dist\u001b[0m\u001b[0;34m)\u001b[0m\u001b[0;34m\u001b[0m\u001b[0m\n\u001b[1;32m     90\u001b[0m \u001b[0;34m\u001b[0m\u001b[0m\n",
      "\u001b[0;32m~/anaconda3/lib/python3.6/site-packages/seaborn/regression.py\u001b[0m in \u001b[0;36mreg_func\u001b[0;34m(_x, _y)\u001b[0m\n\u001b[1;32m    219\u001b[0m         \u001b[0;34m\"\"\"Low-level regression and prediction using linear algebra.\"\"\"\u001b[0m\u001b[0;34m\u001b[0m\u001b[0m\n\u001b[1;32m    220\u001b[0m         \u001b[0;32mdef\u001b[0m \u001b[0mreg_func\u001b[0m\u001b[0;34m(\u001b[0m\u001b[0m_x\u001b[0m\u001b[0;34m,\u001b[0m \u001b[0m_y\u001b[0m\u001b[0;34m)\u001b[0m\u001b[0;34m:\u001b[0m\u001b[0;34m\u001b[0m\u001b[0m\n\u001b[0;32m--> 221\u001b[0;31m             \u001b[0;32mreturn\u001b[0m \u001b[0mnp\u001b[0m\u001b[0;34m.\u001b[0m\u001b[0mlinalg\u001b[0m\u001b[0;34m.\u001b[0m\u001b[0mpinv\u001b[0m\u001b[0;34m(\u001b[0m\u001b[0m_x\u001b[0m\u001b[0;34m)\u001b[0m\u001b[0;34m.\u001b[0m\u001b[0mdot\u001b[0m\u001b[0;34m(\u001b[0m\u001b[0m_y\u001b[0m\u001b[0;34m)\u001b[0m\u001b[0;34m\u001b[0m\u001b[0m\n\u001b[0m\u001b[1;32m    222\u001b[0m \u001b[0;34m\u001b[0m\u001b[0m\n\u001b[1;32m    223\u001b[0m         \u001b[0mX\u001b[0m\u001b[0;34m,\u001b[0m \u001b[0my\u001b[0m \u001b[0;34m=\u001b[0m \u001b[0mnp\u001b[0m\u001b[0;34m.\u001b[0m\u001b[0mc_\u001b[0m\u001b[0;34m[\u001b[0m\u001b[0mnp\u001b[0m\u001b[0;34m.\u001b[0m\u001b[0mones\u001b[0m\u001b[0;34m(\u001b[0m\u001b[0mlen\u001b[0m\u001b[0;34m(\u001b[0m\u001b[0mself\u001b[0m\u001b[0;34m.\u001b[0m\u001b[0mx\u001b[0m\u001b[0;34m)\u001b[0m\u001b[0;34m)\u001b[0m\u001b[0;34m,\u001b[0m \u001b[0mself\u001b[0m\u001b[0;34m.\u001b[0m\u001b[0mx\u001b[0m\u001b[0;34m]\u001b[0m\u001b[0;34m,\u001b[0m \u001b[0mself\u001b[0m\u001b[0;34m.\u001b[0m\u001b[0my\u001b[0m\u001b[0;34m\u001b[0m\u001b[0m\n",
      "\u001b[0;32m~/anaconda3/lib/python3.6/site-packages/numpy/linalg/linalg.py\u001b[0m in \u001b[0;36mpinv\u001b[0;34m(a, rcond)\u001b[0m\n\u001b[1;32m   1645\u001b[0m         \u001b[0;32mreturn\u001b[0m \u001b[0mwrap\u001b[0m\u001b[0;34m(\u001b[0m\u001b[0mres\u001b[0m\u001b[0;34m)\u001b[0m\u001b[0;34m\u001b[0m\u001b[0m\n\u001b[1;32m   1646\u001b[0m     \u001b[0ma\u001b[0m \u001b[0;34m=\u001b[0m \u001b[0ma\u001b[0m\u001b[0;34m.\u001b[0m\u001b[0mconjugate\u001b[0m\u001b[0;34m(\u001b[0m\u001b[0;34m)\u001b[0m\u001b[0;34m\u001b[0m\u001b[0m\n\u001b[0;32m-> 1647\u001b[0;31m     \u001b[0mu\u001b[0m\u001b[0;34m,\u001b[0m \u001b[0ms\u001b[0m\u001b[0;34m,\u001b[0m \u001b[0mvt\u001b[0m \u001b[0;34m=\u001b[0m \u001b[0msvd\u001b[0m\u001b[0;34m(\u001b[0m\u001b[0ma\u001b[0m\u001b[0;34m,\u001b[0m \u001b[0;36m0\u001b[0m\u001b[0;34m)\u001b[0m\u001b[0;34m\u001b[0m\u001b[0m\n\u001b[0m\u001b[1;32m   1648\u001b[0m     \u001b[0mm\u001b[0m \u001b[0;34m=\u001b[0m \u001b[0mu\u001b[0m\u001b[0;34m.\u001b[0m\u001b[0mshape\u001b[0m\u001b[0;34m[\u001b[0m\u001b[0;36m0\u001b[0m\u001b[0;34m]\u001b[0m\u001b[0;34m\u001b[0m\u001b[0m\n\u001b[1;32m   1649\u001b[0m     \u001b[0mn\u001b[0m \u001b[0;34m=\u001b[0m \u001b[0mvt\u001b[0m\u001b[0;34m.\u001b[0m\u001b[0mshape\u001b[0m\u001b[0;34m[\u001b[0m\u001b[0;36m1\u001b[0m\u001b[0;34m]\u001b[0m\u001b[0;34m\u001b[0m\u001b[0m\n",
      "\u001b[0;32m~/anaconda3/lib/python3.6/site-packages/numpy/linalg/linalg.py\u001b[0m in \u001b[0;36msvd\u001b[0;34m(a, full_matrices, compute_uv)\u001b[0m\n\u001b[1;32m   1387\u001b[0m \u001b[0;34m\u001b[0m\u001b[0m\n\u001b[1;32m   1388\u001b[0m         \u001b[0msignature\u001b[0m \u001b[0;34m=\u001b[0m \u001b[0;34m'D->DdD'\u001b[0m \u001b[0;32mif\u001b[0m \u001b[0misComplexType\u001b[0m\u001b[0;34m(\u001b[0m\u001b[0mt\u001b[0m\u001b[0;34m)\u001b[0m \u001b[0;32melse\u001b[0m \u001b[0;34m'd->ddd'\u001b[0m\u001b[0;34m\u001b[0m\u001b[0m\n\u001b[0;32m-> 1389\u001b[0;31m         \u001b[0mu\u001b[0m\u001b[0;34m,\u001b[0m \u001b[0ms\u001b[0m\u001b[0;34m,\u001b[0m \u001b[0mvt\u001b[0m \u001b[0;34m=\u001b[0m \u001b[0mgufunc\u001b[0m\u001b[0;34m(\u001b[0m\u001b[0ma\u001b[0m\u001b[0;34m,\u001b[0m \u001b[0msignature\u001b[0m\u001b[0;34m=\u001b[0m\u001b[0msignature\u001b[0m\u001b[0;34m,\u001b[0m \u001b[0mextobj\u001b[0m\u001b[0;34m=\u001b[0m\u001b[0mextobj\u001b[0m\u001b[0;34m)\u001b[0m\u001b[0;34m\u001b[0m\u001b[0m\n\u001b[0m\u001b[1;32m   1390\u001b[0m         \u001b[0mu\u001b[0m \u001b[0;34m=\u001b[0m \u001b[0mu\u001b[0m\u001b[0;34m.\u001b[0m\u001b[0mastype\u001b[0m\u001b[0;34m(\u001b[0m\u001b[0mresult_t\u001b[0m\u001b[0;34m,\u001b[0m \u001b[0mcopy\u001b[0m\u001b[0;34m=\u001b[0m\u001b[0;32mFalse\u001b[0m\u001b[0;34m)\u001b[0m\u001b[0;34m\u001b[0m\u001b[0m\n\u001b[1;32m   1391\u001b[0m         \u001b[0ms\u001b[0m \u001b[0;34m=\u001b[0m \u001b[0ms\u001b[0m\u001b[0;34m.\u001b[0m\u001b[0mastype\u001b[0m\u001b[0;34m(\u001b[0m\u001b[0m_realType\u001b[0m\u001b[0;34m(\u001b[0m\u001b[0mresult_t\u001b[0m\u001b[0;34m)\u001b[0m\u001b[0;34m,\u001b[0m \u001b[0mcopy\u001b[0m\u001b[0;34m=\u001b[0m\u001b[0;32mFalse\u001b[0m\u001b[0;34m)\u001b[0m\u001b[0;34m\u001b[0m\u001b[0m\n",
      "\u001b[0;31mKeyboardInterrupt\u001b[0m: "
     ]
    },
    {
     "data": {
      "image/png": "[encoded data removed]",
      "text/plain": [
       "<matplotlib.figure.Figure at 0x1a7ba5cdd8>"
      ]
     },
     "metadata": {},
     "output_type": "display_data"
    }
   ],
   "source": [
    "#linear regression + Facetgrid\n",
    "facets = sns.lmplot(data=dockless, x=\"day_of_week\", y=\"trip_duration_minutes\", col=\"year\", \n",
    "                    hue=\"vehicle_type\", palette=\"Blues\", height=6)\n",
    "facets.add_legend()\n",
    "facets = (facets.set_axis_labels(\"Trip Duration\", \"Trip Distance\"))"
   ]
  },
  {
   "cell_type": "code",
   "execution_count": 134,
   "metadata": {},
   "outputs": [
    {
     "data": {
      "image/png": "[encoded data removed]",
      "text/plain": [
       "<matplotlib.figure.Figure at 0x1a2895df98>"
      ]
     },
     "metadata": {},
     "output_type": "display_data"
    }
   ],
   "source": [
    "sns.catplot(x=\"day_of_week\", y=\"trip_distance\", hue=\"year\", col=\"vehicle_type\", data=dockless, \n",
    "            kind=\"bar\", height=4, aspect=.7);\n"
   ]
  },
  {
   "cell_type": "code",
   "execution_count": 125,
   "metadata": {},
   "outputs": [
    {
     "data": {
      "text/plain": [
       "trip_duration    int32\n",
       "trip_distance    int32\n",
       "dtype: object"
      ]
     },
     "execution_count": 125,
     "metadata": {},
     "output_type": "execute_result"
    }
   ],
   "source": [
    "dockless[['trip_duration', 'trip_distance']].dtypes"
   ]
  },
  {
   "cell_type": "code",
   "execution_count": 168,
   "metadata": {},
   "outputs": [
    {
     "data": {
      "text/html": [
       "<div>\n",
       "<style>\n",
       "    .dataframe thead tr:only-child th {\n",
       "        text-align: right;\n",
       "    }\n",
       "\n",
       "    .dataframe thead th {\n",
       "        text-align: left;\n",
       "    }\n",
       "\n",
       "    .dataframe tbody tr th {\n",
       "        vertical-align: top;\n",
       "    }\n",
       "</style>\n",
       "<table border=\"1\" class=\"dataframe\">\n",
       "  <thead>\n",
       "    <tr style=\"text-align: right;\">\n",
       "      <th></th>\n",
       "      <th>id</th>\n",
       "      <th>device_id</th>\n",
       "      <th>vehicle_type</th>\n",
       "      <th>trip_duration</th>\n",
       "      <th>trip_distance</th>\n",
       "      <th>start_time</th>\n",
       "      <th>end_time</th>\n",
       "      <th>month</th>\n",
       "      <th>hour</th>\n",
       "      <th>day_of_week</th>\n",
       "      <th>council_district_start</th>\n",
       "      <th>council_district_end</th>\n",
       "      <th>year</th>\n",
       "    </tr>\n",
       "  </thead>\n",
       "  <tbody>\n",
       "    <tr>\n",
       "      <th>4864743</th>\n",
       "      <td>37c9a897-7756-45da-a0bb-33c253ec4b95</td>\n",
       "      <td>5f5b071a-e8ba-4f39-ad7c-7c2959f913d5</td>\n",
       "      <td>0</td>\n",
       "      <td>449</td>\n",
       "      <td>2315</td>\n",
       "      <td>09/16/2018 09:15:00 AM</td>\n",
       "      <td>09/16/2018 09:30:00 AM</td>\n",
       "      <td>9</td>\n",
       "      <td>9</td>\n",
       "      <td>0</td>\n",
       "      <td>9</td>\n",
       "      <td>9</td>\n",
       "      <td>2018</td>\n",
       "    </tr>\n",
       "    <tr>\n",
       "      <th>436169</th>\n",
       "      <td>144d9282-902c-461a-8cf0-9b32ad295843</td>\n",
       "      <td>f6deb777-36be-4fd7-8b0b-0be5e0167680</td>\n",
       "      <td>0</td>\n",
       "      <td>184</td>\n",
       "      <td>708</td>\n",
       "      <td>05/24/2019 02:15:00 PM</td>\n",
       "      <td>05/24/2019 02:15:00 PM</td>\n",
       "      <td>5</td>\n",
       "      <td>14</td>\n",
       "      <td>5</td>\n",
       "      <td>9</td>\n",
       "      <td>9</td>\n",
       "      <td>2019</td>\n",
       "    </tr>\n",
       "    <tr>\n",
       "      <th>3690141</th>\n",
       "      <td>21235404-d6f2-4100-a2f3-f62af4a75e3f</td>\n",
       "      <td>2f62f729-d4a2-4f72-bfc6-59c31f454ce0</td>\n",
       "      <td>0</td>\n",
       "      <td>346</td>\n",
       "      <td>1167</td>\n",
       "      <td>08/28/2018 01:45:00 PM</td>\n",
       "      <td>08/28/2018 02:00:00 PM</td>\n",
       "      <td>8</td>\n",
       "      <td>13</td>\n",
       "      <td>2</td>\n",
       "      <td>9</td>\n",
       "      <td>9</td>\n",
       "      <td>2018</td>\n",
       "    </tr>\n",
       "    <tr>\n",
       "      <th>2682226</th>\n",
       "      <td>04ba8786-9eb3-4e6a-9df6-9ee110bd9709</td>\n",
       "      <td>bcb52b70-8be1-4681-b007-d70309f628f0</td>\n",
       "      <td>0</td>\n",
       "      <td>134</td>\n",
       "      <td>65</td>\n",
       "      <td>01/12/2019 05:45:00 PM</td>\n",
       "      <td>01/12/2019 05:45:00 PM</td>\n",
       "      <td>1</td>\n",
       "      <td>17</td>\n",
       "      <td>6</td>\n",
       "      <td>9</td>\n",
       "      <td>9</td>\n",
       "      <td>2019</td>\n",
       "    </tr>\n",
       "    <tr>\n",
       "      <th>4605254</th>\n",
       "      <td>c7f18ccc-f6f6-4fc2-a1ac-ce58932cde6d</td>\n",
       "      <td>3396e03c-5995-439f-8340-cd5e176a695a</td>\n",
       "      <td>0</td>\n",
       "      <td>203</td>\n",
       "      <td>563</td>\n",
       "      <td>03/17/2019 11:30:00 AM</td>\n",
       "      <td>03/17/2019 11:30:00 AM</td>\n",
       "      <td>3</td>\n",
       "      <td>11</td>\n",
       "      <td>0</td>\n",
       "      <td>5</td>\n",
       "      <td>9</td>\n",
       "      <td>2019</td>\n",
       "    </tr>\n",
       "    <tr>\n",
       "      <th>1982672</th>\n",
       "      <td>6cd6b66b-3b3e-4f28-b382-84719dd246a4</td>\n",
       "      <td>e472098f-62ac-4d3f-b26f-ebf6827d32fd</td>\n",
       "      <td>0</td>\n",
       "      <td>664</td>\n",
       "      <td>1326</td>\n",
       "      <td>02/23/2019 03:00:00 PM</td>\n",
       "      <td>02/23/2019 03:15:00 PM</td>\n",
       "      <td>2</td>\n",
       "      <td>15</td>\n",
       "      <td>6</td>\n",
       "      <td>9</td>\n",
       "      <td>9</td>\n",
       "      <td>2019</td>\n",
       "    </tr>\n",
       "    <tr>\n",
       "      <th>5366121</th>\n",
       "      <td>b7cdb801-956c-43f0-80a9-cb4f0dc5df45</td>\n",
       "      <td>95993c89-aefc-49a1-871e-aa14815e8036</td>\n",
       "      <td>0</td>\n",
       "      <td>476</td>\n",
       "      <td>1344</td>\n",
       "      <td>02/26/2019 04:15:00 PM</td>\n",
       "      <td>02/26/2019 04:30:00 PM</td>\n",
       "      <td>2</td>\n",
       "      <td>16</td>\n",
       "      <td>2</td>\n",
       "      <td>9</td>\n",
       "      <td>9</td>\n",
       "      <td>2019</td>\n",
       "    </tr>\n",
       "    <tr>\n",
       "      <th>3084311</th>\n",
       "      <td>9324802e-2422-4e1f-b831-3d55b09c6e27</td>\n",
       "      <td>428ea1c4-f489-4767-8a10-ad739833fc04</td>\n",
       "      <td>0</td>\n",
       "      <td>213</td>\n",
       "      <td>617</td>\n",
       "      <td>03/04/2019 10:45:00 AM</td>\n",
       "      <td>03/04/2019 10:45:00 AM</td>\n",
       "      <td>3</td>\n",
       "      <td>10</td>\n",
       "      <td>1</td>\n",
       "      <td>9</td>\n",
       "      <td>9</td>\n",
       "      <td>2019</td>\n",
       "    </tr>\n",
       "    <tr>\n",
       "      <th>5081117</th>\n",
       "      <td>6131ea1a-b6f4-4650-895c-e5cee7184ae3</td>\n",
       "      <td>bd358165-488f-494f-8665-c2cc1cc12bf4</td>\n",
       "      <td>0</td>\n",
       "      <td>470</td>\n",
       "      <td>1387</td>\n",
       "      <td>12/16/2018 11:30:00 AM</td>\n",
       "      <td>12/16/2018 11:30:00 AM</td>\n",
       "      <td>12</td>\n",
       "      <td>11</td>\n",
       "      <td>0</td>\n",
       "      <td>9</td>\n",
       "      <td>9</td>\n",
       "      <td>2018</td>\n",
       "    </tr>\n",
       "    <tr>\n",
       "      <th>2319316</th>\n",
       "      <td>d63b7a10-b636-40fb-a3c6-dd4a67d35695</td>\n",
       "      <td>d37b675b-e099-44f7-a548-c53bfff553da</td>\n",
       "      <td>0</td>\n",
       "      <td>425</td>\n",
       "      <td>2014</td>\n",
       "      <td>12/22/2018 01:45:00 PM</td>\n",
       "      <td>12/22/2018 01:45:00 PM</td>\n",
       "      <td>12</td>\n",
       "      <td>13</td>\n",
       "      <td>6</td>\n",
       "      <td>9</td>\n",
       "      <td>3</td>\n",
       "      <td>2018</td>\n",
       "    </tr>\n",
       "  </tbody>\n",
       "</table>\n",
       "</div>"
      ],
      "text/plain": [
       "                                           id  \\\n",
       "4864743  37c9a897-7756-45da-a0bb-33c253ec4b95   \n",
       "436169   144d9282-902c-461a-8cf0-9b32ad295843   \n",
       "3690141  21235404-d6f2-4100-a2f3-f62af4a75e3f   \n",
       "2682226  04ba8786-9eb3-4e6a-9df6-9ee110bd9709   \n",
       "4605254  c7f18ccc-f6f6-4fc2-a1ac-ce58932cde6d   \n",
       "1982672  6cd6b66b-3b3e-4f28-b382-84719dd246a4   \n",
       "5366121  b7cdb801-956c-43f0-80a9-cb4f0dc5df45   \n",
       "3084311  9324802e-2422-4e1f-b831-3d55b09c6e27   \n",
       "5081117  6131ea1a-b6f4-4650-895c-e5cee7184ae3   \n",
       "2319316  d63b7a10-b636-40fb-a3c6-dd4a67d35695   \n",
       "\n",
       "                                    device_id  vehicle_type  trip_duration  \\\n",
       "4864743  5f5b071a-e8ba-4f39-ad7c-7c2959f913d5             0            449   \n",
       "436169   f6deb777-36be-4fd7-8b0b-0be5e0167680             0            184   \n",
       "3690141  2f62f729-d4a2-4f72-bfc6-59c31f454ce0             0            346   \n",
       "2682226  bcb52b70-8be1-4681-b007-d70309f628f0             0            134   \n",
       "4605254  3396e03c-5995-439f-8340-cd5e176a695a             0            203   \n",
       "1982672  e472098f-62ac-4d3f-b26f-ebf6827d32fd             0            664   \n",
       "5366121  95993c89-aefc-49a1-871e-aa14815e8036             0            476   \n",
       "3084311  428ea1c4-f489-4767-8a10-ad739833fc04             0            213   \n",
       "5081117  bd358165-488f-494f-8665-c2cc1cc12bf4             0            470   \n",
       "2319316  d37b675b-e099-44f7-a548-c53bfff553da             0            425   \n",
       "\n",
       "         trip_distance              start_time                end_time  month  \\\n",
       "4864743           2315  09/16/2018 09:15:00 AM  09/16/2018 09:30:00 AM      9   \n",
       "436169             708  05/24/2019 02:15:00 PM  05/24/2019 02:15:00 PM      5   \n",
       "3690141           1167  08/28/2018 01:45:00 PM  08/28/2018 02:00:00 PM      8   \n",
       "2682226             65  01/12/2019 05:45:00 PM  01/12/2019 05:45:00 PM      1   \n",
       "4605254            563  03/17/2019 11:30:00 AM  03/17/2019 11:30:00 AM      3   \n",
       "1982672           1326  02/23/2019 03:00:00 PM  02/23/2019 03:15:00 PM      2   \n",
       "5366121           1344  02/26/2019 04:15:00 PM  02/26/2019 04:30:00 PM      2   \n",
       "3084311            617  03/04/2019 10:45:00 AM  03/04/2019 10:45:00 AM      3   \n",
       "5081117           1387  12/16/2018 11:30:00 AM  12/16/2018 11:30:00 AM     12   \n",
       "2319316           2014  12/22/2018 01:45:00 PM  12/22/2018 01:45:00 PM     12   \n",
       "\n",
       "         hour  day_of_week  council_district_start  council_district_end  year  \n",
       "4864743     9            0                       9                     9  2018  \n",
       "436169     14            5                       9                     9  2019  \n",
       "3690141    13            2                       9                     9  2018  \n",
       "2682226    17            6                       9                     9  2019  \n",
       "4605254    11            0                       5                     9  2019  \n",
       "1982672    15            6                       9                     9  2019  \n",
       "5366121    16            2                       9                     9  2019  \n",
       "3084311    10            1                       9                     9  2019  \n",
       "5081117    11            0                       9                     9  2018  \n",
       "2319316    13            6                       9                     3  2018  "
      ]
     },
     "execution_count": 168,
     "metadata": {},
     "output_type": "execute_result"
    }
   ],
   "source": [
    "dockless.sample(10)"
   ]
  },
  {
   "cell_type": "code",
   "execution_count": null,
   "metadata": {
    "collapsed": true
   },
   "outputs": [],
   "source": [
    "dockless['<=200_mins'] = np.where(dockless['trip_duration_seconds']<=1200, True, False)\n",
    "dockless_200_mins = dockless.loc[(dockless['trip_duration_seconds'] <= 1200)]\n",
    "sns.distplot(dockless_200_mins['trip_duration_seconds'], hist=True, kde=False)"
   ]
  },
  {
   "cell_type": "code",
   "execution_count": null,
   "metadata": {
    "collapsed": true
   },
   "outputs": [],
   "source": []
  }
 ],
 "metadata": {
  "kernelspec": {
   "display_name": "Python 3",
   "language": "python",
   "name": "python3"
  },
  "language_info": {
   "codemirror_mode": {
    "name": "ipython",
    "version": 3
   },
   "file_extension": ".py",
   "mimetype": "text/x-python",
   "name": "python",
   "nbconvert_exporter": "python",
   "pygments_lexer": "ipython3",
   "version": "3.6.3"
  }
 },
 "nbformat": 4,
 "nbformat_minor": 2
}
