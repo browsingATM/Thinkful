{
 "cells": [
  {
   "cell_type": "code",
   "execution_count": 5,
   "metadata": {},
   "outputs": [],
   "source": [
    "#Import libraries\n",
    "%matplotlib inline\n",
    "from sklearn import preprocessing\n",
    "import pandas as pd\n",
    "import numpy as np\n",
    "import scipy\n",
    "import matplotlib.pyplot as plt\n",
    "import math\n",
    "import operator\n",
    "import seaborn as sns\n",
    "from sklearn.neural_network import MLPClassifier\n",
    "from sklearn.model_selection import cross_val_score\n",
    "sns.set_style('white')\n",
    "\n",
    "#ml algos\n",
    "from sklearn.model_selection import train_test_split\n",
    "from sklearn.metrics import accuracy_score\n",
    "\n",
    "pd.options.display.max_rows = 30\n",
    "pd.options.display.max_columns = 30"
   ]
  },
  {
   "cell_type": "markdown",
   "metadata": {},
   "source": [
    "## I'm comparing how this MLP will perform against Naive Bayes and Random Forest Classifier model in my Supervised Capstone. \n",
    "## Naive Bayes: 9.12%\n",
    "## RFC: 14.98%"
   ]
  },
  {
   "cell_type": "code",
   "execution_count": 3,
   "metadata": {},
   "outputs": [],
   "source": [
    "# import the pickled data set\n",
    "bcycle = pd.read_pickle('./Bcycle_mlp.pkl')"
   ]
  },
  {
   "cell_type": "code",
   "execution_count": 4,
   "metadata": {},
   "outputs": [
    {
     "data": {
      "text/html": [
       "<div>\n",
       "<style scoped>\n",
       "    .dataframe tbody tr th:only-of-type {\n",
       "        vertical-align: middle;\n",
       "    }\n",
       "\n",
       "    .dataframe tbody tr th {\n",
       "        vertical-align: top;\n",
       "    }\n",
       "\n",
       "    .dataframe thead th {\n",
       "        text-align: right;\n",
       "    }\n",
       "</style>\n",
       "<table border=\"1\" class=\"dataframe\">\n",
       "  <thead>\n",
       "    <tr style=\"text-align: right;\">\n",
       "      <th></th>\n",
       "      <th>trip_id</th>\n",
       "      <th>membership_type</th>\n",
       "      <th>bicycle_id</th>\n",
       "      <th>checkout_kiosk_id</th>\n",
       "      <th>checkout_kiosk</th>\n",
       "      <th>return_kiosk_id</th>\n",
       "      <th>return_kiosk</th>\n",
       "      <th>trip_duration_minutes</th>\n",
       "      <th>trip_duration_seconds</th>\n",
       "      <th>unix_checkout_time</th>\n",
       "      <th>hour</th>\n",
       "      <th>month</th>\n",
       "      <th>year</th>\n",
       "      <th>day_of_week</th>\n",
       "      <th>trip_distance</th>\n",
       "      <th>device_trip_count</th>\n",
       "      <th>odometer</th>\n",
       "      <th>trip_type</th>\n",
       "    </tr>\n",
       "  </thead>\n",
       "  <tbody>\n",
       "    <tr>\n",
       "      <td>0</td>\n",
       "      <td>9900285854</td>\n",
       "      <td>Annual (San Antonio B-cycle)</td>\n",
       "      <td>207</td>\n",
       "      <td>2537</td>\n",
       "      <td>West &amp; 6th St.</td>\n",
       "      <td>2707</td>\n",
       "      <td>Rainey St @ Cummings</td>\n",
       "      <td>76</td>\n",
       "      <td>4560</td>\n",
       "      <td>1414347120</td>\n",
       "      <td>13</td>\n",
       "      <td>10</td>\n",
       "      <td>2014</td>\n",
       "      <td>0</td>\n",
       "      <td>15323.63</td>\n",
       "      <td>1</td>\n",
       "      <td>15323.63</td>\n",
       "      <td>0</td>\n",
       "    </tr>\n",
       "    <tr>\n",
       "      <td>1</td>\n",
       "      <td>9900285855</td>\n",
       "      <td>24-Hour Kiosk (Austin B-cycle)</td>\n",
       "      <td>969</td>\n",
       "      <td>2498</td>\n",
       "      <td>Convention Center / 4th St. @ MetroRail</td>\n",
       "      <td>2566</td>\n",
       "      <td>Pfluger Bridge @ W 2nd Street</td>\n",
       "      <td>58</td>\n",
       "      <td>3480</td>\n",
       "      <td>1414347120</td>\n",
       "      <td>13</td>\n",
       "      <td>10</td>\n",
       "      <td>2014</td>\n",
       "      <td>0</td>\n",
       "      <td>11694.35</td>\n",
       "      <td>1</td>\n",
       "      <td>11694.35</td>\n",
       "      <td>0</td>\n",
       "    </tr>\n",
       "    <tr>\n",
       "      <td>2</td>\n",
       "      <td>9900285856</td>\n",
       "      <td>Annual Membership (Austin B-cycle)</td>\n",
       "      <td>214</td>\n",
       "      <td>2537</td>\n",
       "      <td>West &amp; 6th St.</td>\n",
       "      <td>2496</td>\n",
       "      <td>8th &amp; Congress</td>\n",
       "      <td>8</td>\n",
       "      <td>480</td>\n",
       "      <td>1414347120</td>\n",
       "      <td>13</td>\n",
       "      <td>10</td>\n",
       "      <td>2014</td>\n",
       "      <td>0</td>\n",
       "      <td>1613.01</td>\n",
       "      <td>1</td>\n",
       "      <td>1613.01</td>\n",
       "      <td>0</td>\n",
       "    </tr>\n",
       "  </tbody>\n",
       "</table>\n",
       "</div>"
      ],
      "text/plain": [
       "      trip_id                     membership_type  bicycle_id  \\\n",
       "0  9900285854        Annual (San Antonio B-cycle)         207   \n",
       "1  9900285855      24-Hour Kiosk (Austin B-cycle)         969   \n",
       "2  9900285856  Annual Membership (Austin B-cycle)         214   \n",
       "\n",
       "   checkout_kiosk_id                           checkout_kiosk  \\\n",
       "0               2537                           West & 6th St.   \n",
       "1               2498  Convention Center / 4th St. @ MetroRail   \n",
       "2               2537                           West & 6th St.   \n",
       "\n",
       "   return_kiosk_id                   return_kiosk  trip_duration_minutes  \\\n",
       "0             2707           Rainey St @ Cummings                     76   \n",
       "1             2566  Pfluger Bridge @ W 2nd Street                     58   \n",
       "2             2496                 8th & Congress                      8   \n",
       "\n",
       "   trip_duration_seconds  unix_checkout_time  hour  month  year  day_of_week  \\\n",
       "0                   4560          1414347120    13     10  2014            0   \n",
       "1                   3480          1414347120    13     10  2014            0   \n",
       "2                    480          1414347120    13     10  2014            0   \n",
       "\n",
       "   trip_distance  device_trip_count  odometer  trip_type  \n",
       "0       15323.63                  1  15323.63          0  \n",
       "1       11694.35                  1  11694.35          0  \n",
       "2        1613.01                  1   1613.01          0  "
      ]
     },
     "execution_count": 4,
     "metadata": {},
     "output_type": "execute_result"
    }
   ],
   "source": [
    "bcycle.head(3)"
   ]
  },
  {
   "cell_type": "code",
   "execution_count": 11,
   "metadata": {},
   "outputs": [],
   "source": [
    "bcycle_sample = bcycle.sample(100000, random_state=42)"
   ]
  },
  {
   "cell_type": "code",
   "execution_count": 14,
   "metadata": {},
   "outputs": [
    {
     "name": "stdout",
     "output_type": "stream",
     "text": [
      "Iteration 1, loss = inf\n",
      "Validation score: 0.000000\n",
      "Iteration 2, loss = inf\n",
      "Validation score: 0.020667\n",
      "Iteration 3, loss = inf\n",
      "Validation score: 0.032267\n",
      "Iteration 4, loss = inf\n",
      "Validation score: 0.033467\n",
      "Iteration 5, loss = inf\n",
      "Validation score: 0.012533\n",
      "Iteration 6, loss = inf\n",
      "Validation score: 0.015867\n",
      "Iteration 7, loss = inf\n",
      "Validation score: 0.028533\n",
      "Iteration 8, loss = inf\n",
      "Validation score: 0.005333\n",
      "Iteration 9, loss = 4.53270062\n",
      "Validation score: 0.022667\n",
      "Iteration 10, loss = 4.46570499\n",
      "Validation score: 0.032133\n",
      "Iteration 11, loss = 4.40513553\n",
      "Validation score: 0.064267\n",
      "Iteration 12, loss = 4.34916528\n",
      "Validation score: 0.064267\n",
      "Iteration 13, loss = 4.29758139\n",
      "Validation score: 0.064267\n",
      "Iteration 14, loss = 4.25077154\n",
      "Validation score: 0.064267\n",
      "Iteration 15, loss = 4.20929625\n",
      "Validation score: 0.064267\n",
      "Iteration 16, loss = 4.17366364\n",
      "Validation score: 0.064267\n",
      "Iteration 17, loss = 4.14418183\n",
      "Validation score: 0.064267\n",
      "Iteration 18, loss = 4.12072865\n",
      "Validation score: 0.064267\n",
      "Iteration 19, loss = 4.10281091\n",
      "Validation score: 0.064267\n",
      "Iteration 20, loss = 4.08964081\n",
      "Validation score: 0.064267\n",
      "Iteration 21, loss = 4.08026083\n",
      "Validation score: 0.064267\n",
      "Iteration 22, loss = 4.07363447\n",
      "Validation score: 0.064267\n",
      "Validation score did not improve more than tol=0.000100 for 10 consecutive epochs. Stopping.\n"
     ]
    },
    {
     "data": {
      "text/plain": [
       "MLPClassifier(activation='relu', alpha=0.0001, batch_size='auto', beta_1=0.9,\n",
       "              beta_2=0.999, early_stopping=True, epsilon=1e-08,\n",
       "              hidden_layer_sizes=(512,), learning_rate='constant',\n",
       "              learning_rate_init=0.001, max_iter=200, momentum=0.9,\n",
       "              n_iter_no_change=10, nesterovs_momentum=True, power_t=0.5,\n",
       "              random_state=42, shuffle=True, solver='adam', tol=0.0001,\n",
       "              validation_fraction=0.1, verbose=1, warm_start=False)"
      ]
     },
     "execution_count": 14,
     "metadata": {},
     "output_type": "execute_result"
    }
   ],
   "source": [
    "# drop unnecessary or duplicate data types, such as kiosk id's\n",
    "X_sample = bcycle_sample.drop(['trip_id', 'checkout_kiosk', 'return_kiosk',\n",
    "                'trip_duration_seconds', 'return_kiosk_id'], 1)\n",
    "\n",
    "# create dummies for categorical data so the model can understand\n",
    "X_sample = pd.get_dummies(X_sample, sparse=True, columns=['membership_type', 'hour', \n",
    "                                           'month', 'day_of_week',\n",
    "                                           'trip_type', 'year',\n",
    "                                            'checkout_kiosk_id'])\n",
    "\n",
    "# predicting for the return kiosk id\n",
    "y_sample = bcycle_sample['return_kiosk_id']\n",
    "\n",
    "# train test split function\n",
    "X_sampletrain, X_sampletest, y_sampletrain, y_sampletest = train_test_split(X_sample, y_sample, test_size=0.25)\n",
    "\n",
    "# Import the model.\n",
    "from sklearn.neural_network import MLPClassifier\n",
    "\n",
    "# Establish and fit the model\n",
    "mlp_sample = MLPClassifier(hidden_layer_sizes=(512,), activation = 'relu',\n",
    "                          batch_size = 'auto', verbose = 1,\n",
    "                          random_state = 42, early_stopping = True,\n",
    "                          solver='adam')\n",
    "mlp_sample.fit(X_sampletrain, y_sampletrain)\n",
    "\n",
    "# Keras sequential model has verbose and epochs"
   ]
  },
  {
   "cell_type": "code",
   "execution_count": 15,
   "metadata": {},
   "outputs": [
    {
     "data": {
      "text/plain": [
       "0.06571"
      ]
     },
     "execution_count": 15,
     "metadata": {},
     "output_type": "execute_result"
    }
   ],
   "source": [
    "mlp_sample.score(X_sample, y_sample)"
   ]
  },
  {
   "cell_type": "code",
   "execution_count": 16,
   "metadata": {},
   "outputs": [
    {
     "data": {
      "text/plain": [
       "3798    0.06571\n",
       "2499    0.03674\n",
       "2575    0.03409\n",
       "2494    0.03339\n",
       "2495    0.03110\n",
       "         ...   \n",
       "4054    0.00021\n",
       "4052    0.00021\n",
       "1005    0.00019\n",
       "4047    0.00011\n",
       "1001    0.00004\n",
       "Name: return_kiosk_id, Length: 96, dtype: float64"
      ]
     },
     "execution_count": 16,
     "metadata": {},
     "output_type": "execute_result"
    }
   ],
   "source": [
    "y_sample.value_counts()/len(y_sample)"
   ]
  },
  {
   "cell_type": "markdown",
   "metadata": {},
   "source": [
    "## The downsampled model performed ~50% worse than the worst performing model in my Capstone. "
   ]
  },
  {
   "cell_type": "code",
   "execution_count": null,
   "metadata": {},
   "outputs": [],
   "source": []
  },
  {
   "cell_type": "code",
   "execution_count": null,
   "metadata": {},
   "outputs": [],
   "source": []
  }
 ],
 "metadata": {
  "kernelspec": {
   "display_name": "Python 3",
   "language": "python",
   "name": "python3"
  },
  "language_info": {
   "codemirror_mode": {
    "name": "ipython",
    "version": 3
   },
   "file_extension": ".py",
   "mimetype": "text/x-python",
   "name": "python",
   "nbconvert_exporter": "python",
   "pygments_lexer": "ipython3",
   "version": "3.6.9"
  }
 },
 "nbformat": 4,
 "nbformat_minor": 2
}
