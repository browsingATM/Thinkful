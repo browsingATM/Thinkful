{
 "cells": [
  {
   "cell_type": "markdown",
   "metadata": {},
   "source": [
    "\n",
    "    1. \"The best Monty Python sketch is the one about the dead parrot, I laughed so hard.\"\n",
    "    2. \"I laugh when I think about Python's Ministry of Silly Walks sketch, it is funny, funny, funny, the best!\"\n",
    "    3. \"Chocolate is the best ice cream dessert topping, with a great taste.\"\n",
    "    4. \"The Lumberjack Song is the funniest Monty Python bit: I can't think of it without laughing.\"\n",
    "    5. \"I would rather put strawberries on my ice cream for dessert, they have the best taste.\"\n",
    "    6. \"The taste of caramel is a fantastic accompaniment to tasty mint ice cream.\"\n"
   ]
  },
  {
   "cell_type": "markdown",
   "metadata": {},
   "source": [
    "generate the vectors for the last three sentences. If you are feeling uncertain, have your mentor walk you through it.\n"
   ]
  },
  {
   "cell_type": "markdown",
   "metadata": {},
   "source": [
    "column = sentences\n",
    "\n",
    "rows= words\n",
    "\n",
    "ignore \"stop words\" like a, the, of, etc\n",
    "\n",
    "don't count words used only once\n",
    "\n",
    "reduce words like \"rolling\" or \"doing\" to just \"roll\" or \"do\""
   ]
  },
  {
   "cell_type": "code",
   "execution_count": null,
   "metadata": {
    "collapsed": true
   },
   "outputs": [],
   "source": []
  }
 ],
 "metadata": {
  "kernelspec": {
   "display_name": "Python 3",
   "language": "python",
   "name": "python3"
  },
  "language_info": {
   "codemirror_mode": {
    "name": "ipython",
    "version": 3
   },
   "file_extension": ".py",
   "mimetype": "text/x-python",
   "name": "python",
   "nbconvert_exporter": "python",
   "pygments_lexer": "ipython3",
   "version": "3.6.3"
  }
 },
 "nbformat": 4,
 "nbformat_minor": 2
}
