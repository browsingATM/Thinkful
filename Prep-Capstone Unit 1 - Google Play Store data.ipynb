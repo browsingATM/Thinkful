{
 "cells": [
  {
   "cell_type": "code",
   "execution_count": 20,
   "metadata": {
    "collapsed": true
   },
   "outputs": [],
   "source": [
    "#Report\n",
    "\n",
    "#Can I load it? Yes, it is in a csv format\n",
    "#early questions:\n",
    "#1: Are certain genres more likely to get better ratings?\n",
    "#2: Are certain genres more likely to get better downloads?\n",
    "#3: Is the common FEAR justified about whether charging for an app limits its adoption?\n",
    "\n",
    "#Potential future research project: \n",
    "#1. If #3 is true, propose to understand the adoption speed over period of time between free apps and paid apps.\n",
    "#Since there seems to be a relationship between paid apps having higher ratings, find out \n",
    "#what other factors could be at play\n",
    "\n",
    "#2. On the low end (0-100,000 users), could a sudden plateau be due to a loss investment funding? How distributed is it?\n",
    "\n",
    "\n",
    "#different variables/columns:\n",
    "#App name\n",
    "#Category\n",
    "#Rating\n",
    "#Size\n",
    "#Installs\n",
    "#Type (free or Paid)\n",
    "#Price\n",
    "#Content Rating\n",
    "#Genre\n",
    "#Last Updated\n",
    "#Current Version\n",
    "#Android Version\n",
    "\n",
    "#Challenges:\n",
    "\n",
    "#Unicode issues\n",
    "#Realizing that my initial intuition for large bar graph for every category would not work.\n",
    "#Turning 10,000,000+ category into a readable float\n",
    "#the decisions i made  about why i created the bins the way i did in the right range\n",
    "#boxplot and double bar graph choice\n",
    "#Making the graphs more presentable with legend, lines, rotated words, etc.\n",
    "#fixing the ticks to make the data in the bar graph illustrate a real difference\n",
    "#\"Reviews\" started populating in the chart and boxplot at the end for no apparent reason\n",
    "\n",
    "#outstanding:\n",
    "#variable issue\n",
    "#reviews are appearing?\n",
    "#ticks"
   ]
  },
  {
   "cell_type": "code",
   "execution_count": 220,
   "metadata": {},
   "outputs": [
    {
     "data": {
      "text/html": [
       "<div>\n",
       "<style>\n",
       "    .dataframe thead tr:only-child th {\n",
       "        text-align: right;\n",
       "    }\n",
       "\n",
       "    .dataframe thead th {\n",
       "        text-align: left;\n",
       "    }\n",
       "\n",
       "    .dataframe tbody tr th {\n",
       "        vertical-align: top;\n",
       "    }\n",
       "</style>\n",
       "<table border=\"1\" class=\"dataframe\">\n",
       "  <thead>\n",
       "    <tr style=\"text-align: right;\">\n",
       "      <th></th>\n",
       "      <th>Rating</th>\n",
       "      <th>Reviews</th>\n",
       "    </tr>\n",
       "    <tr>\n",
       "      <th>Category</th>\n",
       "      <th></th>\n",
       "      <th></th>\n",
       "    </tr>\n",
       "  </thead>\n",
       "  <tbody>\n",
       "    <tr>\n",
       "      <th>EVENTS</th>\n",
       "      <td>4.435556</td>\n",
       "      <td>2.515906e+03</td>\n",
       "    </tr>\n",
       "    <tr>\n",
       "      <th>EDUCATION</th>\n",
       "      <td>4.389032</td>\n",
       "      <td>2.538191e+05</td>\n",
       "    </tr>\n",
       "    <tr>\n",
       "      <th>ART_AND_DESIGN</th>\n",
       "      <td>4.358065</td>\n",
       "      <td>2.637600e+04</td>\n",
       "    </tr>\n",
       "    <tr>\n",
       "      <th>BOOKS_AND_REFERENCE</th>\n",
       "      <td>4.346067</td>\n",
       "      <td>9.506090e+04</td>\n",
       "    </tr>\n",
       "    <tr>\n",
       "      <th>PERSONALIZATION</th>\n",
       "      <td>4.335987</td>\n",
       "      <td>2.279238e+05</td>\n",
       "    </tr>\n",
       "    <tr>\n",
       "      <th>PARENTING</th>\n",
       "      <td>4.300000</td>\n",
       "      <td>1.597218e+04</td>\n",
       "    </tr>\n",
       "    <tr>\n",
       "      <th>GAME</th>\n",
       "      <td>4.286326</td>\n",
       "      <td>1.385859e+06</td>\n",
       "    </tr>\n",
       "    <tr>\n",
       "      <th>BEAUTY</th>\n",
       "      <td>4.278571</td>\n",
       "      <td>7.476226e+03</td>\n",
       "    </tr>\n",
       "    <tr>\n",
       "      <th>HEALTH_AND_FITNESS</th>\n",
       "      <td>4.277104</td>\n",
       "      <td>1.111253e+05</td>\n",
       "    </tr>\n",
       "    <tr>\n",
       "      <th>SHOPPING</th>\n",
       "      <td>4.259664</td>\n",
       "      <td>4.424662e+05</td>\n",
       "    </tr>\n",
       "    <tr>\n",
       "      <th>SOCIAL</th>\n",
       "      <td>4.255598</td>\n",
       "      <td>2.105903e+06</td>\n",
       "    </tr>\n",
       "    <tr>\n",
       "      <th>WEATHER</th>\n",
       "      <td>4.244000</td>\n",
       "      <td>1.781065e+05</td>\n",
       "    </tr>\n",
       "    <tr>\n",
       "      <th>SPORTS</th>\n",
       "      <td>4.223511</td>\n",
       "      <td>1.844536e+05</td>\n",
       "    </tr>\n",
       "    <tr>\n",
       "      <th>PRODUCTIVITY</th>\n",
       "      <td>4.211396</td>\n",
       "      <td>2.691438e+05</td>\n",
       "    </tr>\n",
       "    <tr>\n",
       "      <th>HOUSE_AND_HOME</th>\n",
       "      <td>4.197368</td>\n",
       "      <td>4.518619e+04</td>\n",
       "    </tr>\n",
       "    <tr>\n",
       "      <th>FAMILY</th>\n",
       "      <td>4.192272</td>\n",
       "      <td>2.080255e+05</td>\n",
       "    </tr>\n",
       "    <tr>\n",
       "      <th>PHOTOGRAPHY</th>\n",
       "      <td>4.192114</td>\n",
       "      <td>6.373631e+05</td>\n",
       "    </tr>\n",
       "    <tr>\n",
       "      <th>AUTO_AND_VEHICLES</th>\n",
       "      <td>4.190411</td>\n",
       "      <td>1.369019e+04</td>\n",
       "    </tr>\n",
       "    <tr>\n",
       "      <th>MEDICAL</th>\n",
       "      <td>4.189143</td>\n",
       "      <td>3.425432e+03</td>\n",
       "    </tr>\n",
       "    <tr>\n",
       "      <th>LIBRARIES_AND_DEMO</th>\n",
       "      <td>4.178462</td>\n",
       "      <td>1.220139e+04</td>\n",
       "    </tr>\n",
       "    <tr>\n",
       "      <th>FOOD_AND_DRINK</th>\n",
       "      <td>4.166972</td>\n",
       "      <td>6.994748e+04</td>\n",
       "    </tr>\n",
       "    <tr>\n",
       "      <th>COMMUNICATION</th>\n",
       "      <td>4.158537</td>\n",
       "      <td>2.107138e+06</td>\n",
       "    </tr>\n",
       "    <tr>\n",
       "      <th>COMICS</th>\n",
       "      <td>4.155172</td>\n",
       "      <td>5.638793e+04</td>\n",
       "    </tr>\n",
       "    <tr>\n",
       "      <th>NEWS_AND_MAGAZINES</th>\n",
       "      <td>4.132189</td>\n",
       "      <td>1.922292e+05</td>\n",
       "    </tr>\n",
       "    <tr>\n",
       "      <th>FINANCE</th>\n",
       "      <td>4.131889</td>\n",
       "      <td>4.795281e+04</td>\n",
       "    </tr>\n",
       "    <tr>\n",
       "      <th>ENTERTAINMENT</th>\n",
       "      <td>4.126174</td>\n",
       "      <td>3.971688e+05</td>\n",
       "    </tr>\n",
       "    <tr>\n",
       "      <th>BUSINESS</th>\n",
       "      <td>4.121452</td>\n",
       "      <td>3.033598e+04</td>\n",
       "    </tr>\n",
       "    <tr>\n",
       "      <th>TRAVEL_AND_LOCAL</th>\n",
       "      <td>4.109292</td>\n",
       "      <td>2.427051e+05</td>\n",
       "    </tr>\n",
       "    <tr>\n",
       "      <th>LIFESTYLE</th>\n",
       "      <td>4.094904</td>\n",
       "      <td>3.372457e+04</td>\n",
       "    </tr>\n",
       "    <tr>\n",
       "      <th>VIDEO_PLAYERS</th>\n",
       "      <td>4.063750</td>\n",
       "      <td>6.307439e+05</td>\n",
       "    </tr>\n",
       "    <tr>\n",
       "      <th>MAPS_AND_NAVIGATION</th>\n",
       "      <td>4.051613</td>\n",
       "      <td>2.237902e+05</td>\n",
       "    </tr>\n",
       "    <tr>\n",
       "      <th>TOOLS</th>\n",
       "      <td>4.047411</td>\n",
       "      <td>3.240629e+05</td>\n",
       "    </tr>\n",
       "    <tr>\n",
       "      <th>DATING</th>\n",
       "      <td>3.970769</td>\n",
       "      <td>3.115931e+04</td>\n",
       "    </tr>\n",
       "  </tbody>\n",
       "</table>\n",
       "</div>"
      ],
      "text/plain": [
       "                       Rating       Reviews\n",
       "Category                                   \n",
       "EVENTS               4.435556  2.515906e+03\n",
       "EDUCATION            4.389032  2.538191e+05\n",
       "ART_AND_DESIGN       4.358065  2.637600e+04\n",
       "BOOKS_AND_REFERENCE  4.346067  9.506090e+04\n",
       "PERSONALIZATION      4.335987  2.279238e+05\n",
       "PARENTING            4.300000  1.597218e+04\n",
       "GAME                 4.286326  1.385859e+06\n",
       "BEAUTY               4.278571  7.476226e+03\n",
       "HEALTH_AND_FITNESS   4.277104  1.111253e+05\n",
       "SHOPPING             4.259664  4.424662e+05\n",
       "SOCIAL               4.255598  2.105903e+06\n",
       "WEATHER              4.244000  1.781065e+05\n",
       "SPORTS               4.223511  1.844536e+05\n",
       "PRODUCTIVITY         4.211396  2.691438e+05\n",
       "HOUSE_AND_HOME       4.197368  4.518619e+04\n",
       "FAMILY               4.192272  2.080255e+05\n",
       "PHOTOGRAPHY          4.192114  6.373631e+05\n",
       "AUTO_AND_VEHICLES    4.190411  1.369019e+04\n",
       "MEDICAL              4.189143  3.425432e+03\n",
       "LIBRARIES_AND_DEMO   4.178462  1.220139e+04\n",
       "FOOD_AND_DRINK       4.166972  6.994748e+04\n",
       "COMMUNICATION        4.158537  2.107138e+06\n",
       "COMICS               4.155172  5.638793e+04\n",
       "NEWS_AND_MAGAZINES   4.132189  1.922292e+05\n",
       "FINANCE              4.131889  4.795281e+04\n",
       "ENTERTAINMENT        4.126174  3.971688e+05\n",
       "BUSINESS             4.121452  3.033598e+04\n",
       "TRAVEL_AND_LOCAL     4.109292  2.427051e+05\n",
       "LIFESTYLE            4.094904  3.372457e+04\n",
       "VIDEO_PLAYERS        4.063750  6.307439e+05\n",
       "MAPS_AND_NAVIGATION  4.051613  2.237902e+05\n",
       "TOOLS                4.047411  3.240629e+05\n",
       "DATING               3.970769  3.115931e+04"
      ]
     },
     "execution_count": 220,
     "metadata": {},
     "output_type": "execute_result"
    }
   ],
   "source": [
    "# 1 Ranked Category by Ratings. x is category. bar height is the mean. Dig in to bar graph stuff, \n",
    "# show the mean not count.\n",
    "%matplotlib inline\n",
    "import matplotlib.pyplot as plt\n",
    "import pandas as pd\n",
    "import numpy as np\n",
    "\n",
    "fear = pd.read_csv('googleplaystore.csv', encoding='latin')\n",
    "order = fear.groupby('Category').aggregate(np.mean)\n",
    "order.sort_values('Rating', ascending = False)\n",
    "\n",
    "#Suddenly started showing reviews too...."
   ]
  },
  {
   "cell_type": "code",
   "execution_count": 213,
   "metadata": {},
   "outputs": [
    {
     "ename": "ValueError",
     "evalue": "No axis named 1+ for object type <class 'pandas.core.frame.DataFrame'>",
     "output_type": "error",
     "traceback": [
      "\u001b[0;31m---------------------------------------------------------------------------\u001b[0m",
      "\u001b[0;31mValueError\u001b[0m                                Traceback (most recent call last)",
      "\u001b[0;32m<ipython-input-213-10fe30f04dc0>\u001b[0m in \u001b[0;36m<module>\u001b[0;34m()\u001b[0m\n\u001b[1;32m      4\u001b[0m \u001b[0;31m#the visualization of the count of the number of apps that are in each bin.\u001b[0m\u001b[0;34m\u001b[0m\u001b[0;34m\u001b[0m\u001b[0m\n\u001b[1;32m      5\u001b[0m \u001b[0;34m\u001b[0m\u001b[0m\n\u001b[0;32m----> 6\u001b[0;31m \u001b[0mbar1\u001b[0m \u001b[0;34m=\u001b[0m \u001b[0mfear\u001b[0m\u001b[0;34m.\u001b[0m\u001b[0mgroupby\u001b[0m\u001b[0;34m(\u001b[0m\u001b[0;34m'0+'\u001b[0m\u001b[0;34m,\u001b[0m\u001b[0;34m'1+'\u001b[0m\u001b[0;34m,\u001b[0m\u001b[0;34m'5+'\u001b[0m\u001b[0;34m,\u001b[0m\u001b[0;34m'10+'\u001b[0m\u001b[0;34m,\u001b[0m\u001b[0;34m'50+'\u001b[0m\u001b[0;34m,\u001b[0m\u001b[0;34m'100+'\u001b[0m\u001b[0;34m,\u001b[0m\u001b[0;34m'500+'\u001b[0m\u001b[0;34m)\u001b[0m\u001b[0;34m.\u001b[0m\u001b[0mcount\u001b[0m\u001b[0;34m(\u001b[0m\u001b[0;34m)\u001b[0m\u001b[0;34m\u001b[0m\u001b[0m\n\u001b[0m\u001b[1;32m      7\u001b[0m \u001b[0;34m\u001b[0m\u001b[0m\n\u001b[1;32m      8\u001b[0m \u001b[0;34m\u001b[0m\u001b[0m\n",
      "\u001b[0;32m~/anaconda3/lib/python3.6/site-packages/pandas/core/generic.py\u001b[0m in \u001b[0;36mgroupby\u001b[0;34m(self, by, axis, level, as_index, sort, group_keys, squeeze, **kwargs)\u001b[0m\n\u001b[1;32m   4411\u001b[0m         \u001b[0;32mif\u001b[0m \u001b[0mlevel\u001b[0m \u001b[0;32mis\u001b[0m \u001b[0;32mNone\u001b[0m \u001b[0;32mand\u001b[0m \u001b[0mby\u001b[0m \u001b[0;32mis\u001b[0m \u001b[0;32mNone\u001b[0m\u001b[0;34m:\u001b[0m\u001b[0;34m\u001b[0m\u001b[0m\n\u001b[1;32m   4412\u001b[0m             \u001b[0;32mraise\u001b[0m \u001b[0mTypeError\u001b[0m\u001b[0;34m(\u001b[0m\u001b[0;34m\"You have to supply one of 'by' and 'level'\"\u001b[0m\u001b[0;34m)\u001b[0m\u001b[0;34m\u001b[0m\u001b[0m\n\u001b[0;32m-> 4413\u001b[0;31m         \u001b[0maxis\u001b[0m \u001b[0;34m=\u001b[0m \u001b[0mself\u001b[0m\u001b[0;34m.\u001b[0m\u001b[0m_get_axis_number\u001b[0m\u001b[0;34m(\u001b[0m\u001b[0maxis\u001b[0m\u001b[0;34m)\u001b[0m\u001b[0;34m\u001b[0m\u001b[0m\n\u001b[0m\u001b[1;32m   4414\u001b[0m         return groupby(self, by=by, axis=axis, level=level, as_index=as_index,\n\u001b[1;32m   4415\u001b[0m                        \u001b[0msort\u001b[0m\u001b[0;34m=\u001b[0m\u001b[0msort\u001b[0m\u001b[0;34m,\u001b[0m \u001b[0mgroup_keys\u001b[0m\u001b[0;34m=\u001b[0m\u001b[0mgroup_keys\u001b[0m\u001b[0;34m,\u001b[0m \u001b[0msqueeze\u001b[0m\u001b[0;34m=\u001b[0m\u001b[0msqueeze\u001b[0m\u001b[0;34m,\u001b[0m\u001b[0;34m\u001b[0m\u001b[0m\n",
      "\u001b[0;32m~/anaconda3/lib/python3.6/site-packages/pandas/core/generic.py\u001b[0m in \u001b[0;36m_get_axis_number\u001b[0;34m(self, axis)\u001b[0m\n\u001b[1;32m    351\u001b[0m                 \u001b[0;32mpass\u001b[0m\u001b[0;34m\u001b[0m\u001b[0m\n\u001b[1;32m    352\u001b[0m         raise ValueError('No axis named {0} for object type {1}'\n\u001b[0;32m--> 353\u001b[0;31m                          .format(axis, type(self)))\n\u001b[0m\u001b[1;32m    354\u001b[0m \u001b[0;34m\u001b[0m\u001b[0m\n\u001b[1;32m    355\u001b[0m     \u001b[0;32mdef\u001b[0m \u001b[0m_get_axis_name\u001b[0m\u001b[0;34m(\u001b[0m\u001b[0mself\u001b[0m\u001b[0;34m,\u001b[0m \u001b[0maxis\u001b[0m\u001b[0;34m)\u001b[0m\u001b[0;34m:\u001b[0m\u001b[0;34m\u001b[0m\u001b[0m\n",
      "\u001b[0;31mValueError\u001b[0m: No axis named 1+ for object type <class 'pandas.core.frame.DataFrame'>"
     ]
    }
   ],
   "source": [
    "#2, Are some categories more likely to get more downloads?\n",
    "#set up install variable. list all install variables, and associate with install variables i want\n",
    "#try a histogram to get a sense of how the data is distributed\n",
    "#the visualization of the count of the number of apps that are in each bin.\n",
    "\n",
    "bar1 = fear.groupby('0+','1+','5+','10+','50+','100+','500+').count()\n",
    "\n",
    "\n",
    "fear = pd.read_csv('googleplaystore.csv', encoding='latin')\n",
    "order = bar1.aggregate(np.mean)\n",
    "#order.sort_values('Install', ascending = False)\n",
    "\n",
    "#--------\n",
    "#0+\n",
    "#1+\n",
    "#5+\n",
    "#10+\n",
    "#50+\n",
    "#100+\n",
    "#500+\n",
    "#---\n",
    "#1,000+\n",
    "#5,000+\n",
    "#10,000+\n",
    "#50,000+\n",
    "#100,000+\n",
    "#--\n",
    "#500,000+\n",
    "#1,000,000+\n",
    "#5,000,000+\n",
    "#10,000,000+\n",
    "#--\n",
    "#50,000,000+\n",
    "#100,000,000+\n",
    "#500,000,000+\n",
    "#--\n",
    "#1,000,000,000+\n",
    "\n",
    "#install_one = fear['Install']"
   ]
  },
  {
   "cell_type": "code",
   "execution_count": 209,
   "metadata": {},
   "outputs": [
    {
     "ename": "NameError",
     "evalue": "name 'bar1' is not defined",
     "output_type": "error",
     "traceback": [
      "\u001b[0;31m---------------------------------------------------------------------------\u001b[0m",
      "\u001b[0;31mNameError\u001b[0m                                 Traceback (most recent call last)",
      "\u001b[0;32m<ipython-input-209-1e65db57e757>\u001b[0m in \u001b[0;36m<module>\u001b[0;34m()\u001b[0m\n\u001b[1;32m      2\u001b[0m \u001b[0;34m\u001b[0m\u001b[0m\n\u001b[1;32m      3\u001b[0m \u001b[0mfear\u001b[0m \u001b[0;34m=\u001b[0m \u001b[0mpd\u001b[0m\u001b[0;34m.\u001b[0m\u001b[0mread_csv\u001b[0m\u001b[0;34m(\u001b[0m\u001b[0;34m'googleplaystore.csv'\u001b[0m\u001b[0;34m,\u001b[0m \u001b[0mencoding\u001b[0m\u001b[0;34m=\u001b[0m\u001b[0;34m'latin'\u001b[0m\u001b[0;34m)\u001b[0m\u001b[0;34m\u001b[0m\u001b[0m\n\u001b[0;32m----> 4\u001b[0;31m \u001b[0morder\u001b[0m \u001b[0;34m=\u001b[0m \u001b[0mbar1\u001b[0m\u001b[0;34m.\u001b[0m\u001b[0maggregate\u001b[0m\u001b[0;34m(\u001b[0m\u001b[0mnp\u001b[0m\u001b[0;34m.\u001b[0m\u001b[0mmean\u001b[0m\u001b[0;34m)\u001b[0m\u001b[0;34m\u001b[0m\u001b[0m\n\u001b[0m\u001b[1;32m      5\u001b[0m \u001b[0;31m#order.sort_values('Install', ascending = False)\u001b[0m\u001b[0;34m\u001b[0m\u001b[0;34m\u001b[0m\u001b[0m\n",
      "\u001b[0;31mNameError\u001b[0m: name 'bar1' is not defined"
     ]
    }
   ],
   "source": [
    "#Ranked Category by Installs\n",
    "\n",
    "fear = pd.read_csv('googleplaystore.csv', encoding='latin')\n",
    "order = bar1.aggregate(np.mean)\n",
    "#order.sort_values('Install', ascending = False)"
   ]
  },
  {
   "cell_type": "code",
   "execution_count": 173,
   "metadata": {},
   "outputs": [
    {
     "data": {
      "text/plain": [
       "4.186202546163562"
      ]
     },
     "execution_count": 173,
     "metadata": {},
     "output_type": "execute_result"
    }
   ],
   "source": [
    "#3 pt 1 Free, mean\n",
    "\n",
    "fear = pd.read_csv('googleplaystore.csv', encoding='latin')\n",
    "var2 = fear.loc[lambda df: fear['Type'] == 'Free', 'Rating']\n",
    "free_mean = var2.mean()\n",
    "var2.mean()"
   ]
  },
  {
   "cell_type": "code",
   "execution_count": 174,
   "metadata": {},
   "outputs": [
    {
     "data": {
      "text/plain": [
       "4.3"
      ]
     },
     "execution_count": 174,
     "metadata": {},
     "output_type": "execute_result"
    }
   ],
   "source": [
    "#3 pt 2 Free, median\n",
    "\n",
    "fear = pd.read_csv('googleplaystore.csv', encoding='latin')\n",
    "var2 = fear.loc[lambda df: fear['Type'] == 'Free', 'Rating']\n",
    "free_median = var2.median()\n",
    "var2.median()"
   ]
  },
  {
   "cell_type": "code",
   "execution_count": 171,
   "metadata": {},
   "outputs": [
    {
     "data": {
      "text/plain": [
       "4.266615146831529"
      ]
     },
     "execution_count": 171,
     "metadata": {},
     "output_type": "execute_result"
    }
   ],
   "source": [
    "#3 pt 3 Paid, mean\n",
    "\n",
    "fear = pd.read_csv('googleplaystore.csv', encoding='latin')\n",
    "var1 = fear.loc[lambda df: fear['Type'] == 'Paid', 'Rating']\n",
    "paid_mean = var1.mean()\n",
    "var1.mean()"
   ]
  },
  {
   "cell_type": "code",
   "execution_count": 190,
   "metadata": {},
   "outputs": [
    {
     "data": {
      "text/plain": [
       "4.4"
      ]
     },
     "execution_count": 190,
     "metadata": {},
     "output_type": "execute_result"
    }
   ],
   "source": [
    "#3 pt 4 Paid, median\n",
    "\n",
    "fear = pd.read_csv('googleplaystore.csv', encoding='latin')\n",
    "var1 = fear.loc[lambda df: fear['Type'] == 'Paid', 'Rating']\n",
    "paid_median = var1.median()\n",
    "var1.median()"
   ]
  },
  {
   "cell_type": "code",
   "execution_count": null,
   "metadata": {
    "collapsed": true
   },
   "outputs": [],
   "source": [
    "#3 boxplot and double bar graph for the visualization. it's a good idea to have \n",
    "#a summary of each visualization and use another visualization and summary to back it up."
   ]
  },
  {
   "cell_type": "code",
   "execution_count": 225,
   "metadata": {},
   "outputs": [
    {
     "data": {
      "image/png": "[encoded data removed]",
      "text/plain": [
       "<matplotlib.figure.Figure at 0x14faa5c88>"
      ]
     },
     "metadata": {},
     "output_type": "display_data"
    }
   ],
   "source": [
    "#double bar\n",
    "%matplotlib inline\n",
    "import matplotlib.pyplot as plt\n",
    "import pandas as pd\n",
    "import numpy as np\n",
    "\n",
    "paid = [paid_mean, paid_median]\n",
    "free = [free_mean, free_median]\n",
    "index = ['Paid', 'Free']\n",
    "df = pd.DataFrame({'Paid': paid,'Free': free}, index=index) \n",
    "ax = df.plot.bar(figsize=(8,10),ylim=(0,5), alpha=1, width=.5, rot=0)\n",
    "\n",
    "ax.set_title('Paid vs Free Apps Ratings')\n",
    "ax.set_ylabel('Rating')\n",
    "ax.set_xlabel('App Type')\n",
    "#i'm setting axis from 0 - 5, and then spread every .1\n",
    "ax.yaxis.set_ticks(np.arange(0, 5, 0.10))\n",
    "plt.legend(['Free', 'Paid'], loc='lower center')\n",
    "plt.grid()\n",
    "plt.show()\n",
    "\n"
   ]
  },
  {
   "cell_type": "code",
   "execution_count": 223,
   "metadata": {},
   "outputs": [
    {
     "ename": "AttributeError",
     "evalue": "'Series' object has no attribute 'boxplot'",
     "output_type": "error",
     "traceback": [
      "\u001b[0;31m---------------------------------------------------------------------------\u001b[0m",
      "\u001b[0;31mAttributeError\u001b[0m                            Traceback (most recent call last)",
      "\u001b[0;32m<ipython-input-223-4114fc0064a9>\u001b[0m in \u001b[0;36m<module>\u001b[0;34m()\u001b[0m\n\u001b[1;32m      2\u001b[0m \u001b[0mfear\u001b[0m \u001b[0;34m=\u001b[0m \u001b[0mpd\u001b[0m\u001b[0;34m.\u001b[0m\u001b[0mread_csv\u001b[0m\u001b[0;34m(\u001b[0m\u001b[0;34m'googleplaystore.csv'\u001b[0m\u001b[0;34m,\u001b[0m \u001b[0mencoding\u001b[0m\u001b[0;34m=\u001b[0m\u001b[0;34m'latin'\u001b[0m\u001b[0;34m)\u001b[0m\u001b[0;34m\u001b[0m\u001b[0m\n\u001b[1;32m      3\u001b[0m \u001b[0mreview\u001b[0m \u001b[0;34m=\u001b[0m \u001b[0mfear\u001b[0m\u001b[0;34m[\u001b[0m\u001b[0;34m'Reviews'\u001b[0m\u001b[0;34m]\u001b[0m\u001b[0;34m\u001b[0m\u001b[0m\n\u001b[0;32m----> 4\u001b[0;31m \u001b[0mbp1\u001b[0m \u001b[0;34m=\u001b[0m \u001b[0mreview\u001b[0m\u001b[0;34m.\u001b[0m\u001b[0mboxplot\u001b[0m\u001b[0;34m(\u001b[0m\u001b[0mmeanline\u001b[0m\u001b[0;34m=\u001b[0m\u001b[0;32mTrue\u001b[0m\u001b[0;34m,\u001b[0m \u001b[0mshowbox\u001b[0m\u001b[0;34m=\u001b[0m\u001b[0;32mFalse\u001b[0m\u001b[0;34m)\u001b[0m\u001b[0;34m\u001b[0m\u001b[0m\n\u001b[0m\u001b[1;32m      5\u001b[0m \u001b[0mplt\u001b[0m\u001b[0;34m.\u001b[0m\u001b[0mshow\u001b[0m\u001b[0;34m(\u001b[0m\u001b[0;34m)\u001b[0m\u001b[0;34m\u001b[0m\u001b[0m\n\u001b[1;32m      6\u001b[0m \u001b[0;31m#Suddenly started showing reviews too....like above.\u001b[0m\u001b[0;34m\u001b[0m\u001b[0;34m\u001b[0m\u001b[0m\n",
      "\u001b[0;32m~/anaconda3/lib/python3.6/site-packages/pandas/core/generic.py\u001b[0m in \u001b[0;36m__getattr__\u001b[0;34m(self, name)\u001b[0m\n\u001b[1;32m   3079\u001b[0m             \u001b[0;32mif\u001b[0m \u001b[0mname\u001b[0m \u001b[0;32min\u001b[0m \u001b[0mself\u001b[0m\u001b[0;34m.\u001b[0m\u001b[0m_info_axis\u001b[0m\u001b[0;34m:\u001b[0m\u001b[0;34m\u001b[0m\u001b[0m\n\u001b[1;32m   3080\u001b[0m                 \u001b[0;32mreturn\u001b[0m \u001b[0mself\u001b[0m\u001b[0;34m[\u001b[0m\u001b[0mname\u001b[0m\u001b[0;34m]\u001b[0m\u001b[0;34m\u001b[0m\u001b[0m\n\u001b[0;32m-> 3081\u001b[0;31m             \u001b[0;32mreturn\u001b[0m \u001b[0mobject\u001b[0m\u001b[0;34m.\u001b[0m\u001b[0m__getattribute__\u001b[0m\u001b[0;34m(\u001b[0m\u001b[0mself\u001b[0m\u001b[0;34m,\u001b[0m \u001b[0mname\u001b[0m\u001b[0;34m)\u001b[0m\u001b[0;34m\u001b[0m\u001b[0m\n\u001b[0m\u001b[1;32m   3082\u001b[0m \u001b[0;34m\u001b[0m\u001b[0m\n\u001b[1;32m   3083\u001b[0m     \u001b[0;32mdef\u001b[0m \u001b[0m__setattr__\u001b[0m\u001b[0;34m(\u001b[0m\u001b[0mself\u001b[0m\u001b[0;34m,\u001b[0m \u001b[0mname\u001b[0m\u001b[0;34m,\u001b[0m \u001b[0mvalue\u001b[0m\u001b[0;34m)\u001b[0m\u001b[0;34m:\u001b[0m\u001b[0;34m\u001b[0m\u001b[0m\n",
      "\u001b[0;31mAttributeError\u001b[0m: 'Series' object has no attribute 'boxplot'"
     ]
    }
   ],
   "source": [
    "#boxplot\n",
    "fear = pd.read_csv('googleplaystore.csv', encoding='latin')\n",
    "review = fear['Reviews']\n",
    "bp1 = review.boxplot(meanline=True, showbox=False)\n",
    "plt.show()\n",
    "#Suddenly started showing reviews too....like above."
   ]
  },
  {
   "cell_type": "code",
   "execution_count": null,
   "metadata": {
    "collapsed": true
   },
   "outputs": [],
   "source": []
  },
  {
   "cell_type": "code",
   "execution_count": null,
   "metadata": {
    "collapsed": true
   },
   "outputs": [],
   "source": []
  },
  {
   "cell_type": "code",
   "execution_count": null,
   "metadata": {
    "collapsed": true
   },
   "outputs": [],
   "source": []
  },
  {
   "cell_type": "code",
   "execution_count": null,
   "metadata": {
    "collapsed": true
   },
   "outputs": [],
   "source": []
  },
  {
   "cell_type": "code",
   "execution_count": 9,
   "metadata": {},
   "outputs": [
    {
     "data": {
      "text/plain": [
       "Text(0,0.5,'Rating')"
      ]
     },
     "execution_count": 9,
     "metadata": {},
     "output_type": "execute_result"
    },
    {
     "data": {
      "image/png": "[encoded data removed]",
      "text/plain": [
       "<matplotlib.figure.Figure at 0x11f708160>"
      ]
     },
     "metadata": {},
     "output_type": "display_data"
    }
   ],
   "source": [
    "#No longer needed\n",
    "ax = fear.plot(kind='bar', title =\"Ranked Category by Ratings\",figsize=(15,10),legend=True, fontsize=12)\n",
    "plt.xticks(rotation=90)\n",
    "ax.set_xlabel(\"Category\",fontsize=12)\n",
    "ax.set_ylabel(\"Rating\",fontsize=12)\n"
   ]
  },
  {
   "cell_type": "code",
   "execution_count": null,
   "metadata": {
    "collapsed": true
   },
   "outputs": [],
   "source": []
  }
 ],
 "metadata": {
  "kernelspec": {
   "display_name": "Python 3",
   "language": "python",
   "name": "python3"
  },
  "language_info": {
   "codemirror_mode": {
    "name": "ipython",
    "version": 3
   },
   "file_extension": ".py",
   "mimetype": "text/x-python",
   "name": "python",
   "nbconvert_exporter": "python",
   "pygments_lexer": "ipython3",
   "version": "3.6.3"
  }
 },
 "nbformat": 4,
 "nbformat_minor": 2
}
