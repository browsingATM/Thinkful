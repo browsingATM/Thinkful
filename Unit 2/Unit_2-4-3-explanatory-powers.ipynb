{
 "cells": [
  {
   "cell_type": "code",
   "execution_count": 2,
   "metadata": {
    "collapsed": true
   },
   "outputs": [],
   "source": [
    "import pandas as pd\n",
    "from matplotlib import pyplot as plt\n",
    "import numpy as np\n",
    "from sklearn import linear_model\n",
    "import xlrd\n",
    "%matplotlib inline\n",
    "pd.options.display.float_format = '{:.3f}'.format\n",
    "\n",
    "#suppress annoying hartmless errors\n",
    "import warnings\n",
    "warnings.filterwarnings(action=\"ignore\", module=\"scipy\", message=\"^internal gelsd\")"
   ]
  },
  {
   "cell_type": "code",
   "execution_count": 3,
   "metadata": {
    "collapsed": true
   },
   "outputs": [],
   "source": [
    "loc = (\"/Users/jakegrosek/Desktop/thinkful_py/Unit_2/nyc_crime.xls\")\n",
    "df = pd.read_csv(\"nyc_crime.csv\")"
   ]
  },
  {
   "cell_type": "code",
   "execution_count": 4,
   "metadata": {
    "collapsed": true
   },
   "outputs": [],
   "source": [
    "# instantiate\n",
    "regr = linear_model.LinearRegression()\n"
   ]
  },
  {
   "cell_type": "code",
   "execution_count": 5,
   "metadata": {
    "collapsed": true
   },
   "outputs": [],
   "source": [
    "#made this # to check if naming columns again created issues\n",
    "#df.columns = ['City', 'Population', 'Violent crime', 'Murder and nonnegligent manslaughter', \n",
    "              #'Rape (revised definition)1', 'Rape (legacy definition)2', 'Robbery', \n",
    "             #'Aggravated assault', 'Property crime', 'Burglary', 'Larceny-theft', 'Motor vehicle theft', 'Arson3']"
   ]
  },
  {
   "cell_type": "code",
   "execution_count": 6,
   "metadata": {
    "collapsed": true
   },
   "outputs": [],
   "source": [
    "#no longer needed \n",
    "#df.rename(columns={'City': 'City', 'Population': 'Population', 'Violent crime': 'Violent crime',\n",
    "                  #'Murder and nonnegligent manslaughter': 'Murder', 'Rape (revised definition)1': 'Rape1',\n",
    "                  # 'Rape (legacy definition)2': 'Rape2','Robbery': 'Robbery', 'Aggravated assault': 'Aggravated', \n",
    "                  # 'Property crime': 'Property', 'Burglary': 'Burglary', 'Larceny-theft': 'Larceny', \n",
    "                  # 'Motor vehicle theft': 'Motor','Arson3': 'Arson'}, inplace=True)"
   ]
  },
  {
   "cell_type": "code",
   "execution_count": 7,
   "metadata": {
    "collapsed": true
   },
   "outputs": [],
   "source": [
    "df.columns = df.columns.str.strip().str.lower().str.replace(' ', '_').str.replace('(', '').str.replace(')', '')\n"
   ]
  },
  {
   "cell_type": "code",
   "execution_count": 8,
   "metadata": {
    "collapsed": true
   },
   "outputs": [],
   "source": [
    "\n",
    "df['population'] = pd.to_numeric(df['population'], errors='coerce')\n",
    "df['violent crime'] = pd.to_numeric(df['violent_crime'], errors='coerce')\n",
    "df['murder_and_nonnegligent_manslaughter'] = pd.to_numeric(df['murder_and_nonnegligent_manslaughter'], errors='coerce')\n",
    "df['rape_revised_definition1'] = pd.to_numeric(df['rape_revised_definition1'], errors='coerce')\n",
    "df['rape_legacy_definition2'] = pd.to_numeric(df['rape_legacy_definition2'], errors='coerce')\n",
    "df['robbery'] = pd.to_numeric(df['robbery'], errors='coerce')\n",
    "df['aggravated_assault'] = pd.to_numeric(df['aggravated_assault'], errors='coerce')\n",
    "df['property_crime'] = pd.to_numeric(df['property_crime'], errors='coerce')\n",
    "df['burglary'] = pd.to_numeric(df['burglary'], errors='coerce')\n",
    "df['larceny-theft'] = pd.to_numeric(df['larceny-theft'], errors='coerce')\n",
    "df['motor_vehicletheft'] = pd.to_numeric(df['motor_vehicle_theft'], errors='coerce')\n",
    "df['arson3'] = pd.to_numeric(df['arson3'], errors='coerce')"
   ]
  },
  {
   "cell_type": "code",
   "execution_count": 9,
   "metadata": {
    "collapsed": true
   },
   "outputs": [],
   "source": [
    "# fills in NaN valeus with zero across the dataframe\n",
    "df.fillna(0, inplace=True)"
   ]
  },
  {
   "cell_type": "code",
   "execution_count": 10,
   "metadata": {
    "collapsed": true
   },
   "outputs": [],
   "source": [
    "pop1 = df['population']\n",
    "pop2 = df['population'].apply(lambda mike: mike ** 2)"
   ]
  },
  {
   "cell_type": "code",
   "execution_count": 11,
   "metadata": {
    "collapsed": true
   },
   "outputs": [],
   "source": [
    "murder = df['murder_and_nonnegligent_manslaughter']\n",
    "robbery = df['robbery']\n",
    "\n",
    "#murder = np.where(df['Murder and'] < 1, df['Murder and'], 1)\n",
    "#muder broken due to above\n",
    "#robbery = np.where(df['Robbery'] < 1, df['Robbery'], 1)"
   ]
  },
  {
   "cell_type": "code",
   "execution_count": 17,
   "metadata": {},
   "outputs": [
    {
     "data": {
      "text/plain": [
       "population                              float64\n",
       "murder_and_nonnegligent_manslaughter    float64\n",
       "robbery                                 float64\n",
       "dtype: object"
      ]
     },
     "execution_count": 17,
     "metadata": {},
     "output_type": "execute_result"
    }
   ],
   "source": [
    "x.dtypes"
   ]
  },
  {
   "cell_type": "code",
   "execution_count": 20,
   "metadata": {},
   "outputs": [
    {
     "name": "stdout",
     "output_type": "stream",
     "text": [
      "\n",
      "Coefficients: \n",
      " [-0.19647038]\n",
      "\n",
      "Intercept: \n",
      " 171.033090784\n",
      "\n",
      "R-squared:\n",
      "0.0156584005389\n"
     ]
    }
   ],
   "source": [
    "regr = linear_model.LinearRegression()\n",
    "y = df['property_crime']\n",
    "x = df[['population','murder_and_nonnegligent_manslaughter','robbery']]\n",
    "#are values in X the features?\n",
    "regr.fit(x, y)\n",
    "\n",
    "# Inspect the results.\n",
    "print('\\nCoefficients: \\n', regr.coef_)\n",
    "print('\\nIntercept: \\n', regr.intercept_)\n",
    "print('\\nR-squared:')\n",
    "print(regr.score(x, y))"
   ]
  },
  {
   "cell_type": "code",
   "execution_count": 21,
   "metadata": {},
   "outputs": [
    {
     "data": {
      "image/png": "[encoded data removed]",
      "text/plain": [
       "<matplotlib.figure.Figure at 0x1a16330a58>"
      ]
     },
     "metadata": {},
     "output_type": "display_data"
    }
   ],
   "source": [
    "plt.scatter(x, y, color='black')\n",
    "plt.plot(x, regr.predict(x), color='blue', linewidth=3)\n",
    "plt.show()"
   ]
  },
  {
   "cell_type": "code",
   "execution_count": null,
   "metadata": {
    "collapsed": true
   },
   "outputs": [],
   "source": []
  },
  {
   "cell_type": "code",
   "execution_count": null,
   "metadata": {
    "collapsed": true
   },
   "outputs": [],
   "source": []
  }
 ],
 "metadata": {
  "kernelspec": {
   "display_name": "Python 3",
   "language": "python",
   "name": "python3"
  },
  "language_info": {
   "codemirror_mode": {
    "name": "ipython",
    "version": 3
   },
   "file_extension": ".py",
   "mimetype": "text/x-python",
   "name": "python",
   "nbconvert_exporter": "python",
   "pygments_lexer": "ipython3",
   "version": "3.6.3"
  }
 },
 "nbformat": 4,
 "nbformat_minor": 2
}
