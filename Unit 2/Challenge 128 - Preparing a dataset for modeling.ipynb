{
 "cells": [
  {
   "cell_type": "markdown",
   "metadata": {},
   "source": [
    "Using a dataset of your choice, select an outcome variable and then pick four or five other variables (one to two categorical, three to four continuous) to act as the basis for features. Explore the variables using the univariate and bivariate methods you've learned so far.\n",
    "\n",
    "Next, based on what you learned via your data exploration, create ten new features. Explain the reasoning behind each one.\n",
    "\n",
    "Finally, use filtering methods to select the five best features and justify your choices."
   ]
  },
  {
   "cell_type": "code",
   "execution_count": 1,
   "metadata": {
    "collapsed": true
   },
   "outputs": [],
   "source": [
    "import pandas as pd\n",
    "import numpy as np\n",
    "import matplotlib.pyplot as plt\n",
    "import seaborn as sns\n",
    "import scipy.stats as stats\n",
    "\n",
    "df = pd.read_csv('sui_rate.csv')"
   ]
  },
  {
   "cell_type": "markdown",
   "metadata": {},
   "source": [
    "Outcome variable: suicides_no\n",
    "categorical variable: age\n",
    "categorical variable: country\n",
    "categorical variable: sex\n",
    "continuous variable: population\n",
    "continuous variable: suicides/100k pop\n",
    "continuous variable: gdp_for_year ($) \n",
    "continuous variable: gdp_per_capital($)"
   ]
  },
  {
   "cell_type": "code",
   "execution_count": null,
   "metadata": {
    "collapsed": true
   },
   "outputs": [],
   "source": [
    "features['continents']\n",
    "#divide countries into continents. \n",
    "#8"
   ]
  },
  {
   "cell_type": "code",
   "execution_count": null,
   "metadata": {
    "collapsed": true
   },
   "outputs": [],
   "source": [
    "features['Island']\n",
    "#categorical for island countries. See if island people are happier, and less likely to commit suicide\n",
    "#10"
   ]
  },
  {
   "cell_type": "code",
   "execution_count": null,
   "metadata": {
    "collapsed": true
   },
   "outputs": [],
   "source": [
    "features['sex_skew']\n",
    "#what is the country's skew by men & women? see if this is a leading indicator for high or low suicides\n",
    "#7"
   ]
  },
  {
   "cell_type": "code",
   "execution_count": null,
   "metadata": {
    "collapsed": true
   },
   "outputs": [],
   "source": [
    "features['suicide_sex']\n",
    "#categorical variable if men or women more likely per country to commit suicide\n",
    "#3"
   ]
  },
  {
   "cell_type": "code",
   "execution_count": null,
   "metadata": {
    "collapsed": true
   },
   "outputs": [],
   "source": [
    "features['GDP_split']\n",
    "#avg wealth distribution. See how wealth coorelates with suicide.\n",
    "#9"
   ]
  },
  {
   "cell_type": "code",
   "execution_count": null,
   "metadata": {
    "collapsed": true
   },
   "outputs": [],
   "source": [
    "features['gdp_quintile']\n",
    "#divide the countries into quintiles by GDP. See how wealth coorelates with suicide.\n",
    "#1"
   ]
  },
  {
   "cell_type": "code",
   "execution_count": null,
   "metadata": {
    "collapsed": true
   },
   "outputs": [],
   "source": [
    "features['pop_quintiles']\n",
    "#divide the countries into quintiles by population. See how population coorelates with suicide.\n",
    "#2"
   ]
  },
  {
   "cell_type": "code",
   "execution_count": null,
   "metadata": {
    "collapsed": true
   },
   "outputs": [],
   "source": [
    "features['gdp_capita_quintile']\n",
    "#divide the countries into quintiles by gdp_per_capita. See how gdp coorelates with suicide.\n",
    "#4"
   ]
  },
  {
   "cell_type": "code",
   "execution_count": null,
   "metadata": {
    "collapsed": true
   },
   "outputs": [],
   "source": [
    "features['older_young']\n",
    "#divide the countries into either young or old to see if G.I., Silent & Boomer are more/less likely\n",
    "#to commit suicide than gen x, millenials, and gen z.\n",
    "#5"
   ]
  },
  {
   "cell_type": "code",
   "execution_count": null,
   "metadata": {
    "collapsed": true
   },
   "outputs": [],
   "source": [
    "features['most_sui_gen']\n",
    "#which gen has the most suicides in a country. see if certain generation are more likely to commit suicide.\n",
    "#6"
   ]
  },
  {
   "cell_type": "markdown",
   "metadata": {},
   "source": [
    "Five Best Features"
   ]
  },
  {
   "cell_type": "markdown",
   "metadata": {},
   "source": [
    "#1. features['gdp_quintile'] -> Grouping over 300 countries into cleaner categorizations would be important to see how suicides correlate with extreme or lack of wealth."
   ]
  },
  {
   "cell_type": "markdown",
   "metadata": {},
   "source": [
    "#2. features['pop_quintiles'] -> Similar to #1, but related to population. Does a country's size have something to do with the overall suicide rate? "
   ]
  },
  {
   "cell_type": "markdown",
   "metadata": {},
   "source": [
    "#3. features['suicide_sex'] -> categorizing whether each country has more suicides by sex. Finding traits in common between countries with more men or women committing suicide could be interesting."
   ]
  },
  {
   "cell_type": "markdown",
   "metadata": {},
   "source": [
    "#4. features['gdp_capita_quintile'] -> Similar as #1, but more related to how well distributed the wealth per country is."
   ]
  },
  {
   "cell_type": "markdown",
   "metadata": {},
   "source": [
    "#5. features['older_young'] -> Is the younger or older half of a country's population more likely to commit suicides? Spotting trends and why those could happen in different countries could be interesting."
   ]
  },
  {
   "cell_type": "code",
   "execution_count": null,
   "metadata": {
    "collapsed": true
   },
   "outputs": [],
   "source": []
  }
 ],
 "metadata": {
  "kernelspec": {
   "display_name": "Python 3",
   "language": "python",
   "name": "python3"
  },
  "language_info": {
   "codemirror_mode": {
    "name": "ipython",
    "version": 3
   },
   "file_extension": ".py",
   "mimetype": "text/x-python",
   "name": "python",
   "nbconvert_exporter": "python",
   "pygments_lexer": "ipython3",
   "version": "3.6.3"
  }
 },
 "nbformat": 4,
 "nbformat_minor": 2
}
