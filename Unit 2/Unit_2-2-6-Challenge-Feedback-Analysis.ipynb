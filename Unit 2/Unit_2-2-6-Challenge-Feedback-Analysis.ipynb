{
 "cells": [
  {
   "cell_type": "markdown",
   "metadata": {},
   "source": [
    "Pick one of the company data files and build your own classifier. When you're satisfied with its performance (at this point just using the accuracy measure shown in the example), test it on one of the other datasets to see how well these kinds of classifiers translate from one context to another.\n",
    "\n",
    "Include your model and a brief writeup of your feature engineering and selection process to submit and review with your mentor."
   ]
  },
  {
   "cell_type": "markdown",
   "metadata": {},
   "source": [
    "## Yelp"
   ]
  },
  {
   "cell_type": "code",
   "execution_count": 2,
   "metadata": {
    "collapsed": true
   },
   "outputs": [],
   "source": [
    "%matplotlib inline\n",
    "import numpy as np\n",
    "import pandas as pd\n",
    "import scipy\n",
    "import sklearn\n",
    "import matplotlib.pyplot as plt\n",
    "import seaborn as sns"
   ]
  },
  {
   "cell_type": "markdown",
   "metadata": {},
   "source": [
    "#For each website (Yelp in this case), there exist 500 positive and 500 negative sentences. \n",
    "#Those were selected randomly for larger datasets of reviews. \n",
    "#We attempted to select sentences that have a clearly positive or negative connotaton, \n",
    "#the goal was for no neutral sentences to be selected."
   ]
  },
  {
   "cell_type": "code",
   "execution_count": 3,
   "metadata": {
    "collapsed": true
   },
   "outputs": [],
   "source": [
    "# Grab and process the RAW data.\n",
    "data_path = (\"https://raw.githubusercontent.com/browsingATM/Thinkful/master/Unit%202/yelp_labelled.txt\")\n",
    "            \n",
    "yelp_raw = pd.read_csv(data_path, delimiter= '\\t', header=None)\n",
    "yelp_raw.columns = ['review', 'score']\n",
    "#score of 1 = positive, score of 0 = negative\n"
   ]
  },
  {
   "cell_type": "code",
   "execution_count": 17,
   "metadata": {
    "collapsed": true
   },
   "outputs": [],
   "source": [
    "\n",
    "keywords = ['cold', 'bad service', 'expensive', 'mean', 'not affordable', 'empty'\n",
    "           'terrible', 'angry', 'boring', ]\n"
   ]
  },
  {
   "cell_type": "code",
   "execution_count": 18,
   "metadata": {},
   "outputs": [],
   "source": [
    "for key in keywords:\n",
    "    yelp_raw[str(key)] = yelp_raw.review.str.contains(\n",
    "    ' ' + str(key) + ' ',\n",
    "    case=False\n",
    "    )"
   ]
  },
  {
   "cell_type": "code",
   "execution_count": 19,
   "metadata": {
    "collapsed": true
   },
   "outputs": [],
   "source": [
    "data = yelp_raw[keywords]\n",
    "target = yelp_raw['review']"
   ]
  },
  {
   "cell_type": "code",
   "execution_count": 20,
   "metadata": {},
   "outputs": [
    {
     "name": "stdout",
     "output_type": "stream",
     "text": [
      "Number of mislabeled points out of a total 1000 points : 998\n"
     ]
    }
   ],
   "source": [
    "#binary data so using BNB\n",
    "from sklearn.naive_bayes import BernoulliNB\n",
    "\n",
    "#instantiate our model and store it in a new variable\n",
    "bnb = BernoulliNB()\n",
    "\n",
    "#fit data to our model\n",
    "bnb.fit(data, target)\n",
    "\n",
    "#classify, storing the result in a new variable\n",
    "y_pred = bnb.predict(data)\n",
    "\n",
    "# display results\n",
    "print(\"Number of mislabeled points out of a total {} points : {}\".format(\n",
    "     data.shape[0],\n",
    "     (target != y_pred).sum()\n",
    "     ))"
   ]
  },
  {
   "cell_type": "markdown",
   "metadata": {},
   "source": [
    "## Amazon "
   ]
  },
  {
   "cell_type": "code",
   "execution_count": 12,
   "metadata": {
    "collapsed": true
   },
   "outputs": [],
   "source": [
    "# Grab and process the RAW data.\n",
    "data_path = (\"https://raw.githubusercontent.com/browsingATM/Thinkful/master/Unit%202/amazon_cells_labelled.txt\")\n",
    "            \n",
    "amazon_raw = pd.read_csv(data_path, delimiter= '\\t', header=None)\n",
    "amazon_raw.columns = ['review', 'score']\n",
    "#score of 1 = positive, score of 0 = negative"
   ]
  },
  {
   "cell_type": "code",
   "execution_count": 21,
   "metadata": {
    "collapsed": true
   },
   "outputs": [],
   "source": [
    "\n",
    "keywords = ['cold', 'bad service', 'expensive', 'mean', 'not affordable', 'empty'\n",
    "           'terrible', 'angry', 'boring', ]"
   ]
  },
  {
   "cell_type": "code",
   "execution_count": 22,
   "metadata": {
    "collapsed": true
   },
   "outputs": [],
   "source": [
    "for key in keywords:\n",
    "    amazon_raw[str(key)] = amazon_raw.review.str.contains(\n",
    "    ' ' + str(key) + ' ',\n",
    "    case=False\n",
    "    )"
   ]
  },
  {
   "cell_type": "code",
   "execution_count": 23,
   "metadata": {
    "collapsed": true
   },
   "outputs": [],
   "source": [
    "data = amazon_raw[keywords]\n",
    "target = amazon_raw['review']"
   ]
  },
  {
   "cell_type": "code",
   "execution_count": 24,
   "metadata": {},
   "outputs": [
    {
     "name": "stdout",
     "output_type": "stream",
     "text": [
      "Number of mislabeled points out of a total 1000 points : 998\n"
     ]
    }
   ],
   "source": [
    "#binary data so using BNB\n",
    "from sklearn.naive_bayes import BernoulliNB\n",
    "\n",
    "#instantiate our model and store it in a new variable\n",
    "bnb = BernoulliNB()\n",
    "\n",
    "#fit data to our model\n",
    "bnb.fit(data, target)\n",
    "\n",
    "#classify, storing the result in a new variable\n",
    "y_pred = bnb.predict(data)\n",
    "\n",
    "# display results\n",
    "print(\"Number of mislabeled points out of a total {} points : {}\".format(\n",
    "     data.shape[0],\n",
    "     (target != y_pred).sum()\n",
    "     ))"
   ]
  },
  {
   "cell_type": "code",
   "execution_count": null,
   "metadata": {
    "collapsed": true
   },
   "outputs": [],
   "source": [
    "#questions\n",
    "# feature engineering with 2 columns, one binary and the other strings?\n",
    "# i was surprised that the model yielded the same results twice with different sets of keywords.\n",
    "# I would have thought the opposite."
   ]
  },
  {
   "cell_type": "code",
   "execution_count": null,
   "metadata": {
    "collapsed": true
   },
   "outputs": [],
   "source": []
  }
 ],
 "metadata": {
  "kernelspec": {
   "display_name": "Python 3",
   "language": "python",
   "name": "python3"
  },
  "language_info": {
   "codemirror_mode": {
    "name": "ipython",
    "version": 3
   },
   "file_extension": ".py",
   "mimetype": "text/x-python",
   "name": "python",
   "nbconvert_exporter": "python",
   "pygments_lexer": "ipython3",
   "version": "3.6.3"
  }
 },
 "nbformat": 4,
 "nbformat_minor": 2
}
