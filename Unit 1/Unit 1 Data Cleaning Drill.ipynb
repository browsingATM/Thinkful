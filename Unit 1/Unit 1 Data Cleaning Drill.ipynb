{
 "cells": [
  {
   "cell_type": "markdown",
   "metadata": {
    "collapsed": true
   },
   "source": []
  },
  {
   "cell_type": "code",
   "execution_count": 18,
   "metadata": {
    "collapsed": true
   },
   "outputs": [],
   "source": [
    "import pandas as pd\n",
    "import numpy as np"
   ]
  },
  {
   "cell_type": "code",
   "execution_count": 19,
   "metadata": {},
   "outputs": [],
   "source": [
    "ds = pd.read_csv(\"wellcome2.csv\", encoding='latin')\n",
    "                "
   ]
  },
  {
   "cell_type": "markdown",
   "metadata": {},
   "source": [
    "Cleaning To Do:\n",
    "- Pound & Dollar issue in \"Cost\" column - filter?\n",
    "- outlier data in \"Cost\" - 999999 or 0's\n"
   ]
  },
  {
   "cell_type": "markdown",
   "metadata": {},
   "source": [
    "## Goals:\n",
    "- 5 most common journals\n",
    "- total articles of each journal\n",
    "- calculate the mean of the open-access cost per article for each journal . \n",
    "- calculate the median of the open-access cost per article for each journal . \n",
    "- calculate the standard deviation of the open-access cost per article for each journal . "
   ]
  },
  {
   "cell_type": "markdown",
   "metadata": {},
   "source": [
    "5 Most Common Journals & Total Articles"
   ]
  },
  {
   "cell_type": "markdown",
   "metadata": {},
   "source": [
    "PLOS ONE, PLoS 1, PLoS ONE, PLOSONE, PLoS One, PLosONE"
   ]
  },
  {
   "cell_type": "code",
   "execution_count": 20,
   "metadata": {},
   "outputs": [
    {
     "data": {
      "text/plain": [
       "PLoS One                                           206\n",
       "Journal of Biological Chemistry                     60\n",
       "NeuroImage                                          29\n",
       "Nucleic Acids Research                              26\n",
       "Proceedings of the National Academy of Sciences     24\n",
       "Name: Journal title, dtype: int64"
      ]
     },
     "execution_count": 20,
     "metadata": {},
     "output_type": "execute_result"
    }
   ],
   "source": [
    "ds[\"Journal title\"] = ds[\"Journal title\"].str.replace('PLOS ONE', 'PLoS One', case = False)\n",
    "ds[\"Journal title\"] = ds[\"Journal title\"].str.replace('PLOS One', 'PLoS One', case = False)\n",
    "ds[\"Journal title\"] = ds[\"Journal title\"].str.replace('PLoS ONE', 'PLoS One', case = False)\n",
    "ds[\"Journal title\"] = ds[\"Journal title\"].str.replace('Plos ONE', 'PLoS One', case = False)\n",
    "ds[\"Journal title\"] = ds[\"Journal title\"].str.replace('PLoS 1', 'PLoS One', case = False)\n",
    "ds[\"Journal title\"] = ds[\"Journal title\"].str.replace('PLoSONE', 'PLoS One', case = False)\n",
    "ds[\"Journal title\"] = ds[\"Journal title\"].str.replace('PLosONE', 'PLoS One', case = False)\n",
    "ds[\"Journal title\"] = ds[\"Journal title\"].str.replace('PLOSONE', 'PLoS One', case = False)\n",
    "#four versions of PLoS\n",
    "ds[\"Journal title\"] = ds[\"Journal title\"].str.replace('JOURNAL OF BIOLOGICAL CHEMISTRY', \n",
    "                                                      'Journal of Biological Chemistry', case = False)\n",
    "ds[\"Journal title\"] = ds[\"Journal title\"].str.replace('The Journal of Biological Chemistry', \n",
    "                                                      'Journal of Biological Chemistry', case = False)\n",
    "#3 are in All Caps\n",
    "\n",
    "ds[\"Journal title\"] = ds[\"Journal title\"].str.replace('Neuroimage', 'NeuroImage', case = False)\n",
    "#one alternative of NeuroImage\n",
    "\n",
    "ds[\"Journal title\"] = ds[\"Journal title\"].str.replace('Nucleic Acid Research', 'Nucleic Acids Research', case = False)\n",
    "ds[\"Journal title\"] = ds[\"Journal title\"].str.replace('NUCLEIC ACIDS RESEARCH', 'Nucleic Acids Research', case = False)\n",
    "#2 alternatives of Nucleic Acids Research\n",
    "ds[\"Journal title\"] = ds[\"Journal title\"].str.replace(\n",
    "    'Proceedings of the National Academy of Sciences (PNAS)', \n",
    "                                                      'Proceedings of the National Academy of Sciences', case = False)\n",
    "ds[\"Journal title\"] = ds[\"Journal title\"].str.replace(\n",
    "    'PNAS (Proceedings of the National Academy of Sciences of the United States of America)', \n",
    "                                                      'Proceedings of the National Academy of Sciences', case = False)\n",
    "ds[\"Journal title\"] = ds[\"Journal title\"].str.replace(\n",
    "    'Proc Natl Acad Sci U S A.', \n",
    "                                                      'Proceedings of the National Academy of Sciences', case = False)\n",
    "ds[\"Journal title\"] = ds[\"Journal title\"].str.replace(\n",
    "    'Proceddings of the National Academy of Sciences of USA', \n",
    "                                                      'Proceedings of the National Academy of Sciences', case = False)\n",
    "ds[\"Journal title\"] = ds[\"Journal title\"].str.replace(\n",
    "    'Proceedings of the National Academy of Sciences of the United States of America', \n",
    "                                                      'Proceedings of the National Academy of Sciences', case = False)\n",
    "ds[\"Journal title\"] = ds[\"Journal title\"].str.replace(\n",
    "    'Proceedings of the National Academy of Sciences of the USA', \n",
    "                                                      'Proceedings of the National Academy of Sciences', case = False)\n",
    "#7 instances of PNAS\n",
    "\n",
    "#can't get 3 missing 'Nucleic Acids' \n",
    "\n",
    "ds['Journal title'].value_counts().nlargest(5)"
   ]
  },
  {
   "cell_type": "markdown",
   "metadata": {
    "collapsed": true
   },
   "source": [
    "## Mean, median, and st Deviation of the Journal's articles"
   ]
  },
  {
   "cell_type": "code",
   "execution_count": 21,
   "metadata": {},
   "outputs": [],
   "source": [
    "#change that absurdly long column name to just 'Cost'\n",
    "#ds['COST (£) charged to Wellcome (inc VAT when charged)'] = ds['COST (£) charged to Wellcome (inc VAT when charged)'].str.replace(\n",
    "#'COST (£) charged to Wellcome (inc VAT when charged)', 'Cost', case=False)\n",
    "\n",
    "ds.rename(columns={'COST (£) charged to Wellcome (inc VAT when charged)':'Cost'}, inplace=True)\n",
    "ds.columns = ['PMID/PMCID', 'Publisher', 'Journal Title', 'Article Title', 'Cost']"
   ]
  },
  {
   "cell_type": "code",
   "execution_count": 22,
   "metadata": {},
   "outputs": [
    {
     "data": {
      "text/plain": [
       "149     999999.00\n",
       "227     999999.00\n",
       "277     999999.00\n",
       "358     999999.00\n",
       "404     999999.00\n",
       "410     999999.00\n",
       "491     999999.00\n",
       "560     999999.00\n",
       "630     999999.00\n",
       "660     999999.00\n",
       "669     999999.00\n",
       "670     999999.00\n",
       "811     999999.00\n",
       "815     999999.00\n",
       "825     999999.00\n",
       "829     999999.00\n",
       "873     999999.00\n",
       "945     999999.00\n",
       "996     999999.00\n",
       "1036    999999.00\n",
       "1046    999999.00\n",
       "1065    999999.00\n",
       "1138    999999.00\n",
       "1208    999999.00\n",
       "1256    999999.00\n",
       "1309    999999.00\n",
       "1367    999999.00\n",
       "1386    999999.00\n",
       "1387    999999.00\n",
       "1560    999999.00\n",
       "          ...    \n",
       "785       4072.42\n",
       "587       4069.66\n",
       "494       4041.05\n",
       "727       4012.03\n",
       "540       4002.42\n",
       "726       3997.71\n",
       "423       3995.74\n",
       "523       3992.37\n",
       "538       3975.75\n",
       "422       3967.99\n",
       "489       3948.42\n",
       "444       3938.82\n",
       "839       3918.42\n",
       "838       3912.20\n",
       "421       3906.55\n",
       "174       3906.43\n",
       "496       3904.46\n",
       "784       3899.19\n",
       "840       3895.64\n",
       "418       3884.40\n",
       "522       3883.86\n",
       "420       3882.41\n",
       "521       3879.05\n",
       "537       3877.48\n",
       "536       3877.46\n",
       "520       3857.16\n",
       "535       3845.38\n",
       "493       3838.88\n",
       "498       3836.32\n",
       "783       3832.72\n",
       "Name: Cost, Length: 100, dtype: float64"
      ]
     },
     "execution_count": 22,
     "metadata": {},
     "output_type": "execute_result"
    }
   ],
   "source": [
    "#strip whitespace, eliminate currency symbols, convert strings to numeric\n",
    "ds['Cost'].str.strip()\n",
    "#strip\n",
    "ds['Cost'] = ds['Cost'].str.replace('$','')\n",
    "ds['Cost'] = ds['Cost'].str.replace('£','')\n",
    "#replace currency w/\n",
    "word_split = ds['Cost'].str.split('.', expand=True)\n",
    "pd.to_numeric(ds['Cost']).nlargest(100)"
   ]
  },
  {
   "cell_type": "markdown",
   "metadata": {},
   "source": [
    "Mean"
   ]
  },
  {
   "cell_type": "code",
   "execution_count": 23,
   "metadata": {},
   "outputs": [
    {
     "name": "stdout",
     "output_type": "stream",
     "text": [
      "Journal Title\n",
      "ACS Chemical Biology                                                                         1418.186000\n",
      "ACS Chemical Neuroscience                                                                    1186.800000\n",
      "ACS NANO                                                                                      642.890000\n",
      "ACS Nano                                                                                      693.390000\n",
      "ACTA F                                                                                        754.900000\n",
      "AGE                                                                                          2002.000000\n",
      "AIDS                                                                                         2059.306667\n",
      "AIDS Behav                                                                                   1834.770000\n",
      "AIDS Care                                                                                    2189.170000\n",
      "AIDS Journal                                                                                 2015.720000\n",
      "AIDS Research and Therapy                                                                    1240.000000\n",
      "AIDS UK                                                                                      1836.920000\n",
      "ASN Neuro                                                                                    1453.420000\n",
      "Academy of Nutrition and Dietetics                                                           2379.540000\n",
      "Acta Crystallographica Section D,  Biological Crystallography                                 771.420000\n",
      "Acta Crystallographica Section D: Biological Crystallography                                  773.740000\n",
      "Acta Crystallographica Section F: Structural Biology and Crystallization Communications       796.635000\n",
      "Acta Crystallographica, Section D                                                             757.180000\n",
      "Acta Crystallography D                                                                        774.190000\n",
      "Acta D                                                                                        750.160000\n",
      "Acta Dermato Venereologica                                                                    653.960000\n",
      "Acta Diabetologica                                                                           2336.280000\n",
      "Acta Neuropathol                                                                             1901.040000\n",
      "Acta Neuropathologica                                                                        2161.063333\n",
      "Acta Opthalmologica                                                                          2270.160000\n",
      "Acta Physiol                                                                                 1991.500000\n",
      "Addiction                                                                                    2136.225000\n",
      "Advances in Experimental Medicine and Biology                                                1928.457500\n",
      "Age                                                                                          2338.280000\n",
      "Age and Ageing                                                                               2040.000000\n",
      "                                                                                               ...      \n",
      "Translational Psychiatry                                                                     2880.000000\n",
      "Trends in Cognitive Science                                                                  2340.630000\n",
      "Trends in Genetics                                                                           2370.935000\n",
      "Trends in Microbiology                                                                       2291.330000\n",
      "Trends in Molecular Medicine                                                                 2248.330000\n",
      "Trends in Neuroscience                                                                       2402.810000\n",
      "Trends in Neurosciences                                                                    501212.980000\n",
      "Trends in Parasitology                                                                     251692.990000\n",
      "Trials                                                                                     250908.975000\n",
      "Trials                                                                                       1165.000000\n",
      "Trop Med Int Health                                                                          1834.770000\n",
      "Tropical Animal Health & Production                                                          2054.780000\n",
      "Tropical Medicine and International Health                                                   1843.163333\n",
      "Tuberculosis                                                                                 2161.255000\n",
      "Urban History                                                                                2034.000000\n",
      "Urolithiasis                                                                                 1112.400000\n",
      "Vaccine                                                                                      1623.394000\n",
      "Vascular Pharmacology                                                                        2352.530000\n",
      "Veterinary Microbiology                                                                      2451.490000\n",
      "Veterinary Parasitology                                                                    501243.585000\n",
      "Veterinary Record                                                                            2040.000000\n",
      "Veterinary Research                                                                             9.930000\n",
      "Virology                                                                                     1928.505000\n",
      "Virology Journal                                                                             1242.000000\n",
      "Virus Research                                                                               1947.090000\n",
      "Vision Research                                                                            500727.590000\n",
      "Visual Neuroscience                                                                          2034.000000\n",
      "Zoonoses and Public Health                                                                   2272.150000\n",
      "genesis: Journal of Genetics                                                                 2376.400000\n",
      "mBio                                                                                         1355.130000\n",
      "Name: COST (£) charged to Wellcome (inc VAT when charged), Length: 960, dtype: float64\n"
     ]
    }
   ],
   "source": [
    "ds['COST (£) charged to Wellcome (inc VAT when charged)'] = pd.to_numeric(ds['Cost'])\n",
    "ds_mean = ds.groupby('Journal Title')['COST (£) charged to Wellcome (inc VAT when charged)'].mean()\n",
    "print(ds_mean)"
   ]
  },
  {
   "cell_type": "code",
   "execution_count": 24,
   "metadata": {},
   "outputs": [
    {
     "name": "stdout",
     "output_type": "stream",
     "text": [
      "Journal Title\n",
      "ACS Chemical Biology                                                                         1294.590\n",
      "ACS Chemical Neuroscience                                                                    1186.800\n",
      "ACS NANO                                                                                      642.890\n",
      "ACS Nano                                                                                      693.390\n",
      "ACTA F                                                                                        754.900\n",
      "AGE                                                                                          2002.000\n",
      "AIDS                                                                                         1968.630\n",
      "AIDS Behav                                                                                   1834.770\n",
      "AIDS Care                                                                                    2189.170\n",
      "AIDS Journal                                                                                 2015.720\n",
      "AIDS Research and Therapy                                                                    1240.000\n",
      "AIDS UK                                                                                      1836.920\n",
      "ASN Neuro                                                                                    1453.420\n",
      "Academy of Nutrition and Dietetics                                                           2379.540\n",
      "Acta Crystallographica Section D,  Biological Crystallography                                 771.420\n",
      "Acta Crystallographica Section D: Biological Crystallography                                  773.740\n",
      "Acta Crystallographica Section F: Structural Biology and Crystallization Communications       796.635\n",
      "Acta Crystallographica, Section D                                                             757.180\n",
      "Acta Crystallography D                                                                        774.190\n",
      "Acta D                                                                                        750.160\n",
      "Acta Dermato Venereologica                                                                    653.960\n",
      "Acta Diabetologica                                                                           2336.280\n",
      "Acta Neuropathol                                                                             1901.040\n",
      "Acta Neuropathologica                                                                        2250.970\n",
      "Acta Opthalmologica                                                                          2270.160\n",
      "Acta Physiol                                                                                 1991.500\n",
      "Addiction                                                                                    2136.225\n",
      "Advances in Experimental Medicine and Biology                                                1928.460\n",
      "Age                                                                                          2338.280\n",
      "Age and Ageing                                                                               2040.000\n",
      "                                                                                              ...    \n",
      "Translational Psychiatry                                                                     2880.000\n",
      "Trends in Cognitive Science                                                                  2340.630\n",
      "Trends in Genetics                                                                           2370.935\n",
      "Trends in Microbiology                                                                       2291.330\n",
      "Trends in Molecular Medicine                                                                 2248.330\n",
      "Trends in Neuroscience                                                                       2402.810\n",
      "Trends in Neurosciences                                                                    501212.980\n",
      "Trends in Parasitology                                                                       2384.110\n",
      "Trials                                                                                       1253.250\n",
      "Trials                                                                                       1165.000\n",
      "Trop Med Int Health                                                                          1834.770\n",
      "Tropical Animal Health & Production                                                          2054.780\n",
      "Tropical Medicine and International Health                                                   1883.625\n",
      "Tuberculosis                                                                                 2161.255\n",
      "Urban History                                                                                2034.000\n",
      "Urolithiasis                                                                                 1112.400\n",
      "Vaccine                                                                                      1448.380\n",
      "Vascular Pharmacology                                                                        2352.530\n",
      "Veterinary Microbiology                                                                      2451.490\n",
      "Veterinary Parasitology                                                                    501243.585\n",
      "Veterinary Record                                                                            2040.000\n",
      "Veterinary Research                                                                             9.930\n",
      "Virology                                                                                     1928.505\n",
      "Virology Journal                                                                             1242.000\n",
      "Virus Research                                                                               1947.090\n",
      "Vision Research                                                                            500727.590\n",
      "Visual Neuroscience                                                                          2034.000\n",
      "Zoonoses and Public Health                                                                   2272.150\n",
      "genesis: Journal of Genetics                                                                 2376.400\n",
      "mBio                                                                                         1355.130\n",
      "Name: COST (£) charged to Wellcome (inc VAT when charged), Length: 960, dtype: float64\n"
     ]
    }
   ],
   "source": [
    "#median\n",
    "ds['COST (£) charged to Wellcome (inc VAT when charged)'] = pd.to_numeric(ds['Cost'])\n",
    "ds_median = ds.groupby('Journal Title')['COST (£) charged to Wellcome (inc VAT when charged)'].median()\n",
    "print(ds_median)"
   ]
  },
  {
   "cell_type": "code",
   "execution_count": 25,
   "metadata": {},
   "outputs": [
    {
     "name": "stdout",
     "output_type": "stream",
     "text": [
      "Journal Title\n",
      "ACS Chemical Biology                                                                          453.751465\n",
      "ACS Chemical Neuroscience                                                                       0.000000\n",
      "ACS NANO                                                                                        0.000000\n",
      "ACS Nano                                                                                        0.000000\n",
      "ACTA F                                                                                          0.000000\n",
      "AGE                                                                                             0.000000\n",
      "AIDS                                                                                          229.491044\n",
      "AIDS Behav                                                                                      0.000000\n",
      "AIDS Care                                                                                      43.570000\n",
      "AIDS Journal                                                                                    0.000000\n",
      "AIDS Research and Therapy                                                                       0.000000\n",
      "AIDS UK                                                                                         0.000000\n",
      "ASN Neuro                                                                                       0.000000\n",
      "Academy of Nutrition and Dietetics                                                              0.000000\n",
      "Acta Crystallographica Section D,  Biological Crystallography                                   0.000000\n",
      "Acta Crystallographica Section D: Biological Crystallography                                    0.000000\n",
      "Acta Crystallographica Section F: Structural Biology and Crystallization Communications        11.035000\n",
      "Acta Crystallographica, Section D                                                               0.000000\n",
      "Acta Crystallography D                                                                          0.000000\n",
      "Acta D                                                                                          0.000000\n",
      "Acta Dermato Venereologica                                                                      0.000000\n",
      "Acta Diabetologica                                                                              0.000000\n",
      "Acta Neuropathol                                                                                0.000000\n",
      "Acta Neuropathologica                                                                         199.887996\n",
      "Acta Opthalmologica                                                                             0.000000\n",
      "Acta Physiol                                                                                    0.000000\n",
      "Addiction                                                                                     216.715000\n",
      "Advances in Experimental Medicine and Biology                                                   0.004330\n",
      "Age                                                                                             0.000000\n",
      "Age and Ageing                                                                                  0.000000\n",
      "                                                                                               ...      \n",
      "Translational Psychiatry                                                                        0.000000\n",
      "Trends in Cognitive Science                                                                     0.000000\n",
      "Trends in Genetics                                                                              2.825000\n",
      "Trends in Microbiology                                                                          0.000000\n",
      "Trends in Molecular Medicine                                                                    0.000000\n",
      "Trends in Neuroscience                                                                          0.000000\n",
      "Trends in Neurosciences                                                                    498786.020000\n",
      "Trends in Parasitology                                                                     432034.707530\n",
      "Trials                                                                                     432487.335900\n",
      "Trials                                                                                          0.000000\n",
      "Trop Med Int Health                                                                             0.000000\n",
      "Tropical Animal Health & Production                                                             0.000000\n",
      "Tropical Medicine and International Health                                                    147.101613\n",
      "Tuberculosis                                                                                  161.315000\n",
      "Urban History                                                                                   0.000000\n",
      "Urolithiasis                                                                                    0.000000\n",
      "Vaccine                                                                                       353.139073\n",
      "Vascular Pharmacology                                                                           0.000000\n",
      "Veterinary Microbiology                                                                         0.000000\n",
      "Veterinary Parasitology                                                                    498755.415000\n",
      "Veterinary Record                                                                               0.000000\n",
      "Veterinary Research                                                                             0.000000\n",
      "Virology                                                                                      493.455000\n",
      "Virology Journal                                                                                0.000000\n",
      "Virus Research                                                                                  0.000000\n",
      "Vision Research                                                                            499271.410000\n",
      "Visual Neuroscience                                                                             0.000000\n",
      "Zoonoses and Public Health                                                                      0.000000\n",
      "genesis: Journal of Genetics                                                                    0.000000\n",
      "mBio                                                                                            0.000000\n",
      "Name: COST (£) charged to Wellcome (inc VAT when charged), Length: 960, dtype: float64\n"
     ]
    }
   ],
   "source": [
    "ds['COST (£) charged to Wellcome (inc VAT when charged)'] = pd.to_numeric(ds['Cost'])\n",
    "ds_std = ds.groupby('Journal Title')['COST (£) charged to Wellcome (inc VAT when charged)'].std(ddof=0)\n",
    "print(ds_std)"
   ]
  },
  {
   "cell_type": "code",
   "execution_count": null,
   "metadata": {
    "collapsed": true
   },
   "outputs": [],
   "source": []
  },
  {
   "cell_type": "code",
   "execution_count": null,
   "metadata": {
    "collapsed": true
   },
   "outputs": [],
   "source": []
  }
 ],
 "metadata": {
  "kernelspec": {
   "display_name": "Python 3",
   "language": "python",
   "name": "python3"
  },
  "language_info": {
   "codemirror_mode": {
    "name": "ipython",
    "version": 3
   },
   "file_extension": ".py",
   "mimetype": "text/x-python",
   "name": "python",
   "nbconvert_exporter": "python",
   "pygments_lexer": "ipython3",
   "version": "3.6.3"
  }
 },
 "nbformat": 4,
 "nbformat_minor": 2
}
